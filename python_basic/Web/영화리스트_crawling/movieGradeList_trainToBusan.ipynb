{
 "cells": [
  {
   "cell_type": "code",
   "execution_count": 50,
   "metadata": {},
   "outputs": [],
   "source": [
    "from bs4 import BeautifulSoup\n",
    "from urllib.request import urlopen\n",
    "import pandas as pd\n",
    "import math\n",
    "from tqdm.notebook import tqdm"
   ]
  },
  {
   "cell_type": "code",
   "execution_count": 51,
   "metadata": {},
   "outputs": [],
   "source": [
    "url_base = 'https://movie.naver.com'\n",
    "url_sub = '/movie/bi/mi/point.nhn?code=130966#tab'\n",
    "html = urlopen(url_base + url_sub)\n",
    "soup = BeautifulSoup(html, 'html.parser')"
   ]
  },
  {
   "cell_type": "code",
   "execution_count": 52,
   "metadata": {},
   "outputs": [
    {
     "data": {
      "text/plain": [
       "'https://movie.naver.com/movie/bi/mi/pointWriteFormList.nhn?code=130966&type=after&isActualPointWriteExecute=false&isMileageSubscriptionAlready=false&isMileageSubscriptionReject=false&page=1'"
      ]
     },
     "execution_count": 52,
     "metadata": {},
     "output_type": "execute_result"
    }
   ],
   "source": [
    "ifr_url = soup.find('iframe')['src']\n",
    "url_front = url_base + ifr_url + '&page='\n",
    "url_cnt = url_front+'1'\n",
    "url_cnt"
   ]
  },
  {
   "cell_type": "code",
   "execution_count": 53,
   "metadata": {},
   "outputs": [],
   "source": [
    "html = urlopen(url_cnt)\n",
    "soup = BeautifulSoup(html, 'html.parser')\n",
    "count = soup.find('strong','total')\n",
    "count = count.find('em').string     # get_text() 대신에 string\n",
    "count = int(count.replace(',',''))\n",
    "page_num = math.ceil(count/10)"
   ]
  },
  {
   "cell_type": "code",
   "execution_count": 54,
   "metadata": {},
   "outputs": [
    {
     "data": {
      "application/vnd.jupyter.widget-view+json": {
       "model_id": "5c1aca6db49042bc939104cbe8c6fb4f",
       "version_major": 2,
       "version_minor": 0
      },
      "text/plain": [
       "HBox(children=(FloatProgress(value=0.0, max=2900.0), HTML(value='')))"
      ]
     },
     "metadata": {},
     "output_type": "display_data"
    },
    {
     "name": "stdout",
     "output_type": "stream",
     "text": [
      "\n"
     ]
    }
   ],
   "source": [
    "star_score = []\n",
    "reple = []\n",
    "date = []\n",
    "page_num = int(page_num/2)\n",
    "for page in tqdm(range(1,page_num+1)):\n",
    "    url = url_front+str(page)\n",
    "    html = urlopen(url)\n",
    "    soup = BeautifulSoup(html, 'html.parser')\n",
    "    uls = soup.find_all(class_='score_result')\n",
    "    rest_list = uls[0].find_all('li')\n",
    "    num = 0\n",
    "    for rest in rest_list:\n",
    "        date.append(rest.find(class_='score_reple').find('dt').find_all('em')[1].get_text())\n",
    "        star_score.append(rest.find(class_='star_score').get_text().replace('\\n',''))\n",
    "        \n",
    "        if rest.find(class_='_unfold_ment')!=None:\n",
    "            reple.append(rest.find(class_='_unfold_ment').find('a')['data-src'])\n",
    "        else:\n",
    "            reple.append(rest.find(id='_filtered_ment_'+str(num)).get_text().strip())\n",
    "        \n",
    "        num += 1        "
   ]
  },
  {
   "cell_type": "code",
   "execution_count": 55,
   "metadata": {},
   "outputs": [
    {
     "data": {
      "text/html": [
       "<div>\n",
       "<style scoped>\n",
       "    .dataframe tbody tr th:only-of-type {\n",
       "        vertical-align: middle;\n",
       "    }\n",
       "\n",
       "    .dataframe tbody tr th {\n",
       "        vertical-align: top;\n",
       "    }\n",
       "\n",
       "    .dataframe thead th {\n",
       "        text-align: right;\n",
       "    }\n",
       "</style>\n",
       "<table border=\"1\" class=\"dataframe\">\n",
       "  <thead>\n",
       "    <tr style=\"text-align: right;\">\n",
       "      <th></th>\n",
       "      <th>star_score</th>\n",
       "      <th>reple</th>\n",
       "      <th>date</th>\n",
       "    </tr>\n",
       "  </thead>\n",
       "  <tbody>\n",
       "    <tr>\n",
       "      <th>0</th>\n",
       "      <td>10</td>\n",
       "      <td>좀비가 무서운게아니라 사람이무섭다는걸 알려주는영화</td>\n",
       "      <td>2016-07-20 05:57:00</td>\n",
       "    </tr>\n",
       "    <tr>\n",
       "      <th>1</th>\n",
       "      <td>10</td>\n",
       "      <td>그냥 한국형 좀비물이 어색하지 않았다는 거에 큰 점수를 주며 앞으로의 한국영화를 기...</td>\n",
       "      <td>2016-07-20 11:56:00</td>\n",
       "    </tr>\n",
       "    <tr>\n",
       "      <th>2</th>\n",
       "      <td>10</td>\n",
       "      <td>버스회사 상무라는 사람이 진심 역대급 민폐캐릭터인듯개짜증나고 생존력도 좋음</td>\n",
       "      <td>2016-07-20 00:00:00</td>\n",
       "    </tr>\n",
       "    <tr>\n",
       "      <th>3</th>\n",
       "      <td>10</td>\n",
       "      <td>생각보다 너무 재밌었다</td>\n",
       "      <td>2016-07-20 01:11:00</td>\n",
       "    </tr>\n",
       "    <tr>\n",
       "      <th>4</th>\n",
       "      <td>6</td>\n",
       "      <td>영화가 너무 비현실적이네요. 예를들어 공유 얼굴이라던가 공유 얼굴 같은 부분이...</td>\n",
       "      <td>2016-07-20 07:30:00</td>\n",
       "    </tr>\n",
       "    <tr>\n",
       "      <th>...</th>\n",
       "      <td>...</td>\n",
       "      <td>...</td>\n",
       "      <td>...</td>\n",
       "    </tr>\n",
       "    <tr>\n",
       "      <th>28995</th>\n",
       "      <td>9</td>\n",
       "      <td>스릴도 있고 여름휴가동안 더위를 잊게 해주는 보기좋은 영화중에 하나라 생각듭니다.재...</td>\n",
       "      <td>2016-07-31 21:38:00</td>\n",
       "    </tr>\n",
       "    <tr>\n",
       "      <th>28996</th>\n",
       "      <td>10</td>\n",
       "      <td>영화를 너무 잘만들다 보니  보는내내 짜증이 너무 났습니다.  실제로 저런일이 일어...</td>\n",
       "      <td>2016-07-31 21:38:00</td>\n",
       "    </tr>\n",
       "    <tr>\n",
       "      <th>28997</th>\n",
       "      <td>8</td>\n",
       "      <td>재밌게 봤어요 스토리가 예상이 되었지만 무섭고 슬펐어요</td>\n",
       "      <td>2016-07-31 21:37:00</td>\n",
       "    </tr>\n",
       "    <tr>\n",
       "      <th>28998</th>\n",
       "      <td>6</td>\n",
       "      <td>무섭기만 했습니다 해피엔딩도 아니고ㅠ</td>\n",
       "      <td>2016-07-31 21:36:00</td>\n",
       "    </tr>\n",
       "    <tr>\n",
       "      <th>28999</th>\n",
       "      <td>10</td>\n",
       "      <td>완전 재밌네요 ㅋㅋ 공유 너무 잘생김</td>\n",
       "      <td>2016-07-31 21:36:00</td>\n",
       "    </tr>\n",
       "  </tbody>\n",
       "</table>\n",
       "<p>29000 rows × 3 columns</p>\n",
       "</div>"
      ],
      "text/plain": [
       "      star_score                                              reple  \\\n",
       "0             10                        좀비가 무서운게아니라 사람이무섭다는걸 알려주는영화   \n",
       "1             10  그냥 한국형 좀비물이 어색하지 않았다는 거에 큰 점수를 주며 앞으로의 한국영화를 기...   \n",
       "2             10          버스회사 상무라는 사람이 진심 역대급 민폐캐릭터인듯개짜증나고 생존력도 좋음   \n",
       "3             10                                       생각보다 너무 재밌었다   \n",
       "4              6     영화가 너무 비현실적이네요. 예를들어 공유 얼굴이라던가 공유 얼굴 같은 부분이...   \n",
       "...          ...                                                ...   \n",
       "28995          9  스릴도 있고 여름휴가동안 더위를 잊게 해주는 보기좋은 영화중에 하나라 생각듭니다.재...   \n",
       "28996         10  영화를 너무 잘만들다 보니  보는내내 짜증이 너무 났습니다.  실제로 저런일이 일어...   \n",
       "28997          8                     재밌게 봤어요 스토리가 예상이 되었지만 무섭고 슬펐어요   \n",
       "28998          6                               무섭기만 했습니다 해피엔딩도 아니고ㅠ   \n",
       "28999         10                               완전 재밌네요 ㅋㅋ 공유 너무 잘생김   \n",
       "\n",
       "                     date  \n",
       "0     2016-07-20 05:57:00  \n",
       "1     2016-07-20 11:56:00  \n",
       "2     2016-07-20 00:00:00  \n",
       "3     2016-07-20 01:11:00  \n",
       "4     2016-07-20 07:30:00  \n",
       "...                   ...  \n",
       "28995 2016-07-31 21:38:00  \n",
       "28996 2016-07-31 21:38:00  \n",
       "28997 2016-07-31 21:37:00  \n",
       "28998 2016-07-31 21:36:00  \n",
       "28999 2016-07-31 21:36:00  \n",
       "\n",
       "[29000 rows x 3 columns]"
      ]
     },
     "execution_count": 55,
     "metadata": {},
     "output_type": "execute_result"
    }
   ],
   "source": [
    "df = pd.DataFrame({'star_score':star_score,'reple':reple,'date':date})\n",
    "df['date'] = pd.to_datetime(df['date'])\n",
    "# df.sort_values(by='date', ascending = True, inplace=True)\n",
    "df"
   ]
  },
  {
   "cell_type": "code",
   "execution_count": 56,
   "metadata": {},
   "outputs": [],
   "source": [
    "df.to_csv('movie_grade_trainToBusan.csv',sep=',',encoding=\"utf-8\")"
   ]
  },
  {
   "cell_type": "code",
   "execution_count": 61,
   "metadata": {},
   "outputs": [],
   "source": [
    "from wordcloud import WordCloud"
   ]
  },
  {
   "cell_type": "code",
   "execution_count": 65,
   "metadata": {},
   "outputs": [
    {
     "ename": "AttributeError",
     "evalue": "type object 'WordCloud' has no attribute 'generate_from_dataframe'",
     "output_type": "error",
     "traceback": [
      "\u001b[0;31m---------------------------------------------------------------------------\u001b[0m",
      "\u001b[0;31mAttributeError\u001b[0m                            Traceback (most recent call last)",
      "\u001b[0;32m<ipython-input-65-5c7f1247af87>\u001b[0m in \u001b[0;36m<module>\u001b[0;34m\u001b[0m\n\u001b[0;32m----> 1\u001b[0;31m \u001b[0mwordcloud\u001b[0m \u001b[0;34m=\u001b[0m \u001b[0mWordCloud\u001b[0m\u001b[0;34m.\u001b[0m\u001b[0mgenerate_from_dataframe\u001b[0m\u001b[0;34m(\u001b[0m\u001b[0mdf\u001b[0m\u001b[0;34m)\u001b[0m\u001b[0;34m\u001b[0m\u001b[0;34m\u001b[0m\u001b[0m\n\u001b[0m",
      "\u001b[0;31mAttributeError\u001b[0m: type object 'WordCloud' has no attribute 'generate_from_dataframe'"
     ]
    }
   ],
   "source": [
    "wordcloud = WordCloud.generate_from_dataframe(df)"
   ]
  },
  {
   "cell_type": "code",
   "execution_count": null,
   "metadata": {},
   "outputs": [],
   "source": []
  }
 ],
 "metadata": {
  "kernelspec": {
   "display_name": "Python 3",
   "language": "python",
   "name": "python3"
  },
  "language_info": {
   "codemirror_mode": {
    "name": "ipython",
    "version": 3
   },
   "file_extension": ".py",
   "mimetype": "text/x-python",
   "name": "python",
   "nbconvert_exporter": "python",
   "pygments_lexer": "ipython3",
   "version": "3.7.6"
  }
 },
 "nbformat": 4,
 "nbformat_minor": 4
}
