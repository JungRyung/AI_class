{
 "cells": [
  {
   "cell_type": "markdown",
   "metadata": {},
   "source": [
    "# 궁동 맛집 정리하기"
   ]
  },
  {
   "cell_type": "code",
   "execution_count": 1,
   "metadata": {},
   "outputs": [],
   "source": [
    "# 라이브러리 가져오기\n",
    "from bs4 import BeautifulSoup\n",
    "from urllib.request import urlopen"
   ]
  },
  {
   "cell_type": "markdown",
   "metadata": {},
   "source": [
    "### 1. 웹페이지 전체 소스코드 긁어오기(crawling)"
   ]
  },
  {
   "cell_type": "code",
   "execution_count": 2,
   "metadata": {},
   "outputs": [
    {
     "data": {
      "text/plain": [
       "<!DOCTYPE html>\n",
       "\n",
       "<html lang=\"ko\">\n",
       "<head>\n",
       "<meta content=\"text/html; charset=utf-8\" http-equiv=\"Content-Type\"/>\n",
       "<meta content=\"width=device-width, initial-scale=1.0, maximum-scale=1.0\" name=\"viewport\">\n",
       "<meta content=\"kr\" name=\"content-language\"/>\n",
       "<meta content=\"IE=Edge\" http-equiv=\"X-UA-Compatible\"/>\n",
       "<meta content=\"IE=edge,chrome=1\" http-equiv=\"X-UA-Compatible\"/>\n",
       "<meta content=\"'대전궁동' 맛집 오늘은파스타(파스타, ★4.1), 정통집 충남대점(돼지김치구이, ★4.2), 이비가짬뽕(굴짬뽕, ★3.5) 등 335곳의 전체 순위,식당정보,방문자리뷰,사\" name=\"description\"/>\n",
       "<meta content=\"347023355469829\" property=\"fb:app_id\">\n",
       "<meta content=\"'대전궁동' 빅데이터 맛집 순위 Top100 - 다이닝코드\" property=\"og:title\">\n",
       "<meta content=\"https://www.diningcode.com/list.php?query=%EB%8C%80%EC%A0%84%EA%B6%81%EB%8F%99\" property=\"og:url\">\n",
       "<meta content=\"다이닝코드\" property=\"og:site_name\">\n",
       "<meta content=\"'대전궁동' 맛집 오늘은파스타(파스타, ★4.1), 정통집 충남대점(돼지김치구이, ★4.2), 이비가짬뽕(굴짬뽕, ★3.5) 등 335곳의 전체 순위,식당정보,방문자리뷰,사\" property=\"og:description\"/>\n",
       "<meta content=\"https://s3-ap-northeast-1.amazonaws.com/dcreviewsresized/300_300_20200302104528_photo1_e4885f69084c.jpg\" property=\"og:image\"/>\n",
       "<meta content=\"website\" property=\"og:type\"/>\n",
       "<meta content=\"summary\" name=\"twitter:card\"/>\n",
       "<meta content=\"https://www.diningcode.com/list.php?query=%EB%8C%80%EC%A0%84%EA%B6%81%EB%8F%99\" name=\"twitter:url\"/>\n",
       "<meta content=\"'대전궁동' 빅데이터 맛집 순위 Top100 - 다이닝코드\" name=\"twitter:title\">\n",
       "<meta content=\"https://s3-ap-northeast-1.amazonaws.com/dcreviewsresized/300_300_20200302104528_photo1_e4885f69084c.jpg\" name=\"twitter:image\"/>\n",
       "<link href=\"https://www.diningcode.com/list.php?query=%EB%8C%80%EC%A0%84%EA%B6%81%EB%8F%99\" rel=\"canonical\"/>\n",
       "<link href=\"https://m.diningcode.com/m_list.php?query=%EB%8C%80%EC%A0%84%EA%B6%81%EB%8F%99\" rel=\"amphtml\"/>\n",
       "<link href=\"https://m.diningcode.com/m_list.php?query=%EB%8C%80%EC%A0%84%EA%B6%81%EB%8F%99\" media=\"only screen and (max-width: 640px)\" rel=\"alternate\"/><title>'대전궁동' 빅데이터 맛집 순위 Top100 - 다이닝코드</title>\n",
       "<link href=\"https://s3-ap-northeast-1.amazonaws.com/dcicons/new/css/web/common.css?1.4.12\" rel=\"stylesheet\" type=\"text/css\">\n",
       "<link href=\"https://s3-ap-northeast-1.amazonaws.com/dcicons/new/css/web/content.css?1.4.12\" rel=\"stylesheet\" type=\"text/css\"/>\n",
       "<link href=\"https://s3-ap-northeast-1.amazonaws.com/dcicons/new/css/web/layout.css?1.4.12\" rel=\"stylesheet\" type=\"text/css\"/>\n",
       "<link href=\"https://s3-ap-northeast-1.amazonaws.com/dcicons/new/css/web/main.css?1.4.12\" rel=\"stylesheet\" type=\"text/css\"/>\n",
       "<link href=\"https://s3-ap-northeast-1.amazonaws.com/dcicons/new/css/web/styleDefault.css?1.4.12\" rel=\"stylesheet\" type=\"text/css\"/>\n",
       "<link href=\"https://s3-ap-northeast-1.amazonaws.com/dcicons/new/css/web/sub.css?1.4.12\" rel=\"stylesheet\" type=\"text/css\"/>\n",
       "<link href=\"https://s3-ap-northeast-1.amazonaws.com/dcicons/new/css/web/jquery.rateyo.min.css?1.4.12\" rel=\"stylesheet\" type=\"text/css\"/>\n",
       "<link href=\"https://s3-ap-northeast-1.amazonaws.com/dcicons/new/css/swiper.min.css?1.4.12\" rel=\"stylesheet\" type=\"text/css\"/>\n",
       "<link href=\"https://s3-ap-northeast-1.amazonaws.com/dcicons/new/css/custom.css?1.4.12\" rel=\"stylesheet\" type=\"text/css\"/>\n",
       "<script src=\"https://s3-ap-northeast-1.amazonaws.com/dcicons/new/lib/js/web.js\" type=\"text/javascript\"></script>\n",
       "<link href=\"/2018/images/web/common/favicon.ico\" rel=\"shortcut icon\" type=\"image/x-icon\"/>\n",
       "<script charset=\"utf-8\" src=\"https://s3-ap-northeast-1.amazonaws.com/dcicons/new/lib/js/jquery-1.12.0.min.js\"></script>\n",
       "<script src=\"https://code.jquery.com/jquery-migrate-1.2.1.min.js\" type=\"Text/JavaScript\"></script>\n",
       "<script charset=\"utf-8\" src=\"https://s3-ap-northeast-1.amazonaws.com/dcicons/new/lib/js/swiper.min.js\"></script>\n",
       "<script src=\"https://s3-ap-northeast-1.amazonaws.com/dcicons/new/lib/js/getAjax.js?1.4.12\"></script>\n",
       "<script src=\"https://s3-ap-northeast-1.amazonaws.com/dcicons/new/lib/js/function.js?1.4.12\"></script>\n",
       "<script src=\"https://s3-ap-northeast-1.amazonaws.com/dcicons/new/lib/js/jquery.cookie.js?1.4.12\"></script>\n",
       "<script src=\"https://cdn.rawgit.com/nhnent/tui.code-snippet/v1.2.5/dist/tui-code-snippet.min.js\" type=\"Text/JavaScript\"></script>\n",
       "<script src=\"https://cdn.rawgit.com/faisalman/ua-parser-js/v0.7.1/src/ua-parser.min.js\" type=\"Text/JavaScript\"></script>\n",
       "<script src=\"https://s3-ap-northeast-1.amazonaws.com/dcicons/new/lib/js/appLoader/app-loader.min.js?1.4.12\" type=\"Text/JavaScript\"></script>\n",
       "<script src=\"https://s3-ap-northeast-1.amazonaws.com/dcicons/new/lib/js/appLoader.js?1.4.12\" type=\"Text/JavaScript\"></script>\n",
       "<script async=\"\" src=\"https://pagead2.googlesyndication.com/pagead/js/adsbygoogle.js\"></script>\n",
       "<!-- Facebook pixel -->\n",
       "<script>\n",
       "\t\t!function (f, b, e, v, n, t, s) {\n",
       "\t\t\tif (f.fbq)return;\n",
       "\t\t\tn = f.fbq = function () {\n",
       "\t\t\t\tn.callMethod ?\n",
       "\t\t\t\t\tn.callMethod.apply(n, arguments) : n.queue.push(arguments)\n",
       "\t\t\t};\n",
       "\t\t\tif (!f._fbq)f._fbq = n;\n",
       "\t\t\tn.push = n;\n",
       "\t\t\tn.loaded = !0;\n",
       "\t\t\tn.version = '2.0';\n",
       "\t\t\tn.queue = [];\n",
       "\t\t\tt = b.createElement(e);\n",
       "\t\t\tt.async = !0;\n",
       "\t\t\tt.src = v;\n",
       "\t\t\ts = b.getElementsByTagName(e)[0];\n",
       "\t\t\ts.parentNode.insertBefore(t, s)\n",
       "\t\t}(window,\n",
       "\t\t\tdocument, 'script', '//connect.facebook.net/en_US/fbevents.js');\n",
       "\t\tfbq('init', '950571798344364');\n",
       "\t\tfbq('track', \"PageView\");\n",
       "\t\tfbq('track', \"viewContent\");\n",
       "\t</script>\n",
       "<noscript>\n",
       "<img height=\"1\" src=\"https://www.facebook.com/tr?id=950571798344364&amp;ev=PageView&amp;noscript=1\" style=\"display:none\" width=\"1\"/>\n",
       "</noscript>\n",
       "<!-- Naver -->\n",
       "<script src=\"https://openapi.map.naver.com/openapi/v3/maps.js?ncpClientId=zqdk36n102\" type=\"text/javascript\"></script>\n",
       "<!-- Kakao -->\n",
       "<script src=\"//developers.kakao.com/sdk/js/kakao.min.js\"></script>\n",
       "<!-- Google analytics -->\n",
       "<script async=\"\" src=\"https://www.googletagmanager.com/gtag/js?id=UA-46679784-1\"></script>\n",
       "<script typ=\"Text/JavaScript\">\n",
       "// Search cookie\n",
       "if( $.cookie(\"dckeyword\") ) {\n",
       "\tvar keyword\t= JSON.parse($.cookie(\"dckeyword\"));\n",
       "}\n",
       "else {\n",
       "\tvar keyword;\n",
       "}\n",
       "\n",
       "// Kakao\n",
       "Kakao.init('17a48422597911bed5104a144393076f');\n",
       "\n",
       "// GA\n",
       "window.dataLayer = window.dataLayer || [];\n",
       "function gtag(){dataLayer.push(arguments);}\n",
       "gtag('js', new Date());\n",
       "gtag('config', 'UA-46679784-1');\n",
       "</script>\n",
       "<script type=\"Text/JavaScript\">\n",
       "var map;\n",
       "var markers\t\t= [];\n",
       "var infoWindows\t= [];\n",
       "var positions\t= [];\n",
       "var listener\t= [];\n",
       "var reLoad\t\t= \"\";\n",
       "var type\t\t= \"\";\n",
       "var query\t\t= \"대전궁동\";\n",
       "var lat\t\t\t= \"\";\n",
       "var lng\t\t\t= \"\";\n",
       "var dis\t\t\t= \"\";\n",
       "var rn\t\t\t= \"\";\n",
       "var chunk\t\t= \"10\";\n",
       "var rx\t\t\t= \"\";\n",
       "var ry\t\t\t= \"\";\n",
       "var rw\t\t\t= \"\";\n",
       "var rh\t\t\t= \"\";\n",
       "var param\t\t= \"query=%EB%8C%80%EC%A0%84%EA%B6%81%EB%8F%99\";\n",
       "setKinesis(\"list\", \"\", query, param);\n",
       "!function(a){function b(){var a=document.createElement(\"p\"),b=!1;if(a.addEventListener)a.addEventListener(\"DOMAttrModified\",function(){b=!0},!1);else{if(!a.attachEvent)return!1;a.attachEvent(\"onDOMAttrModified\",function(){b=!0})}return a.setAttribute(\"id\",\"target\"),b}function c(b,c){if(b){var d=this.data(\"attr-old-value\");if(c.attributeName.indexOf(\"style\")>=0){d.style||(d.style={});var e=c.attributeName.split(\".\");c.attributeName=e[0],c.oldValue=d.style[e[1]],c.newValue=e[1]+\":\"+this.prop(\"style\")[a.camelCase(e[1])],d.style[e[1]]=c.newValue}else c.oldValue=d[c.attributeName],c.newValue=this.attr(c.attributeName),d[c.attributeName]=c.newValue;this.data(\"attr-old-value\",d)}}var d=window.MutationObserver||window.WebKitMutationObserver;a.fn.attrchange=function(e,f){if(\"object\"==typeof e){var g={trackValues:!1,callback:a.noop};if(\"function\"==typeof e?g.callback=e:a.extend(g,e),g.trackValues&&this.each(function(b,c){for(var e,d={},b=0,f=c.attributes,g=f.length;g>b;b++)e=f.item(b),d[e.nodeName]=e.value;a(this).data(\"attr-old-value\",d)}),d){var h={subtree:!1,attributes:!0,attributeOldValue:g.trackValues},i=new d(function(b){b.forEach(function(b){var c=b.target;g.trackValues&&(b.newValue=a(c).attr(b.attributeName)),\"undefined\"==typeof a(this).data(\"attrchange-tdisconnect\")&&g.callback.call(c,b)})});return this.data(\"attrchange-method\",\"Mutation Observer\").data(\"attrchange-obs\",i).each(function(){i.observe(this,h)})}return b()?this.data(\"attrchange-method\",\"DOMAttrModified\").on(\"DOMAttrModified\",function(b){b.originalEvent&&(b=b.originalEvent),b.attributeName=b.attrName,b.oldValue=b.prevValue,\"undefined\"==typeof a(this).data(\"attrchange-tdisconnect\")&&g.callback.call(this,b)}):\"onpropertychange\"in document.body?this.data(\"attrchange-method\",\"propertychange\").on(\"propertychange\",function(b){b.attributeName=window.event.propertyName,c.call(a(this),g.trackValues,b),\"undefined\"==typeof a(this).data(\"attrchange-tdisconnect\")&&g.callback.call(this,b)}):this}return\"string\"==typeof e&&a.fn.attrchange.hasOwnProperty(\"extensions\")&&a.fn.attrchange.extensions.hasOwnProperty(e)?a.fn.attrchange.extensions[e].call(this,f):void 0}}(jQuery);\n",
       "$(document).ready(function () {\n",
       "    $(\".localeft-cont\").attrchange({\n",
       "        callback : function(e) {\n",
       "            var bodyHeight = document.documentElement.clientHeight;\n",
       "            var headerH_ = $('#header-wrap').outerHeight();\n",
       "            $('.localeft-cont').css({'height': bodyHeight - headerH_});\n",
       "            $('.maploca-cont').css({'height': bodyHeight - headerH_ , 'width':$('#contents').width() - 472});\n",
       "        }\n",
       "    });\n",
       "\tvar bodyHeight = document.documentElement.clientHeight;\n",
       "\tvar headerH_ = $('#header-wrap').outerHeight();\n",
       "\t$('.localeft-cont').css({'height': bodyHeight - headerH_});\n",
       "\t$('.maploca-cont').css({'height': bodyHeight - headerH_ , 'width':$('#contents').width() - 472});\n",
       "\n",
       "\t// 카테고리 버튼\n",
       "\t$('.btns a').each(function () {\n",
       "\t\tif( $(this).height() > 38 ) {\n",
       "\t\t\t$(this).find(\"span\").css({\"font-size\" : \"11px\"});\n",
       "\t\t}\n",
       "\t});\n",
       "\n",
       "\t// Naver map\n",
       "\tvar position = new naver.maps.LatLng(36.362293, 127.348927);\n",
       "\tmap\t= new naver.maps.Map('div_map', {\n",
       "        useStyleMap: true,\n",
       "\t\tcenter: position,\n",
       "\t\tzoom: 15,\n",
       "\t\tzoomControl: true,\n",
       "\t\tzoomControlOptions: {\n",
       "\t\t\tstyle: naver.maps.ZoomControlStyle.LARGE,\n",
       "\t\t\tposition: naver.maps.Position.RIGHT_BOTTOM\n",
       "\t\t}\n",
       "\t});\n",
       "\n",
       "\t// 테스트\n",
       "\t// positions.push(position);\n",
       "\t//setCenter(map, <?//=$maplat?>//, <?//=$maplng?>//);\n",
       "\t//var marker = new naver.maps.Marker({\n",
       "\t//\tposition: new naver.maps.LatLng(<?//=$maplat?>//, <?//=$maplng?>//),\n",
       "\t//\tmap: map,\n",
       "\t//\ticon: {\n",
       "\t//\t\turl: 'https://dfzrjox9sv97l.cloudfront.net/micons/img/map_icon/map_icon/marker_mylacation.png', //50, 68 크기의 원본 이미지\n",
       "\t//\t\tsize: new naver.maps.Size(34, 34),\n",
       "\t//\t\tscaledSize: new naver.maps.Size(34, 34),\n",
       "\t//\t\torigin: new naver.maps.Point(0, 0),\n",
       "\t//\t\tanchor: new naver.maps.Point(17, 17)\n",
       "\t//\t}\n",
       "\t//});\n",
       "\t// 네모상자\n",
       "\t\n",
       "\t// 마커\n",
       "\tfor(i=0; i<jMap.length; i++ ) {\n",
       "\t\tsetMarker(map, new naver.maps.LatLng(jMap[i]['lat'], jMap[i]['lng']), jMap[i]['no']);\n",
       "\t\tpositions.push(new naver.maps.LatLng(jMap[i]['lat'], jMap[i]['lng']));\n",
       "\t}\n",
       "\n",
       "\t\n",
       "\tmap.fitBounds(positions,{top:20,bottom:20,left:20,right:20});\n",
       "\n",
       "\tfor( i=0; i<markers.length; i++ ) {\n",
       "\t\tlistener.push(naver.maps.Event.addListener(markers[i], 'click', getInfo(i)));\n",
       "\t}\n",
       "\n",
       "\tnew naver.maps.Event.addListener(map, 'click', function(e) {\n",
       "\t\tinfoWindows[0].open(map, markers[0]);\n",
       "\t\tinfoWindows[0].close();\n",
       "\t});\n",
       "\n",
       "\t// 이지역 재검색\n",
       "\t$('#btn_research').click(function () {\n",
       "\t\tvar bound\t= map.getBounds();\n",
       "\t\t// $('#div_shadow').show();\n",
       "\n",
       "\t\t//ry : 중앙가로줄(latitude)\n",
       "\t\t//rx : 중앙세로줄(longitude)\n",
       "\t\t//rw : 가로거리\n",
       "\t\t//rh : 세로거리\n",
       "\n",
       "\t\try\t= bound.getCenter()._lat;\n",
       "\t\trx\t= bound.getCenter()._lng;\n",
       "\t\trw\t= (bound._max._lng - bound._min._lng);\n",
       "\t\trh\t= (bound._max._lat - bound._min._lat);\n",
       "\n",
       "\t\t// // 네모상자\n",
       "\t\t// var rectangle = new naver.maps.Rectangle({\n",
       "\t\t// \tstrokeColor: '#ff00ff',\n",
       "\t\t// \tstrokeOpacity: 0.8,\n",
       "\t\t// \tstrokeWeight: 2,\n",
       "\t\t// \tfillColor: '#ff00ff',\n",
       "\t\t// \tfillOpacity: 0.35,\n",
       "\t\t// \tbounds: new naver.maps.LatLngBounds(\n",
       "\t\t// \t\tnew naver.maps.LatLng(bound._max._lat, bound._max._lng),\n",
       "\t\t// \t\tnew naver.maps.LatLng(bound._min._lat, bound._min._lng)),\n",
       "\t\t// \tmap: map\n",
       "\t\t// });\n",
       "\n",
       "\t\t// return;\n",
       "\n",
       "\t\t// 위치 재설정\n",
       "\t\tlat\t= bound.getCenter()._lat;\n",
       "\t\tlng\t= bound.getCenter()._lng;\n",
       "\n",
       "\t\t// location.href\t= \"/list.php?query=\" + encodeURIComponent(query) + \"&rx=\" + rx + \"&ry=\" + ry + \"&rw=\" + rw + \"&rh=\" + rh + \"&page=1&chunk=\" + chunk + \"&reload=Y&map=\" + bound._max._lat+ \",\" + bound._max._lng + \",\" + bound._min._lat + \",\" + bound._min._lng;\n",
       "\t\tlocation.href\t= \"/list.php?query=\" + encodeURIComponent(query) + \"&rx=\" + rx + \"&ry=\" + ry + \"&rw=\" + rw + \"&rh=\" + rh + \"&page=1&chunk=\" + chunk + \"&reload=Y&rn=\" + rn;\n",
       "\t});\n",
       "\n",
       "\t$(window).resize(function() {\n",
       "\t\tvar bodyHeight = document.documentElement.clientHeight;\n",
       "\t\tvar headerH_ = $('#header-wrap').outerHeight();\n",
       "\t\t$('.localeft-cont').css({'height': bodyHeight - headerH_});\n",
       "\t\t$('#map-area-wrap').css({'height': bodyHeight - headerH_ , 'width':$('#contents').width() - 472});\n",
       "\t\tmap.setSize(new naver.maps.Size($(window).width() - 472, bodyHeight - headerH_));\n",
       "\t\tmap.fitBounds(positions,{top:20,bottom:20,left:20,right:20});\n",
       "\t});\n",
       "\n",
       "\tif($('#map-area-wrap').outerWidth() >= 750) {\n",
       "        (adsbygoogle = window.adsbygoogle || []).push({});\n",
       "        $(\"#btn-ad-close\").show();\n",
       "    }\n",
       "});\n",
       "\n",
       "function getInfo(no) {\n",
       "\tvar marker\t\t= markers[no];\n",
       "\tvar infoWindow\t= infoWindows[no];\n",
       "\treturn function(e) {\n",
       "\t\tif (infoWindow.getMap()) {\n",
       "\t\t\tinfoWindow.close();\n",
       "\t\t} else {\n",
       "\t\t\tinfoWindow.open(map, marker);\n",
       "\t\t}\n",
       "\t}\n",
       "}\n",
       "\n",
       "function setCenter(map, lat, lng) {\n",
       "\tmap.setCenter(new naver.maps.LatLng(lat, lng));\n",
       "}\n",
       "\n",
       "function setMarker(map, position, no) {\n",
       "\tvar i\t\t= no - 1;\n",
       "\tno\t\t\t= (parseInt($('#hdn_page').val()) - 1) * chunk + no;\n",
       "\tvar icon\t= ( no == 1 ) ? \"marker-sel\" : \"marker-nor\";\n",
       "\tvar marker\t= new naver.maps.Marker({\n",
       "\t\tmap: map,\n",
       "\t\tposition: position,\n",
       "\t\ticon: {\n",
       "\t\t\tcontent: [\n",
       "\t\t\t\t'<span id=\"lbl_marker_' + no + '\" image=\"' + jMap[i]['image'] + '\" rn=\"' + jMap[i]['rn'] + '\" score=\"' + jMap[i]['score'] + '\" address=\"' + jMap[i]['address'] + '\" area=\"' + jMap[i]['area'] + '\"  class=\"mapIcon ' + icon + '\" onClick=\"getPanel(' + no + ');\">' + no + '</span>'\n",
       "\t\t\t].join(''),\n",
       "\t\t\tsize: new naver.maps.Size(36, 48)\n",
       "\t\t},\n",
       "\t});\n",
       "\n",
       "\tvar contentString = [\n",
       "\t\t\t'<div class=\"button\" onClick=\"window.open(\\'/profile.php?rid=' + jMap[i]['v_rid'] + '\\');\">'\n",
       "\t\t,\t'\t<div class=\"fl\" style=\"width:70px; height:70px; padding:10px;\"><div style=\"width:100%; height:100%; overflow:hidden; background:url(' + jMap[i]['image'] + '); no-repeat; background-size:auto 70px; background-position: center;\" /></div></div>'\n",
       "\t\t,\t'\t<div class=\"fl\" style=\"padding-top:5px; font-size:13px;\">'\n",
       "\t\t,\t'\t\t<div id=\"div_rest_rn\" class=\"fl\" style=\"width:140px; overflow:hidden; white-space:nowrap; text-overflow:ellipsis; line-height:30px; font-weight:bold;\">' + no + '. ' + jMap[i]['rn'] + '</div>'\n",
       "\t\t,\t'\t\t<div id=\"div_rest_score\" class=\"fr\" style=\"width:40px; line-height:30px; font-weight:bold;\">' + jMap[i]['score'] + '점</div>'\n",
       "\t\t,\t'\t\t<div style=\"clear:both;\"></div>'\n",
       "\t\t,\t'\t\t<div id=\"lbl_rest_address\" style=\"width:170px; white-space:nowrap; overflow:hidden; text-overflow:ellipsis;\">' + jMap[i]['address'] + '</div>'\n",
       "\t\t,\t'\t\t<div id=\"lbl_rest_area\">' + jMap[i]['area'] + '</div>'\n",
       "\t\t,\t'\t</div>'\n",
       "\t\t,\t'\t<div class=\"clear\"></div>'\n",
       "\t\t,\t'</div>'\n",
       "\t].join('');\n",
       "\n",
       "\tvar infoWindow = new naver.maps.InfoWindow({\n",
       "\t\tcontent: contentString\n",
       "\t});\n",
       "\n",
       "\tif( no == 1 ) {\n",
       "\t\tinfoWindow.open(map, marker);\n",
       "\t}\n",
       "\n",
       "\tmarkers.push(marker);\n",
       "\tinfoWindows.push(infoWindow);\n",
       "}\n",
       "\n",
       "function setIcon(no) {\n",
       "\t// 리스트 마우스 오버\n",
       "\tgetPanel(no);\n",
       "\tvar marker\t\t= markers[no-1];\n",
       "\tvar infoWindow\t= infoWindows[no-1];\n",
       "\tinfoWindow.open(map, marker);\n",
       "}\n",
       "\n",
       "function getPanel(no) {\n",
       "\tvar obj\t= $('#lbl_marker_' + no);\n",
       "\n",
       "\t$('.marker-sel').addClass(\"marker-nor\");\n",
       "\t$('.marker-sel').removeClass(\"marker-sel\");\n",
       "\tobj.removeClass(\"marker-nor\");\n",
       "\tobj.addClass(\"marker-sel\");\n",
       "}\n",
       "\n",
       "function getMoreList() {\n",
       "\tvar page\t= parseInt($('#hdn_page').val());\n",
       "\tvar pageT\t= parseInt($('#hdn_pageT').val());\n",
       "\n",
       "\tif( page < pageT ) {\n",
       "\t\t$('#div_shadow').show();\n",
       "\t\t$('#hdn_page').val(page + 1);\n",
       "\n",
       "\t\tif( reLoad == \"Y\" ) {\n",
       "\t\t\tvar jData\t= {\"type\" : type, \"query\" : encodeURIComponent(query), \"rx\" : rx, \"ry\" : ry, \"rw\" : rw, \"rh\" : rh, \"page\" : $('#hdn_page').val(), \"chunk\" : chunk, \"rn\" : rn, \"reload\" : reLoad};\n",
       "\t\t}\n",
       "\t\telse {\n",
       "\t\t\tvar jData\t= {\"type\" : type, \"query\" : encodeURIComponent(query), \"lat\" : lat, \"lng\" : lng, \"dis\" : dis, \"page\" : $('#hdn_page').val(), \"chunk\" : chunk, \"rn\" : rn};\n",
       "\t\t}\n",
       "\n",
       "\t\t$.post('/2018/ajax/list.php', jData, function(data) {\n",
       "\t\t\t$('#div_list').append(data);\n",
       "\t\t\t$('#div_shadow').hide();\n",
       "\t\t});\n",
       "\t}\n",
       "}\n",
       "</script>\n",
       "</link></meta></meta></meta></meta></meta></meta></head>\n",
       "<body class=\"loca\">\n",
       "<div id=\"div_shadow\" style=\"display:none;\"><div class=\"loading\"></div></div>\n",
       "<div id=\"skipNavi\">\n",
       "<h1 class=\"blind\">DININGCODE 스킵네비게이션</h1>\n",
       "<ul>\n",
       "<li><a class=\"skipLink\" href=\"#contents\">본문바로가기</a></li>\n",
       "<li><a class=\"skipLink\" href=\"#topmenu\">주메뉴바로가기</a></li>\n",
       "</ul>\n",
       "</div>\n",
       "<!-- s: #doc //-->\n",
       "<div class=\"isPage\" id=\"doc\">\n",
       "<!-- s: .doc-pg //-->\n",
       "<div class=\"doc-pg\" id=\"pg-code\">\n",
       "<!-- s : header-wrap -->\n",
       "<div id=\"div_header_bg\" onclick=\"$('#div_search, #div_header_bg').hide();\"></div>\n",
       "<header class=\"div-cont\" id=\"header-wrap\">\n",
       "<div id=\"header\">\n",
       "<!-- s: 로고,검색,gnb-->\n",
       "<a class=\"t-logo\" href=\"/\"><span class=\"blind\">DININGCODE</span></a>\n",
       "<form action=\"isearch.php\" method=\"GET\">\n",
       "<p class=\"t-search\">\n",
       "<input autocomplete=\"off\" id=\"txt_keyword\" name=\"query\" onclick=\"$('#div_search, #div_header_bg').show(); getKeyword();\" onkeyup=\"if( event.keyCode != 13 ) { getKeyword(); }\" placeholder=\"음식명으로 주변 맛집을 찾아보세요\" type=\"text\" value=\"대전궁동\"/>\n",
       "<button style=\"display:none;\" type=\"submit\"></button>\n",
       "</p>\n",
       "</form>\n",
       "<ul class=\"t-gnb\">\n",
       "<li><a href=\"/user/?mode=login\">로그인</a></li>\n",
       "<li><a href=\"/user/?mode=intro&amp;retURL=/list.php\">회원가입</a></li>\n",
       "</ul>\n",
       "<div class=\"search-info\" id=\"div_search\">\n",
       "<p class=\"top-txt\" id=\"div_search_slogan\">\n",
       "<span>두가지 음식을 입력하면, 두 음식을 모두갖춘 맛집나와요. '대학로 피자 떡볶이'</span>\n",
       "</p>\n",
       "<div class=\"left-cont\" id=\"div_search_history\">\n",
       "<p class=\"tit\">최근검색기록</p>\n",
       "<ul class=\"near-list searchList\" style=\"height:255px; overflow:auto;\">\n",
       "</ul>\n",
       "</div>\n",
       "<div class=\"right-cont\" id=\"div_search_recomm\">\n",
       "<p class=\"tit\">추천검색</p>\n",
       "<ul class=\"recom-icon\">\n",
       "<!--\t\t\t\t\t\t\t<li>-->\n",
       "<!--\t\t\t\t\t\t\t\t<a href=\"#n\">-->\n",
       "<!--\t\t\t\t\t\t\t\t\t<span class=\"icon hot\"><span class=\"blind\">오늘은 인기맛집</span></span>-->\n",
       "<!--\t\t\t\t\t\t\t\t\t<span>오늘은<br/>인기맛집</span>-->\n",
       "<!--\t\t\t\t\t\t\t\t</a>-->\n",
       "<!--\t\t\t\t\t\t\t</li>-->\n",
       "</ul>\n",
       "<!--\t\t\t\t\t\t<a href=\"#n\" class=\"search-banner\">-->\n",
       "<!--\t\t\t\t\t\t\t<img src=\"/2018/images/web/Layout/search-banner.png\" alt=\"샘플\">-->\n",
       "<!--\t\t\t\t\t\t</a>-->\n",
       "<a class=\"search-info-close\" href=\"JavaScript:void(0);\" onclick=\"$('#div_search, #div_header_bg').hide();\"><span>닫기</span></a>\n",
       "</div>\n",
       "<!-- s: 연관 검색어-->\n",
       "<div class=\"related-search listtype\" id=\"div_search_keyup\">\n",
       "<ul class=\"list\"></ul>\n",
       "<a class=\"related-search-close\" href=\"JavaScript:void(0);\" onclick=\"$('#div_search, #div_header_bg').hide();\"><span>닫기</span></a>\n",
       "</div>\n",
       "<!-- e: 연관 검색어-->\n",
       "</div>\n",
       "<!-- e: 검색 정보-->\n",
       "</div>\n",
       "</header>\n",
       "<!-- e : header-wrap -->\n",
       "<!-- s: #container-wrap //-->\n",
       "<div id=\"container-wrap\">\n",
       "<div id=\"contents\">\n",
       "<!-- // page-start -->\n",
       "<!-- s:지도검색 왼쪽 컨텐츠-->\n",
       "<div class=\"localeft-cont\">\n",
       "<div class=\"lc-list recom-cate button short\" onclick=\"$(this).toggleClass('short');\">\n",
       "<p class=\"tit\"><strong> </strong>추천 카테고리</p>\n",
       "<div class=\"btns\">\n",
       "<a class=\"btn\" href=\"/list.php?query=대전궁동 한식\"><span>한식</span></a> <a class=\"btn\" href=\"/list.php?query=대전궁동 중식\"><span>중식</span></a> <a class=\"btn\" href=\"/list.php?query=대전궁동 일식\"><span>일식</span></a> <a class=\"btn\" href=\"/list.php?query=대전궁동 카페\"><span>카페</span></a> <a class=\"btn\" href=\"/list.php?query=대전궁동 술집\"><span>술집</span></a> <a class=\"btn\" href=\"/list.php?query=대전궁동 고기집\"><span>고기집</span></a> <a class=\"btn\" href=\"/list.php?query=대전궁동 횟집\"><span>횟집</span></a> <a class=\"btn\" href=\"/list.php?query=대전궁동 해산물\"><span>해산물</span></a> <a class=\"btn\" href=\"/list.php?query=대전궁동 밥집\"><span>밥집</span></a> <a class=\"btn\" href=\"/list.php?query=대전궁동 분식\"><span>분식</span></a> <a class=\"btn\" href=\"/list.php?query=대전궁동 패스트푸드\"><span>패스트푸드</span></a> <a class=\"btn\" href=\"/list.php?query=대전궁동 파스타\"><span>파스타</span></a> <a class=\"btn\" href=\"/list.php?query=대전궁동 국물요리\"><span>국물요리</span></a> <a class=\"btn\" href=\"/list.php?query=대전궁동 면요리\"><span>면요리</span></a> <a class=\"btn\" href=\"/list.php?query=대전궁동 이탈리안\"><span>이탈리안</span></a> <a class=\"btn\" href=\"/list.php?query=대전궁동 멕시칸\"><span>멕시칸</span></a> <a class=\"btn\" href=\"/list.php?query=대전궁동 아시안\"><span>아시안</span></a>\n",
       "</div>\n",
       "<div class=\"more-btn\"><span class=\"blind\">닫기/열기</span></div>\n",
       "</div>\n",
       "<div class=\"lc-list high-rank\">\n",
       "<p class=\"btit\" id=\"lbl_title\"><strong>대전궁동</strong> 상위 랭킹 맛집</p>\n",
       "<p class=\"stit\" id=\"lbl_count\">335곳의 맛집</p>\n",
       "<ul class=\"list\" id=\"div_list\">\n",
       "<input id=\"hdn_pageT\" type=\"hidden\" value=\"34\"/><input id=\"hdn_page\" type=\"hidden\" value=\"1\"/> <li id=\"ad-area-1\">\n",
       "</li>\n",
       "<li onmouseenter=\"setIcon(1);\">\n",
       "<a class=\"blink\" href=\"/profile.php?rid=6Grb73j0bZTF\" target=\"_blank\">\n",
       "<span class=\"img\" style=\"overflow:hidden; background:url('https://s3-ap-northeast-1.amazonaws.com/dcreviewsresized/300_300_20200302104528_photo1_e4885f69084c.jpg') no-repeat; background-size:auto 100px; background-position:center;\"></span>\n",
       "<span class=\"btxt\">1. 오늘은파스타</span>\n",
       "<span class=\"stxt\">파스타, 필라프</span>\n",
       "<span class=\"ctxt\">데이트하기좋은, 분위기좋은</span>\n",
       "<span class=\"ctxt\"><i class=\"loca\">궁동</i>대전광역시 유성구 궁동 412-14</span>\n",
       "<span class=\"icons\">\n",
       "</span>\n",
       "</a>\n",
       "<p class=\"favor-review\">\n",
       "<span class=\"favor button\" onclick=\"setFavorites('restaurant', '6Grb73j0bZTF', this);\" value=\"Y\">25</span>\n",
       "<span class=\"review button\" onclick=\"getReview('6Grb73j0bZTF');\">5</span>\n",
       "<span class=\"point\">52점</span>\n",
       "</p>\n",
       "</li>\n",
       "<li onmouseenter=\"setIcon(2);\">\n",
       "<a class=\"blink\" href=\"/profile.php?rid=JtgtXrtcBYE4\" target=\"_blank\">\n",
       "<span class=\"img\" style=\"overflow:hidden; background:url('https://s3-ap-northeast-1.amazonaws.com/dcreviewsresized/300_300_20201019233146_photo1_8e68deea3142.jpg') no-repeat; background-size:auto 100px; background-position:center;\"></span>\n",
       "<span class=\"btxt\">2. 정통집 충남대점</span>\n",
       "<span class=\"stxt\">돼지김치구이</span>\n",
       "<span class=\"ctxt\"></span>\n",
       "<span class=\"ctxt\"><i class=\"loca\">대전궁동</i>대전광역시 유성구 궁동 410-8</span>\n",
       "<span class=\"icons\">\n",
       "</span>\n",
       "</a>\n",
       "<p class=\"favor-review\">\n",
       "<span class=\"favor button\" onclick=\"setFavorites('restaurant', 'JtgtXrtcBYE4', this);\" value=\"Y\">6</span>\n",
       "<span class=\"review button\" onclick=\"getReview('JtgtXrtcBYE4');\">7</span>\n",
       "<span class=\"point\">52점</span>\n",
       "</p>\n",
       "</li>\n",
       "<li onmouseenter=\"setIcon(3);\">\n",
       "<a class=\"blink\" href=\"/profile.php?rid=xrwFlLRplVuA\" target=\"_blank\">\n",
       "<span class=\"img\" style=\"overflow:hidden; background:url('https://s3-ap-northeast-1.amazonaws.com/dcreviewsresized/300_300_20200910012537_photo1_e4885f69084c.jpg') no-repeat; background-size:auto 100px; background-position:center;\"></span>\n",
       "<span class=\"btxt\">3. 이비가짬뽕</span>\n",
       "<span class=\"stxt\">굴짬뽕, 짬뽕</span>\n",
       "<span class=\"ctxt\">줄서서먹는, 비오는날</span>\n",
       "<span class=\"ctxt\"><i class=\"loca\">유성</i>대전시 유성구 궁동 462-12</span>\n",
       "<span class=\"icons\">\n",
       "</span>\n",
       "</a>\n",
       "<p class=\"favor-review\">\n",
       "<span class=\"favor button\" onclick=\"setFavorites('restaurant', 'xrwFlLRplVuA', this);\" value=\"Y\">48</span>\n",
       "<span class=\"review button\" onclick=\"getReview('xrwFlLRplVuA');\">9</span>\n",
       "<span class=\"point\">51점</span>\n",
       "</p>\n",
       "</li>\n",
       "<li style=\"text-align:center;padding-top:20px;\">\n",
       "<ins class=\"adsbygoogle\" data-ad-client=\"ca-pub-1272248965614830\" data-ad-slot=\"8057278175\" style=\"display:block;height:300px;max-width:100%;\"></ins> <script>\n",
       "                    (adsbygoogle = window.adsbygoogle || []).push({});\n",
       "                </script>\n",
       "</li>\n",
       "<li onmouseenter=\"setIcon(4);\">\n",
       "<a class=\"blink\" href=\"/profile.php?rid=1OFAr2HDXyFE\" target=\"_blank\">\n",
       "<span class=\"img\" style=\"overflow:hidden; background:url('https://s3-ap-northeast-1.amazonaws.com/dcreviewsresized/300_300_20200531064832135_photo_e5c80337788c.jpg') no-repeat; background-size:auto 100px; background-position:center;\"></span>\n",
       "<span class=\"btxt\">4. 대전통닭 본점</span>\n",
       "<span class=\"stxt\">바베큐, 치킨</span>\n",
       "<span class=\"ctxt\">참숯, 원조</span>\n",
       "<span class=\"ctxt\"><i class=\"loca\">유성</i>대전광역시 유성구 궁동 471-11</span>\n",
       "<span class=\"icons\">\n",
       "</span>\n",
       "</a>\n",
       "<p class=\"favor-review\">\n",
       "<span class=\"favor button\" onclick=\"setFavorites('restaurant', '1OFAr2HDXyFE', this);\" value=\"Y\">24</span>\n",
       "<span class=\"review button\" onclick=\"getReview('1OFAr2HDXyFE');\">3</span>\n",
       "<span class=\"point\">51점</span>\n",
       "</p>\n",
       "</li>\n",
       "<li onmouseenter=\"setIcon(5);\">\n",
       "<a class=\"blink\" href=\"/profile.php?rid=VABweKnoBpp1\" target=\"_blank\">\n",
       "<span class=\"img\" style=\"overflow:hidden; background:url('https://s3-ap-northeast-1.amazonaws.com/dcreviewsresized/300_300_20200624044938628_photo_794bdae44e77.jpg') no-repeat; background-size:auto 100px; background-position:center;\"></span>\n",
       "<span class=\"btxt\">5. 누오보나폴리</span>\n",
       "<span class=\"stxt\">화덕피자, 피자</span>\n",
       "<span class=\"ctxt\">숨은맛집, 빈티지</span>\n",
       "<span class=\"ctxt\"><i class=\"loca\">궁동</i>대전시 유성구 궁동 406-10 3층</span>\n",
       "<span class=\"icons\">\n",
       "</span>\n",
       "</a>\n",
       "<p class=\"favor-review\">\n",
       "<span class=\"favor button\" onclick=\"setFavorites('restaurant', 'VABweKnoBpp1', this);\" value=\"Y\">65</span>\n",
       "<span class=\"review button\" onclick=\"getReview('VABweKnoBpp1');\">8</span>\n",
       "<span class=\"point\">50점</span>\n",
       "</p>\n",
       "</li>\n",
       "<li onmouseenter=\"setIcon(6);\">\n",
       "<a class=\"blink\" href=\"/profile.php?rid=niKPmjyzJ8ZE\" target=\"_blank\">\n",
       "<span class=\"img\" style=\"overflow:hidden; background:url('https://s3-ap-northeast-1.amazonaws.com/dcreviewsresized/300_300_20200602101419_photo1_af16aed33b73.jpg') no-repeat; background-size:auto 100px; background-position:center;\"></span>\n",
       "<span class=\"btxt\">6. 소신</span>\n",
       "<span class=\"stxt\">디저트카페, 카페</span>\n",
       "<span class=\"ctxt\">분위기좋은, 엔틱한</span>\n",
       "<span class=\"ctxt\"><i class=\"loca\">궁동</i>대전광역시 유성구 궁동 429-5</span>\n",
       "<span class=\"icons\">\n",
       "</span>\n",
       "</a>\n",
       "<p class=\"favor-review\">\n",
       "<span class=\"favor button\" onclick=\"setFavorites('restaurant', 'niKPmjyzJ8ZE', this);\" value=\"Y\">3</span>\n",
       "<span class=\"review button\" onclick=\"getReview('niKPmjyzJ8ZE');\">5</span>\n",
       "<span class=\"point\">45점</span>\n",
       "</p>\n",
       "</li>\n",
       "<li onmouseenter=\"setIcon(7);\">\n",
       "<a class=\"blink\" href=\"/profile.php?rid=quBxwW9kdlC7\" target=\"_blank\">\n",
       "<span class=\"img\" style=\"overflow:hidden; background:url('https://s3-ap-northeast-1.amazonaws.com/dcreviewsresized/300_300_20191201114403_photo1_E7hC93fQ5Col.jpg') no-repeat; background-size:auto 100px; background-position:center;\"></span>\n",
       "<span class=\"btxt\">7. 천복순대국밥</span>\n",
       "<span class=\"stxt\">순대국밥, 국밥</span>\n",
       "<span class=\"ctxt\">원조, 담백한맛</span>\n",
       "<span class=\"ctxt\"><i class=\"loca\">궁동</i>대전광역시 유성구 궁동 471-8</span>\n",
       "<span class=\"icons\">\n",
       "</span>\n",
       "</a>\n",
       "<p class=\"favor-review\">\n",
       "<span class=\"favor button\" onclick=\"setFavorites('restaurant', 'quBxwW9kdlC7', this);\" value=\"Y\">25</span>\n",
       "<span class=\"review button\" onclick=\"getReview('quBxwW9kdlC7');\">9</span>\n",
       "<span class=\"point\">43점</span>\n",
       "</p>\n",
       "</li>\n",
       "<li onmouseenter=\"setIcon(8);\">\n",
       "<a class=\"blink\" href=\"/profile.php?rid=S6tcgRQoEn5p\" target=\"_blank\">\n",
       "<span class=\"img\" style=\"overflow:hidden; background:url('https://s3-ap-northeast-1.amazonaws.com/dcreviewsresized/300_300_20200501054055_photo1_e4885f69084c.jpg') no-repeat; background-size:auto 100px; background-position:center;\"></span>\n",
       "<span class=\"btxt\">8. 유소춘의낙곱새</span>\n",
       "<span class=\"stxt\">낙곱새, 꼬막비빔밥</span>\n",
       "<span class=\"ctxt\">매운음식, 줄서서먹는</span>\n",
       "<span class=\"ctxt\"><i class=\"loca\">궁동</i>대전광역시 유성구 궁동 411-9</span>\n",
       "<span class=\"icons\">\n",
       "</span>\n",
       "</a>\n",
       "<p class=\"favor-review\">\n",
       "<span class=\"favor button\" onclick=\"setFavorites('restaurant', 'S6tcgRQoEn5p', this);\" value=\"Y\">4</span>\n",
       "<span class=\"review button\" onclick=\"getReview('S6tcgRQoEn5p');\">3</span>\n",
       "<span class=\"point\">43점</span>\n",
       "</p>\n",
       "</li>\n",
       "<li onmouseenter=\"setIcon(9);\">\n",
       "<a class=\"blink\" href=\"/profile.php?rid=18pRPTAsmS3f\" target=\"_blank\">\n",
       "<span class=\"img\" style=\"overflow:hidden; background:url('https://s3-ap-northeast-1.amazonaws.com/dcreviewsresized/300_300_20200209104842474_photo_c52c6183b652.jpg') no-repeat; background-size:auto 100px; background-position:center;\"></span>\n",
       "<span class=\"btxt\">9. 동해원</span>\n",
       "<span class=\"stxt\">짬뽕, 짬뽕전문점</span>\n",
       "<span class=\"ctxt\">가정집, 저렴한가격</span>\n",
       "<span class=\"ctxt\"><i class=\"loca\">궁동</i>대전시 유성구 궁동 414-5</span>\n",
       "<span class=\"icons\">\n",
       "</span>\n",
       "</a>\n",
       "<p class=\"favor-review\">\n",
       "<span class=\"favor button\" onclick=\"setFavorites('restaurant', '18pRPTAsmS3f', this);\" value=\"Y\">44</span>\n",
       "<span class=\"review button\" onclick=\"getReview('18pRPTAsmS3f');\">5</span>\n",
       "<span class=\"point\">43점</span>\n",
       "</p>\n",
       "</li>\n",
       "<li onmouseenter=\"setIcon(10);\">\n",
       "<a class=\"blink\" href=\"/profile.php?rid=5272mgPyrdh6\" target=\"_blank\">\n",
       "<span class=\"img\" style=\"overflow:hidden; background:url('https://s3-ap-northeast-1.amazonaws.com/dcreviewsresized/300_300_20201112043407_photo1_88093e60ed53.jpg') no-repeat; background-size:auto 100px; background-position:center;\"></span>\n",
       "<span class=\"btxt\">10. 맛존</span>\n",
       "<span class=\"stxt\">닭불고기, 닭갈비</span>\n",
       "<span class=\"ctxt\">착한가격, 오래된맛집</span>\n",
       "<span class=\"ctxt\"><i class=\"loca\">궁동</i>대전광역시 유성구 궁동 408-14</span>\n",
       "<span class=\"icons\">\n",
       "</span>\n",
       "</a>\n",
       "<p class=\"favor-review\">\n",
       "<span class=\"favor button\" onclick=\"setFavorites('restaurant', '5272mgPyrdh6', this);\" value=\"Y\">34</span>\n",
       "<span class=\"review button\" onclick=\"getReview('5272mgPyrdh6');\">8</span>\n",
       "<span class=\"point\">42점</span>\n",
       "</p>\n",
       "</li>\n",
       "<script type=\"Text/JavaScript\">\n",
       "\n",
       "    if($(\"#ad-area-1\").length > 0) {\n",
       "        var jData\t= '{\"mode\" : \"NEW\", \"ad_inven\" : \"ad_list\", \"type\" : \"list\"';\n",
       "            jData  += ', \"ad_query\" : \"대전궁동\", \"param\" : \"query=%EB%8C%80%EC%A0%84%EA%B6%81%EB%8F%99\"';\n",
       "        jData\t   += '}';\n",
       "\n",
       "        $.ajax({\n",
       "            url : '/2018/ajax/ad.php',\n",
       "            type : 'post',\n",
       "            dataType : 'json',\n",
       "            data : {\n",
       "                'jData' : jData\n",
       "            },\n",
       "            success : function(rtn) {\n",
       "                $(\"#ad-area-1\").html(rtn.data);\n",
       "            }\n",
       "        });\n",
       "    }\n",
       "\n",
       "var jMap\t= JSON.parse('[{\"v_rid\":\"6Grb73j0bZTF\",\"image\":\"https:\\/\\/s3-ap-northeast-1.amazonaws.com\\/dcreviewsresized\\/300_300_20200302104528_photo1_e4885f69084c.jpg\",\"rn\":\"\\uc624\\ub298\\uc740\\ud30c\\uc2a4\\ud0c0\",\"area\":\"\\uad81\\ub3d9\",\"address\":\"\\ub300\\uc804\\uad11\\uc5ed\\uc2dc \\uc720\\uc131\\uad6c \\uad81\\ub3d9 412-14\",\"score\":52,\"lat\":\"36.362293\",\"lng\":\"127.348927\",\"no\":1},{\"v_rid\":\"JtgtXrtcBYE4\",\"image\":\"https:\\/\\/s3-ap-northeast-1.amazonaws.com\\/dcreviewsresized\\/300_300_20201019233146_photo1_8e68deea3142.jpg\",\"rn\":\"\\uc815\\ud1b5\\uc9d1 \\ucda9\\ub0a8\\ub300\\uc810\",\"area\":\"\\ub300\\uc804\\uad81\\ub3d9\",\"address\":\"\\ub300\\uc804\\uad11\\uc5ed\\uc2dc \\uc720\\uc131\\uad6c \\uad81\\ub3d9 410-8\",\"score\":52,\"lat\":\"36.362712\",\"lng\":\"127.349777\",\"no\":2},{\"v_rid\":\"xrwFlLRplVuA\",\"image\":\"https:\\/\\/s3-ap-northeast-1.amazonaws.com\\/dcreviewsresized\\/300_300_20200910012537_photo1_e4885f69084c.jpg\",\"rn\":\"\\uc774\\ube44\\uac00\\uc9ec\\ubf55\",\"area\":\"\\uc720\\uc131\",\"address\":\"\\ub300\\uc804\\uc2dc \\uc720\\uc131\\uad6c \\uad81\\ub3d9 462-12\",\"score\":51,\"lat\":\"36.360466\",\"lng\":\"127.340488\",\"no\":3},{\"v_rid\":\"1OFAr2HDXyFE\",\"image\":\"https:\\/\\/s3-ap-northeast-1.amazonaws.com\\/dcreviewsresized\\/300_300_20200531064832135_photo_e5c80337788c.jpg\",\"rn\":\"\\ub300\\uc804\\ud1b5\\ub2ed \\ubcf8\\uc810\",\"area\":\"\\uc720\\uc131\",\"address\":\"\\ub300\\uc804\\uad11\\uc5ed\\uc2dc \\uc720\\uc131\\uad6c \\uad81\\ub3d9 471-11\",\"score\":51,\"lat\":\"36.359928\",\"lng\":\"127.341972\",\"no\":4},{\"v_rid\":\"VABweKnoBpp1\",\"image\":\"https:\\/\\/s3-ap-northeast-1.amazonaws.com\\/dcreviewsresized\\/300_300_20200624044938628_photo_794bdae44e77.jpg\",\"rn\":\"\\ub204\\uc624\\ubcf4\\ub098\\ud3f4\\ub9ac\",\"area\":\"\\uad81\\ub3d9\",\"address\":\"\\ub300\\uc804\\uc2dc \\uc720\\uc131\\uad6c \\uad81\\ub3d9 406-10 3\\uce35\",\"score\":50,\"lat\":\"36.361939\",\"lng\":\"127.353037\",\"no\":5},{\"v_rid\":\"niKPmjyzJ8ZE\",\"image\":\"https:\\/\\/s3-ap-northeast-1.amazonaws.com\\/dcreviewsresized\\/300_300_20200602101419_photo1_af16aed33b73.jpg\",\"rn\":\"\\uc18c\\uc2e0\",\"area\":\"\\uad81\\ub3d9\",\"address\":\"\\ub300\\uc804\\uad11\\uc5ed\\uc2dc \\uc720\\uc131\\uad6c \\uad81\\ub3d9 429-5\",\"score\":45,\"lat\":\"36.361646\",\"lng\":\"127.352675\",\"no\":6},{\"v_rid\":\"quBxwW9kdlC7\",\"image\":\"https:\\/\\/s3-ap-northeast-1.amazonaws.com\\/dcreviewsresized\\/300_300_20191201114403_photo1_E7hC93fQ5Col.jpg\",\"rn\":\"\\ucc9c\\ubcf5\\uc21c\\ub300\\uad6d\\ubc25\",\"area\":\"\\uad81\\ub3d9\",\"address\":\"\\ub300\\uc804\\uad11\\uc5ed\\uc2dc \\uc720\\uc131\\uad6c \\uad81\\ub3d9 471-8\",\"score\":43,\"lat\":\"36.359799\",\"lng\":\"127.342332\",\"no\":7},{\"v_rid\":\"S6tcgRQoEn5p\",\"image\":\"https:\\/\\/s3-ap-northeast-1.amazonaws.com\\/dcreviewsresized\\/300_300_20200501054055_photo1_e4885f69084c.jpg\",\"rn\":\"\\uc720\\uc18c\\ucd98\\uc758\\ub099\\uacf1\\uc0c8\",\"area\":\"\\uad81\\ub3d9\",\"address\":\"\\ub300\\uc804\\uad11\\uc5ed\\uc2dc \\uc720\\uc131\\uad6c \\uad81\\ub3d9 411-9\",\"score\":43,\"lat\":\"36.361800\",\"lng\":\"127.350000\",\"no\":8},{\"v_rid\":\"18pRPTAsmS3f\",\"image\":\"https:\\/\\/s3-ap-northeast-1.amazonaws.com\\/dcreviewsresized\\/300_300_20200209104842474_photo_c52c6183b652.jpg\",\"rn\":\"\\ub3d9\\ud574\\uc6d0\",\"area\":\"\\uad81\\ub3d9\",\"address\":\"\\ub300\\uc804\\uc2dc \\uc720\\uc131\\uad6c \\uad81\\ub3d9 414-5\",\"score\":43,\"lat\":\"36.362370\",\"lng\":\"127.348202\",\"no\":9},{\"v_rid\":\"5272mgPyrdh6\",\"image\":\"https:\\/\\/s3-ap-northeast-1.amazonaws.com\\/dcreviewsresized\\/300_300_20201112043407_photo1_88093e60ed53.jpg\",\"rn\":\"\\ub9db\\uc874\",\"area\":\"\\uad81\\ub3d9\",\"address\":\"\\ub300\\uc804\\uad11\\uc5ed\\uc2dc \\uc720\\uc131\\uad6c \\uad81\\ub3d9 408-14\",\"score\":42,\"lat\":\"36.362433\",\"lng\":\"127.350749\",\"no\":10}]');\n",
       "</script>\n",
       "</ul>\n",
       "</div>\n",
       "<div class=\"list-more-btn type03\" id=\"div_list_more\" style=\"position:relative\">\n",
       "<span class=\"more-btn\" onclick=\"getMoreList();\" style=\"cursor:pointer;\"><span>더보기</span> <img src=\"https://s3-ap-northeast-1.amazonaws.com/dcicons/new/images/web/common/list-more-down@2x.png\" style=\"width:20px;height:20px;\"/></span>\n",
       "</div>\n",
       "<div style=\"height:50px;\"></div>\n",
       "</div>\n",
       "<!-- e:지도검색 왼쪽 컨텐츠-->\n",
       "<!-- Naver map -->\n",
       "<div id=\"map-area-wrap\" style=\"position:relative\">\n",
       "<div class=\"maploca-cont\" id=\"div_map\">\n",
       "<button id=\"btn_research\" style=\"position:absolute; z-index:120; margin:20px; width:120px; height:40px; border-radius:2px; background-color:#FFFFFF; box-shadow: 0 1px 2px 0 rgba(0, 0, 0, 0.1); font-size:13px; color:#2483FF;\">이 지역 재검색</button>\n",
       "</div>\n",
       "<div style=\"width:728px;height:90px;position:absolute;left:calc(50% - 364px);bottom:20px;\">\n",
       "<div style=\"position:relative\">\n",
       "<span id=\"btn-ad-close\" onclick=\"$(this).parent().parent().hide();\" style=\"font-weight:bold;display:none;position:absolute;right:0px;top:0px;cursor:pointer;background:#fff;padding:5px 5px;font-size:10px;line-height:10px;z-index:1;\">X</span>\n",
       "<ins class=\"adsbygoogle list-google-ad-area\" data-ad-client=\"ca-pub-1272248965614830\" data-ad-slot=\"9491612911\" style=\"display:inline-block;min-width:200px;max-width:970px;width:100%;height:90px\"></ins> </div>\n",
       "</div>\n",
       "</div>\n",
       "<!-- // page-end -->\n",
       "</div>\n",
       "<!-- e: contents //-->\n",
       "</div>\n",
       "<!-- e: #container-wrap //-->\n",
       "</div>\n",
       "<!-- e: .doc-pg //-->\n",
       "</div>\n",
       "<!-- e: #doc //-->\n",
       "</body>\n",
       "</html>"
      ]
     },
     "execution_count": 2,
     "metadata": {},
     "output_type": "execute_result"
    }
   ],
   "source": [
    "url_base = \"https://www.diningcode.com\"  # url의 앞부분\n",
    "url_sub = \"/list.php?query=%EB%8C%80%EC%A0%84%EA%B6%81%EB%8F%99\"  # url의 뒷부분\n",
    "url = url_base + url_sub\n",
    "\n",
    "html = urlopen(url)\n",
    "soup = BeautifulSoup(html, 'html.parser')\n",
    "soup"
   ]
  },
  {
   "cell_type": "markdown",
   "metadata": {},
   "source": [
    "### 2. 필요한 부분 추출 후 가공"
   ]
  },
  {
   "cell_type": "code",
   "execution_count": 3,
   "metadata": {},
   "outputs": [
    {
     "data": {
      "text/plain": [
       "'/profile.php?rid=6Grb73j0bZTF'"
      ]
     },
     "execution_count": 3,
     "metadata": {},
     "output_type": "execute_result"
    }
   ],
   "source": [
    "rest_list = soup.find_all(class_='blink')\n",
    "rest_list[0].parent.find('a')['href']"
   ]
  },
  {
   "cell_type": "code",
   "execution_count": 4,
   "metadata": {},
   "outputs": [
    {
     "data": {
      "text/plain": [
       "<a class=\"blink\" href=\"/profile.php?rid=6Grb73j0bZTF\" target=\"_blank\">\n",
       "<span class=\"img\" style=\"overflow:hidden; background:url('https://s3-ap-northeast-1.amazonaws.com/dcreviewsresized/300_300_20200302104528_photo1_e4885f69084c.jpg') no-repeat; background-size:auto 100px; background-position:center;\"></span>\n",
       "<span class=\"btxt\">1. 오늘은파스타</span>\n",
       "<span class=\"stxt\">파스타, 필라프</span>\n",
       "<span class=\"ctxt\">데이트하기좋은, 분위기좋은</span>\n",
       "<span class=\"ctxt\"><i class=\"loca\">궁동</i>대전광역시 유성구 궁동 412-14</span>\n",
       "<span class=\"icons\">\n",
       "</span>\n",
       "</a>"
      ]
     },
     "execution_count": 4,
     "metadata": {},
     "output_type": "execute_result"
    }
   ],
   "source": [
    "tmp_one = rest_list[0]\n",
    "tmp_one"
   ]
  },
  {
   "cell_type": "code",
   "execution_count": 5,
   "metadata": {},
   "outputs": [
    {
     "data": {
      "text/plain": [
       "<span class=\"btxt\">1. 오늘은파스타</span>"
      ]
     },
     "execution_count": 5,
     "metadata": {},
     "output_type": "execute_result"
    }
   ],
   "source": [
    "tmp_one.find(class_='btxt')"
   ]
  },
  {
   "cell_type": "code",
   "execution_count": 6,
   "metadata": {},
   "outputs": [
    {
     "data": {
      "text/plain": [
       "'1. 오늘은파스타'"
      ]
     },
     "execution_count": 6,
     "metadata": {},
     "output_type": "execute_result"
    }
   ],
   "source": [
    "tmp_one.find(class_='btxt').get_text()"
   ]
  },
  {
   "cell_type": "code",
   "execution_count": 7,
   "metadata": {},
   "outputs": [
    {
     "data": {
      "text/plain": [
       "['1', ' 오늘은파스타']"
      ]
     },
     "execution_count": 7,
     "metadata": {},
     "output_type": "execute_result"
    }
   ],
   "source": [
    "tmp_one.find(class_='btxt').get_text().split('.')"
   ]
  },
  {
   "cell_type": "code",
   "execution_count": 8,
   "metadata": {},
   "outputs": [
    {
     "data": {
      "text/plain": [
       "'오늘은파스타'"
      ]
     },
     "execution_count": 8,
     "metadata": {},
     "output_type": "execute_result"
    }
   ],
   "source": [
    "cafe = tmp_one.find(class_='btxt').get_text().split('.')[1].replace(' ','')\n",
    "cafe"
   ]
  },
  {
   "cell_type": "code",
   "execution_count": 9,
   "metadata": {},
   "outputs": [
    {
     "data": {
      "text/plain": [
       "'파스타, 필라프'"
      ]
     },
     "execution_count": 9,
     "metadata": {},
     "output_type": "execute_result"
    }
   ],
   "source": [
    "menu = tmp_one.find(class_='stxt').get_text()\n",
    "menu"
   ]
  },
  {
   "cell_type": "markdown",
   "metadata": {},
   "source": [
    "* 반복문을 사용해서 리스트 정리"
   ]
  },
  {
   "cell_type": "code",
   "execution_count": 10,
   "metadata": {},
   "outputs": [],
   "source": [
    "import re\n",
    "import pandas as pd\n",
    "from urllib.parse import urljoin"
   ]
  },
  {
   "cell_type": "code",
   "execution_count": 11,
   "metadata": {},
   "outputs": [],
   "source": [
    "cafe_name = []\n",
    "main_menu = []\n",
    "url_add = []\n",
    "\n",
    "for rest in rest_list:\n",
    "    cafe_name.append(rest.find(class_='btxt').get_text().split('.')[1].replace(' ',''))\n",
    "    main_menu.append(rest.find(class_='stxt').get_text())\n",
    "    url_add.append(urljoin(url_base, rest.parent.find('a')['href']))"
   ]
  },
  {
   "cell_type": "code",
   "execution_count": 12,
   "metadata": {},
   "outputs": [
    {
     "data": {
      "text/html": [
       "<div>\n",
       "<style scoped>\n",
       "    .dataframe tbody tr th:only-of-type {\n",
       "        vertical-align: middle;\n",
       "    }\n",
       "\n",
       "    .dataframe tbody tr th {\n",
       "        vertical-align: top;\n",
       "    }\n",
       "\n",
       "    .dataframe thead th {\n",
       "        text-align: right;\n",
       "    }\n",
       "</style>\n",
       "<table border=\"1\" class=\"dataframe\">\n",
       "  <thead>\n",
       "    <tr style=\"text-align: right;\">\n",
       "      <th></th>\n",
       "      <th>cafe</th>\n",
       "      <th>menu</th>\n",
       "      <th>URL</th>\n",
       "    </tr>\n",
       "  </thead>\n",
       "  <tbody>\n",
       "    <tr>\n",
       "      <th>0</th>\n",
       "      <td>오늘은파스타</td>\n",
       "      <td>파스타, 필라프</td>\n",
       "      <td>https://www.diningcode.com/profile.php?rid=6Gr...</td>\n",
       "    </tr>\n",
       "    <tr>\n",
       "      <th>1</th>\n",
       "      <td>정통집충남대점</td>\n",
       "      <td>돼지김치구이</td>\n",
       "      <td>https://www.diningcode.com/profile.php?rid=Jtg...</td>\n",
       "    </tr>\n",
       "    <tr>\n",
       "      <th>2</th>\n",
       "      <td>이비가짬뽕</td>\n",
       "      <td>굴짬뽕, 짬뽕</td>\n",
       "      <td>https://www.diningcode.com/profile.php?rid=xrw...</td>\n",
       "    </tr>\n",
       "    <tr>\n",
       "      <th>3</th>\n",
       "      <td>대전통닭본점</td>\n",
       "      <td>바베큐, 치킨</td>\n",
       "      <td>https://www.diningcode.com/profile.php?rid=1OF...</td>\n",
       "    </tr>\n",
       "    <tr>\n",
       "      <th>4</th>\n",
       "      <td>누오보나폴리</td>\n",
       "      <td>화덕피자, 피자</td>\n",
       "      <td>https://www.diningcode.com/profile.php?rid=VAB...</td>\n",
       "    </tr>\n",
       "    <tr>\n",
       "      <th>5</th>\n",
       "      <td>소신</td>\n",
       "      <td>디저트카페, 카페</td>\n",
       "      <td>https://www.diningcode.com/profile.php?rid=niK...</td>\n",
       "    </tr>\n",
       "    <tr>\n",
       "      <th>6</th>\n",
       "      <td>천복순대국밥</td>\n",
       "      <td>순대국밥, 국밥</td>\n",
       "      <td>https://www.diningcode.com/profile.php?rid=quB...</td>\n",
       "    </tr>\n",
       "    <tr>\n",
       "      <th>7</th>\n",
       "      <td>유소춘의낙곱새</td>\n",
       "      <td>낙곱새, 꼬막비빔밥</td>\n",
       "      <td>https://www.diningcode.com/profile.php?rid=S6t...</td>\n",
       "    </tr>\n",
       "    <tr>\n",
       "      <th>8</th>\n",
       "      <td>동해원</td>\n",
       "      <td>짬뽕, 짬뽕전문점</td>\n",
       "      <td>https://www.diningcode.com/profile.php?rid=18p...</td>\n",
       "    </tr>\n",
       "    <tr>\n",
       "      <th>9</th>\n",
       "      <td>맛존</td>\n",
       "      <td>닭불고기, 닭갈비</td>\n",
       "      <td>https://www.diningcode.com/profile.php?rid=527...</td>\n",
       "    </tr>\n",
       "  </tbody>\n",
       "</table>\n",
       "</div>"
      ],
      "text/plain": [
       "      cafe        menu                                                URL\n",
       "0   오늘은파스타    파스타, 필라프  https://www.diningcode.com/profile.php?rid=6Gr...\n",
       "1  정통집충남대점      돼지김치구이  https://www.diningcode.com/profile.php?rid=Jtg...\n",
       "2    이비가짬뽕     굴짬뽕, 짬뽕  https://www.diningcode.com/profile.php?rid=xrw...\n",
       "3   대전통닭본점     바베큐, 치킨  https://www.diningcode.com/profile.php?rid=1OF...\n",
       "4   누오보나폴리    화덕피자, 피자  https://www.diningcode.com/profile.php?rid=VAB...\n",
       "5       소신   디저트카페, 카페  https://www.diningcode.com/profile.php?rid=niK...\n",
       "6   천복순대국밥    순대국밥, 국밥  https://www.diningcode.com/profile.php?rid=quB...\n",
       "7  유소춘의낙곱새  낙곱새, 꼬막비빔밥  https://www.diningcode.com/profile.php?rid=S6t...\n",
       "8      동해원   짬뽕, 짬뽕전문점  https://www.diningcode.com/profile.php?rid=18p...\n",
       "9       맛존   닭불고기, 닭갈비  https://www.diningcode.com/profile.php?rid=527..."
      ]
     },
     "execution_count": 12,
     "metadata": {},
     "output_type": "execute_result"
    }
   ],
   "source": [
    "df = pd.DataFrame({'cafe':cafe_name,'menu':main_menu,'URL':url_add})\n",
    "df"
   ]
  },
  {
   "cell_type": "code",
   "execution_count": 13,
   "metadata": {},
   "outputs": [],
   "source": [
    "df.to_csv('gungdong1.csv',sep=',',encoding=\"utf-8\")"
   ]
  },
  {
   "cell_type": "markdown",
   "metadata": {},
   "source": [
    "* 음식점 상세정보 긁어오기"
   ]
  },
  {
   "cell_type": "code",
   "execution_count": 14,
   "metadata": {},
   "outputs": [
    {
     "data": {
      "text/plain": [
       "'https://www.diningcode.com/profile.php?rid=6Grb73j0bZTF'"
      ]
     },
     "execution_count": 14,
     "metadata": {},
     "output_type": "execute_result"
    }
   ],
   "source": [
    "df['URL'][0]"
   ]
  },
  {
   "cell_type": "code",
   "execution_count": 15,
   "metadata": {},
   "outputs": [],
   "source": [
    "html = urlopen(df['URL'][0])\n",
    "soup_tmp = BeautifulSoup(html, 'html.parser')"
   ]
  },
  {
   "cell_type": "code",
   "execution_count": 16,
   "metadata": {},
   "outputs": [
    {
     "data": {
      "text/plain": [
       "'대전광역시 유성구 궁동 412-14'"
      ]
     },
     "execution_count": 16,
     "metadata": {},
     "output_type": "execute_result"
    }
   ],
   "source": [
    "tmp_addr = soup_tmp.find(class_='locat').get_text()\n",
    "tmp_addr"
   ]
  },
  {
   "cell_type": "code",
   "execution_count": 17,
   "metadata": {},
   "outputs": [
    {
     "data": {
      "text/plain": [
       "'042-826-0198'"
      ]
     },
     "execution_count": 17,
     "metadata": {},
     "output_type": "execute_result"
    }
   ],
   "source": [
    "tmp_tel = soup_tmp.find(class_='tel').get_text()\n",
    "tmp_tel"
   ]
  },
  {
   "cell_type": "code",
   "execution_count": 18,
   "metadata": {},
   "outputs": [],
   "source": [
    "from tqdm.notebook import tqdm\n",
    "import time"
   ]
  },
  {
   "cell_type": "code",
   "execution_count": 19,
   "metadata": {},
   "outputs": [
    {
     "data": {
      "application/vnd.jupyter.widget-view+json": {
       "model_id": "a681ff73518c4d19a51dda45cd6a9dbe",
       "version_major": 2,
       "version_minor": 0
      },
      "text/plain": [
       "HBox(children=(HTML(value=''), FloatProgress(value=0.0, max=10.0), HTML(value='')))"
      ]
     },
     "metadata": {},
     "output_type": "display_data"
    },
    {
     "name": "stdout",
     "output_type": "stream",
     "text": [
      "\n"
     ]
    }
   ],
   "source": [
    "addr = []\n",
    "tel = []\n",
    "for n in tqdm(df.index):\n",
    "    html = urlopen(df['URL'][n])\n",
    "    soup_tmp = BeautifulSoup(html,'html.parser')\n",
    "    \n",
    "    addr.append(soup_tmp.find(class_='locat').get_text())\n",
    "    tel.append(soup_tmp.find(class_='tel').get_text())"
   ]
  },
  {
   "cell_type": "code",
   "execution_count": 20,
   "metadata": {},
   "outputs": [
    {
     "data": {
      "text/plain": [
       "['대전광역시 유성구 궁동 412-14',\n",
       " '대전광역시 유성구 궁동 410-8',\n",
       " '대전시 유성구 궁동 462-12',\n",
       " '대전광역시 유성구 궁동 471-11',\n",
       " '대전시 유성구 궁동 406-10 3층',\n",
       " '대전광역시 유성구 궁동 429-5',\n",
       " '대전광역시 유성구 궁동 471-8',\n",
       " '대전광역시 유성구 궁동 411-9',\n",
       " '대전시 유성구 궁동 414-5',\n",
       " '대전광역시 유성구 궁동 408-14']"
      ]
     },
     "execution_count": 20,
     "metadata": {},
     "output_type": "execute_result"
    }
   ],
   "source": [
    "addr"
   ]
  },
  {
   "cell_type": "code",
   "execution_count": 21,
   "metadata": {},
   "outputs": [
    {
     "data": {
      "text/plain": [
       "['042-826-0198',\n",
       " '042-823-9289',\n",
       " '042-823-7484',\n",
       " '042-825-2292',\n",
       " '042-322-9582',\n",
       " '010-8558-9746',\n",
       " '042-822-1096',\n",
       " '',\n",
       " '042-823-3495',\n",
       " '042-824-1959']"
      ]
     },
     "execution_count": 21,
     "metadata": {},
     "output_type": "execute_result"
    }
   ],
   "source": [
    "tel"
   ]
  },
  {
   "cell_type": "code",
   "execution_count": 22,
   "metadata": {},
   "outputs": [
    {
     "data": {
      "text/html": [
       "<div>\n",
       "<style scoped>\n",
       "    .dataframe tbody tr th:only-of-type {\n",
       "        vertical-align: middle;\n",
       "    }\n",
       "\n",
       "    .dataframe tbody tr th {\n",
       "        vertical-align: top;\n",
       "    }\n",
       "\n",
       "    .dataframe thead th {\n",
       "        text-align: right;\n",
       "    }\n",
       "</style>\n",
       "<table border=\"1\" class=\"dataframe\">\n",
       "  <thead>\n",
       "    <tr style=\"text-align: right;\">\n",
       "      <th></th>\n",
       "      <th>cafe</th>\n",
       "      <th>menu</th>\n",
       "    </tr>\n",
       "  </thead>\n",
       "  <tbody>\n",
       "    <tr>\n",
       "      <th>0</th>\n",
       "      <td>오늘은파스타</td>\n",
       "      <td>파스타, 필라프</td>\n",
       "    </tr>\n",
       "    <tr>\n",
       "      <th>1</th>\n",
       "      <td>정통집충남대점</td>\n",
       "      <td>돼지김치구이</td>\n",
       "    </tr>\n",
       "    <tr>\n",
       "      <th>2</th>\n",
       "      <td>이비가짬뽕</td>\n",
       "      <td>굴짬뽕, 짬뽕</td>\n",
       "    </tr>\n",
       "    <tr>\n",
       "      <th>3</th>\n",
       "      <td>대전통닭본점</td>\n",
       "      <td>바베큐, 치킨</td>\n",
       "    </tr>\n",
       "    <tr>\n",
       "      <th>4</th>\n",
       "      <td>누오보나폴리</td>\n",
       "      <td>화덕피자, 피자</td>\n",
       "    </tr>\n",
       "    <tr>\n",
       "      <th>5</th>\n",
       "      <td>소신</td>\n",
       "      <td>디저트카페, 카페</td>\n",
       "    </tr>\n",
       "    <tr>\n",
       "      <th>6</th>\n",
       "      <td>천복순대국밥</td>\n",
       "      <td>순대국밥, 국밥</td>\n",
       "    </tr>\n",
       "    <tr>\n",
       "      <th>7</th>\n",
       "      <td>유소춘의낙곱새</td>\n",
       "      <td>낙곱새, 꼬막비빔밥</td>\n",
       "    </tr>\n",
       "    <tr>\n",
       "      <th>8</th>\n",
       "      <td>동해원</td>\n",
       "      <td>짬뽕, 짬뽕전문점</td>\n",
       "    </tr>\n",
       "    <tr>\n",
       "      <th>9</th>\n",
       "      <td>맛존</td>\n",
       "      <td>닭불고기, 닭갈비</td>\n",
       "    </tr>\n",
       "  </tbody>\n",
       "</table>\n",
       "</div>"
      ],
      "text/plain": [
       "      cafe        menu\n",
       "0   오늘은파스타    파스타, 필라프\n",
       "1  정통집충남대점      돼지김치구이\n",
       "2    이비가짬뽕     굴짬뽕, 짬뽕\n",
       "3   대전통닭본점     바베큐, 치킨\n",
       "4   누오보나폴리    화덕피자, 피자\n",
       "5       소신   디저트카페, 카페\n",
       "6   천복순대국밥    순대국밥, 국밥\n",
       "7  유소춘의낙곱새  낙곱새, 꼬막비빔밥\n",
       "8      동해원   짬뽕, 짬뽕전문점\n",
       "9       맛존   닭불고기, 닭갈비"
      ]
     },
     "execution_count": 22,
     "metadata": {},
     "output_type": "execute_result"
    }
   ],
   "source": [
    "df2 = df.iloc[:,:-1]\n",
    "df2"
   ]
  },
  {
   "cell_type": "markdown",
   "metadata": {},
   "source": [
    "### 3. 식당 정보를 CSV파일로 저장"
   ]
  },
  {
   "cell_type": "code",
   "execution_count": 23,
   "metadata": {},
   "outputs": [
    {
     "data": {
      "text/html": [
       "<div>\n",
       "<style scoped>\n",
       "    .dataframe tbody tr th:only-of-type {\n",
       "        vertical-align: middle;\n",
       "    }\n",
       "\n",
       "    .dataframe tbody tr th {\n",
       "        vertical-align: top;\n",
       "    }\n",
       "\n",
       "    .dataframe thead th {\n",
       "        text-align: right;\n",
       "    }\n",
       "</style>\n",
       "<table border=\"1\" class=\"dataframe\">\n",
       "  <thead>\n",
       "    <tr style=\"text-align: right;\">\n",
       "      <th></th>\n",
       "      <th>cafe</th>\n",
       "      <th>menu</th>\n",
       "      <th>addr</th>\n",
       "      <th>tel</th>\n",
       "    </tr>\n",
       "  </thead>\n",
       "  <tbody>\n",
       "    <tr>\n",
       "      <th>0</th>\n",
       "      <td>오늘은파스타</td>\n",
       "      <td>파스타, 필라프</td>\n",
       "      <td>대전광역시 유성구 궁동 412-14</td>\n",
       "      <td>042-826-0198</td>\n",
       "    </tr>\n",
       "    <tr>\n",
       "      <th>1</th>\n",
       "      <td>정통집충남대점</td>\n",
       "      <td>돼지김치구이</td>\n",
       "      <td>대전광역시 유성구 궁동 410-8</td>\n",
       "      <td>042-823-9289</td>\n",
       "    </tr>\n",
       "    <tr>\n",
       "      <th>2</th>\n",
       "      <td>이비가짬뽕</td>\n",
       "      <td>굴짬뽕, 짬뽕</td>\n",
       "      <td>대전시 유성구 궁동 462-12</td>\n",
       "      <td>042-823-7484</td>\n",
       "    </tr>\n",
       "    <tr>\n",
       "      <th>3</th>\n",
       "      <td>대전통닭본점</td>\n",
       "      <td>바베큐, 치킨</td>\n",
       "      <td>대전광역시 유성구 궁동 471-11</td>\n",
       "      <td>042-825-2292</td>\n",
       "    </tr>\n",
       "    <tr>\n",
       "      <th>4</th>\n",
       "      <td>누오보나폴리</td>\n",
       "      <td>화덕피자, 피자</td>\n",
       "      <td>대전시 유성구 궁동 406-10 3층</td>\n",
       "      <td>042-322-9582</td>\n",
       "    </tr>\n",
       "    <tr>\n",
       "      <th>5</th>\n",
       "      <td>소신</td>\n",
       "      <td>디저트카페, 카페</td>\n",
       "      <td>대전광역시 유성구 궁동 429-5</td>\n",
       "      <td>010-8558-9746</td>\n",
       "    </tr>\n",
       "    <tr>\n",
       "      <th>6</th>\n",
       "      <td>천복순대국밥</td>\n",
       "      <td>순대국밥, 국밥</td>\n",
       "      <td>대전광역시 유성구 궁동 471-8</td>\n",
       "      <td>042-822-1096</td>\n",
       "    </tr>\n",
       "    <tr>\n",
       "      <th>7</th>\n",
       "      <td>유소춘의낙곱새</td>\n",
       "      <td>낙곱새, 꼬막비빔밥</td>\n",
       "      <td>대전광역시 유성구 궁동 411-9</td>\n",
       "      <td></td>\n",
       "    </tr>\n",
       "    <tr>\n",
       "      <th>8</th>\n",
       "      <td>동해원</td>\n",
       "      <td>짬뽕, 짬뽕전문점</td>\n",
       "      <td>대전시 유성구 궁동 414-5</td>\n",
       "      <td>042-823-3495</td>\n",
       "    </tr>\n",
       "    <tr>\n",
       "      <th>9</th>\n",
       "      <td>맛존</td>\n",
       "      <td>닭불고기, 닭갈비</td>\n",
       "      <td>대전광역시 유성구 궁동 408-14</td>\n",
       "      <td>042-824-1959</td>\n",
       "    </tr>\n",
       "  </tbody>\n",
       "</table>\n",
       "</div>"
      ],
      "text/plain": [
       "      cafe        menu                  addr            tel\n",
       "0   오늘은파스타    파스타, 필라프   대전광역시 유성구 궁동 412-14   042-826-0198\n",
       "1  정통집충남대점      돼지김치구이    대전광역시 유성구 궁동 410-8   042-823-9289\n",
       "2    이비가짬뽕     굴짬뽕, 짬뽕     대전시 유성구 궁동 462-12   042-823-7484\n",
       "3   대전통닭본점     바베큐, 치킨   대전광역시 유성구 궁동 471-11   042-825-2292\n",
       "4   누오보나폴리    화덕피자, 피자  대전시 유성구 궁동 406-10 3층   042-322-9582\n",
       "5       소신   디저트카페, 카페    대전광역시 유성구 궁동 429-5  010-8558-9746\n",
       "6   천복순대국밥    순대국밥, 국밥    대전광역시 유성구 궁동 471-8   042-822-1096\n",
       "7  유소춘의낙곱새  낙곱새, 꼬막비빔밥    대전광역시 유성구 궁동 411-9               \n",
       "8      동해원   짬뽕, 짬뽕전문점      대전시 유성구 궁동 414-5   042-823-3495\n",
       "9       맛존   닭불고기, 닭갈비   대전광역시 유성구 궁동 408-14   042-824-1959"
      ]
     },
     "execution_count": 23,
     "metadata": {},
     "output_type": "execute_result"
    }
   ],
   "source": [
    "df2['addr'] = addr\n",
    "df2['tel'] = tel\n",
    "df2"
   ]
  },
  {
   "cell_type": "code",
   "execution_count": 24,
   "metadata": {},
   "outputs": [
    {
     "data": {
      "text/html": [
       "<div>\n",
       "<style scoped>\n",
       "    .dataframe tbody tr th:only-of-type {\n",
       "        vertical-align: middle;\n",
       "    }\n",
       "\n",
       "    .dataframe tbody tr th {\n",
       "        vertical-align: top;\n",
       "    }\n",
       "\n",
       "    .dataframe thead th {\n",
       "        text-align: right;\n",
       "    }\n",
       "</style>\n",
       "<table border=\"1\" class=\"dataframe\">\n",
       "  <thead>\n",
       "    <tr style=\"text-align: right;\">\n",
       "      <th></th>\n",
       "      <th>menu</th>\n",
       "      <th>addr</th>\n",
       "      <th>tel</th>\n",
       "    </tr>\n",
       "    <tr>\n",
       "      <th>cafe</th>\n",
       "      <th></th>\n",
       "      <th></th>\n",
       "      <th></th>\n",
       "    </tr>\n",
       "  </thead>\n",
       "  <tbody>\n",
       "    <tr>\n",
       "      <th>오늘은파스타</th>\n",
       "      <td>파스타, 필라프</td>\n",
       "      <td>대전광역시 유성구 궁동 412-14</td>\n",
       "      <td>042-826-0198</td>\n",
       "    </tr>\n",
       "    <tr>\n",
       "      <th>정통집충남대점</th>\n",
       "      <td>돼지김치구이</td>\n",
       "      <td>대전광역시 유성구 궁동 410-8</td>\n",
       "      <td>042-823-9289</td>\n",
       "    </tr>\n",
       "    <tr>\n",
       "      <th>이비가짬뽕</th>\n",
       "      <td>굴짬뽕, 짬뽕</td>\n",
       "      <td>대전시 유성구 궁동 462-12</td>\n",
       "      <td>042-823-7484</td>\n",
       "    </tr>\n",
       "    <tr>\n",
       "      <th>대전통닭본점</th>\n",
       "      <td>바베큐, 치킨</td>\n",
       "      <td>대전광역시 유성구 궁동 471-11</td>\n",
       "      <td>042-825-2292</td>\n",
       "    </tr>\n",
       "    <tr>\n",
       "      <th>누오보나폴리</th>\n",
       "      <td>화덕피자, 피자</td>\n",
       "      <td>대전시 유성구 궁동 406-10 3층</td>\n",
       "      <td>042-322-9582</td>\n",
       "    </tr>\n",
       "    <tr>\n",
       "      <th>소신</th>\n",
       "      <td>디저트카페, 카페</td>\n",
       "      <td>대전광역시 유성구 궁동 429-5</td>\n",
       "      <td>010-8558-9746</td>\n",
       "    </tr>\n",
       "    <tr>\n",
       "      <th>천복순대국밥</th>\n",
       "      <td>순대국밥, 국밥</td>\n",
       "      <td>대전광역시 유성구 궁동 471-8</td>\n",
       "      <td>042-822-1096</td>\n",
       "    </tr>\n",
       "    <tr>\n",
       "      <th>유소춘의낙곱새</th>\n",
       "      <td>낙곱새, 꼬막비빔밥</td>\n",
       "      <td>대전광역시 유성구 궁동 411-9</td>\n",
       "      <td></td>\n",
       "    </tr>\n",
       "    <tr>\n",
       "      <th>동해원</th>\n",
       "      <td>짬뽕, 짬뽕전문점</td>\n",
       "      <td>대전시 유성구 궁동 414-5</td>\n",
       "      <td>042-823-3495</td>\n",
       "    </tr>\n",
       "    <tr>\n",
       "      <th>맛존</th>\n",
       "      <td>닭불고기, 닭갈비</td>\n",
       "      <td>대전광역시 유성구 궁동 408-14</td>\n",
       "      <td>042-824-1959</td>\n",
       "    </tr>\n",
       "  </tbody>\n",
       "</table>\n",
       "</div>"
      ],
      "text/plain": [
       "               menu                  addr            tel\n",
       "cafe                                                    \n",
       "오늘은파스타     파스타, 필라프   대전광역시 유성구 궁동 412-14   042-826-0198\n",
       "정통집충남대점      돼지김치구이    대전광역시 유성구 궁동 410-8   042-823-9289\n",
       "이비가짬뽕       굴짬뽕, 짬뽕     대전시 유성구 궁동 462-12   042-823-7484\n",
       "대전통닭본점      바베큐, 치킨   대전광역시 유성구 궁동 471-11   042-825-2292\n",
       "누오보나폴리     화덕피자, 피자  대전시 유성구 궁동 406-10 3층   042-322-9582\n",
       "소신        디저트카페, 카페    대전광역시 유성구 궁동 429-5  010-8558-9746\n",
       "천복순대국밥     순대국밥, 국밥    대전광역시 유성구 궁동 471-8   042-822-1096\n",
       "유소춘의낙곱새  낙곱새, 꼬막비빔밥    대전광역시 유성구 궁동 411-9               \n",
       "동해원       짬뽕, 짬뽕전문점      대전시 유성구 궁동 414-5   042-823-3495\n",
       "맛존        닭불고기, 닭갈비   대전광역시 유성구 궁동 408-14   042-824-1959"
      ]
     },
     "execution_count": 24,
     "metadata": {},
     "output_type": "execute_result"
    }
   ],
   "source": [
    "df2.set_index('cafe',inplace=True)\n",
    "df2"
   ]
  },
  {
   "cell_type": "code",
   "execution_count": 25,
   "metadata": {},
   "outputs": [],
   "source": [
    "df2.to_csv('gungdong2.csv',sep=',',encoding=\"utf-8\")"
   ]
  },
  {
   "cell_type": "code",
   "execution_count": 26,
   "metadata": {},
   "outputs": [],
   "source": [
    "df3 = pd.read_csv('gungdong2.csv')"
   ]
  },
  {
   "cell_type": "markdown",
   "metadata": {},
   "source": [
    "### 4. 식당의 위치를 지도상에 표현"
   ]
  },
  {
   "cell_type": "code",
   "execution_count": 27,
   "metadata": {},
   "outputs": [],
   "source": [
    "import numpy as np\n",
    "import folium\n",
    "import googlemaps"
   ]
  },
  {
   "cell_type": "code",
   "execution_count": 28,
   "metadata": {},
   "outputs": [],
   "source": [
    "key_fd = open('googlemapskey.txt', mode='r')\n",
    "gmaps_key = key_fd.read(100)\n",
    "key_fd.close()"
   ]
  },
  {
   "cell_type": "code",
   "execution_count": 29,
   "metadata": {},
   "outputs": [],
   "source": [
    "gmaps = googlemaps.Client(key=gmaps_key)"
   ]
  },
  {
   "cell_type": "code",
   "execution_count": 30,
   "metadata": {},
   "outputs": [
    {
     "data": {
      "application/vnd.jupyter.widget-view+json": {
       "model_id": "8d7a7936a84c4d26a630f058480ca6ec",
       "version_major": 2,
       "version_minor": 0
      },
      "text/plain": [
       "HBox(children=(HTML(value=''), FloatProgress(value=0.0, max=10.0), HTML(value='')))"
      ]
     },
     "metadata": {},
     "output_type": "display_data"
    },
    {
     "name": "stdout",
     "output_type": "stream",
     "text": [
      "\n"
     ]
    }
   ],
   "source": [
    "lat = []\n",
    "lng = []\n",
    "\n",
    "for n in tqdm(df.index):\n",
    "    if df3['addr'][n] != 'Multipl':\n",
    "        target_name = df3['addr'][n]+', '+'Chicago'\n",
    "        gmaps_output = gmaps.geocode(target_name)\n",
    "        location_output = gmaps_output[0].get('geometry')\n",
    "        lat.append(location_output['location']['lat'])\n",
    "        lng.append(location_output['location']['lng'])\n",
    "    else:\n",
    "        lat.append(np.nan)\n",
    "        lng.append(np.nan)"
   ]
  },
  {
   "cell_type": "code",
   "execution_count": 31,
   "metadata": {},
   "outputs": [
    {
     "data": {
      "text/html": [
       "<div>\n",
       "<style scoped>\n",
       "    .dataframe tbody tr th:only-of-type {\n",
       "        vertical-align: middle;\n",
       "    }\n",
       "\n",
       "    .dataframe tbody tr th {\n",
       "        vertical-align: top;\n",
       "    }\n",
       "\n",
       "    .dataframe thead th {\n",
       "        text-align: right;\n",
       "    }\n",
       "</style>\n",
       "<table border=\"1\" class=\"dataframe\">\n",
       "  <thead>\n",
       "    <tr style=\"text-align: right;\">\n",
       "      <th></th>\n",
       "      <th>cafe</th>\n",
       "      <th>menu</th>\n",
       "      <th>addr</th>\n",
       "      <th>tel</th>\n",
       "      <th>lat</th>\n",
       "      <th>lng</th>\n",
       "    </tr>\n",
       "  </thead>\n",
       "  <tbody>\n",
       "    <tr>\n",
       "      <th>0</th>\n",
       "      <td>오늘은파스타</td>\n",
       "      <td>파스타, 필라프</td>\n",
       "      <td>대전광역시 유성구 궁동 412-14</td>\n",
       "      <td>042-826-0198</td>\n",
       "      <td>36.362308</td>\n",
       "      <td>127.348995</td>\n",
       "    </tr>\n",
       "    <tr>\n",
       "      <th>1</th>\n",
       "      <td>정통집충남대점</td>\n",
       "      <td>돼지김치구이</td>\n",
       "      <td>대전광역시 유성구 궁동 410-8</td>\n",
       "      <td>042-823-9289</td>\n",
       "      <td>36.362668</td>\n",
       "      <td>127.349833</td>\n",
       "    </tr>\n",
       "    <tr>\n",
       "      <th>2</th>\n",
       "      <td>이비가짬뽕</td>\n",
       "      <td>굴짬뽕, 짬뽕</td>\n",
       "      <td>대전시 유성구 궁동 462-12</td>\n",
       "      <td>042-823-7484</td>\n",
       "      <td>36.360435</td>\n",
       "      <td>127.340568</td>\n",
       "    </tr>\n",
       "    <tr>\n",
       "      <th>3</th>\n",
       "      <td>대전통닭본점</td>\n",
       "      <td>바베큐, 치킨</td>\n",
       "      <td>대전광역시 유성구 궁동 471-11</td>\n",
       "      <td>042-825-2292</td>\n",
       "      <td>36.359897</td>\n",
       "      <td>127.342000</td>\n",
       "    </tr>\n",
       "    <tr>\n",
       "      <th>4</th>\n",
       "      <td>누오보나폴리</td>\n",
       "      <td>화덕피자, 피자</td>\n",
       "      <td>대전시 유성구 궁동 406-10 3층</td>\n",
       "      <td>042-322-9582</td>\n",
       "      <td>36.361990</td>\n",
       "      <td>127.352960</td>\n",
       "    </tr>\n",
       "  </tbody>\n",
       "</table>\n",
       "</div>"
      ],
      "text/plain": [
       "      cafe      menu                  addr           tel        lat  \\\n",
       "0   오늘은파스타  파스타, 필라프   대전광역시 유성구 궁동 412-14  042-826-0198  36.362308   \n",
       "1  정통집충남대점    돼지김치구이    대전광역시 유성구 궁동 410-8  042-823-9289  36.362668   \n",
       "2    이비가짬뽕   굴짬뽕, 짬뽕     대전시 유성구 궁동 462-12  042-823-7484  36.360435   \n",
       "3   대전통닭본점   바베큐, 치킨   대전광역시 유성구 궁동 471-11  042-825-2292  36.359897   \n",
       "4   누오보나폴리  화덕피자, 피자  대전시 유성구 궁동 406-10 3층  042-322-9582  36.361990   \n",
       "\n",
       "          lng  \n",
       "0  127.348995  \n",
       "1  127.349833  \n",
       "2  127.340568  \n",
       "3  127.342000  \n",
       "4  127.352960  "
      ]
     },
     "execution_count": 31,
     "metadata": {},
     "output_type": "execute_result"
    }
   ],
   "source": [
    "df3['lat'] = lat\n",
    "df3['lng'] = lng\n",
    "df3.head()"
   ]
  },
  {
   "cell_type": "code",
   "execution_count": 36,
   "metadata": {},
   "outputs": [
    {
     "data": {
      "text/html": [
       "<div style=\"width:100%;\"><div style=\"position:relative;width:100%;height:0;padding-bottom:60%;\"><span style=\"color:#565656\">Make this Notebook Trusted to load map: File -> Trust Notebook</span><iframe src=\"about:blank\" style=\"position:absolute;width:100%;height:100%;left:0;top:0;border:none !important;\" data-html=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 onload=\"this.contentDocument.open();this.contentDocument.write(atob(this.getAttribute('data-html')));this.contentDocument.close();\" allowfullscreen webkitallowfullscreen mozallowfullscreen></iframe></div></div>"
      ],
      "text/plain": [
       "<folium.folium.Map at 0x7f813963f190>"
      ]
     },
     "execution_count": 36,
     "metadata": {},
     "output_type": "execute_result"
    }
   ],
   "source": [
    "mapping = folium.Map(location=[df3['lat'].mean(), df3['lng'].mean()],zoom_start=15)\n",
    "folium.Marker([df3['lat'].mean(), df3['lng'].mean()],popup='center').add_to(mapping)\n",
    "mapping"
   ]
  },
  {
   "cell_type": "code",
   "execution_count": 38,
   "metadata": {
    "scrolled": true
   },
   "outputs": [
    {
     "data": {
      "text/html": [
       "<div style=\"width:100%;\"><div style=\"position:relative;width:100%;height:0;padding-bottom:60%;\"><span style=\"color:#565656\">Make this Notebook Trusted to load map: File -> Trust Notebook</span><iframe src=\"about:blank\" style=\"position:absolute;width:100%;height:100%;left:0;top:0;border:none !important;\" data-html=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 onload=\"this.contentDocument.open();this.contentDocument.write(atob(this.getAttribute('data-html')));this.contentDocument.close();\" allowfullscreen webkitallowfullscreen mozallowfullscreen></iframe></div></div>"
      ],
      "text/plain": [
       "<folium.folium.Map at 0x7f8139654290>"
      ]
     },
     "execution_count": 38,
     "metadata": {},
     "output_type": "execute_result"
    }
   ],
   "source": [
    "mapping = folium.Map(location=[df3['lat'].mean(), df3['lng'].mean()],zoom_start=15)\n",
    "\n",
    "for n in df3.index:\n",
    "    if df3['addr'][n] != 'Multipl':\n",
    "        folium.Marker([df3['lat'][n], df3['lng'][n]],popup=df3['cafe'][n]).add_to(mapping)\n",
    "mapping"
   ]
  },
  {
   "cell_type": "code",
   "execution_count": null,
   "metadata": {},
   "outputs": [],
   "source": []
  }
 ],
 "metadata": {
  "kernelspec": {
   "display_name": "Python 3",
   "language": "python",
   "name": "python3"
  },
  "language_info": {
   "codemirror_mode": {
    "name": "ipython",
    "version": 3
   },
   "file_extension": ".py",
   "mimetype": "text/x-python",
   "name": "python",
   "nbconvert_exporter": "python",
   "pygments_lexer": "ipython3",
   "version": "3.7.7"
  }
 },
 "nbformat": 4,
 "nbformat_minor": 4
}
