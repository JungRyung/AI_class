{
 "cells": [
  {
   "cell_type": "markdown",
   "metadata": {},
   "source": [
    "# 1. 조건문"
   ]
  },
  {
   "cell_type": "code",
   "execution_count": 4,
   "metadata": {},
   "outputs": [],
   "source": [
    "# Q1\n",
    "def is_leapYear(year):\n",
    "    if (year%4==0 and year%100) or year%400==0:\n",
    "        return True\n",
    "    else:\n",
    "        return False"
   ]
  },
  {
   "cell_type": "code",
   "execution_count": 5,
   "metadata": {},
   "outputs": [
    {
     "data": {
      "text/plain": [
       "True"
      ]
     },
     "execution_count": 5,
     "metadata": {},
     "output_type": "execute_result"
    }
   ],
   "source": [
    "is_leapYear(2012)"
   ]
  },
  {
   "cell_type": "code",
   "execution_count": 6,
   "metadata": {},
   "outputs": [
    {
     "data": {
      "text/plain": [
       "False"
      ]
     },
     "execution_count": 6,
     "metadata": {},
     "output_type": "execute_result"
    }
   ],
   "source": [
    "is_leapYear(1900)"
   ]
  },
  {
   "cell_type": "code",
   "execution_count": 7,
   "metadata": {},
   "outputs": [
    {
     "data": {
      "text/plain": [
       "True"
      ]
     },
     "execution_count": 7,
     "metadata": {},
     "output_type": "execute_result"
    }
   ],
   "source": [
    "is_leapYear(2000)"
   ]
  },
  {
   "cell_type": "code",
   "execution_count": 1,
   "metadata": {},
   "outputs": [
    {
     "name": "stdout",
     "output_type": "stream",
     "text": [
      "알람을 맞추려는 시각을 입력해 주세요. (24시간제로 맞춰서 입력해주세요)\n",
      "시 : 0\n",
      "분 : 20\n",
      "입력하신 시간은 00시 20분 입니다.\n",
      "설정된 시간은 23시 35분 입니다.\n"
     ]
    }
   ],
   "source": [
    "# Q2\n",
    "print('알람을 맞추려는 시각을 입력해 주세요. (24시간제로 맞춰서 입력해주세요)')\n",
    "hour = int(input('시 : '))\n",
    "min = int(input('분 : '))\n",
    "\n",
    "if min >=45:\n",
    "    min_mod = min-45\n",
    "else:\n",
    "    if hour==0:\n",
    "        hour_mod = 23\n",
    "        min_mod = min +60-45\n",
    "    else:\n",
    "        hour_mod = hour-1\n",
    "        min_mod = min + 60-45\n",
    "\n",
    "print('입력하신 시간은 %02d시 %02d분 입니다.'%(hour,min))\n",
    "print('설정된 시간은 %02d시 %02d분 입니다.'%(hour_mod,min_mod))"
   ]
  },
  {
   "cell_type": "code",
   "execution_count": 11,
   "metadata": {},
   "outputs": [
    {
     "name": "stdout",
     "output_type": "stream",
     "text": [
      "세 정수를 입력해 주세요. 31 9 238\n",
      "두 번째로 큰 정수는  31 입니다.\n"
     ]
    }
   ],
   "source": [
    "# Q3\n",
    "a, b, c = map(int,input('세 정수를 입력해 주세요. ').split(' '))\n",
    "\n",
    "intList = [a,b,c]\n",
    "intList.sort()\n",
    "\n",
    "print('두 번째로 큰 정수는 ',intList[1],'입니다.')\n",
    "\n"
   ]
  },
  {
   "cell_type": "code",
   "execution_count": 90,
   "metadata": {},
   "outputs": [
    {
     "name": "stdout",
     "output_type": "stream",
     "text": [
      "375 200 425\n",
      "200 375 425\n"
     ]
    }
   ],
   "source": [
    "# Q4\n",
    "for c in range(3,500):\n",
    "    for b in range(2,c):\n",
    "        a = 1000-b-c\n",
    "        if a**2 + b**2 == c**2:\n",
    "            print(a,b,c)"
   ]
  },
  {
   "cell_type": "markdown",
   "metadata": {},
   "source": [
    "# 2. 반복문"
   ]
  },
  {
   "cell_type": "code",
   "execution_count": 22,
   "metadata": {},
   "outputs": [
    {
     "name": "stdout",
     "output_type": "stream",
     "text": [
      "테스트 케이스의 개수를 입력해주세요 : 5\n",
      "각 테스트 케이스에서 합산을 할 A와 B를 입력해주세요. \n",
      "Case 1의 A와 B : 3 5\n",
      "Case #1: 3 + 5 = 8\n",
      "Case 2의 A와 B : 3 5\n",
      "Case #2: 3 + 5 = 8\n",
      "Case 3의 A와 B : 3 5\n",
      "Case #3: 3 + 5 = 8\n",
      "Case 4의 A와 B : 3 5\n",
      "Case #4: 3 + 5 = 8\n",
      "Case 5의 A와 B : 3 5\n",
      "Case #5: 3 + 5 = 8\n"
     ]
    }
   ],
   "source": [
    "# Q1\n",
    "T = int(input('테스트 케이스의 개수를 입력해주세요 : '))\n",
    "\n",
    "print('각 테스트 케이스에서 합산을 할 A와 B를 입력해주세요. ')\n",
    "for i in range(T):\n",
    "    A, B = map(int,input('Case %d의 A와 B : '%(i+1)).split(' '))\n",
    "    print('Case #%d: %d + %d = %d'%(i+1,A,B,A+B))\n",
    "    \n"
   ]
  },
  {
   "cell_type": "code",
   "execution_count": 30,
   "metadata": {},
   "outputs": [
    {
     "name": "stdout",
     "output_type": "stream",
     "text": [
      "5이상 9이하의 홀수를 입력해주세요 :9\n",
      "     *     \n",
      "    ***    \n",
      "   *****   \n",
      "  *******  \n",
      " ********* \n",
      "  *******  \n",
      "   *****   \n",
      "    ***    \n",
      "     *     \n"
     ]
    }
   ],
   "source": [
    "# Q2\n",
    "input_ok = False\n",
    "N = 0\n",
    "while input_ok == False:\n",
    "    N = int(input('5이상 9이하의 홀수를 입력해주세요 :'))\n",
    "    if (N>=5 and N<=9) and N%2==1:\n",
    "        input_ok = True\n",
    "\n",
    "for i in range(1,N+1,2):\n",
    "    n1 = int((N-i)/2)\n",
    "    n2 = i\n",
    "    n3 = int((N-i)/2)\n",
    "    print(' '*n1,'*'*n2,' '*n3)\n",
    "for i in range(N-2,0,-2):\n",
    "    n1 = int((N-i)/2)\n",
    "    n2 = i\n",
    "    n3 = int((N-i)/2)\n",
    "    print(' '*n1,'*'*n2,' '*n3)"
   ]
  },
  {
   "cell_type": "code",
   "execution_count": 103,
   "metadata": {},
   "outputs": [
    {
     "name": "stdout",
     "output_type": "stream",
     "text": [
      "29700\n"
     ]
    }
   ],
   "source": [
    "# Q3\n",
    "second = 0\n",
    "for hour in range(0,24):\n",
    "    for min in range(0,60):\n",
    "        if str(hour).find('3')!=-1 or str(min).find('3')!=-1:\n",
    "            second += 60\n",
    "            \n",
    "print(second)"
   ]
  },
  {
   "cell_type": "code",
   "execution_count": 73,
   "metadata": {},
   "outputs": [
    {
     "name": "stdout",
     "output_type": "stream",
     "text": [
      "0:192개, 1:301개, 2:300개, 3:300개, 4:300개, 5:300개, 6:300개, 7:300개, 8:300개, 9:300개\n"
     ]
    }
   ],
   "source": [
    "# Q4\n",
    "num_cnt = {'0':0,'1':0,'2':0,'3':0,'4':0,'5':0,'6':0,'7':0,'8':0,'9':0}\n",
    "# num_cnt['0']\n",
    "for i in range(1,1001):\n",
    "    for k in range(0,10):\n",
    "        num_cnt[str(k)] += str(i).count(str(k))\n",
    "#     print(i,\" : \",end ='')\n",
    "#     for l in range(0,10):\n",
    "#         if l==9:\n",
    "#             print('%d:%d개'%(l,num_cnt[str(l)]))\n",
    "#         else:\n",
    "#             print('%d:%d개'%(l,num_cnt[str(l)]), end=', ')\n",
    "        \n",
    "for i in range(0,10):\n",
    "    if i==9:\n",
    "        print('%d:%d개'%(i,num_cnt[str(i)]))\n",
    "    else:\n",
    "        print('%d:%d개'%(i,num_cnt[str(i)]), end=', ')"
   ]
  },
  {
   "cell_type": "code",
   "execution_count": 35,
   "metadata": {},
   "outputs": [
    {
     "name": "stdout",
     "output_type": "stream",
     "text": [
      "자연수 N을 입력해주세요. 1000\n",
      "6\n",
      "28\n",
      "496\n"
     ]
    }
   ],
   "source": [
    "# Q5\n",
    "def perfect_num(n):\n",
    "    for i in range(2,n):\n",
    "        sum = 0\n",
    "        for num in range(1,i):\n",
    "            if i%num == 0:\n",
    "                sum += num\n",
    "        if sum == i:\n",
    "            print(i)\n",
    "            \n",
    "N = int(input('자연수 N을 입력해주세요. '))\n",
    "perfect_num(N)"
   ]
  },
  {
   "cell_type": "code",
   "execution_count": 41,
   "metadata": {},
   "outputs": [
    {
     "name": "stdout",
     "output_type": "stream",
     "text": [
      "자연수 N을 입력해주세요. 10\n",
      "\"합의 제곱\"과 \"제곱의 합\"의 차이는 3025 - 385 = 2640\n"
     ]
    }
   ],
   "source": [
    "# Q6\n",
    "sum_of_pow = 0\n",
    "pow_of_sum = 0\n",
    "\n",
    "N = int(input('자연수 N을 입력해주세요. '))\n",
    "\n",
    "#sum_of_pow\n",
    "for i in range(1,N+1):\n",
    "    sum_of_pow += i**2\n",
    "    \n",
    "#pow_of_sum\n",
    "sum = 0\n",
    "for i in range(1,N+1):\n",
    "    sum += i\n",
    "pow_of_sum = sum**2\n",
    "\n",
    "print('\"합의 제곱\"과 \"제곱의 합\"의 차이는 %d - %d = %d'%(pow_of_sum,sum_of_pow,pow_of_sum-sum_of_pow))"
   ]
  },
  {
   "cell_type": "markdown",
   "metadata": {},
   "source": [
    "# 3. 문자열 및 파일"
   ]
  },
  {
   "cell_type": "code",
   "execution_count": 110,
   "metadata": {},
   "outputs": [
    {
     "name": "stdout",
     "output_type": "stream",
     "text": [
      "906609\n"
     ]
    }
   ],
   "source": [
    "# Q1\n",
    "def reverse_string(s):\n",
    "    s = s[::-1]\n",
    "    return s\n",
    "    \n",
    "max_palin = 0\n",
    "for i in range(100,1000):\n",
    "    for k in range(i,1000):\n",
    "        if str(i*k) == reverse_string(str(i*k)) and i*k>=max_palin:\n",
    "            max_palin = i*k\n",
    "            \n",
    "print(max_palin)\n",
    "            "
   ]
  },
  {
   "cell_type": "code",
   "execution_count": 113,
   "metadata": {},
   "outputs": [
    {
     "name": "stdout",
     "output_type": "stream",
     "text": [
      "암호화 할 문자열을 공백없이 대문자로 입력하고 N의 값을 입력해주세요 : PYTHON 5\n",
      "KTOCJI\n"
     ]
    }
   ],
   "source": [
    "# Q2\n",
    "input_string, n = map(str, input('암호화 할 문자열을 공백없이 대문자로 입력하고 N의 값을 입력해주세요 : ').split(' '))\n",
    "\n",
    "n = int(n)\n",
    "\n",
    "output_string=''\n",
    "# ASCII 65 ~ 90\n",
    "for c in input_string:\n",
    "    if ord(c)-n >=65:\n",
    "        output_string = output_string + chr(ord(c)-n)\n",
    "    else:\n",
    "        output_string = output_string + chr(ord(c)-n+26)\n",
    "\n",
    "print(output_string)"
   ]
  },
  {
   "cell_type": "code",
   "execution_count": 79,
   "metadata": {},
   "outputs": [
    {
     "name": "stdout",
     "output_type": "stream",
     "text": [
      "찾을 문자열 : pop()\n",
      "찾을 파일명 : DFS_with_stack.cpp\n",
      "0 :  \t\ts.pop();\n",
      "\n",
      "1 :  \t\t\t\t// pop()을 했었기 때문에 현재 current_node도 넣어줘야한다.\n",
      "\n"
     ]
    }
   ],
   "source": [
    "# Q3\n",
    "target_string = input('찾을 문자열 : ')\n",
    "target_file_name = input('찾을 파일명 : ')\n",
    "\n",
    "file = open(target_file_name,'r',encoding='utf8')\n",
    "lines = file.readlines()\n",
    "\n",
    "line_num = 0\n",
    "for line in lines:\n",
    "    if target_string in line:\n",
    "        print(line_num ,': ',line)\n",
    "        line_num += 1\n",
    "    \n",
    "file.close()"
   ]
  },
  {
   "cell_type": "code",
   "execution_count": 114,
   "metadata": {},
   "outputs": [
    {
     "name": "stdout",
     "output_type": "stream",
     "text": [
      "파일명 : DFS_with_stack.cpp\n",
      "['#include', '<iostream>']\n",
      "['#include', '<stack>']\n",
      "['#include', '<vector>']\n",
      "['#include', '<algorithm>']\n",
      "['#include', '<stdio.h>']\n",
      "['#include', '<queue>']\n",
      "[]\n",
      "['using', 'namespace', 'std;']\n",
      "[]\n",
      "[]\n",
      "['//', 'stack에', '들어가면', '방문한거로', '판단']\n",
      "['//', '해당', '위치를', 'true로', '해준다.']\n",
      "['void', 'dfs(int', 'start,', 'vector<int>', 'graph[],', 'bool', 'check[]){']\n",
      "[]\n",
      "['stack<int>', 's;']\n",
      "['s.push(start);']\n",
      "['check[start]', '=', 'true;']\n",
      "['printf(\"%d', '\",start);']\n",
      "[]\n",
      "['while(!s.empty()){']\n",
      "[]\n",
      "['int', 'current_node', '=', 's.top();']\n",
      "['s.pop();']\n",
      "['for(int', 'i=0;', 'i<graph[current_node].size();', 'i++){']\n",
      "[]\n",
      "['int', 'next_node', '=', 'graph[current_node][i];']\n",
      "[]\n",
      "['if(check[next_node]==false){']\n",
      "['printf(\"%d', '\",', 'next_node);']\n",
      "['check[next_node]', '=', 'true;']\n",
      "['//', 'pop()을', '했었기', '때문에', '현재', 'current_node도', '넣어줘야한다.']\n",
      "['s.push(current_node);']\n",
      "['s.push(next_node);']\n",
      "['break;']\n",
      "['}']\n",
      "['}']\n",
      "['}']\n",
      "['}']\n",
      "[]\n",
      "['int', 'main', '(){']\n",
      "[]\n",
      "['int', 'n,', 'm,', 'start;']\n",
      "['cin', '>>', 'n', '>>', 'm', '>>', 'start;']\n",
      "[]\n",
      "['vector<int>', 'graph[n+1];']\n",
      "['bool', 'check', '[n+1];']\n",
      "['fill(check,', 'check+n+1,', 'false);']\n",
      "[]\n",
      "['for(int', 'i=0;', 'i<m;', 'i++){']\n",
      "['int', 'u,v;']\n",
      "['cin', '>>', 'u', '>>', 'v;']\n",
      "[]\n",
      "['graph[u].push_back(v);']\n",
      "['graph[v].push_back(u);']\n",
      "['}']\n",
      "[]\n",
      "['//', 'Sorting은', '왜', '한거지?']\n",
      "['//', '나중에', '하나의', '정점에서', '다음을', '탐색할', '때', 'node', '값에', '순차적으로', '접근해야하기', '때문']\n",
      "['for(int', 'i=1;', 'i<=n;', 'i++){']\n",
      "['sort(graph[i].begin(),', 'graph[i].end());']\n",
      "['}']\n",
      "[]\n",
      "['//dfs']\n",
      "['dfs(start,', 'graph,', 'check);']\n",
      "['printf(\"\\\\n\");']\n",
      "[]\n",
      "['return', '0;']\n",
      "['}']\n"
     ]
    }
   ],
   "source": [
    "# Q4\n",
    "# 모든 구분자를 space로 replace 한 뒤 split\n",
    "import re\n",
    "target_file_name = input('파일명 : ')\n",
    "\n",
    "file = open(target_file_name,'r',encoding='utf8')\n",
    "lines = file.readlines()\n",
    "\n",
    "word_cnt = 0\n",
    "word_dict={}\n",
    "for line in lines:\n",
    "    line.replace(',',' ')\n",
    "    line.replace('.',' ')\n",
    "    tempList = line.split()\n",
    "    print(tempList)\n",
    "    \n",
    "print()\n",
    "    \n",
    "    \n",
    "\n",
    "    \n",
    "    "
   ]
  },
  {
   "cell_type": "code",
   "execution_count": 119,
   "metadata": {},
   "outputs": [
    {
     "ename": "KeyError",
     "evalue": "'dict'",
     "output_type": "error",
     "traceback": [
      "\u001b[0;31m---------------------------------------------------------------------------\u001b[0m",
      "\u001b[0;31mKeyError\u001b[0m                                  Traceback (most recent call last)",
      "\u001b[0;32m<ipython-input-119-d81aa468eaa8>\u001b[0m in \u001b[0;36m<module>\u001b[0;34m\u001b[0m\n\u001b[1;32m      1\u001b[0m \u001b[0mword_dict\u001b[0m\u001b[0;34m=\u001b[0m\u001b[0;34m{\u001b[0m\u001b[0;34m}\u001b[0m\u001b[0;34m\u001b[0m\u001b[0;34m\u001b[0m\u001b[0m\n\u001b[0;32m----> 2\u001b[0;31m \u001b[0mword_dict\u001b[0m\u001b[0;34m[\u001b[0m\u001b[0;34m'dict'\u001b[0m\u001b[0;34m]\u001b[0m\u001b[0;34m\u001b[0m\u001b[0;34m\u001b[0m\u001b[0m\n\u001b[0m",
      "\u001b[0;31mKeyError\u001b[0m: 'dict'"
     ]
    }
   ],
   "source": [
    "word_dict={}\n",
    "word_dict['dict']"
   ]
  },
  {
   "cell_type": "code",
   "execution_count": null,
   "metadata": {},
   "outputs": [],
   "source": []
  }
 ],
 "metadata": {
  "kernelspec": {
   "display_name": "Python 3",
   "language": "python",
   "name": "python3"
  },
  "language_info": {
   "codemirror_mode": {
    "name": "ipython",
    "version": 3
   },
   "file_extension": ".py",
   "mimetype": "text/x-python",
   "name": "python",
   "nbconvert_exporter": "python",
   "pygments_lexer": "ipython3",
   "version": "3.7.6"
  }
 },
 "nbformat": 4,
 "nbformat_minor": 4
}
