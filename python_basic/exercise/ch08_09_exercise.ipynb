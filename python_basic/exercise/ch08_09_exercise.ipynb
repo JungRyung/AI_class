{
 "cells": [
  {
   "cell_type": "code",
   "execution_count": 1,
   "metadata": {},
   "outputs": [
    {
     "name": "stdout",
     "output_type": "stream",
     "text": [
      "15\n"
     ]
    }
   ],
   "source": [
    "# Q8-1\n",
    "from lib import inc_10\n",
    "\n",
    "print(inc_10(5))"
   ]
  },
  {
   "cell_type": "code",
   "execution_count": 1,
   "metadata": {},
   "outputs": [
    {
     "name": "stdout",
     "output_type": "stream",
     "text": [
      "138\n"
     ]
    }
   ],
   "source": [
    "# Q8-2\n",
    "import lib\n",
    "\n",
    "a = lib.mul_20(3)\n",
    "b = a + lib.fact(1,3)\n",
    "c = a + b + lib.inc_10(2)\n",
    "print(c)"
   ]
  },
  {
   "cell_type": "code",
   "execution_count": 2,
   "metadata": {},
   "outputs": [
    {
     "name": "stdout",
     "output_type": "stream",
     "text": [
      "35\n"
     ]
    }
   ],
   "source": [
    "# Q8-3\n",
    "import lib as lb\n",
    "\n",
    "a = 1\n",
    "b = 2\n",
    "c = 3\n",
    "\n",
    "d = lb.fact(a, b)\n",
    "d += lb.inc_10(c)\n",
    "e = d + lb.mul_20(a)\n",
    "print(e)"
   ]
  },
  {
   "cell_type": "code",
   "execution_count": null,
   "metadata": {},
   "outputs": [],
   "source": [
    "# Q8-6\n",
    "import random\n",
    "\n",
    "again = 'y'\n",
    "count = 1\n",
    "\n",
    "while again == 'y':\n",
    "#     print('-'*30)\n",
    "#     print('주사위 던지기 : %d번째'%count)\n",
    "    me = random.randint(1,6)\n",
    "    computer = random.randint(1,6)\n",
    "    print('나 : %d'%me)\n",
    "    print('컴퓨터 : %d'%computer)\n",
    "    \n",
    "    if me > computer:\n",
    "        print('당신의 승리!')\n",
    "    elif me == computer:\n",
    "        print('무승부!')\n",
    "    else:\n",
    "        print('나의 승리!')\n",
    "    count = count + 1\n",
    "    again = input('계속하려면 y를 입력하세요!')"
   ]
  },
  {
   "cell_type": "code",
   "execution_count": 3,
   "metadata": {},
   "outputs": [
    {
     "name": "stdout",
     "output_type": "stream",
     "text": [
      "abcde\n"
     ]
    }
   ],
   "source": [
    "# Q9-1\n",
    "class TestClass1:\n",
    "    strings = 'abcde'\n",
    "\n",
    "testclass1 = TestClass1()\n",
    "print(testclass1.strings)"
   ]
  },
  {
   "cell_type": "code",
   "execution_count": 5,
   "metadata": {},
   "outputs": [
    {
     "name": "stdout",
     "output_type": "stream",
     "text": [
      "이름 :  홍길동\n",
      "이메일 :  test@korea.com\n"
     ]
    }
   ],
   "source": [
    "# Q9-2\n",
    "class TestClass2:\n",
    "    def __init__(self,name,email):\n",
    "        self.name = name\n",
    "        self.email = email\n",
    "        \n",
    "testclass2 = TestClass2('홍길동','test@korea.com')\n",
    "print('이름 : ',testclass2.name)\n",
    "print('이메일 : ',testclass2.email)"
   ]
  },
  {
   "cell_type": "code",
   "execution_count": 6,
   "metadata": {},
   "outputs": [
    {
     "name": "stdout",
     "output_type": "stream",
     "text": [
      "이름 :  홍길동\n",
      "이메일 :  test@korea.com\n"
     ]
    }
   ],
   "source": [
    "# Q9-3\n",
    "class TestClass2:\n",
    "    def __init__(self,name,email):\n",
    "        self.name = name\n",
    "        self.email = email\n",
    "        \n",
    "    def printInfo(self):\n",
    "        print('이름 : ',self.name)\n",
    "        print('이메일 : ',self.email)\n",
    "        \n",
    "testclass2 = TestClass2('홍길동','test@korea.com')\n",
    "testclass2.printInfo()"
   ]
  },
  {
   "cell_type": "code",
   "execution_count": 7,
   "metadata": {},
   "outputs": [
    {
     "name": "stdout",
     "output_type": "stream",
     "text": [
      "이름 :  홍길동\n",
      "전화번호 :  010-1234-5678\n",
      "주소 :  성남시\n"
     ]
    }
   ],
   "source": [
    "# Q9-4\n",
    "class Member:\n",
    "    def __init__(self,name,phone,address):\n",
    "        self.name = name\n",
    "        self.phone = phone\n",
    "        self.address = address\n",
    "        \n",
    "    def printInfo(self):\n",
    "        print('이름 : ',self.name)\n",
    "        print('전화번호 : ',self.phone)\n",
    "        print('주소 : ',self.address)\n",
    "        \n",
    "gildong = Member('홍길동','010-1234-5678','성남시')\n",
    "gildong.printInfo()"
   ]
  },
  {
   "cell_type": "code",
   "execution_count": 9,
   "metadata": {},
   "outputs": [
    {
     "name": "stdout",
     "output_type": "stream",
     "text": [
      "이름 :  홍길동\n",
      "전화번호 :  010-1234-5678\n",
      "주소 :  성남시\n"
     ]
    }
   ],
   "source": [
    "# Q9-5\n",
    "class Member:\n",
    "    def __init__(self,name,phone,address):\n",
    "        self.name = name\n",
    "        self.phone = phone\n",
    "        self.address = address\n",
    "        \n",
    "    def printInfo(self):\n",
    "        print('이름 : ',self.name)\n",
    "        print('전화번호 : ',self.phone)\n",
    "        print('주소 : ',self.address)\n",
    "        \n",
    "dict = {'name':'홍길동','phone':'010-1234-5678','address':'성남시'}\n",
    "gildong = Member(**dict)\n",
    "gildong.printInfo() "
   ]
  },
  {
   "cell_type": "code",
   "execution_count": 16,
   "metadata": {},
   "outputs": [
    {
     "name": "stdout",
     "output_type": "stream",
     "text": [
      "저자:홍길동\n",
      "출판사:지구출판사\n",
      "유형:PDF\n"
     ]
    }
   ],
   "source": [
    "# Q9-6\n",
    "class Book:\n",
    "    def __init__(self, author, publish):\n",
    "        self.author = author\n",
    "        self.publish = publish\n",
    "        \n",
    "    def getAuthorInfo(self):     # no.1\n",
    "        string = '저자:%s'%self.author\n",
    "        return string\n",
    "    \n",
    "    def getPublichInfo(self):    # no.2\n",
    "        string = '출판사:%s'%self.publish\n",
    "        return string\n",
    "    \n",
    "class Ebook(Book):\n",
    "    def __init__(self, author, publish, type):\n",
    "        super().__init__(author,publish)    # no.3\n",
    "        self.type = type\n",
    "        \n",
    "    def getTypeInfo(self):\n",
    "        string = '유형:%s'%self.type\n",
    "        return string\n",
    "    \n",
    "book1 = Ebook('홍길동','지구출판사','PDF')\n",
    "\n",
    "print(book1.getAuthorInfo())\n",
    "print(book1.getPublichInfo())\n",
    "print(book1.getTypeInfo())"
   ]
  },
  {
   "cell_type": "code",
   "execution_count": null,
   "metadata": {},
   "outputs": [],
   "source": []
  }
 ],
 "metadata": {
  "kernelspec": {
   "display_name": "Python 3",
   "language": "python",
   "name": "python3"
  },
  "language_info": {
   "codemirror_mode": {
    "name": "ipython",
    "version": 3
   },
   "file_extension": ".py",
   "mimetype": "text/x-python",
   "name": "python",
   "nbconvert_exporter": "python",
   "pygments_lexer": "ipython3",
   "version": "3.7.6"
  }
 },
 "nbformat": 4,
 "nbformat_minor": 4
}
