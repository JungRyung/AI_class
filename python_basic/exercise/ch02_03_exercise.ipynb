{
 "cells": [
  {
   "cell_type": "markdown",
   "metadata": {},
   "source": [
    "# 2, 3장 연습문제 과제"
   ]
  },
  {
   "cell_type": "code",
   "execution_count": 2,
   "metadata": {},
   "outputs": [
    {
     "name": "stdout",
     "output_type": "stream",
     "text": [
      "삼각형의 밑변 길이 :  10\n",
      "삼각형의 높이 :  3\n",
      "삼각형의 면적 :  15.0\n"
     ]
    }
   ],
   "source": [
    "# Q2-1\n",
    "width = 10\n",
    "height = 3\n",
    "area = width * height / 2\n",
    "\n",
    "print ('삼각형의 밑변 길이 : ', width)\n",
    "print ('삼각형의 높이 : ', height)\n",
    "print ('삼각형의 면적 : ', area)"
   ]
  },
  {
   "cell_type": "code",
   "execution_count": 6,
   "metadata": {},
   "outputs": [
    {
     "name": "stdout",
     "output_type": "stream",
     "text": [
      "물건가격 :  800 원\n",
      "구매개수 :  3 개\n",
      "지불금액 :  5000 원\n",
      "거스름돈 :  2600 원\n"
     ]
    }
   ],
   "source": [
    "# Q2-2\n",
    "price = 800\n",
    "buy = 3\n",
    "pay = 5000\n",
    "\n",
    "change = pay - price * buy\n",
    "\n",
    "print('물건가격 : ',price,'원')\n",
    "print('구매개수 : ',buy,'개')\n",
    "print('지불금액 : ',pay,'원')\n",
    "print('거스름돈 : ',change,'원')"
   ]
  },
  {
   "cell_type": "code",
   "execution_count": 7,
   "metadata": {},
   "outputs": [
    {
     "name": "stdout",
     "output_type": "stream",
     "text": [
      "4\n",
      "4 -4\n"
     ]
    }
   ],
   "source": [
    "# Q2-3\n",
    "x = 20\n",
    "y = 4\n",
    "\n",
    "x = y%x\n",
    "print(x)\n",
    "\n",
    "y -= x*2\n",
    "print(x,y)"
   ]
  },
  {
   "cell_type": "code",
   "execution_count": 9,
   "metadata": {},
   "outputs": [
    {
     "name": "stdout",
     "output_type": "stream",
     "text": [
      "성 :  홍\n",
      "이름 :  길동\n",
      "홍길동의 나이 : 30세, 키 : 171cm\n"
     ]
    }
   ],
   "source": [
    "# Q2-4\n",
    "name = \"홍길동\"\n",
    "age = 30\n",
    "height = 171.5\n",
    "\n",
    "print('성 : ',name[0])\n",
    "print('이름 : ',name[1:])\n",
    "print(\"%s의 나이 : %d세, 키 : %dcm\"%(name,age,height))"
   ]
  },
  {
   "cell_type": "code",
   "execution_count": 10,
   "metadata": {},
   "outputs": [
    {
     "name": "stdout",
     "output_type": "stream",
     "text": [
      "학생 이름을 입력하세요 : 황예린\n",
      "국어 성적을 입력하세요 : 83\n",
      "영어 성적을 입력하세요 : 85\n",
      "수학 성적을 입력하세요 : 91\n",
      "이름:황예린, 국어:83, 영어:85, 수학:91, 평균:86.3점\n"
     ]
    }
   ],
   "source": [
    "# Q2-5\n",
    "name = input('학생 이름을 입력하세요 : ')\n",
    "kor = int(input('국어 성적을 입력하세요 : '))\n",
    "eng = int(input('영어 성적을 입력하세요 : '))\n",
    "math = int(input('수학 성적을 입력하세요 : '))\n",
    "\n",
    "total = kor + eng + math\n",
    "avg = total / 3\n",
    "\n",
    "print('이름:%s, 국어:%d, 영어:%d, 수학:%d, 평균:%.1f점'%(name,kor,eng,math,avg))"
   ]
  },
  {
   "cell_type": "markdown",
   "metadata": {},
   "source": [
    "# 2장 연습문제"
   ]
  },
  {
   "cell_type": "markdown",
   "metadata": {},
   "source": [
    "1. 다음은 파이썬에서 많이 사용되는 데이터 형이다. 데이터 형의 정의 및 특징에 대해 설명하시오.  \n",
    "    (1)숫자 : 정수로 구성된 정수형(integer)과 소수점이 있는 실수형(floating point)숫자가 있다.  \n",
    "    (2)문자열 : 문자열(String)은 하나 또는 다수의 문자로 구성된 데이터 형을 말한다. 문자열을 사용할 때는 해당 문자열 앞 뒤에 단 따옴표(')나 쌍 따옴표(\")를 붙여야 한다."
   ]
  },
  {
   "cell_type": "markdown",
   "metadata": {},
   "source": [
    "2. 다음 프로그램의 실행 결과는?"
   ]
  },
  {
   "cell_type": "code",
   "execution_count": 12,
   "metadata": {},
   "outputs": [
    {
     "name": "stdout",
     "output_type": "stream",
     "text": [
      "-72\n"
     ]
    }
   ],
   "source": [
    "a = 7\n",
    "b = 10\n",
    "\n",
    "c = a + b * 2\n",
    "c %= 5\n",
    "c **= 3\n",
    "c -= c*10\n",
    "\n",
    "print(c)"
   ]
  },
  {
   "cell_type": "markdown",
   "metadata": {},
   "source": [
    "3. 원의 둘레와 면적을 구하는 프로그램을 작성하시오."
   ]
  },
  {
   "cell_type": "code",
   "execution_count": 16,
   "metadata": {},
   "outputs": [
    {
     "name": "stdout",
     "output_type": "stream",
     "text": [
      "반지름을 입력하세요 : 10\n",
      "반지름 : 10cm\n",
      "원의 둘레 : 62.80cm\n",
      "원의 면적 : 314.00cm2\n"
     ]
    }
   ],
   "source": [
    "rad = int(input('반지름을 입력하세요 : '))\n",
    "round = 2*rad*3.14\n",
    "area = rad*rad*3.14\n",
    "print('반지름 : %dcm'%rad)\n",
    "print('원의 둘레 : %.2fcm'%round)\n",
    "print('원의 면적 : %.2fcm2'%area)"
   ]
  },
  {
   "cell_type": "markdown",
   "metadata": {},
   "source": [
    "4. 온라인 서점에서 결제할 금액을 계산하는 프로그램을 작성하시오. 단, 실행결과는 아래와 정확하게 일치하도록 하고, 책 값, 할인율, 배송료는 키보드로 입력 받아 처리한다."
   ]
  },
  {
   "cell_type": "code",
   "execution_count": 18,
   "metadata": {},
   "outputs": [
    {
     "name": "stdout",
     "output_type": "stream",
     "text": [
      "책 값을 입력하세요 : 15000\n",
      "할인율을 입력하세요(%%) : 15\n",
      "배송료를 입력하세요 : 3000\n",
      "결제 금액 : 15750원\n"
     ]
    }
   ],
   "source": [
    "price = int(input('책 값을 입력하세요 : '))\n",
    "discntPer = int(input('할인율을 입력하세요(%%) : '))\n",
    "delivFee = int(input('배송료를 입력하세요 : '))\n",
    "pay = price - (price*discntPer/100) + delivFee\n",
    "\n",
    "print('결제 금액 : %d원'%pay)"
   ]
  },
  {
   "cell_type": "markdown",
   "metadata": {},
   "source": [
    "5. 이름, 현재년, 출생년을 입력받아 나이를 계산하는 프로그램을 작성하시오."
   ]
  },
  {
   "cell_type": "code",
   "execution_count": 1,
   "metadata": {},
   "outputs": [
    {
     "name": "stdout",
     "output_type": "stream",
     "text": [
      "이름을 입력하세요 : 안지영\n",
      "현재년을 입력하세요 : 2020\n",
      "탄생년을 입력하세요 : 1997\n",
      "안지영님의 나이는 24세 입니다!\n"
     ]
    }
   ],
   "source": [
    "name = input('이름을 입력하세요 : ')\n",
    "year = int(input('현재년을 입력하세요 : '))\n",
    "birth = int(input('탄생년을 입력하세요 : '))\n",
    "\n",
    "age = year - birth + 1\n",
    "\n",
    "print('%s님의 나이는 %d세 입니다!'%(name,age))"
   ]
  },
  {
   "cell_type": "markdown",
   "metadata": {},
   "source": [
    "6. 연, 월, 일을 입력받아 ####-##-##의 형태로 출력하는 프로그램을 작성하시오."
   ]
  },
  {
   "cell_type": "code",
   "execution_count": 9,
   "metadata": {},
   "outputs": [
    {
     "name": "stdout",
     "output_type": "stream",
     "text": [
      "연을 입력하세요 : 2020\n",
      "월을 입력하세요 : 1\n",
      "일을 입력하세요 : 5\n",
      "2020-01-05\n"
     ]
    }
   ],
   "source": [
    "year = int(input('연을 입력하세요 : '))\n",
    "month = int(input('월을 입력하세요 : '))\n",
    "day = int(input('일을 입력하세요 : '))\n",
    "\n",
    "today = '%d-%02d-%02d'%(year,month,day)\n",
    "print(today)"
   ]
  },
  {
   "cell_type": "markdown",
   "metadata": {},
   "source": [
    "# 3장 연습문제"
   ]
  },
  {
   "cell_type": "markdown",
   "metadata": {},
   "source": [
    "1. 변수 a, b, c의 값에 따라 연산의 결과가 참이면 True, 거짓이면 False를 빈 칸에 적으시오."
   ]
  },
  {
   "cell_type": "code",
   "execution_count": 14,
   "metadata": {},
   "outputs": [
    {
     "name": "stdout",
     "output_type": "stream",
     "text": [
      "False\n",
      "False\n",
      "False\n",
      "True\n",
      "False\n",
      "False\n",
      "True\n",
      "False\n",
      "True\n"
     ]
    }
   ],
   "source": [
    "a = 2\n",
    "b = 5\n",
    "c = -3\n",
    "print(a != 2)\n",
    "print(not(b >= a))\n",
    "print(c/2 > a*3)\n",
    "\n",
    "a = 3\n",
    "b = 7\n",
    "c = -4\n",
    "print(a != 2)\n",
    "print(not(b >= a))\n",
    "print(c/2 > a*3)\n",
    "\n",
    "a = -10\n",
    "b = 10\n",
    "c = -2\n",
    "print(a != 2)\n",
    "print(not(b >= a))\n",
    "print(c/2 > a*3)"
   ]
  },
  {
   "cell_type": "markdown",
   "metadata": {},
   "source": [
    "2. 변수 a, b, c의 값에 따른 연산의 결과"
   ]
  },
  {
   "cell_type": "code",
   "execution_count": 17,
   "metadata": {},
   "outputs": [
    {
     "name": "stdout",
     "output_type": "stream",
     "text": [
      "False\n",
      "True\n",
      "True\n",
      "False\n",
      "False\n",
      "True\n"
     ]
    }
   ],
   "source": [
    "a = -5\n",
    "b = 3 \n",
    "c = 2\n",
    "print(a>2 or c>b and c>2)\n",
    "print(not(a>5 or b>c and c>=3))\n",
    "\n",
    "a = 10\n",
    "b = 5\n",
    "c = 7\n",
    "print(a>2 or c>b and c>2)\n",
    "print(not(a>5 or b>c and c>=3))\n",
    "\n",
    "a = -3\n",
    "b = 10\n",
    "c = 2\n",
    "print(a>2 or c>b and c>2)\n",
    "print(not(a>5 or b>c and c>=3))"
   ]
  },
  {
   "cell_type": "markdown",
   "metadata": {},
   "source": [
    "3. 다음 프로그램의 실행 결과는?"
   ]
  },
  {
   "cell_type": "code",
   "execution_count": 19,
   "metadata": {},
   "outputs": [
    {
     "name": "stdout",
     "output_type": "stream",
     "text": [
      "4\n"
     ]
    }
   ],
   "source": [
    "a = 2\n",
    "z = a*5\n",
    "w = (z-3)*(a-2)/7 + 10\n",
    "\n",
    "if a>z or w>a:\n",
    "    y = 2*a\n",
    "else:\n",
    "    y = 4*a\n",
    "    \n",
    "print(y)"
   ]
  },
  {
   "cell_type": "markdown",
   "metadata": {},
   "source": [
    "4. 물의 섭씨 또는 화씨 온도를 입력받아 섭씨 온도와 물의 상태를 판별하는 프로그램을 작성하시오."
   ]
  },
  {
   "cell_type": "code",
   "execution_count": 24,
   "metadata": {},
   "outputs": [
    {
     "name": "stdout",
     "output_type": "stream",
     "text": [
      "단위를 입력하세요(1:섭씨, 2:화씨 : 2\n",
      "온도를 입력하세요 : 80\n",
      "물의 섭씨 온도 : 26.67, 상태 액체\n"
     ]
    }
   ],
   "source": [
    "unit = int(input('단위를 입력하세요(1:섭씨, 2:화씨 : '))\n",
    "degree = int(input('온도를 입력하세요 : '))\n",
    "\n",
    "if unit==1 :\n",
    "    cel = degree\n",
    "elif unit==2 :\n",
    "    cel = (degree-32)*5/9\n",
    "    \n",
    "if cel >=100 :\n",
    "    state = '기체'\n",
    "elif cel >=0 :\n",
    "    state = '액체'\n",
    "else:\n",
    "    state = '고체'\n",
    "    \n",
    "print('물의 섭씨 온도 : %.2f, 상태 %s'%(cel,state))"
   ]
  },
  {
   "cell_type": "markdown",
   "metadata": {},
   "source": [
    "5. 아이디를 입력받아 아이디가 'admin'이면 모든 콘텐츠 이용 가능'을 출력하고 프로그램을 종료한다. 아이디가 'admin'이 아니면 회원 레벨을 입력받아 회원 레벨이 2~7이면'일부 콘텐츠 이용 가능'을 출력하고, 그렇지 않으면 '콘텐츠 이용 불가'를 출력하라."
   ]
  },
  {
   "cell_type": "code",
   "execution_count": 27,
   "metadata": {},
   "outputs": [
    {
     "name": "stdout",
     "output_type": "stream",
     "text": [
      "아이디를 입력하세요 : admin\n",
      "회원 레벨을 입력해 주세요 : 0\n",
      "모든 콘텐츠 이용 가능\n"
     ]
    }
   ],
   "source": [
    "id = input('아이디를 입력하세요 : ')\n",
    "level = int(input('회원 레벨을 입력해 주세요 : '))\n",
    "\n",
    "if id == 'admin':\n",
    "    print('모든 콘텐츠 이용 가능')\n",
    "elif level<=7 and level>=2:\n",
    "    print('일부 콘텐츠 이용 가능')\n",
    "else:\n",
    "    print('콘텐츠 이용 불가')"
   ]
  },
  {
   "cell_type": "markdown",
   "metadata": {},
   "source": [
    "6. 나이를 입력받아 입장료를 계산하는 프로그램을 작성하라."
   ]
  },
  {
   "cell_type": "code",
   "execution_count": 28,
   "metadata": {},
   "outputs": [
    {
     "name": "stdout",
     "output_type": "stream",
     "text": [
      "나이를 입력하세요 : 6\n",
      "입장료는 1000원 입니다.\n"
     ]
    }
   ],
   "source": [
    "age = int(input('나이를 입력하세요 : '))\n",
    "\n",
    "if age>=65:\n",
    "    pay = 0\n",
    "elif age >10:\n",
    "    pay = 2000\n",
    "else:\n",
    "    pay = 1000\n",
    "    \n",
    "print('입장료는 %d원 입니다.'%pay)\n"
   ]
  },
  {
   "cell_type": "markdown",
   "metadata": {},
   "source": [
    "7. 영어와 수학이 모두 80점 이상이면 '합격', 영어와 수학이 모두 80점 미만이면 '불합격', 두 시험 중 한 과목이 80점 이상이면 '재시험 기회제공'의 메시지를 출력하는 프로그램을 작성하라."
   ]
  },
  {
   "cell_type": "code",
   "execution_count": 29,
   "metadata": {},
   "outputs": [
    {
     "name": "stdout",
     "output_type": "stream",
     "text": [
      "영어시험 점수를 입력하세요 : 85\n",
      "수학시험 점수를 입력하세요 : 75\n",
      "재시험 기회제공\n"
     ]
    }
   ],
   "source": [
    "eng = int(input('영어시험 점수를 입력하세요 : '))\n",
    "math = int(input('수학시험 점수를 입력하세요 : '))\n",
    "\n",
    "if eng>=80 and math>=80:\n",
    "    print('합격')\n",
    "elif eng<80 and math<80:\n",
    "    print('불합격')\n",
    "else:\n",
    "    print('재시험 기회제공')"
   ]
  },
  {
   "cell_type": "code",
   "execution_count": null,
   "metadata": {},
   "outputs": [],
   "source": []
  }
 ],
 "metadata": {
  "kernelspec": {
   "display_name": "Python 3",
   "language": "python",
   "name": "python3"
  },
  "language_info": {
   "codemirror_mode": {
    "name": "ipython",
    "version": 3
   },
   "file_extension": ".py",
   "mimetype": "text/x-python",
   "name": "python",
   "nbconvert_exporter": "python",
   "pygments_lexer": "ipython3",
   "version": "3.7.6"
  }
 },
 "nbformat": 4,
 "nbformat_minor": 4
}
