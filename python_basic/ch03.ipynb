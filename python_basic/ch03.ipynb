{
 "cells": [
  {
   "cell_type": "markdown",
   "metadata": {},
   "source": [
    "# Cheapter 03. 조건문"
   ]
  },
  {
   "cell_type": "code",
   "execution_count": 2,
   "metadata": {},
   "outputs": [
    {
     "name": "stdout",
     "output_type": "stream",
     "text": [
      "숫자를 입력하세요 : 5\n",
      "양수\n"
     ]
    }
   ],
   "source": [
    "# ex 3-1\n",
    "x = int(input('숫자를 입력하세요 : '))\n",
    "\n",
    "if x > 0 :\n",
    "    print('양수')\n",
    "else:\n",
    "    print('0 또는 음수')"
   ]
  },
  {
   "cell_type": "code",
   "execution_count": 4,
   "metadata": {},
   "outputs": [
    {
     "name": "stdout",
     "output_type": "stream",
     "text": [
      "숫자를 입력하세요 : 0\n",
      "0\n"
     ]
    }
   ],
   "source": [
    "x = int(input('숫자를 입력하세요 : '))\n",
    "\n",
    "if x > 0:\n",
    "    print('양수')\n",
    "else:\n",
    "    if x < 0:\n",
    "        print('음수')\n",
    "    else:\n",
    "        print('0')"
   ]
  },
  {
   "cell_type": "code",
   "execution_count": 7,
   "metadata": {},
   "outputs": [
    {
     "name": "stdout",
     "output_type": "stream",
     "text": [
      "필기성적을 입력하세요 : 80\n",
      "실기성적을 입력하세요 : 80\n",
      "합격!\n"
     ]
    }
   ],
   "source": [
    "score1 = int(input('필기성적을 입력하세요 : '))\n",
    "score2 = int(input('실기성적을 입력하세요 : '))\n",
    "\n",
    "if score1 >= 80 and score2 >= 80 :\n",
    "    print('합격!')\n",
    "else:\n",
    "    print('불합격!')"
   ]
  },
  {
   "cell_type": "code",
   "execution_count": null,
   "metadata": {},
   "outputs": [],
   "source": []
  }
 ],
 "metadata": {
  "kernelspec": {
   "display_name": "Python 3",
   "language": "python",
   "name": "python3"
  },
  "language_info": {
   "codemirror_mode": {
    "name": "ipython",
    "version": 3
   },
   "file_extension": ".py",
   "mimetype": "text/x-python",
   "name": "python",
   "nbconvert_exporter": "python",
   "pygments_lexer": "ipython3",
   "version": "3.7.6"
  }
 },
 "nbformat": 4,
 "nbformat_minor": 4
}
