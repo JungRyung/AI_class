{
 "cells": [
  {
   "cell_type": "markdown",
   "metadata": {},
   "source": [
    "# Cheapter 03. 조건문"
   ]
  },
  {
   "cell_type": "markdown",
   "metadata": {},
   "source": [
    "### 양수 판별 프로그램"
   ]
  },
  {
   "cell_type": "code",
   "execution_count": 2,
   "metadata": {},
   "outputs": [
    {
     "name": "stdout",
     "output_type": "stream",
     "text": [
      "숫자를 입력하세요 : 5\n",
      "양수\n"
     ]
    }
   ],
   "source": [
    "# ex 3-1\n",
    "x = int(input('숫자를 입력하세요 : '))\n",
    "\n",
    "if x > 0 :\n",
    "    print('양수')\n",
    "else:\n",
    "    print('0 또는 음수')"
   ]
  },
  {
   "cell_type": "markdown",
   "metadata": {},
   "source": [
    "### 비교연산자의 참/거짓"
   ]
  },
  {
   "cell_type": "code",
   "execution_count": 1,
   "metadata": {},
   "outputs": [
    {
     "name": "stdout",
     "output_type": "stream",
     "text": [
      "True\n",
      "True\n",
      "True\n",
      "True\n",
      "False\n",
      "False\n",
      "False\n"
     ]
    }
   ],
   "source": [
    "# ex 3-2\n",
    "x = 10\n",
    "y = 3\n",
    "\n",
    "print(x>9)  # x가 9보다 큰가?\n",
    "print(y<=10)  # y가 10보다 작거나 같은가?\n",
    "print(x+y == 13)  # x+y가 13과 같은가?\n",
    "print(x%2 == 0)  # x를 2로 나눈 나머지가 0인가? 즉, 짝수인가?\n",
    "print(y%2 == 0)  # y를 2로 나눈 나머지가 0인가? 즉, 짝수인가?\n",
    "print(x%4 == 0)  # x는 4의 배수인가?\n",
    "print(y%3 != 0)  # y는 3의 배수가 아닌가?"
   ]
  },
  {
   "cell_type": "markdown",
   "metadata": {},
   "source": [
    "### 짝수/홀수 판별"
   ]
  },
  {
   "cell_type": "code",
   "execution_count": 2,
   "metadata": {},
   "outputs": [
    {
     "name": "stdout",
     "output_type": "stream",
     "text": [
      "숫자를 입력하세요 : 24\n",
      "짝수이다.\n"
     ]
    }
   ],
   "source": [
    "# ex 3-3\n",
    "num = int(input('숫자를 입력하세요 : '))\n",
    "\n",
    "if num%2 == 0:\n",
    "    print('짝수이다.')\n",
    "else:\n",
    "    print('홀수이다.')"
   ]
  },
  {
   "cell_type": "markdown",
   "metadata": {},
   "source": [
    "### 시험 합격/불합격 판정"
   ]
  },
  {
   "cell_type": "code",
   "execution_count": 4,
   "metadata": {},
   "outputs": [
    {
     "name": "stdout",
     "output_type": "stream",
     "text": [
      "필기성적을 입력하세요 : 85\n",
      "실기성적을 입력하세요 : 85\n",
      "합격!\n"
     ]
    }
   ],
   "source": [
    "# ex 3-4\n",
    "score1 = int(input('필기성적을 입력하세요 : '))\n",
    "score2 = int(input('실기성적을 입력하세요 : '))\n",
    "\n",
    "if score1 >= 80 and score2 >= 80 :\n",
    "    print('합격!')\n",
    "else:\n",
    "    print('불합격!')"
   ]
  },
  {
   "cell_type": "markdown",
   "metadata": {},
   "source": [
    "### 홈페이지 관리자 판별"
   ]
  },
  {
   "cell_type": "code",
   "execution_count": 6,
   "metadata": {},
   "outputs": [
    {
     "name": "stdout",
     "output_type": "stream",
     "text": [
      "아이디를 입력하세요:admin\n",
      "회원레벨을 입력하세요:1\n",
      "관리자이다.\n"
     ]
    }
   ],
   "source": [
    "# ex 3-5\n",
    "id = input('아이디를 입력하세요:')\n",
    "level = int(input('회원레벨을 입력하세요:'))\n",
    "\n",
    "if id=='admin' or level==1:\n",
    "    print('관리자이다.')\n",
    "else:\n",
    "    print('관리자가 아니다.')"
   ]
  },
  {
   "cell_type": "markdown",
   "metadata": {},
   "source": [
    "### 논리연산자 not"
   ]
  },
  {
   "cell_type": "code",
   "execution_count": 9,
   "metadata": {},
   "outputs": [
    {
     "name": "stdout",
     "output_type": "stream",
     "text": [
      "이름을 입력하세요 : \n",
      "이름이 입력되지 않았다.\n"
     ]
    }
   ],
   "source": [
    "# ex 3-6\n",
    "name = input('이름을 입력하세요 : ')\n",
    "\n",
    "if not name : \n",
    "    print('이름이 입력되지 않았다.')\n",
    "else :\n",
    "    print('이름 : %s'%name)"
   ]
  },
  {
   "cell_type": "code",
   "execution_count": 9,
   "metadata": {},
   "outputs": [
    {
     "name": "stdout",
     "output_type": "stream",
     "text": [
      "True\n"
     ]
    }
   ],
   "source": [
    "t = 1;              # 0, 0.0, None 은 false, 그 외는 True\n",
    "if t:\n",
    "    print('True')\n",
    "else:\n",
    "    print('False')"
   ]
  },
  {
   "cell_type": "code",
   "execution_count": 11,
   "metadata": {},
   "outputs": [
    {
     "name": "stdout",
     "output_type": "stream",
     "text": [
      "1\n"
     ]
    }
   ],
   "source": [
    "sum = 0\n",
    "sum += True\n",
    "print(sum)"
   ]
  },
  {
   "cell_type": "markdown",
   "metadata": {},
   "source": [
    "### if~ 구문의 사용 예"
   ]
  },
  {
   "cell_type": "code",
   "execution_count": 21,
   "metadata": {},
   "outputs": [
    {
     "name": "stdout",
     "output_type": "stream",
     "text": [
      "나이를 입력하세요 : 20\n",
      "입장료 : 3000원\n"
     ]
    }
   ],
   "source": [
    "# ex 3-8\n",
    "age = int(input('나이를 입력하세요 : '))\n",
    "pay = '3000원'\n",
    "\n",
    "if age >= 65 or age < 7 :\n",
    "    pay = '무료'\n",
    "    \n",
    "print('입장료 : %s' % pay)"
   ]
  },
  {
   "cell_type": "markdown",
   "metadata": {},
   "source": [
    "### if~ else~ 구문의 사용 예"
   ]
  },
  {
   "cell_type": "code",
   "execution_count": 26,
   "metadata": {},
   "outputs": [
    {
     "name": "stdout",
     "output_type": "stream",
     "text": [
      "나이를 입력하세요 : 18\n",
      "입장료 : 1500원\n"
     ]
    }
   ],
   "source": [
    "age = int(input('나이를 입력하세요 : '))\n",
    "pay = '3000원'\n",
    "\n",
    "if age >= 65 or age < 7 :\n",
    "    pay = '무료'\n",
    "elif age <= 18 :\n",
    "    pay = '1500원'\n",
    "else :\n",
    "    pay = '2000원'\n",
    "    \n",
    "print('입장료 : %s' % pay)"
   ]
  },
  {
   "cell_type": "code",
   "execution_count": 27,
   "metadata": {},
   "outputs": [
    {
     "name": "stdout",
     "output_type": "stream",
     "text": [
      "점수를 입력하세요 : 85\n",
      "성적 : 85점\n",
      "등급 : B\n"
     ]
    }
   ],
   "source": [
    "# ex 3-10\n",
    "score = int(input('점수를 입력하세요 : '))\n",
    "\n",
    "if score >= 90:\n",
    "    grade = 'A'\n",
    "elif score >= 80:\n",
    "    grade = 'B'\n",
    "elif score >= 70:\n",
    "    grade = 'C'\n",
    "elif score >= 60:\n",
    "    grade = 'D'\n",
    "else:\n",
    "    grade = 'F'\n",
    "    \n",
    "print('성적 : %d점'%score)\n",
    "print('등급 : %s'%grade)"
   ]
  },
  {
   "cell_type": "markdown",
   "metadata": {},
   "source": [
    "### Q3-1. if~ 구문으로 월을 입력받아 계절 표시하기"
   ]
  },
  {
   "cell_type": "code",
   "execution_count": 13,
   "metadata": {},
   "outputs": [
    {
     "name": "stdout",
     "output_type": "stream",
     "text": [
      "월을 입력하세요:4\n",
      "4월은 봄입니다.\n"
     ]
    }
   ],
   "source": [
    "month = int(input('월을 입력하세요:'))\n",
    "\n",
    "if month>=3 and month<=5:\n",
    "    print('%d월은 봄입니다.'%month)\n",
    "if month>=6 and month<=8:\n",
    "    print('%d월은 여름입니다.'%month)\n",
    "if month>=9 and month<=11:\n",
    "    print('%d월은 가을입니다.'%month)\n",
    "if month==12 or month==1 or month==2:\n",
    "    print('%d월은 겨울입니다.'%month)"
   ]
  },
  {
   "cell_type": "markdown",
   "metadata": {},
   "source": [
    "### Q3-2. if~ 구문으로 숫자로 열차 좌석판별하기"
   ]
  },
  {
   "cell_type": "code",
   "execution_count": 17,
   "metadata": {},
   "outputs": [
    {
     "name": "stdout",
     "output_type": "stream",
     "text": [
      "좌석 종류를 입력해주세요(1:일반실, 2:특실):2\n",
      "특실입니다.\n"
     ]
    }
   ],
   "source": [
    "a = input('좌석 종류를 입력해주세요(1:일반실, 2:특실):')\n",
    "\n",
    "seat1 = '일반실'\n",
    "seat2 = '특실'\n",
    "\n",
    "if a=='1':\n",
    "    print('%s입니다.'%seat1)\n",
    "    \n",
    "if a=='2':\n",
    "    print('%s입니다.'%seat2)"
   ]
  },
  {
   "cell_type": "markdown",
   "metadata": {},
   "source": [
    "### Q3-3. if~ 구문으로 4의 배수/5의 배수 판별하기"
   ]
  },
  {
   "cell_type": "code",
   "execution_count": 22,
   "metadata": {},
   "outputs": [
    {
     "name": "stdout",
     "output_type": "stream",
     "text": [
      "숫자를 입력하세요:19\n",
      "19는 4의 배수도 5의 배수도 아니다.\n"
     ]
    }
   ],
   "source": [
    "num = int(input('숫자를 입력하세요:'))\n",
    "\n",
    "if num%4==0 and num%5==0:\n",
    "    print('%d는 4와 5의 배수이다.'%num)\n",
    "if num%4==0 and num%5!=0:\n",
    "    print('%d는 4의 배수이지만 5의 배수는 아니다.'%num)\n",
    "if num%4!=0 and num%5==0:\n",
    "    print('%d는 5의 배수이지만 4의 배수는 아니다.'%num)\n",
    "if num%4!=0 and num%5!=0:\n",
    "    print('%d는 4의 배수도 5의 배수도 아니다.'%num)"
   ]
  },
  {
   "cell_type": "markdown",
   "metadata": {},
   "source": [
    "### Q3-4. if~ else~ 구문으로 모음/자음 판별하기"
   ]
  },
  {
   "cell_type": "code",
   "execution_count": 32,
   "metadata": {},
   "outputs": [
    {
     "name": "stdout",
     "output_type": "stream",
     "text": [
      "영어 알파벳을 입력하세요:j\n",
      "j은(는) 자음이다.\n"
     ]
    }
   ],
   "source": [
    "char = input('영어 알파벳을 입력하세요:')\n",
    "char2 = char.upper()\n",
    "\n",
    "if char2=='A' or char2=='E' or char2=='I' or char2=='O' or char2=='U':\n",
    "    print('%c은(는) 모음이다.'%char)\n",
    "else:\n",
    "    print('%c은(는) 자음이다.'%char)"
   ]
  },
  {
   "cell_type": "markdown",
   "metadata": {},
   "source": [
    "### Q3-5. if~ else~ 구문으로 체형 판별하기"
   ]
  },
  {
   "cell_type": "code",
   "execution_count": 34,
   "metadata": {},
   "outputs": [
    {
     "name": "stdout",
     "output_type": "stream",
     "text": [
      "키를 입력해주세요:175\n",
      "몸무게를 입력해주세요:70\n",
      "------------------------------\n",
      "키 : 175cm\n",
      "몸무게 : 70kg\n",
      "딱 보기 좋습니다.\n",
      "------------------------------\n"
     ]
    }
   ],
   "source": [
    "height = int(input('키를 입력해주세요:'))\n",
    "weight = int(input('몸무게를 입력해주세요:'))\n",
    "\n",
    "a = (height-100) * 0.9\n",
    "\n",
    "print('-'*30)\n",
    "print('키 : %dcm'%height)\n",
    "print('몸무게 : %dkg'%weight)\n",
    "\n",
    "if weight > a:\n",
    "    print('딱 보기 좋습니다.')\n",
    "else:\n",
    "    print('표준(또는 마른)체형입니다.')\n",
    "    \n",
    "print('-'*30)"
   ]
  },
  {
   "cell_type": "code",
   "execution_count": null,
   "metadata": {},
   "outputs": [],
   "source": []
  }
 ],
 "metadata": {
  "kernelspec": {
   "display_name": "Python 3",
   "language": "python",
   "name": "python3"
  },
  "language_info": {
   "codemirror_mode": {
    "name": "ipython",
    "version": 3
   },
   "file_extension": ".py",
   "mimetype": "text/x-python",
   "name": "python",
   "nbconvert_exporter": "python",
   "pygments_lexer": "ipython3",
   "version": "3.7.7"
  }
 },
 "nbformat": 4,
 "nbformat_minor": 4
}
