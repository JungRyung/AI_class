{
 "cells": [
  {
   "cell_type": "code",
   "execution_count": 36,
   "metadata": {},
   "outputs": [],
   "source": [
    "import sqlite3"
   ]
  },
  {
   "cell_type": "code",
   "execution_count": 37,
   "metadata": {},
   "outputs": [],
   "source": [
    "conn = sqlite3.connect('testDB.db')"
   ]
  },
  {
   "cell_type": "code",
   "execution_count": 42,
   "metadata": {},
   "outputs": [
    {
     "data": {
      "text/plain": [
       "[(1, 22, '이태양', '투수'),\n",
       " (2, 17, '김범수', '투수'),\n",
       " (3, 13, '최재훈', '포수'),\n",
       " (4, 43, '정은원', '내야수'),\n",
       " (5, 19, '이용규', '외야수'),\n",
       " (6, 30, '호잉', '외야수'),\n",
       " (7, 50, '이성열', '내야수'),\n",
       " (8, 52, '김태균', '내야수'),\n",
       " (9, 53, '김민우', '투수'),\n",
       " (10, 61, '박상원', '투수')]"
      ]
     },
     "execution_count": 42,
     "metadata": {},
     "output_type": "execute_result"
    }
   ],
   "source": [
    "cur = conn.cursor()\n",
    "cur.execute(\"SELECT * FROM EAGLES\")\n",
    "rows = cur.fetchall()\n",
    "rows"
   ]
  },
  {
   "cell_type": "code",
   "execution_count": 43,
   "metadata": {},
   "outputs": [
    {
     "name": "stdout",
     "output_type": "stream",
     "text": [
      "(1, 22, '이태양', '투수')\n",
      "(2, 17, '김범수', '투수')\n",
      "(9, 53, '김민우', '투수')\n",
      "(10, 61, '박상원', '투수')\n"
     ]
    }
   ],
   "source": [
    "cur.execute(\"SELECT * FROM EAGLES WHERE POSITION='투수'\")\n",
    "pitchers = cur.fetchall()\n",
    "for pitcher in pitchers:\n",
    "    print(pitcher)"
   ]
  },
  {
   "cell_type": "markdown",
   "metadata": {},
   "source": [
    "## 데이터 추가"
   ]
  },
  {
   "cell_type": "code",
   "execution_count": 48,
   "metadata": {},
   "outputs": [
    {
     "data": {
      "text/plain": [
       "<sqlite3.Cursor at 0x1058d9420>"
      ]
     },
     "execution_count": 48,
     "metadata": {},
     "output_type": "execute_result"
    }
   ],
   "source": [
    "cur.execute(\"INSERT INTO EAGLES(back_no, name, position) VALUES(1, '하주석', '내야수')\")"
   ]
  },
  {
   "cell_type": "code",
   "execution_count": 49,
   "metadata": {},
   "outputs": [],
   "source": [
    "# DB에 반영\n",
    "conn.commit()"
   ]
  },
  {
   "cell_type": "code",
   "execution_count": 50,
   "metadata": {},
   "outputs": [
    {
     "data": {
      "text/plain": [
       "<sqlite3.Cursor at 0x1058d9420>"
      ]
     },
     "execution_count": 50,
     "metadata": {},
     "output_type": "execute_result"
    }
   ],
   "source": [
    "# 파라미터 : 튜플을 사용해서 전달\n",
    "back_no = 25\n",
    "name = '최진행'\n",
    "position = '외야수'\n",
    "sql = \"INSERT INTO EAGLES(back_no, name, position) VALUES(?,?,?)\"\n",
    "\n",
    "cur.execute(sql, (back_no, name, position))\n",
    "conn.commit()"
   ]
  },
  {
   "cell_type": "code",
   "execution_count": 52,
   "metadata": {},
   "outputs": [],
   "source": [
    "# 튜플 리스트 사용\n",
    "players = [(38, '안영명', '투수'), (54, '서균', '투수')]\n",
    "sql = \"INSERT INTO EAGLES(back_no, name, position) VALUES(?,?,?)\"\n",
    "for player in players:\n",
    "    cur.execute(sql, player)\n",
    "conn.commit()"
   ]
  },
  {
   "cell_type": "code",
   "execution_count": 53,
   "metadata": {},
   "outputs": [],
   "source": [
    "# excutemany() 사용\n",
    "players = [(48, '채드벨', '투수'), (57, '정우람', '투수')]\n",
    "cur.executemany(sql,players)\n",
    "conn.commit()"
   ]
  },
  {
   "cell_type": "markdown",
   "metadata": {},
   "source": [
    "## 데이터 조회"
   ]
  },
  {
   "cell_type": "code",
   "execution_count": 55,
   "metadata": {},
   "outputs": [
    {
     "name": "stdout",
     "output_type": "stream",
     "text": [
      "(1, 22, '이태양', '투수')\n",
      "(2, 17, '김범수', '투수')\n",
      "(9, 53, '김민우', '투수')\n",
      "(10, 61, '박상원', '투수')\n",
      "(16, 38, '안영명', '투수')\n",
      "(17, 54, '서균', '투수')\n",
      "(18, 48, '채드벨', '투수')\n",
      "(19, 57, '정우람', '투수')\n"
     ]
    }
   ],
   "source": [
    "# 순회 조회\n",
    "sql = \"SELECT * FROM eagles WHERE position='투수'\"\n",
    "cur.execute(sql)\n",
    "for result in cur:\n",
    "    print(result)"
   ]
  },
  {
   "cell_type": "code",
   "execution_count": 57,
   "metadata": {},
   "outputs": [
    {
     "name": "stdout",
     "output_type": "stream",
     "text": [
      "(1, 22, '이태양', '투수')\n"
     ]
    }
   ],
   "source": [
    "# 한 건 조회 *********************************************************\n",
    "sql = \"SELECT * FROM eagles WHERE position='투수'\"\n",
    "cur.execute(sql)\n",
    "result = cur.fetchone()\n",
    "print(result)"
   ]
  },
  {
   "cell_type": "code",
   "execution_count": 60,
   "metadata": {},
   "outputs": [
    {
     "name": "stdout",
     "output_type": "stream",
     "text": [
      "(10, 61, '박상원', '투수')\n"
     ]
    }
   ],
   "source": [
    "result = cur.fetchone()\n",
    "print(result)"
   ]
  },
  {
   "cell_type": "code",
   "execution_count": 63,
   "metadata": {},
   "outputs": [
    {
     "data": {
      "text/plain": [
       "[(1, 22, '이태양', '투수'), (2, 17, '김범수', '투수'), (9, 53, '김민우', '투수')]"
      ]
     },
     "execution_count": 63,
     "metadata": {},
     "output_type": "execute_result"
    }
   ],
   "source": [
    "# 갯수 지정 조회 *********************************************************\n",
    "sql = \"SELECT * FROM eagles WHERE position='투수'\"\n",
    "cur.execute(sql)\n",
    "results = cur.fetchmany(3)\n",
    "results"
   ]
  },
  {
   "cell_type": "code",
   "execution_count": 64,
   "metadata": {},
   "outputs": [
    {
     "data": {
      "text/plain": [
       "[(4, 43, '정은원', '내야수'),\n",
       " (7, 50, '이성열', '내야수'),\n",
       " (8, 52, '김태균', '내야수'),\n",
       " (11, 1, '하주석', '내야수')]"
      ]
     },
     "execution_count": 64,
     "metadata": {},
     "output_type": "execute_result"
    }
   ],
   "source": [
    "# 전부 조회 *********************************************************\n",
    "sql = \"SELECT * FROM eagles WHERE position='내야수'\"\n",
    "cur.execute(sql)\n",
    "results = cur.fetchall()\n",
    "results"
   ]
  },
  {
   "cell_type": "code",
   "execution_count": 65,
   "metadata": {},
   "outputs": [
    {
     "data": {
      "text/plain": [
       "[(22, '이태양'),\n",
       " (43, '정은원'),\n",
       " (30, '호잉'),\n",
       " (50, '이성열'),\n",
       " (52, '김태균'),\n",
       " (53, '김민우'),\n",
       " (61, '박상원'),\n",
       " (25, '최진행'),\n",
       " (38, '안영명'),\n",
       " (54, '서균'),\n",
       " (48, '채드벨'),\n",
       " (57, '정우람')]"
      ]
     },
     "execution_count": 65,
     "metadata": {},
     "output_type": "execute_result"
    }
   ],
   "source": [
    "# 필요한 컬럼만 조회\n",
    "sql = \"select back_no, name from eagles where back_no > 20\"\n",
    "cur.execute(sql)\n",
    "results = cur.fetchall()\n",
    "results"
   ]
  },
  {
   "cell_type": "code",
   "execution_count": 66,
   "metadata": {},
   "outputs": [
    {
     "data": {
      "text/plain": [
       "[(1, 22, '이태양', '투수'), (15, 25, '최진행', '외야수')]"
      ]
     },
     "execution_count": 66,
     "metadata": {},
     "output_type": "execute_result"
    }
   ],
   "source": [
    "# 백넘버가 30 ~ 39 까지인 선수\n",
    "sql = \"select * from eagles where back_no between 20 and 29\"\n",
    "cur.execute(sql)\n",
    "results = cur.fetchall()\n",
    "results"
   ]
  },
  {
   "cell_type": "code",
   "execution_count": 67,
   "metadata": {},
   "outputs": [
    {
     "data": {
      "text/plain": [
       "(10, 61, '박상원', '투수')"
      ]
     },
     "execution_count": 67,
     "metadata": {},
     "output_type": "execute_result"
    }
   ],
   "source": [
    "# 백넘버가 가장 큰 번호를 갖는 선수는?\n",
    "sql = \"select * from eagles order by back_no desc limit 1\"\n",
    "cur.execute(sql)\n",
    "result = cur.fetchone()\n",
    "result"
   ]
  },
  {
   "cell_type": "code",
   "execution_count": 76,
   "metadata": {},
   "outputs": [
    {
     "data": {
      "text/plain": [
       "[('내야수', 4), ('외야수', 3), ('투수', 8), ('포수', 1)]"
      ]
     },
     "execution_count": 76,
     "metadata": {},
     "output_type": "execute_result"
    }
   ],
   "source": [
    "# 포지션별 사람 수\n",
    "sql = \"select position, count(*) from eagles group by position\"\n",
    "cur.execute(sql)\n",
    "results = cur.fetchall()\n",
    "results"
   ]
  },
  {
   "cell_type": "markdown",
   "metadata": {},
   "source": [
    "## 데이터 검색"
   ]
  },
  {
   "cell_type": "code",
   "execution_count": 77,
   "metadata": {},
   "outputs": [
    {
     "data": {
      "text/plain": [
       "(19, 57, '정우람', '투수')"
      ]
     },
     "execution_count": 77,
     "metadata": {},
     "output_type": "execute_result"
    }
   ],
   "source": [
    "# back_no가 57번인 선수는?\n",
    "back_no = 57\n",
    "sql = \"select * from eagles where back_no=?\"\n",
    "cur.execute(sql, (back_no,))\n",
    "result = cur.fetchone()\n",
    "result"
   ]
  },
  {
   "cell_type": "markdown",
   "metadata": {},
   "source": [
    "## 데이터 변경"
   ]
  },
  {
   "cell_type": "code",
   "execution_count": 80,
   "metadata": {},
   "outputs": [],
   "source": [
    "# id가 11인 하주석 선수의 포지션을 외야수로 변경\n",
    "id_ = 11\n",
    "position = '외야수'\n",
    "sql = \"update eagles set position = ? where id = ?\"\n",
    "cur.execute(sql, (position,id_))\n",
    "conn.commit()"
   ]
  },
  {
   "cell_type": "markdown",
   "metadata": {},
   "source": [
    "## 데이터 삭제"
   ]
  },
  {
   "cell_type": "code",
   "execution_count": 81,
   "metadata": {},
   "outputs": [],
   "source": [
    "sql = \"DELETE FROM eagles WHERE id = ?\"\n",
    "cur.execute(sql, (id_, ))\n",
    "conn.commit()"
   ]
  },
  {
   "cell_type": "code",
   "execution_count": null,
   "metadata": {},
   "outputs": [],
   "source": []
  }
 ],
 "metadata": {
  "kernelspec": {
   "display_name": "Python 3",
   "language": "python",
   "name": "python3"
  },
  "language_info": {
   "codemirror_mode": {
    "name": "ipython",
    "version": 3
   },
   "file_extension": ".py",
   "mimetype": "text/x-python",
   "name": "python",
   "nbconvert_exporter": "python",
   "pygments_lexer": "ipython3",
   "version": "3.7.6"
  }
 },
 "nbformat": 4,
 "nbformat_minor": 4
}
