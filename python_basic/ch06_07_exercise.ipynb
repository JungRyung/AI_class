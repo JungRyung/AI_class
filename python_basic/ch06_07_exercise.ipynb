{
 "cells": [
  {
   "cell_type": "code",
   "execution_count": 3,
   "metadata": {},
   "outputs": [
    {
     "name": "stdout",
     "output_type": "stream",
     "text": [
      "아이디 : kim99, 마일리지: 12000\n",
      "아이디 : lee66, 마일리지: 11000\n",
      "아이디 : han55, 마일리지: 3000\n",
      "아이디 : hong77, 마일리지: 5000\n",
      "아이디 : hwang33, 마일리지: 18000\n"
     ]
    }
   ],
   "source": [
    "# Q6-1\n",
    "members_point = {'kim99':12000, 'lee66':11000, 'han55':3000, 'hong77':5000, 'hwang33':18000}\n",
    "\n",
    "for key in members_point:\n",
    "    print('아이디 : %s, 마일리지: %d'%(key,members_point[key]))"
   ]
  },
  {
   "cell_type": "code",
   "execution_count": 9,
   "metadata": {},
   "outputs": [
    {
     "name": "stdout",
     "output_type": "stream",
     "text": [
      "han55님의 마일리지가 5000점으로 수정 되었습니다.\n"
     ]
    }
   ],
   "source": [
    "# Q6-2\n",
    "members_point['han55'] = 5000\n",
    "print('han55님의 마일리지가 %d점으로 수정 되었습니다.'%members_point['han55'])"
   ]
  },
  {
   "cell_type": "code",
   "execution_count": 8,
   "metadata": {},
   "outputs": [
    {
     "name": "stdout",
     "output_type": "stream",
     "text": [
      "전체 딕셔너리 :  {'kim99': 12000, 'lee66': 11000, 'han55': 5000, 'hong77': 5000, 'hwang33': 18000, 'jang88': 7000}\n",
      "jang88님의 마일리지(7000)가 추가 되었습니다.\n"
     ]
    }
   ],
   "source": [
    "# Q6-3\n",
    "members_point['jang88'] = 7000\n",
    "print('전체 딕셔너리 : ',members_point)\n",
    "print('jang88님의 마일리지(%d)가 추가 되었습니다.'%members_point['jang88'])"
   ]
  },
  {
   "cell_type": "code",
   "execution_count": 11,
   "metadata": {},
   "outputs": [
    {
     "name": "stdout",
     "output_type": "stream",
     "text": [
      "hwang33님의 18000점이 가장 높은 점수입니다.\n"
     ]
    }
   ],
   "source": [
    "# Q6-4\n",
    "max = 0\n",
    "for key in members_point:\n",
    "    if members_point[key]>max:\n",
    "        max  = members_point[key]\n",
    "        max_key = key\n",
    "print('%s님의 %d점이 가장 높은 점수입니다.'%(max_key,max))"
   ]
  },
  {
   "cell_type": "code",
   "execution_count": 18,
   "metadata": {},
   "outputs": [
    {
     "name": "stdout",
     "output_type": "stream",
     "text": [
      "--------------------------------------------------\n",
      "월     화     수     목     금     토     일     \n",
      "--------------------------------------------------\n",
      "25.5  28.3  33.2  32.1  17.3  35.3  33.3  \n",
      "--------------------------------------------------\n"
     ]
    }
   ],
   "source": [
    "# Q6-5\n",
    "temprature = {'월':25.5, '화':28.3, '수':33.2, '목':32.1, '금':17.3, '토':35.3, '일':33.3}\n",
    "\n",
    "print('-'*50)\n",
    "for key in temprature:\n",
    "    print(key,end='     ')\n",
    "print()\n",
    "print('-'*50)\n",
    "\n",
    "for key in temprature:\n",
    "    print(temprature[key],end='  ')\n",
    "print()\n",
    "print('-'*50)"
   ]
  },
  {
   "cell_type": "code",
   "execution_count": 21,
   "metadata": {},
   "outputs": [
    {
     "name": "stdout",
     "output_type": "stream",
     "text": [
      "가장 낮은 최고 기온 : 17.3\n"
     ]
    }
   ],
   "source": [
    "# Q6-6\n",
    "min = 100\n",
    "\n",
    "for key in temprature:\n",
    "    if temprature[key]<min:\n",
    "        min = temprature[key]\n",
    "\n",
    "print('가장 낮은 최고 기온 : %.1f'%min)"
   ]
  },
  {
   "cell_type": "code",
   "execution_count": 30,
   "metadata": {},
   "outputs": [
    {
     "name": "stdout",
     "output_type": "stream",
     "text": [
      "기온이 30도 이상인 요일 : 수 , 목 , 토 , 일\n"
     ]
    }
   ],
   "source": [
    "# Q6-7\n",
    "over30 = []\n",
    "for key in temprature:\n",
    "    if temprature[key]>=30:\n",
    "        over30.append(key)\n",
    "\n",
    "# print('기온이 30도 이상인 요일 :',end=' ')\n",
    "# for day in over30:\n",
    "#     if over30.end()==day:\n",
    "#         print(day)\n",
    "#     else:\n",
    "#         print(day,',', end=' ')\n",
    "        \n",
    "print('기온이 30도 이상인 요일 :',end=' ')\n",
    "for i in range(len(over30)):\n",
    "    if i==(len(over30)-1):\n",
    "        print(over30[i])\n",
    "    else:\n",
    "        print(over30[i],',', end=' ')\n"
   ]
  },
  {
   "cell_type": "code",
   "execution_count": 32,
   "metadata": {},
   "outputs": [
    {
     "name": "stdout",
     "output_type": "stream",
     "text": [
      "일주일간 최고 기온의 평균 : 29.3도\n"
     ]
    }
   ],
   "source": [
    "# Q6-8\n",
    "sum = 0\n",
    "for key in temprature:\n",
    "    sum += temprature[key]\n",
    "    \n",
    "avg = sum/len(temprature)\n",
    "\n",
    "print('일주일간 최고 기온의 평균 : %.1f도'%avg)"
   ]
  },
  {
   "cell_type": "code",
   "execution_count": 34,
   "metadata": {},
   "outputs": [
    {
     "name": "stdout",
     "output_type": "stream",
     "text": [
      "20, 10\n"
     ]
    }
   ],
   "source": [
    "# Q7-1\n",
    "def f1(a):\n",
    "    a += 10\n",
    "    print(a,end=', ')\n",
    "    \n",
    "a = 10\n",
    "f1(a)\n",
    "print(a)"
   ]
  },
  {
   "cell_type": "code",
   "execution_count": 35,
   "metadata": {},
   "outputs": [
    {
     "name": "stdout",
     "output_type": "stream",
     "text": [
      "300, 100, 300\n"
     ]
    }
   ],
   "source": [
    "# Q7-2\n",
    "def f2(a):\n",
    "    global y\n",
    "    y += a\n",
    "    x = 500\n",
    "    print(y, end=', ')\n",
    "    \n",
    "x = 100\n",
    "y = 200\n",
    "f2(x)\n",
    "print(x,end=', ')\n",
    "print(y)"
   ]
  },
  {
   "cell_type": "code",
   "execution_count": 2,
   "metadata": {},
   "outputs": [
    {
     "name": "stdout",
     "output_type": "stream",
     "text": [
      "n값을 입력해 주세요 : 100\n",
      "2 ~  100 까지의 정수 중 소수 :  2 3 5 7 11 13 17 19 23 29 31 37 41 43 47 53 59 61 67 71 73 79 83 89 97 "
     ]
    }
   ],
   "source": [
    "# Q7-3\n",
    "def prime_num(n):\n",
    "    print('2 ~ ',n,'까지의 정수 중 소수 : ',end=' ')\n",
    "    for i in range(2,n+1):\n",
    "        for k in range(2,i+1):\n",
    "            if i==k:\n",
    "                print(i,end = ' ')\n",
    "            elif i%k==0:\n",
    "                break\n",
    "n = int(input('n값을 입력해 주세요 : '))\n",
    "prime_num(n)"
   ]
  },
  {
   "cell_type": "code",
   "execution_count": 60,
   "metadata": {},
   "outputs": [
    {
     "name": "stdout",
     "output_type": "stream",
     "text": [
      "문자열을 입력해주세요 : I have some money\n",
      "yenom emos evah I\n"
     ]
    }
   ],
   "source": [
    "# Q7-4\n",
    "def reverse_string(s):\n",
    "    s = s[::-1]\n",
    "    print(s)\n",
    "    \n",
    "    \n",
    "input_str = input('문자열을 입력해주세요 : ')\n",
    "reverse_string(input_str)"
   ]
  },
  {
   "cell_type": "code",
   "execution_count": 40,
   "metadata": {},
   "outputs": [
    {
     "name": "stdout",
     "output_type": "stream",
     "text": [
      "[1, 1, 1, 1, 1]\n"
     ]
    }
   ],
   "source": [
    "# Q7-5\n",
    "def numSquare(num):\n",
    "    list_new = []\n",
    "    for i in range(1, num+1):\n",
    "        list_new.append(1**2)\n",
    "        \n",
    "    return list_new\n",
    "\n",
    "n = 5\n",
    "result = numSquare(n)\n",
    "print(result)"
   ]
  },
  {
   "cell_type": "code",
   "execution_count": 58,
   "metadata": {},
   "outputs": [
    {
     "name": "stdout",
     "output_type": "stream",
     "text": [
      "첫 번째 수를 입력하세요 : 8\n",
      "두 번째 수를 입력하세요 : 20\n",
      "8와(과) 20의 최소공배수 : 40\n"
     ]
    }
   ],
   "source": [
    "# Q7-6\n",
    "def gcd(num1,num2):\n",
    "    if num1>num2:\n",
    "        small = num2\n",
    "    else:\n",
    "        small = num1\n",
    "    for i in range(1,small+1):\n",
    "        if((num1%i==0)and(num2%i==0)):\n",
    "            result = i\n",
    "    return result\n",
    "\n",
    "def lcm(num1,num2):\n",
    "    return num1*num2/gcd(num1,num2)\n",
    "\n",
    "num1 = int(input('첫 번째 수를 입력하세요 : '))\n",
    "num2 = int(input('두 번째 수를 입력하세요 : '))\n",
    "print('%d와(과) %d의 최소공배수 : %d'%(num1,num2,lcm(num1,num2)))\n",
    "        "
   ]
  },
  {
   "cell_type": "code",
   "execution_count": 1,
   "metadata": {},
   "outputs": [
    {
     "name": "stdout",
     "output_type": "stream",
     "text": [
      "*비밀번호는 10자리 이상, 영문 대문자를 포함하여야 합니다.\n",
      "비밀번호 : 103710286483234\n",
      "비밀번호가 잘못되었습니다.\n",
      "비밀번호 : 1oh4oh78s9dfw\n",
      "비밀번호가 잘못되었습니다.\n",
      "비밀번호 : A9384283\n",
      "비밀번호가 잘못되었습니다.\n",
      "비밀번호 : F037817293874\n",
      "유효한 비밀번호입니다~~~\n"
     ]
    }
   ],
   "source": [
    "# Q7-7\n",
    "def is_pwd(passward):\n",
    "    upper_num = 0\n",
    "    \n",
    "    if len(passward) >= 10:\n",
    "        for c in passward:\n",
    "            if c>='A' and c<='Z':           # ASCII 97~122\n",
    "                upper_num += 1\n",
    "        if upper_num > 0:\n",
    "            print('유효한 비밀번호입니다~~~')\n",
    "            return True\n",
    "        else:\n",
    "            print('비밀번호가 잘못되었습니다.')\n",
    "            return False\n",
    "    else:\n",
    "        print('비밀번호가 잘못되었습니다.')\n",
    "        return False\n",
    "\n",
    "print('*비밀번호는 10자리 이상, 영문 대문자를 포함하여야 합니다.')\n",
    "# while is_pwd(input('비밀번호 : ')) == True:\n",
    "flag = False\n",
    "while flag != True:\n",
    "    passward = input('비밀번호 : ')\n",
    "    flag = is_pwd(passward)"
   ]
  },
  {
   "cell_type": "code",
   "execution_count": 3,
   "metadata": {},
   "outputs": [
    {
     "name": "stdout",
     "output_type": "stream",
     "text": [
      "[77, 36, 29, 11, 20, 6, 91, 33]\n",
      "정렬된 수 : \n",
      "6 11 20 29 33 36 77 91 "
     ]
    }
   ],
   "source": [
    "# Q7-8\n",
    "def bubble_sort(numbers):\n",
    "    for i in range(0, len(numbers)-1):\n",
    "        for j in range(i, len(numbers)):\n",
    "            if numbers[i] > numbers[j]:\n",
    "                numbers[i],numbers[j] = numbers[j],numbers[i]\n",
    "    \n",
    "numbers = [77,36,29,11,20,6,91,33]\n",
    "print(numbers)\n",
    "\n",
    "bubble_sort(numbers)\n",
    "print('정렬된 수 : ')\n",
    "for i in numbers:\n",
    "    print(i,end=' ')"
   ]
  },
  {
   "cell_type": "code",
   "execution_count": null,
   "metadata": {},
   "outputs": [],
   "source": []
  }
 ],
 "metadata": {
  "kernelspec": {
   "display_name": "Python 3",
   "language": "python",
   "name": "python3"
  },
  "language_info": {
   "codemirror_mode": {
    "name": "ipython",
    "version": 3
   },
   "file_extension": ".py",
   "mimetype": "text/x-python",
   "name": "python",
   "nbconvert_exporter": "python",
   "pygments_lexer": "ipython3",
   "version": "3.7.6"
  }
 },
 "nbformat": 4,
 "nbformat_minor": 4
}
