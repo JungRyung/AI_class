{
 "cells": [
  {
   "cell_type": "markdown",
   "metadata": {},
   "source": [
    "# Chapter 08 모듈과 패키지"
   ]
  },
  {
   "cell_type": "markdown",
   "metadata": {},
   "source": [
    "## Math 모듈"
   ]
  },
  {
   "cell_type": "code",
   "execution_count": 5,
   "metadata": {},
   "outputs": [
    {
     "name": "stdout",
     "output_type": "stream",
     "text": [
      "7\n",
      "11\n",
      "9\n",
      "120\n"
     ]
    }
   ],
   "source": [
    "# ex 8-4\n",
    "import math\n",
    "\n",
    "print(math.floor(7.7))\n",
    "print(math.ceil(10.1))\n",
    "print(round(8.6))\n",
    "print(math.factorial(5))"
   ]
  },
  {
   "cell_type": "code",
   "execution_count": 18,
   "metadata": {},
   "outputs": [
    {
     "name": "stdout",
     "output_type": "stream",
     "text": [
      "3.141592653589793\n",
      "1.0\n",
      "-1.0\n",
      "-2.4492935982947064e-16\n",
      "16.0\n",
      "7.0\n",
      "2.0\n"
     ]
    }
   ],
   "source": [
    "import math as m\n",
    "\n",
    "print(m.pi)\n",
    "print(m.sin(m.pi/2))\n",
    "print(m.cos(m.pi))\n",
    "print(m.tan(m.pi * 2))\n",
    "\n",
    "print(m.pow(2,4))\n",
    "print(m.sqrt(49))\n",
    "print(m.log10(100))"
   ]
  },
  {
   "cell_type": "code",
   "execution_count": 19,
   "metadata": {},
   "outputs": [
    {
     "name": "stdout",
     "output_type": "stream",
     "text": [
      "3.141592653589793\n"
     ]
    }
   ],
   "source": [
    "from math import pi\n",
    "\n",
    "print(pi)"
   ]
  },
  {
   "cell_type": "markdown",
   "metadata": {},
   "source": [
    "# 함수의 재귀적 호출(Recursive call)"
   ]
  },
  {
   "cell_type": "code",
   "execution_count": 8,
   "metadata": {},
   "outputs": [
    {
     "name": "stdout",
     "output_type": "stream",
     "text": [
      "120\n"
     ]
    }
   ],
   "source": [
    "def facto(n):\n",
    "    if n == 0:\n",
    "        return 1\n",
    "    return n * facto(n-1)\n",
    "\n",
    "print(facto(5))"
   ]
  },
  {
   "cell_type": "code",
   "execution_count": 12,
   "metadata": {},
   "outputs": [
    {
     "name": "stdout",
     "output_type": "stream",
     "text": [
      "1 1 2 3 5 8 13 21 34 55 89 144 233 377 610 987 1597 2584 4181 "
     ]
    }
   ],
   "source": [
    "def fibo(n):\n",
    "    if n == 1 or n == 2:\n",
    "        return 1\n",
    "    return fibo(n-1) + fibo(n-2)\n",
    "\n",
    "for i in range(1,20):\n",
    "    print(fibo(i), end = ' ')"
   ]
  },
  {
   "cell_type": "markdown",
   "metadata": {},
   "source": [
    "## Random 모듈"
   ]
  },
  {
   "cell_type": "code",
   "execution_count": 23,
   "metadata": {},
   "outputs": [
    {
     "name": "stdout",
     "output_type": "stream",
     "text": [
      "0.7251718584985503\n",
      "0.03176944855457542\n",
      "0.03417624450704404\n"
     ]
    }
   ],
   "source": [
    "# ex 8-6\n",
    "import random\n",
    "\n",
    "for i in range(3):\n",
    "    print(random.random())      # 0~1의 실수값"
   ]
  },
  {
   "cell_type": "code",
   "execution_count": 32,
   "metadata": {},
   "outputs": [
    {
     "name": "stdout",
     "output_type": "stream",
     "text": [
      "1\n",
      "9\n",
      "7\n",
      "1\n",
      "9\n"
     ]
    }
   ],
   "source": [
    "# ex 8-7\n",
    "import random as rd\n",
    "\n",
    "for i in range(5):\n",
    "    print(rd.randrange(1,11,2))"
   ]
  },
  {
   "cell_type": "code",
   "execution_count": 33,
   "metadata": {},
   "outputs": [
    {
     "name": "stdout",
     "output_type": "stream",
     "text": [
      "4\n",
      "4\n",
      "1\n",
      "6\n",
      "1\n"
     ]
    }
   ],
   "source": [
    "# ex 8-8\n",
    "for i in range(5):\n",
    "    print(rd.randint(1,6))"
   ]
  },
  {
   "cell_type": "code",
   "execution_count": 35,
   "metadata": {},
   "outputs": [
    {
     "name": "stdout",
     "output_type": "stream",
     "text": [
      "바위\n",
      "보\n",
      "보\n",
      "가위\n",
      "보\n"
     ]
    }
   ],
   "source": [
    "# ex 8-9\n",
    "toss = ['가위','바위','보']\n",
    "\n",
    "for i in range(5):\n",
    "    print(rd.choice(toss))"
   ]
  },
  {
   "cell_type": "code",
   "execution_count": 36,
   "metadata": {},
   "outputs": [
    {
     "name": "stdout",
     "output_type": "stream",
     "text": [
      "['바나나', '오렌지', '사과']\n",
      "['사과', '오렌지', '바나나']\n",
      "['바나나', '사과', '오렌지']\n"
     ]
    }
   ],
   "source": [
    "# ex 8-10\n",
    "fruits = ['사과','바나나','오렌지']\n",
    "\n",
    "for i in range(3):\n",
    "    rd.shuffle(fruits)\n",
    "    print(fruits)"
   ]
  },
  {
   "cell_type": "markdown",
   "metadata": {},
   "source": [
    "## datetime 모듈"
   ]
  },
  {
   "cell_type": "code",
   "execution_count": 37,
   "metadata": {},
   "outputs": [
    {
     "name": "stdout",
     "output_type": "stream",
     "text": [
      "2020-06-03 10:06:31.445412\n"
     ]
    }
   ],
   "source": [
    "from datetime import datetime\n",
    "today = datetime.now()\n",
    "print(today)"
   ]
  },
  {
   "cell_type": "code",
   "execution_count": 41,
   "metadata": {},
   "outputs": [
    {
     "name": "stdout",
     "output_type": "stream",
     "text": [
      "2020 6 3\n",
      "10 6 31\n",
      "2\n"
     ]
    }
   ],
   "source": [
    "print(today.year, today.month, today.day)\n",
    "print(today.hour, today.minute, today.second)\n",
    "print(today.weekday())"
   ]
  },
  {
   "cell_type": "code",
   "execution_count": 47,
   "metadata": {},
   "outputs": [
    {
     "data": {
      "text/plain": [
       "'2020-06-03 10:06:31'"
      ]
     },
     "execution_count": 47,
     "metadata": {},
     "output_type": "execute_result"
    }
   ],
   "source": [
    "today.strftime('%Y-%m-%d %H:%M:%S')"
   ]
  },
  {
   "cell_type": "code",
   "execution_count": 49,
   "metadata": {},
   "outputs": [
    {
     "data": {
      "text/plain": [
       "'200603'"
      ]
     },
     "execution_count": 49,
     "metadata": {},
     "output_type": "execute_result"
    }
   ],
   "source": [
    "today.strftime('%y%m%d')"
   ]
  },
  {
   "cell_type": "markdown",
   "metadata": {},
   "source": [
    "## 모듈 생성하기"
   ]
  },
  {
   "cell_type": "code",
   "execution_count": 50,
   "metadata": {},
   "outputs": [
    {
     "name": "stdout",
     "output_type": "stream",
     "text": [
      "안지수님 안녕하세요.\n",
      "홍지영님 안녕하세요.\n",
      "황예림님 안녕하세요.\n"
     ]
    }
   ],
   "source": [
    "# ex 8-2\n",
    "import ch08greet as greet\n",
    "\n",
    "print(greet.hello1('안지수'))\n",
    "print(greet.hello1('홍지영'))\n",
    "print(greet.hello1('황예림'))"
   ]
  },
  {
   "cell_type": "code",
   "execution_count": 53,
   "metadata": {},
   "outputs": [
    {
     "name": "stdout",
     "output_type": "stream",
     "text": [
      "1, 1\n",
      "2, 1\n",
      "6, 2\n",
      "24, 3\n",
      "120, 5\n",
      "720, 8\n",
      "5040, 13\n",
      "40320, 21\n",
      "362880, 34\n",
      "3628800, 55\n"
     ]
    }
   ],
   "source": [
    "import ch08util as my_util\n",
    "\n",
    "for i in range(1,11):\n",
    "    print(my_util.facto(i),end=', ')\n",
    "    print(my_util.fibo(i))"
   ]
  },
  {
   "cell_type": "code",
   "execution_count": null,
   "metadata": {},
   "outputs": [],
   "source": []
  }
 ],
 "metadata": {
  "kernelspec": {
   "display_name": "Python 3",
   "language": "python",
   "name": "python3"
  },
  "language_info": {
   "codemirror_mode": {
    "name": "ipython",
    "version": 3
   },
   "file_extension": ".py",
   "mimetype": "text/x-python",
   "name": "python",
   "nbconvert_exporter": "python",
   "pygments_lexer": "ipython3",
   "version": "3.7.6"
  }
 },
 "nbformat": 4,
 "nbformat_minor": 4
}
