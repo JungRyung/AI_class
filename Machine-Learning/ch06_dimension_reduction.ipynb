{
 "cells": [
  {
   "cell_type": "markdown",
   "metadata": {},
   "source": [
    "# Ch.06 차원 축소 (Dimension Reduction)"
   ]
  },
  {
   "cell_type": "code",
   "execution_count": 4,
   "metadata": {},
   "outputs": [],
   "source": [
    "import numpy as np\n",
    "import pandas as pd\n",
    "from sklearn.datasets import load_iris\n",
    "\n",
    "import matplotlib.pyplot as plt\n",
    "import seaborn as sns"
   ]
  },
  {
   "cell_type": "code",
   "execution_count": 5,
   "metadata": {},
   "outputs": [],
   "source": [
    "iris = load_iris()"
   ]
  },
  {
   "cell_type": "markdown",
   "metadata": {},
   "source": [
    "## 공분산 행렬"
   ]
  },
  {
   "cell_type": "code",
   "execution_count": 6,
   "metadata": {},
   "outputs": [
    {
     "data": {
      "text/plain": [
       "array([[-0.90068117,  1.01900435, -1.34022653, -1.3154443 ],\n",
       "       [-1.14301691, -0.13197948, -1.34022653, -1.3154443 ],\n",
       "       [-1.38535265,  0.32841405, -1.39706395, -1.3154443 ]])"
      ]
     },
     "execution_count": 6,
     "metadata": {},
     "output_type": "execute_result"
    }
   ],
   "source": [
    "from sklearn.preprocessing import StandardScaler\n",
    "\n",
    "iris_std = StandardScaler().fit_transform(iris.data)\n",
    "iris_std[:3,:]"
   ]
  },
  {
   "cell_type": "code",
   "execution_count": 7,
   "metadata": {},
   "outputs": [
    {
     "data": {
      "text/plain": [
       "array([[ 1.        , -0.11756978,  0.87175378,  0.81794113],\n",
       "       [-0.11756978,  1.        , -0.4284401 , -0.36612593],\n",
       "       [ 0.87175378, -0.4284401 ,  1.        ,  0.96286543],\n",
       "       [ 0.81794113, -0.36612593,  0.96286543,  1.        ]])"
      ]
     },
     "execution_count": 7,
     "metadata": {},
     "output_type": "execute_result"
    }
   ],
   "source": [
    "iris_cov = np.dot(iris_std.T, iris_std) / len(iris_std)\n",
    "iris_cov"
   ]
  },
  {
   "cell_type": "code",
   "execution_count": 10,
   "metadata": {},
   "outputs": [
    {
     "data": {
      "text/plain": [
       "array([[ 1.00671141, -0.11835884,  0.87760447,  0.82343066],\n",
       "       [-0.11835884,  1.00671141, -0.43131554, -0.36858315],\n",
       "       [ 0.87760447, -0.43131554,  1.00671141,  0.96932762],\n",
       "       [ 0.82343066, -0.36858315,  0.96932762,  1.00671141]])"
      ]
     },
     "execution_count": 10,
     "metadata": {},
     "output_type": "execute_result"
    }
   ],
   "source": [
    "iris_cov1 = np.dot(iris_std.T, iris_std) / (len(iris_std)-1)\n",
    "iris_cov1"
   ]
  },
  {
   "cell_type": "code",
   "execution_count": 8,
   "metadata": {},
   "outputs": [
    {
     "data": {
      "text/plain": [
       "array([[ 1.00671141, -0.11835884,  0.87760447,  0.82343066],\n",
       "       [-0.11835884,  1.00671141, -0.43131554, -0.36858315],\n",
       "       [ 0.87760447, -0.43131554,  1.00671141,  0.96932762],\n",
       "       [ 0.82343066, -0.36858315,  0.96932762,  1.00671141]])"
      ]
     },
     "execution_count": 8,
     "metadata": {},
     "output_type": "execute_result"
    }
   ],
   "source": [
    "np.cov(iris_std.T)"
   ]
  },
  {
   "cell_type": "markdown",
   "metadata": {},
   "source": [
    "## 고유값(eigenvector), 고유벡터(eigenvalue) 구하기"
   ]
  },
  {
   "cell_type": "code",
   "execution_count": 15,
   "metadata": {},
   "outputs": [],
   "source": [
    "eig_vals, eig_vecs = np.linalg.eig(iris_cov)"
   ]
  },
  {
   "cell_type": "code",
   "execution_count": 11,
   "metadata": {},
   "outputs": [],
   "source": [
    "eig_vals1, eig_vecs1 = np.linalg.eig(iris_cov1)"
   ]
  },
  {
   "cell_type": "code",
   "execution_count": 12,
   "metadata": {},
   "outputs": [
    {
     "data": {
      "text/plain": [
       "array([2.93808505, 0.9201649 , 0.14774182, 0.02085386])"
      ]
     },
     "execution_count": 12,
     "metadata": {},
     "output_type": "execute_result"
    }
   ],
   "source": [
    "eig_vals1"
   ]
  },
  {
   "cell_type": "code",
   "execution_count": 13,
   "metadata": {},
   "outputs": [
    {
     "data": {
      "text/plain": [
       "array([[ 0.52106591, -0.37741762, -0.71956635,  0.26128628],\n",
       "       [-0.26934744, -0.92329566,  0.24438178, -0.12350962],\n",
       "       [ 0.5804131 , -0.02449161,  0.14212637, -0.80144925],\n",
       "       [ 0.56485654, -0.06694199,  0.63427274,  0.52359713]])"
      ]
     },
     "execution_count": 13,
     "metadata": {},
     "output_type": "execute_result"
    }
   ],
   "source": [
    "eig_vecs1"
   ]
  },
  {
   "cell_type": "code",
   "execution_count": 16,
   "metadata": {},
   "outputs": [],
   "source": [
    "PC1 = iris_std.dot(np.reshape(eig_vecs.T[0], (4,1)))\n",
    "PC2 = iris_std.dot(np.reshape(eig_vecs.T[1], (4,1)))"
   ]
  },
  {
   "cell_type": "code",
   "execution_count": 18,
   "metadata": {},
   "outputs": [
    {
     "data": {
      "text/plain": [
       "array([[-2.26470281],\n",
       "       [-2.08096115],\n",
       "       [-2.36422905]])"
      ]
     },
     "execution_count": 18,
     "metadata": {},
     "output_type": "execute_result"
    }
   ],
   "source": [
    "PC1[:3]"
   ]
  },
  {
   "cell_type": "code",
   "execution_count": 19,
   "metadata": {},
   "outputs": [
    {
     "data": {
      "text/plain": [
       "array([[-0.4800266 ],\n",
       "       [ 0.67413356],\n",
       "       [ 0.34190802]])"
      ]
     },
     "execution_count": 19,
     "metadata": {},
     "output_type": "execute_result"
    }
   ],
   "source": [
    "PC2[:3]"
   ]
  },
  {
   "cell_type": "markdown",
   "metadata": {},
   "source": [
    "## PCA 변환"
   ]
  },
  {
   "cell_type": "code",
   "execution_count": 20,
   "metadata": {},
   "outputs": [
    {
     "name": "stdout",
     "output_type": "stream",
     "text": [
      "(150, 2)\n"
     ]
    }
   ],
   "source": [
    "from sklearn.decomposition import PCA\n",
    "\n",
    "pca = PCA(n_components=2)\n",
    "\n",
    "pca.fit(iris_std)\n",
    "iris_pca = pca.transform(iris_std)\n",
    "print(iris_pca.shape)"
   ]
  },
  {
   "cell_type": "markdown",
   "metadata": {},
   "source": [
    "### PCA(Principal Component Analysis)"
   ]
  },
  {
   "cell_type": "code",
   "execution_count": 21,
   "metadata": {},
   "outputs": [
    {
     "data": {
      "text/html": [
       "<div>\n",
       "<style scoped>\n",
       "    .dataframe tbody tr th:only-of-type {\n",
       "        vertical-align: middle;\n",
       "    }\n",
       "\n",
       "    .dataframe tbody tr th {\n",
       "        vertical-align: top;\n",
       "    }\n",
       "\n",
       "    .dataframe thead th {\n",
       "        text-align: right;\n",
       "    }\n",
       "</style>\n",
       "<table border=\"1\" class=\"dataframe\">\n",
       "  <thead>\n",
       "    <tr style=\"text-align: right;\">\n",
       "      <th></th>\n",
       "      <th>sepal_length</th>\n",
       "      <th>sepal_width</th>\n",
       "      <th>petal_lengh</th>\n",
       "      <th>petal_width</th>\n",
       "      <th>target</th>\n",
       "    </tr>\n",
       "  </thead>\n",
       "  <tbody>\n",
       "    <tr>\n",
       "      <th>0</th>\n",
       "      <td>5.1</td>\n",
       "      <td>3.5</td>\n",
       "      <td>1.4</td>\n",
       "      <td>0.2</td>\n",
       "      <td>0</td>\n",
       "    </tr>\n",
       "    <tr>\n",
       "      <th>1</th>\n",
       "      <td>4.9</td>\n",
       "      <td>3.0</td>\n",
       "      <td>1.4</td>\n",
       "      <td>0.2</td>\n",
       "      <td>0</td>\n",
       "    </tr>\n",
       "    <tr>\n",
       "      <th>2</th>\n",
       "      <td>4.7</td>\n",
       "      <td>3.2</td>\n",
       "      <td>1.3</td>\n",
       "      <td>0.2</td>\n",
       "      <td>0</td>\n",
       "    </tr>\n",
       "  </tbody>\n",
       "</table>\n",
       "</div>"
      ],
      "text/plain": [
       "   sepal_length  sepal_width  petal_lengh  petal_width  target\n",
       "0           5.1          3.5          1.4          0.2       0\n",
       "1           4.9          3.0          1.4          0.2       0\n",
       "2           4.7          3.2          1.3          0.2       0"
      ]
     },
     "execution_count": 21,
     "metadata": {},
     "output_type": "execute_result"
    }
   ],
   "source": [
    "columns = ['sepal_length','sepal_width','petal_lengh','petal_width']\n",
    "irisDF = pd.DataFrame(iris.data, columns=columns)\n",
    "irisDF['target']=iris.target\n",
    "irisDF.head(3)"
   ]
  },
  {
   "cell_type": "code",
   "execution_count": 23,
   "metadata": {},
   "outputs": [
    {
     "data": {
      "image/png": "[encoded data removed]",
      "text/plain": [
       "<Figure size 432x288 with 1 Axes>"
      ]
     },
     "metadata": {
      "needs_background": "light"
     },
     "output_type": "display_data"
    }
   ],
   "source": [
    "markers=['^','s','o']\n",
    "\n",
    "for i, marker in enumerate(markers):\n",
    "    x_axis_data = irisDF[irisDF['target']==i]['sepal_length']\n",
    "    y_axis_data = irisDF[irisDF['target']==i]['sepal_width']\n",
    "    plt.scatter(x_axis_data, y_axis_data, marker=marker, label=iris.target_names[i])\n",
    "    \n",
    "plt.legend()\n",
    "plt.xlabel('sepal length')\n",
    "plt.ylabel('sepal width')\n",
    "plt.show()"
   ]
  },
  {
   "cell_type": "code",
   "execution_count": 24,
   "metadata": {},
   "outputs": [],
   "source": [
    "iris_scaled = StandardScaler().fit_transform(irisDF.iloc[:,:-1])"
   ]
  },
  {
   "cell_type": "code",
   "execution_count": 25,
   "metadata": {},
   "outputs": [
    {
     "name": "stdout",
     "output_type": "stream",
     "text": [
      "(150, 2)\n"
     ]
    }
   ],
   "source": [
    "pca = PCA(n_components=2)\n",
    "\n",
    "pca.fit(iris_scaled)\n",
    "iris_pca = pca.transform(iris_scaled)\n",
    "print(iris_pca.shape)"
   ]
  },
  {
   "cell_type": "code",
   "execution_count": 27,
   "metadata": {},
   "outputs": [
    {
     "data": {
      "text/html": [
       "<div>\n",
       "<style scoped>\n",
       "    .dataframe tbody tr th:only-of-type {\n",
       "        vertical-align: middle;\n",
       "    }\n",
       "\n",
       "    .dataframe tbody tr th {\n",
       "        vertical-align: top;\n",
       "    }\n",
       "\n",
       "    .dataframe thead th {\n",
       "        text-align: right;\n",
       "    }\n",
       "</style>\n",
       "<table border=\"1\" class=\"dataframe\">\n",
       "  <thead>\n",
       "    <tr style=\"text-align: right;\">\n",
       "      <th></th>\n",
       "      <th>pca_component_1</th>\n",
       "      <th>pca_component_2</th>\n",
       "      <th>target</th>\n",
       "    </tr>\n",
       "  </thead>\n",
       "  <tbody>\n",
       "    <tr>\n",
       "      <th>0</th>\n",
       "      <td>-2.264703</td>\n",
       "      <td>0.480027</td>\n",
       "      <td>0</td>\n",
       "    </tr>\n",
       "    <tr>\n",
       "      <th>1</th>\n",
       "      <td>-2.080961</td>\n",
       "      <td>-0.674134</td>\n",
       "      <td>0</td>\n",
       "    </tr>\n",
       "    <tr>\n",
       "      <th>2</th>\n",
       "      <td>-2.364229</td>\n",
       "      <td>-0.341908</td>\n",
       "      <td>0</td>\n",
       "    </tr>\n",
       "  </tbody>\n",
       "</table>\n",
       "</div>"
      ],
      "text/plain": [
       "   pca_component_1  pca_component_2  target\n",
       "0        -2.264703         0.480027       0\n",
       "1        -2.080961        -0.674134       0\n",
       "2        -2.364229        -0.341908       0"
      ]
     },
     "execution_count": 27,
     "metadata": {},
     "output_type": "execute_result"
    }
   ],
   "source": [
    "pca_colmns=['pca_component_1','pca_component_2']\n",
    "irisDF_pca = pd.DataFrame(iris_pca, columns=pca_colmns)\n",
    "irisDF_pca['target'] = iris.target\n",
    "irisDF_pca.head(3)"
   ]
  },
  {
   "cell_type": "code",
   "execution_count": 28,
   "metadata": {},
   "outputs": [
    {
     "data": {
      "image/png": "[encoded data removed]",
      "text/plain": [
       "<Figure size 432x288 with 1 Axes>"
      ]
     },
     "metadata": {
      "needs_background": "light"
     },
     "output_type": "display_data"
    }
   ],
   "source": [
    "markers=['^','s','o']\n",
    "\n",
    "for i, marker in enumerate(markers):\n",
    "    x_axis_data = irisDF_pca[irisDF_pca['target']==i]['pca_component_1']\n",
    "    y_axis_data = irisDF_pca[irisDF_pca['target']==i]['pca_component_2']\n",
    "    plt.scatter(x_axis_data, y_axis_data, marker=marker, label=iris.target_names[i])\n",
    "    \n",
    "plt.legend()\n",
    "plt.xlabel('pca_component_1')\n",
    "plt.ylabel('pca_component_2')\n",
    "plt.show()"
   ]
  },
  {
   "cell_type": "code",
   "execution_count": 29,
   "metadata": {},
   "outputs": [
    {
     "name": "stdout",
     "output_type": "stream",
     "text": [
      "[0.72962445 0.22850762]\n"
     ]
    }
   ],
   "source": [
    "print(pca.explained_variance_ratio_)"
   ]
  },
  {
   "cell_type": "code",
   "execution_count": 31,
   "metadata": {},
   "outputs": [
    {
     "name": "stdout",
     "output_type": "stream",
     "text": [
      "원본 데이터 교차 검증 개별 정확도 :  [0.98 0.94 0.96]\n",
      "원본 데이터 평균 정확도 :  0.96\n"
     ]
    }
   ],
   "source": [
    "from sklearn.ensemble import RandomForestClassifier\n",
    "from sklearn.model_selection import cross_val_score\n",
    "\n",
    "rfc = RandomForestClassifier(random_state=156)\n",
    "scores = cross_val_score(rfc, iris.data, iris.target, scoring='accuracy',cv=3)\n",
    "print('원본 데이터 교차 검증 개별 정확도 : ',scores)\n",
    "print('원본 데이터 평균 정확도 : ', np.mean(scores))"
   ]
  },
  {
   "cell_type": "code",
   "execution_count": 33,
   "metadata": {},
   "outputs": [
    {
     "name": "stdout",
     "output_type": "stream",
     "text": [
      "원본 데이터 교차 검증 개별 정확도 :  [0.88 0.88 0.88]\n",
      "원본 데이터 평균 정확도 :  0.88\n"
     ]
    }
   ],
   "source": [
    "pca_X = irisDF_pca[['pca_component_1', 'pca_component_2']]\n",
    "scores_pca = cross_val_score(rfc, pca_X, iris.target, scoring='accuracy',cv=3)\n",
    "print('원본 데이터 교차 검증 개별 정확도 : ',scores_pca)\n",
    "print('원본 데이터 평균 정확도 : ', np.mean(scores_pca))"
   ]
  },
  {
   "cell_type": "markdown",
   "metadata": {},
   "source": [
    "## LDA(Linear Discriminant Analysis)"
   ]
  },
  {
   "cell_type": "code",
   "execution_count": 34,
   "metadata": {},
   "outputs": [],
   "source": [
    "from sklearn.discriminant_analysis import LinearDiscriminantAnalysis"
   ]
  },
  {
   "cell_type": "code",
   "execution_count": 35,
   "metadata": {},
   "outputs": [
    {
     "name": "stdout",
     "output_type": "stream",
     "text": [
      "(150, 2)\n"
     ]
    }
   ],
   "source": [
    "lda = LinearDiscriminantAnalysis(n_components=2)\n",
    "lda.fit(iris_scaled, iris.target)\n",
    "iris_lda = lda.transform(iris_scaled)\n",
    "print(iris_lda.shape)"
   ]
  },
  {
   "cell_type": "code",
   "execution_count": 36,
   "metadata": {},
   "outputs": [
    {
     "data": {
      "image/png": "[encoded data removed]",
      "text/plain": [
       "<Figure size 432x288 with 1 Axes>"
      ]
     },
     "metadata": {
      "needs_background": "light"
     },
     "output_type": "display_data"
    }
   ],
   "source": [
    "lda_colmns=['lda_component_1','lda_component_2']\n",
    "irisDF_lda = pd.DataFrame(iris_lda, columns=lda_colmns)\n",
    "irisDF_lda['target'] = iris.target\n",
    "\n",
    "markers=['^','s','o']\n",
    "\n",
    "for i, marker in enumerate(markers):\n",
    "    x_axis_data = irisDF_lda[irisDF_pca['target']==i]['lda_component_1']\n",
    "    y_axis_data = irisDF_lda[irisDF_pca['target']==i]['lda_component_2']\n",
    "    plt.scatter(x_axis_data, y_axis_data, marker=marker, label=iris.target_names[i])\n",
    "    \n",
    "plt.legend()\n",
    "plt.xlabel('lda_component_1')\n",
    "plt.ylabel('lda_component_2')\n",
    "plt.show()"
   ]
  },
  {
   "cell_type": "markdown",
   "metadata": {},
   "source": [
    "## SVD(Singular Value Decomposition)"
   ]
  },
  {
   "cell_type": "code",
   "execution_count": 45,
   "metadata": {},
   "outputs": [],
   "source": [
    "# 넘파이의 svd 모듈 임포트\n",
    "import numpy as np\n",
    "from numpy.linalg import svd"
   ]
  },
  {
   "cell_type": "code",
   "execution_count": 46,
   "metadata": {},
   "outputs": [
    {
     "name": "stdout",
     "output_type": "stream",
     "text": [
      "[[-0.212 -0.285 -0.574 -0.44 ]\n",
      " [-0.33   1.184  1.615  0.367]\n",
      " [-0.014  0.63   1.71  -1.327]\n",
      " [ 0.402 -0.191  1.404 -1.969]]\n"
     ]
    }
   ],
   "source": [
    "# 4X4 랜덤 행렬 a 생성\n",
    "np.random.seed(121)\n",
    "a = np.random.randn(4,4)\n",
    "print(np.round(a,3))"
   ]
  },
  {
   "cell_type": "code",
   "execution_count": 47,
   "metadata": {},
   "outputs": [
    {
     "name": "stdout",
     "output_type": "stream",
     "text": [
      "(4, 4) (4,) (4, 4)\n",
      "U matrix:\n",
      " [[-0.079 -0.318  0.867  0.376]\n",
      " [ 0.383  0.787  0.12   0.469]\n",
      " [ 0.656  0.022  0.357 -0.664]\n",
      " [ 0.645 -0.529 -0.328  0.444]]\n",
      "Sigma Value:\n",
      " [3.423 2.023 0.463 0.079]\n",
      "Vt transpose matrix:\n",
      " [[ 0.041  0.224  0.786 -0.574]\n",
      " [-0.2    0.562  0.37   0.712]\n",
      " [-0.778  0.395 -0.333 -0.357]\n",
      " [-0.593 -0.692  0.366  0.189]]\n"
     ]
    }
   ],
   "source": [
    "# svd 분해\n",
    "U, Sigma, Vt = svd(a)\n",
    "print(U.shape, Sigma.shape, Vt.shape)\n",
    "print('U matrix:\\n',np.round(U,3))\n",
    "print('Sigma Value:\\n',np.round(Sigma,3))\n",
    "print('Vt transpose matrix:\\n',np.round(Vt,3))"
   ]
  },
  {
   "cell_type": "code",
   "execution_count": 48,
   "metadata": {},
   "outputs": [
    {
     "name": "stdout",
     "output_type": "stream",
     "text": [
      "[[-0.212 -0.285 -0.574 -0.44 ]\n",
      " [-0.33   1.184  1.615  0.367]\n",
      " [-0.014  0.63   1.71  -1.327]\n",
      " [ 0.402 -0.191  1.404 -1.969]]\n"
     ]
    }
   ],
   "source": [
    "# 원본 행렬 복원\n",
    "# sigma를 다시 0을 포함한 대칭행렬로 변환\n",
    "Sigma_mat = np.diag(Sigma)\n",
    "a_ = np.dot(np.dot(U, Sigma_mat),Vt)\n",
    "print(np.round(a_,3))"
   ]
  },
  {
   "cell_type": "code",
   "execution_count": 49,
   "metadata": {},
   "outputs": [
    {
     "name": "stdout",
     "output_type": "stream",
     "text": [
      "[[-0.212 -0.285 -0.574 -0.44 ]\n",
      " [-0.33   1.184  1.615  0.367]\n",
      " [-0.542  0.899  1.041 -0.073]\n",
      " [-0.212 -0.285 -0.574 -0.44 ]]\n"
     ]
    }
   ],
   "source": [
    "# 로우 간 의존성 부여\n",
    "a[2] = a[0] + a[1]\n",
    "a[3] = a[0]\n",
    "print(np.round(a,3))"
   ]
  },
  {
   "cell_type": "code",
   "execution_count": 50,
   "metadata": {},
   "outputs": [
    {
     "name": "stdout",
     "output_type": "stream",
     "text": [
      "(4, 4) (4,) (4, 4)\n",
      "Sigma Value:\n",
      " [2.663 0.807 0.    0.   ]\n"
     ]
    }
   ],
   "source": [
    "# 다시 SVD 분해\n",
    "U, Sigma, Vt = svd(a)\n",
    "print(U.shape, Sigma.shape, Vt.shape)\n",
    "print('Sigma Value:\\n',np.round(Sigma,3))"
   ]
  },
  {
   "cell_type": "code",
   "execution_count": 52,
   "metadata": {},
   "outputs": [
    {
     "name": "stdout",
     "output_type": "stream",
     "text": [
      "(4, 2) (2, 2) (2, 4)\n",
      "[[-0.212 -0.285 -0.574 -0.44 ]\n",
      " [-0.33   1.184  1.615  0.367]\n",
      " [-0.542  0.899  1.041 -0.073]\n",
      " [-0.212 -0.285 -0.574 -0.44 ]]\n"
     ]
    }
   ],
   "source": [
    "# U 행렬의 경우는 Sigma와 내적을 수행하므로 Sigma의 앞 2행에 대응되는 앞 2열만 추출\n",
    "U_ = U[:,:2]\n",
    "Sigma_ = np.diag(Sigma[:2])\n",
    "# V 전치 행렬의 경우는 앞 2행만 추출\n",
    "Vt_ = Vt[:2]\n",
    "print(U_.shape, Sigma_.shape, Vt_.shape)\n",
    "# U, Sigma, Vt의 내적을 수행하며, 다시 원본 행렬 복원\n",
    "a_ = np.dot(np.dot(U_, Sigma_),Vt_)\n",
    "print(np.round(a_,3))"
   ]
  },
  {
   "cell_type": "code",
   "execution_count": 53,
   "metadata": {},
   "outputs": [
    {
     "name": "stdout",
     "output_type": "stream",
     "text": [
      "원본 행렬:\n",
      " [[0.11133083 0.21076757 0.23296249 0.15194456 0.83017814 0.40791941]\n",
      " [0.5557906  0.74552394 0.24849976 0.9686594  0.95268418 0.48984885]\n",
      " [0.01829731 0.85760612 0.40493829 0.62247394 0.29537149 0.92958852]\n",
      " [0.4056155  0.56730065 0.24575605 0.22573721 0.03827786 0.58098021]\n",
      " [0.82925331 0.77326256 0.94693849 0.73632338 0.67328275 0.74517176]\n",
      " [0.51161442 0.46920965 0.6439515  0.82081228 0.14548493 0.01806415]]\n",
      "\n",
      "분해 행렬 차원: (6, 6) (6,) (6, 6)\n",
      "\n",
      "Sigma값 행렬: [3.2535007  0.88116505 0.83865238 0.55463089 0.35834824 0.0349925 ]\n",
      "\n",
      "Truncated SVD 분해 행렬 차원: (6, 4) (4,) (4, 6)\n",
      "\n",
      "Truncated SVD Sigma값 행렬: [0.55463089 0.83865238 0.88116505 3.2535007 ]\n",
      "\n",
      "Truncated SVD로 분해 후 복원 행렬:\n",
      " [[0.19222941 0.21792946 0.15951023 0.14084013 0.81641405 0.42533093]\n",
      " [0.44874275 0.72204422 0.34594106 0.99148577 0.96866325 0.4754868 ]\n",
      " [0.12656662 0.88860729 0.30625735 0.59517439 0.28036734 0.93961948]\n",
      " [0.23989012 0.51026588 0.39697353 0.27308905 0.05971563 0.57156395]\n",
      " [0.83806144 0.78847467 0.93868685 0.72673231 0.6740867  0.73812389]\n",
      " [0.59726589 0.47953891 0.56613544 0.80746028 0.13135039 0.03479656]]\n"
     ]
    }
   ],
   "source": [
    "from scipy.sparse.linalg import svds\n",
    "from scipy.linalg import svd\n",
    "\n",
    "# 원본 행렬을 출력하고 SVD를 적용할 경우 U, Sigma, Vt의 차원 확인\n",
    "np.random.seed(121)\n",
    "matrix = np.random.random((6,6))\n",
    "print('원본 행렬:\\n', matrix)\n",
    "U, Sigma, Vt = svd(matrix, full_matrices=False)\n",
    "print('\\n분해 행렬 차원:', U.shape, Sigma.shape, Vt.shape)\n",
    "print('\\nSigma값 행렬:', Sigma)\n",
    "\n",
    "# Trruncated SVD로 Sigma 행렬의 특이값을 4개로 하여 Truncated SVD 수행.\n",
    "num_components = 4\n",
    "U_tr, Sigma_tr, Vt_tr = svds(matrix, k=num_components)\n",
    "print('\\nTruncated SVD 분해 행렬 차원:', U_tr.shape, Sigma_tr.shape, Vt_tr.shape)\n",
    "print('\\nTruncated SVD Sigma값 행렬:', Sigma_tr)\n",
    "matrix_tr = np.dot(np.dot(U_tr, np.diag(Sigma_tr)), Vt_tr) # output of TruncatedSVD\n",
    "\n",
    "print('\\nTruncated SVD로 분해 후 복원 행렬:\\n',matrix_tr)\n"
   ]
  },
  {
   "cell_type": "code",
   "execution_count": 55,
   "metadata": {},
   "outputs": [
    {
     "data": {
      "image/png": "[encoded data removed]",
      "text/plain": [
       "<Figure size 432x288 with 1 Axes>"
      ]
     },
     "metadata": {
      "needs_background": "light"
     },
     "output_type": "display_data"
    }
   ],
   "source": [
    "# 사이킷런 TruncatedSVD 클래스를 이용한 변환\n",
    "from sklearn.decomposition import TruncatedSVD\n",
    "\n",
    "iris_ftrs = iris.data\n",
    "# 2개의 주요 컴포넌트로 TruncatedSVD 변환\n",
    "tsvd = TruncatedSVD(n_components=2)\n",
    "tsvd.fit(iris_ftrs)\n",
    "iris_tsvd = tsvd.transform(iris_ftrs)\n",
    "\n",
    "# 산점도 2차원으로 TruncatedSVD 변환된 데이터 표현. 품종은 색깔로 구분\n",
    "plt.scatter(x=iris_tsvd[:,0], y=iris_tsvd[:,1], c=iris.target)\n",
    "plt.xlabel('TruncatedSVD component 1')\n",
    "plt.ylabel('TruncatedSVD component 2')\n",
    "plt.show()"
   ]
  },
  {
   "cell_type": "code",
   "execution_count": 57,
   "metadata": {},
   "outputs": [
    {
     "data": {
      "image/png": "[encoded data removed]",
      "text/plain": [
       "<Figure size 648x288 with 2 Axes>"
      ]
     },
     "metadata": {
      "needs_background": "light"
     },
     "output_type": "display_data"
    }
   ],
   "source": [
    "# 붓꽃 데이터를 StandardScaler로 변환\n",
    "scaler = StandardScaler()\n",
    "iris_scaled = scaler.fit_transform(iris_ftrs)\n",
    "\n",
    "# 스케일링된 데이터를 기반으로 TruncatedSVD 변환 수행\n",
    "tsvd = TruncatedSVD(n_components=2)\n",
    "tsvd.fit(iris_scaled)\n",
    "iris_tsvd = tsvd.transform(iris_scaled)\n",
    "\n",
    "# 스케일링된 데이터를 기반으로 PCA 변환 수행\n",
    "pca = PCA(n_components=2)\n",
    "pca.fit(iris_scaled)\n",
    "iris_pca = pca.transform(iris_scaled)\n",
    "\n",
    "# TruncaatedSVD 변환 데이터를 왼쪽에, PCA 변환 데이터를 오른쪽에 표현\n",
    "fig, (ax1, ax2) = plt.subplots(figsize=(9,4), ncols=2)\n",
    "ax1.scatter(x=iris_tsvd[:,0], y=iris_tsvd[:,1], c=iris.target)\n",
    "ax2.scatter(x=iris_pca[:,0], y=iris_pca[:,1], c=iris.target)\n",
    "ax1.set_title('Truncated SVD Transformed')\n",
    "ax2.set_title('PCA Transformed')\n",
    "\n",
    "plt.show()"
   ]
  },
  {
   "cell_type": "code",
   "execution_count": 58,
   "metadata": {},
   "outputs": [
    {
     "name": "stdout",
     "output_type": "stream",
     "text": [
      "2.3375977079946134e-15\n",
      "-6.5052130349130266e-18\n"
     ]
    }
   ],
   "source": [
    "print((iris_pca - iris_tsvd).mean())\n",
    "print((pca.components_ - tsvd.components_).mean())"
   ]
  },
  {
   "cell_type": "code",
   "execution_count": null,
   "metadata": {},
   "outputs": [],
   "source": []
  }
 ],
 "metadata": {
  "kernelspec": {
   "display_name": "Python 3",
   "language": "python",
   "name": "python3"
  },
  "language_info": {
   "codemirror_mode": {
    "name": "ipython",
    "version": 3
   },
   "file_extension": ".py",
   "mimetype": "text/x-python",
   "name": "python",
   "nbconvert_exporter": "python",
   "pygments_lexer": "ipython3",
   "version": "3.7.6"
  }
 },
 "nbformat": 4,
 "nbformat_minor": 4
}
