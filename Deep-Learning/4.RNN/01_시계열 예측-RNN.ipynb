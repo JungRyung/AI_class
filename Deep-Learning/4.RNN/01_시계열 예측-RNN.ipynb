{
 "cells": [
  {
   "cell_type": "markdown",
   "metadata": {},
   "source": [
    "# 시계열 예측 문제\n",
    "- 사인파형 시계열을 입력으로 다음 스텝의 출력을 예측\n",
    "- 3개의 순서열을 입력한 후 출력값이 target과 일치하게 만듦"
   ]
  },
  {
   "cell_type": "code",
   "execution_count": 1,
   "metadata": {},
   "outputs": [],
   "source": [
    "import numpy as np\n",
    "import matplotlib.pyplot as plt\n",
    "%matplotlib inline"
   ]
  },
  {
   "cell_type": "code",
   "execution_count": 2,
   "metadata": {},
   "outputs": [
    {
     "data": {
      "image/png": "[encoded data removed]",
      "text/plain": [
       "<Figure size 432x288 with 1 Axes>"
      ]
     },
     "metadata": {
      "needs_background": "light"
     },
     "output_type": "display_data"
    }
   ],
   "source": [
    "s = np.sin(2 * np.pi * 0.125 * np.arange(20))\n",
    "plt.plot(s, 'ro-')\n",
    "plt.xlim(-0.5, 20.5)\n",
    "plt.ylim(-1.1, 1.1)\n",
    "plt.show()"
   ]
  },
  {
   "cell_type": "markdown",
   "metadata": {},
   "source": [
    "### 원래의 시계열 벡터를 Toeplitz 행렬 형태로 변환\n",
    "#### (대각선 위의 성분들이 같은 정사각 행렬)"
   ]
  },
  {
   "cell_type": "code",
   "execution_count": 3,
   "metadata": {},
   "outputs": [
    {
     "data": {
      "text/plain": [
       "array([[ 0.00000000e+00,  7.07106781e-01,  1.00000000e+00,\n",
       "         7.07106781e-01,  1.22464680e-16, -7.07106781e-01,\n",
       "        -1.00000000e+00, -7.07106781e-01, -2.44929360e-16,\n",
       "         7.07106781e-01,  1.00000000e+00,  7.07106781e-01,\n",
       "         3.67394040e-16, -7.07106781e-01, -1.00000000e+00,\n",
       "        -7.07106781e-01, -4.89858720e-16,  7.07106781e-01,\n",
       "         1.00000000e+00,  7.07106781e-01],\n",
       "       [ 7.07106781e-01,  1.00000000e+00,  7.07106781e-01,\n",
       "         1.22464680e-16, -7.07106781e-01, -1.00000000e+00,\n",
       "        -7.07106781e-01, -2.44929360e-16,  7.07106781e-01,\n",
       "         1.00000000e+00,  7.07106781e-01,  3.67394040e-16,\n",
       "        -7.07106781e-01, -1.00000000e+00, -7.07106781e-01,\n",
       "        -4.89858720e-16,  7.07106781e-01,  1.00000000e+00,\n",
       "         7.07106781e-01,  0.00000000e+00],\n",
       "       [ 1.00000000e+00,  7.07106781e-01,  1.22464680e-16,\n",
       "        -7.07106781e-01, -1.00000000e+00, -7.07106781e-01,\n",
       "        -2.44929360e-16,  7.07106781e-01,  1.00000000e+00,\n",
       "         7.07106781e-01,  3.67394040e-16, -7.07106781e-01,\n",
       "        -1.00000000e+00, -7.07106781e-01, -4.89858720e-16,\n",
       "         7.07106781e-01,  1.00000000e+00,  7.07106781e-01,\n",
       "         0.00000000e+00,  0.00000000e+00],\n",
       "       [ 7.07106781e-01,  1.22464680e-16, -7.07106781e-01,\n",
       "        -1.00000000e+00, -7.07106781e-01, -2.44929360e-16,\n",
       "         7.07106781e-01,  1.00000000e+00,  7.07106781e-01,\n",
       "         3.67394040e-16, -7.07106781e-01, -1.00000000e+00,\n",
       "        -7.07106781e-01, -4.89858720e-16,  7.07106781e-01,\n",
       "         1.00000000e+00,  7.07106781e-01,  0.00000000e+00,\n",
       "         0.00000000e+00,  0.00000000e+00],\n",
       "       [ 1.22464680e-16, -7.07106781e-01, -1.00000000e+00,\n",
       "        -7.07106781e-01, -2.44929360e-16,  7.07106781e-01,\n",
       "         1.00000000e+00,  7.07106781e-01,  3.67394040e-16,\n",
       "        -7.07106781e-01, -1.00000000e+00, -7.07106781e-01,\n",
       "        -4.89858720e-16,  7.07106781e-01,  1.00000000e+00,\n",
       "         7.07106781e-01,  0.00000000e+00,  0.00000000e+00,\n",
       "         0.00000000e+00,  0.00000000e+00],\n",
       "       [-7.07106781e-01, -1.00000000e+00, -7.07106781e-01,\n",
       "        -2.44929360e-16,  7.07106781e-01,  1.00000000e+00,\n",
       "         7.07106781e-01,  3.67394040e-16, -7.07106781e-01,\n",
       "        -1.00000000e+00, -7.07106781e-01, -4.89858720e-16,\n",
       "         7.07106781e-01,  1.00000000e+00,  7.07106781e-01,\n",
       "         0.00000000e+00,  0.00000000e+00,  0.00000000e+00,\n",
       "         0.00000000e+00,  0.00000000e+00],\n",
       "       [-1.00000000e+00, -7.07106781e-01, -2.44929360e-16,\n",
       "         7.07106781e-01,  1.00000000e+00,  7.07106781e-01,\n",
       "         3.67394040e-16, -7.07106781e-01, -1.00000000e+00,\n",
       "        -7.07106781e-01, -4.89858720e-16,  7.07106781e-01,\n",
       "         1.00000000e+00,  7.07106781e-01,  0.00000000e+00,\n",
       "         0.00000000e+00,  0.00000000e+00,  0.00000000e+00,\n",
       "         0.00000000e+00,  0.00000000e+00],\n",
       "       [-7.07106781e-01, -2.44929360e-16,  7.07106781e-01,\n",
       "         1.00000000e+00,  7.07106781e-01,  3.67394040e-16,\n",
       "        -7.07106781e-01, -1.00000000e+00, -7.07106781e-01,\n",
       "        -4.89858720e-16,  7.07106781e-01,  1.00000000e+00,\n",
       "         7.07106781e-01,  0.00000000e+00,  0.00000000e+00,\n",
       "         0.00000000e+00,  0.00000000e+00,  0.00000000e+00,\n",
       "         0.00000000e+00,  0.00000000e+00],\n",
       "       [-2.44929360e-16,  7.07106781e-01,  1.00000000e+00,\n",
       "         7.07106781e-01,  3.67394040e-16, -7.07106781e-01,\n",
       "        -1.00000000e+00, -7.07106781e-01, -4.89858720e-16,\n",
       "         7.07106781e-01,  1.00000000e+00,  7.07106781e-01,\n",
       "         0.00000000e+00,  0.00000000e+00,  0.00000000e+00,\n",
       "         0.00000000e+00,  0.00000000e+00,  0.00000000e+00,\n",
       "         0.00000000e+00,  0.00000000e+00],\n",
       "       [ 7.07106781e-01,  1.00000000e+00,  7.07106781e-01,\n",
       "         3.67394040e-16, -7.07106781e-01, -1.00000000e+00,\n",
       "        -7.07106781e-01, -4.89858720e-16,  7.07106781e-01,\n",
       "         1.00000000e+00,  7.07106781e-01,  0.00000000e+00,\n",
       "         0.00000000e+00,  0.00000000e+00,  0.00000000e+00,\n",
       "         0.00000000e+00,  0.00000000e+00,  0.00000000e+00,\n",
       "         0.00000000e+00,  0.00000000e+00],\n",
       "       [ 1.00000000e+00,  7.07106781e-01,  3.67394040e-16,\n",
       "        -7.07106781e-01, -1.00000000e+00, -7.07106781e-01,\n",
       "        -4.89858720e-16,  7.07106781e-01,  1.00000000e+00,\n",
       "         7.07106781e-01,  0.00000000e+00,  0.00000000e+00,\n",
       "         0.00000000e+00,  0.00000000e+00,  0.00000000e+00,\n",
       "         0.00000000e+00,  0.00000000e+00,  0.00000000e+00,\n",
       "         0.00000000e+00,  0.00000000e+00],\n",
       "       [ 7.07106781e-01,  3.67394040e-16, -7.07106781e-01,\n",
       "        -1.00000000e+00, -7.07106781e-01, -4.89858720e-16,\n",
       "         7.07106781e-01,  1.00000000e+00,  7.07106781e-01,\n",
       "         0.00000000e+00,  0.00000000e+00,  0.00000000e+00,\n",
       "         0.00000000e+00,  0.00000000e+00,  0.00000000e+00,\n",
       "         0.00000000e+00,  0.00000000e+00,  0.00000000e+00,\n",
       "         0.00000000e+00,  0.00000000e+00],\n",
       "       [ 3.67394040e-16, -7.07106781e-01, -1.00000000e+00,\n",
       "        -7.07106781e-01, -4.89858720e-16,  7.07106781e-01,\n",
       "         1.00000000e+00,  7.07106781e-01,  0.00000000e+00,\n",
       "         0.00000000e+00,  0.00000000e+00,  0.00000000e+00,\n",
       "         0.00000000e+00,  0.00000000e+00,  0.00000000e+00,\n",
       "         0.00000000e+00,  0.00000000e+00,  0.00000000e+00,\n",
       "         0.00000000e+00,  0.00000000e+00],\n",
       "       [-7.07106781e-01, -1.00000000e+00, -7.07106781e-01,\n",
       "        -4.89858720e-16,  7.07106781e-01,  1.00000000e+00,\n",
       "         7.07106781e-01,  0.00000000e+00,  0.00000000e+00,\n",
       "         0.00000000e+00,  0.00000000e+00,  0.00000000e+00,\n",
       "         0.00000000e+00,  0.00000000e+00,  0.00000000e+00,\n",
       "         0.00000000e+00,  0.00000000e+00,  0.00000000e+00,\n",
       "         0.00000000e+00,  0.00000000e+00],\n",
       "       [-1.00000000e+00, -7.07106781e-01, -4.89858720e-16,\n",
       "         7.07106781e-01,  1.00000000e+00,  7.07106781e-01,\n",
       "         0.00000000e+00,  0.00000000e+00,  0.00000000e+00,\n",
       "         0.00000000e+00,  0.00000000e+00,  0.00000000e+00,\n",
       "         0.00000000e+00,  0.00000000e+00,  0.00000000e+00,\n",
       "         0.00000000e+00,  0.00000000e+00,  0.00000000e+00,\n",
       "         0.00000000e+00,  0.00000000e+00],\n",
       "       [-7.07106781e-01, -4.89858720e-16,  7.07106781e-01,\n",
       "         1.00000000e+00,  7.07106781e-01,  0.00000000e+00,\n",
       "         0.00000000e+00,  0.00000000e+00,  0.00000000e+00,\n",
       "         0.00000000e+00,  0.00000000e+00,  0.00000000e+00,\n",
       "         0.00000000e+00,  0.00000000e+00,  0.00000000e+00,\n",
       "         0.00000000e+00,  0.00000000e+00,  0.00000000e+00,\n",
       "         0.00000000e+00,  0.00000000e+00],\n",
       "       [-4.89858720e-16,  7.07106781e-01,  1.00000000e+00,\n",
       "         7.07106781e-01,  0.00000000e+00,  0.00000000e+00,\n",
       "         0.00000000e+00,  0.00000000e+00,  0.00000000e+00,\n",
       "         0.00000000e+00,  0.00000000e+00,  0.00000000e+00,\n",
       "         0.00000000e+00,  0.00000000e+00,  0.00000000e+00,\n",
       "         0.00000000e+00,  0.00000000e+00,  0.00000000e+00,\n",
       "         0.00000000e+00,  0.00000000e+00],\n",
       "       [ 7.07106781e-01,  1.00000000e+00,  7.07106781e-01,\n",
       "         0.00000000e+00,  0.00000000e+00,  0.00000000e+00,\n",
       "         0.00000000e+00,  0.00000000e+00,  0.00000000e+00,\n",
       "         0.00000000e+00,  0.00000000e+00,  0.00000000e+00,\n",
       "         0.00000000e+00,  0.00000000e+00,  0.00000000e+00,\n",
       "         0.00000000e+00,  0.00000000e+00,  0.00000000e+00,\n",
       "         0.00000000e+00,  0.00000000e+00],\n",
       "       [ 1.00000000e+00,  7.07106781e-01,  0.00000000e+00,\n",
       "         0.00000000e+00,  0.00000000e+00,  0.00000000e+00,\n",
       "         0.00000000e+00,  0.00000000e+00,  0.00000000e+00,\n",
       "         0.00000000e+00,  0.00000000e+00,  0.00000000e+00,\n",
       "         0.00000000e+00,  0.00000000e+00,  0.00000000e+00,\n",
       "         0.00000000e+00,  0.00000000e+00,  0.00000000e+00,\n",
       "         0.00000000e+00,  0.00000000e+00]])"
      ]
     },
     "execution_count": 3,
     "metadata": {},
     "output_type": "execute_result"
    }
   ],
   "source": [
    "from scipy.linalg import toeplitz\n",
    "S = np.fliplr(toeplitz(np.r_[s[-1], np.zeros(s.shape[0] - 2)], s[::-1]))\n",
    "S"
   ]
  },
  {
   "cell_type": "code",
   "execution_count": 4,
   "metadata": {},
   "outputs": [
    {
     "data": {
      "text/plain": [
       "((18, 3, 1), (18,))"
      ]
     },
     "execution_count": 4,
     "metadata": {},
     "output_type": "execute_result"
    }
   ],
   "source": [
    "X_train = S[:-1, :3][:, :, np.newaxis]\n",
    "Y_train = S[:-1, 3]\n",
    "X_train.shape, Y_train.shape"
   ]
  },
  {
   "cell_type": "code",
   "execution_count": 5,
   "metadata": {},
   "outputs": [
    {
     "data": {
      "text/plain": [
       "array([[[ 0.00000000e+00],\n",
       "        [ 7.07106781e-01],\n",
       "        [ 1.00000000e+00]],\n",
       "\n",
       "       [[ 7.07106781e-01],\n",
       "        [ 1.00000000e+00],\n",
       "        [ 7.07106781e-01]],\n",
       "\n",
       "       [[ 1.00000000e+00],\n",
       "        [ 7.07106781e-01],\n",
       "        [ 1.22464680e-16]],\n",
       "\n",
       "       [[ 7.07106781e-01],\n",
       "        [ 1.22464680e-16],\n",
       "        [-7.07106781e-01]]])"
      ]
     },
     "execution_count": 5,
     "metadata": {},
     "output_type": "execute_result"
    }
   ],
   "source": [
    "X_train[:4]"
   ]
  },
  {
   "cell_type": "code",
   "execution_count": 6,
   "metadata": {},
   "outputs": [
    {
     "data": {
      "text/plain": [
       "array([ 7.07106781e-01,  1.22464680e-16, -7.07106781e-01, -1.00000000e+00])"
      ]
     },
     "execution_count": 6,
     "metadata": {},
     "output_type": "execute_result"
    }
   ],
   "source": [
    "Y_train[:4]"
   ]
  },
  {
   "cell_type": "code",
   "execution_count": 7,
   "metadata": {},
   "outputs": [
    {
     "data": {
      "image/png": "[encoded data removed]",
      "text/plain": [
       "<Figure size 720x432 with 2 Axes>"
      ]
     },
     "metadata": {
      "needs_background": "light"
     },
     "output_type": "display_data"
    }
   ],
   "source": [
    "plt.figure(figsize=(10,6))\n",
    "\n",
    "plt.subplot(211)\n",
    "plt.plot([0, 1, 2], X_train[0].flatten(), 'bo-', label=\"input sequence\")\n",
    "plt.plot([3], Y_train[0], 'ro', label=\"target\")\n",
    "plt.xlim(-0.5, 4.5)\n",
    "plt.ylim(-1.1, 1.1)\n",
    "plt.legend()\n",
    "plt.grid()\n",
    "plt.title(\"First sample sequence\")\n",
    "\n",
    "plt.subplot(212)\n",
    "plt.plot([1, 2, 3], X_train[1].flatten(), 'bo-', label=\"input sequence\")\n",
    "plt.plot([4], Y_train[1], 'ro', label=\"target\")\n",
    "plt.xlim(-0.5, 4.5)\n",
    "plt.ylim(-1.1, 1.1)\n",
    "plt.legend()\n",
    "plt.grid()\n",
    "plt.title(\"Second sample sequence\")\n",
    "\n",
    "plt.tight_layout()\n",
    "plt.show()"
   ]
  },
  {
   "cell_type": "code",
   "execution_count": 8,
   "metadata": {},
   "outputs": [],
   "source": [
    "from tensorflow import keras\n",
    "from keras.models import Sequential\n",
    "from keras.layers import SimpleRNN, Dense\n",
    "\n",
    "seed = 2020\n",
    "np.random.seed(seed)"
   ]
  },
  {
   "cell_type": "code",
   "execution_count": 9,
   "metadata": {},
   "outputs": [
    {
     "name": "stdout",
     "output_type": "stream",
     "text": [
      "Model: \"sequential\"\n",
      "_________________________________________________________________\n",
      "Layer (type)                 Output Shape              Param #   \n",
      "=================================================================\n",
      "simple_rnn (SimpleRNN)       (None, 10)                120       \n",
      "_________________________________________________________________\n",
      "dense (Dense)                (None, 1)                 11        \n",
      "=================================================================\n",
      "Total params: 131\n",
      "Trainable params: 131\n",
      "Non-trainable params: 0\n",
      "_________________________________________________________________\n"
     ]
    }
   ],
   "source": [
    "model = Sequential()\n",
    "model.add(SimpleRNN(10, input_shape=(3, 1)))\n",
    "model.add(Dense(1, activation=\"linear\"))\n",
    "model.summary()\n",
    "# 파라미터 (1 + 10) * 10 + 10 = 129"
   ]
  },
  {
   "cell_type": "code",
   "execution_count": 10,
   "metadata": {},
   "outputs": [],
   "source": [
    "model.compile(loss='mse', optimizer='sgd')"
   ]
  },
  {
   "cell_type": "code",
   "execution_count": 11,
   "metadata": {},
   "outputs": [
    {
     "data": {
      "image/png": "[encoded data removed]",
      "text/plain": [
       "<Figure size 432x288 with 1 Axes>"
      ]
     },
     "metadata": {
      "needs_background": "light"
     },
     "output_type": "display_data"
    }
   ],
   "source": [
    "plt.plot(Y_train, 'ro-', label=\"target\")\n",
    "plt.plot(model.predict(X_train[:, :, :]), 'bs-', label=\"output\")\n",
    "plt.xlim(-0.5, 20.5)\n",
    "plt.ylim(-1.1, 1.1)\n",
    "plt.legend()\n",
    "plt.title(\"Before training\")\n",
    "plt.show()"
   ]
  },
  {
   "cell_type": "code",
   "execution_count": 12,
   "metadata": {},
   "outputs": [
    {
     "name": "stdout",
     "output_type": "stream",
     "text": [
      "Epoch 1/100\n",
      "1/1 [==============================] - 0s 1ms/step - loss: 1.2219\n",
      "Epoch 2/100\n",
      "1/1 [==============================] - 0s 903us/step - loss: 1.1191\n",
      "Epoch 3/100\n",
      "1/1 [==============================] - 0s 980us/step - loss: 1.0261\n",
      "Epoch 4/100\n",
      "1/1 [==============================] - 0s 982us/step - loss: 0.9418\n",
      "Epoch 5/100\n",
      "1/1 [==============================] - 0s 769us/step - loss: 0.8651\n",
      "Epoch 6/100\n",
      "1/1 [==============================] - 0s 847us/step - loss: 0.7953\n",
      "Epoch 7/100\n",
      "1/1 [==============================] - 0s 1ms/step - loss: 0.7316\n",
      "Epoch 8/100\n",
      "1/1 [==============================] - 0s 1ms/step - loss: 0.6733\n",
      "Epoch 9/100\n",
      "1/1 [==============================] - 0s 895us/step - loss: 0.6200\n",
      "Epoch 10/100\n",
      "1/1 [==============================] - 0s 842us/step - loss: 0.5711\n",
      "Epoch 11/100\n",
      "1/1 [==============================] - 0s 1ms/step - loss: 0.5262\n",
      "Epoch 12/100\n",
      "1/1 [==============================] - 0s 981us/step - loss: 0.4849\n",
      "Epoch 13/100\n",
      "1/1 [==============================] - 0s 890us/step - loss: 0.4470\n",
      "Epoch 14/100\n",
      "1/1 [==============================] - 0s 855us/step - loss: 0.4121\n",
      "Epoch 15/100\n",
      "1/1 [==============================] - 0s 1ms/step - loss: 0.3799\n",
      "Epoch 16/100\n",
      "1/1 [==============================] - 0s 923us/step - loss: 0.3503\n",
      "Epoch 17/100\n",
      "1/1 [==============================] - 0s 1ms/step - loss: 0.3230\n",
      "Epoch 18/100\n",
      "1/1 [==============================] - 0s 963us/step - loss: 0.2978\n",
      "Epoch 19/100\n",
      "1/1 [==============================] - 0s 838us/step - loss: 0.2746\n",
      "Epoch 20/100\n",
      "1/1 [==============================] - 0s 948us/step - loss: 0.2531\n",
      "Epoch 21/100\n",
      "1/1 [==============================] - 0s 900us/step - loss: 0.2333\n",
      "Epoch 22/100\n",
      "1/1 [==============================] - 0s 821us/step - loss: 0.2151\n",
      "Epoch 23/100\n",
      "1/1 [==============================] - 0s 964us/step - loss: 0.1982\n",
      "Epoch 24/100\n",
      "1/1 [==============================] - 0s 935us/step - loss: 0.1827\n",
      "Epoch 25/100\n",
      "1/1 [==============================] - 0s 801us/step - loss: 0.1683\n",
      "Epoch 26/100\n",
      "1/1 [==============================] - 0s 865us/step - loss: 0.1551\n",
      "Epoch 27/100\n",
      "1/1 [==============================] - 0s 868us/step - loss: 0.1429\n",
      "Epoch 28/100\n",
      "1/1 [==============================] - 0s 1ms/step - loss: 0.1316\n",
      "Epoch 29/100\n",
      "1/1 [==============================] - 0s 830us/step - loss: 0.1212\n",
      "Epoch 30/100\n",
      "1/1 [==============================] - 0s 1ms/step - loss: 0.1117\n",
      "Epoch 31/100\n",
      "1/1 [==============================] - 0s 831us/step - loss: 0.1028\n",
      "Epoch 32/100\n",
      "1/1 [==============================] - 0s 994us/step - loss: 0.0947\n",
      "Epoch 33/100\n",
      "1/1 [==============================] - 0s 874us/step - loss: 0.0872\n",
      "Epoch 34/100\n",
      "1/1 [==============================] - 0s 1ms/step - loss: 0.0803\n",
      "Epoch 35/100\n",
      "1/1 [==============================] - 0s 1ms/step - loss: 0.0740\n",
      "Epoch 36/100\n",
      "1/1 [==============================] - 0s 1ms/step - loss: 0.0681\n",
      "Epoch 37/100\n",
      "1/1 [==============================] - 0s 1ms/step - loss: 0.0627\n",
      "Epoch 38/100\n",
      "1/1 [==============================] - 0s 1ms/step - loss: 0.0578\n",
      "Epoch 39/100\n",
      "1/1 [==============================] - 0s 902us/step - loss: 0.0532\n",
      "Epoch 40/100\n",
      "1/1 [==============================] - 0s 877us/step - loss: 0.0490\n",
      "Epoch 41/100\n",
      "1/1 [==============================] - 0s 1ms/step - loss: 0.0452\n",
      "Epoch 42/100\n",
      "1/1 [==============================] - 0s 942us/step - loss: 0.0417\n",
      "Epoch 43/100\n",
      "1/1 [==============================] - 0s 955us/step - loss: 0.0384\n",
      "Epoch 44/100\n",
      "1/1 [==============================] - 0s 1ms/step - loss: 0.0354\n",
      "Epoch 45/100\n",
      "1/1 [==============================] - 0s 1ms/step - loss: 0.0327\n",
      "Epoch 46/100\n",
      "1/1 [==============================] - 0s 905us/step - loss: 0.0301\n",
      "Epoch 47/100\n",
      "1/1 [==============================] - 0s 1ms/step - loss: 0.0278\n",
      "Epoch 48/100\n",
      "1/1 [==============================] - 0s 1ms/step - loss: 0.0257\n",
      "Epoch 49/100\n",
      "1/1 [==============================] - 0s 997us/step - loss: 0.0238\n",
      "Epoch 50/100\n",
      "1/1 [==============================] - 0s 928us/step - loss: 0.0220\n",
      "Epoch 51/100\n",
      "1/1 [==============================] - 0s 858us/step - loss: 0.0203\n",
      "Epoch 52/100\n",
      "1/1 [==============================] - 0s 1ms/step - loss: 0.0188\n",
      "Epoch 53/100\n",
      "1/1 [==============================] - 0s 887us/step - loss: 0.0174\n",
      "Epoch 54/100\n",
      "1/1 [==============================] - 0s 868us/step - loss: 0.0162\n",
      "Epoch 55/100\n",
      "1/1 [==============================] - 0s 1ms/step - loss: 0.0150\n",
      "Epoch 56/100\n",
      "1/1 [==============================] - 0s 1ms/step - loss: 0.0139\n",
      "Epoch 57/100\n",
      "1/1 [==============================] - 0s 955us/step - loss: 0.0130\n",
      "Epoch 58/100\n",
      "1/1 [==============================] - 0s 989us/step - loss: 0.0121\n",
      "Epoch 59/100\n",
      "1/1 [==============================] - 0s 1ms/step - loss: 0.0113\n",
      "Epoch 60/100\n",
      "1/1 [==============================] - 0s 1ms/step - loss: 0.0105\n",
      "Epoch 61/100\n",
      "1/1 [==============================] - 0s 1ms/step - loss: 0.0098\n",
      "Epoch 62/100\n",
      "1/1 [==============================] - 0s 989us/step - loss: 0.0092\n",
      "Epoch 63/100\n",
      "1/1 [==============================] - 0s 1ms/step - loss: 0.0086\n",
      "Epoch 64/100\n",
      "1/1 [==============================] - 0s 844us/step - loss: 0.0081\n",
      "Epoch 65/100\n",
      "1/1 [==============================] - 0s 937us/step - loss: 0.0076\n",
      "Epoch 66/100\n",
      "1/1 [==============================] - 0s 890us/step - loss: 0.0071\n",
      "Epoch 67/100\n",
      "1/1 [==============================] - 0s 869us/step - loss: 0.0067\n",
      "Epoch 68/100\n",
      "1/1 [==============================] - 0s 867us/step - loss: 0.0064\n",
      "Epoch 69/100\n",
      "1/1 [==============================] - 0s 942us/step - loss: 0.0060\n",
      "Epoch 70/100\n",
      "1/1 [==============================] - 0s 1ms/step - loss: 0.0057\n",
      "Epoch 71/100\n",
      "1/1 [==============================] - 0s 1ms/step - loss: 0.0054\n",
      "Epoch 72/100\n",
      "1/1 [==============================] - 0s 898us/step - loss: 0.0052\n",
      "Epoch 73/100\n",
      "1/1 [==============================] - 0s 845us/step - loss: 0.0049\n",
      "Epoch 74/100\n",
      "1/1 [==============================] - 0s 1ms/step - loss: 0.0047\n",
      "Epoch 75/100\n",
      "1/1 [==============================] - 0s 865us/step - loss: 0.0045\n",
      "Epoch 76/100\n",
      "1/1 [==============================] - 0s 996us/step - loss: 0.0043\n",
      "Epoch 77/100\n",
      "1/1 [==============================] - 0s 910us/step - loss: 0.0041\n",
      "Epoch 78/100\n",
      "1/1 [==============================] - 0s 901us/step - loss: 0.0040\n",
      "Epoch 79/100\n",
      "1/1 [==============================] - 0s 854us/step - loss: 0.0038\n",
      "Epoch 80/100\n",
      "1/1 [==============================] - 0s 2ms/step - loss: 0.0037\n",
      "Epoch 81/100\n",
      "1/1 [==============================] - 0s 1ms/step - loss: 0.0036\n",
      "Epoch 82/100\n",
      "1/1 [==============================] - 0s 1ms/step - loss: 0.0035\n",
      "Epoch 83/100\n",
      "1/1 [==============================] - 0s 1ms/step - loss: 0.0034\n",
      "Epoch 84/100\n",
      "1/1 [==============================] - 0s 928us/step - loss: 0.0033\n",
      "Epoch 85/100\n",
      "1/1 [==============================] - 0s 1ms/step - loss: 0.0032\n",
      "Epoch 86/100\n",
      "1/1 [==============================] - 0s 968us/step - loss: 0.0031\n",
      "Epoch 87/100\n",
      "1/1 [==============================] - 0s 969us/step - loss: 0.0031\n",
      "Epoch 88/100\n",
      "1/1 [==============================] - 0s 970us/step - loss: 0.0030\n",
      "Epoch 89/100\n",
      "1/1 [==============================] - 0s 942us/step - loss: 0.0029\n",
      "Epoch 90/100\n",
      "1/1 [==============================] - 0s 1ms/step - loss: 0.0029\n",
      "Epoch 91/100\n",
      "1/1 [==============================] - 0s 982us/step - loss: 0.0028\n",
      "Epoch 92/100\n",
      "1/1 [==============================] - 0s 1ms/step - loss: 0.0028\n",
      "Epoch 93/100\n",
      "1/1 [==============================] - 0s 993us/step - loss: 0.0027\n",
      "Epoch 94/100\n",
      "1/1 [==============================] - 0s 835us/step - loss: 0.0027\n",
      "Epoch 95/100\n",
      "1/1 [==============================] - 0s 919us/step - loss: 0.0027\n",
      "Epoch 96/100\n",
      "1/1 [==============================] - 0s 836us/step - loss: 0.0026\n",
      "Epoch 97/100\n",
      "1/1 [==============================] - 0s 988us/step - loss: 0.0026\n",
      "Epoch 98/100\n",
      "1/1 [==============================] - 0s 1ms/step - loss: 0.0026\n",
      "Epoch 99/100\n",
      "1/1 [==============================] - 0s 1ms/step - loss: 0.0026\n",
      "Epoch 100/100\n",
      "1/1 [==============================] - 0s 990us/step - loss: 0.0025\n"
     ]
    }
   ],
   "source": [
    "history = model.fit(X_train, Y_train, epochs=100) "
   ]
  },
  {
   "cell_type": "markdown",
   "metadata": {},
   "source": [
    "### 결과 확인"
   ]
  },
  {
   "cell_type": "code",
   "execution_count": 13,
   "metadata": {},
   "outputs": [
    {
     "data": {
      "image/png": "[encoded data removed]",
      "text/plain": [
       "<Figure size 432x288 with 1 Axes>"
      ]
     },
     "metadata": {
      "needs_background": "light"
     },
     "output_type": "display_data"
    }
   ],
   "source": [
    "plt.plot(history.history[\"loss\"])\n",
    "plt.title(\"Loss\")\n",
    "plt.show() "
   ]
  },
  {
   "cell_type": "code",
   "execution_count": 14,
   "metadata": {},
   "outputs": [
    {
     "data": {
      "image/png": "[encoded data removed]",
      "text/plain": [
       "<Figure size 432x288 with 1 Axes>"
      ]
     },
     "metadata": {
      "needs_background": "light"
     },
     "output_type": "display_data"
    }
   ],
   "source": [
    "plt.plot(Y_train, 'ro-', label=\"target\")\n",
    "plt.plot(model.predict(X_train[:, :, :]), 'bs-', label=\"output\")\n",
    "plt.xlim(-0.5, 20.5)\n",
    "plt.ylim(-1.1, 1.1)\n",
    "plt.legend()\n",
    "plt.title(\"After training\")\n",
    "plt.show() "
   ]
  },
  {
   "cell_type": "code",
   "execution_count": 15,
   "metadata": {},
   "outputs": [
    {
     "data": {
      "text/plain": [
       "<tf.Variable 'simple_rnn/simple_rnn_cell/kernel:0' shape=(1, 10) dtype=float32, numpy=\n",
       "array([[ 0.6578415 , -0.39673924, -0.76611876,  0.714946  , -0.39057568,\n",
       "        -0.4917922 ,  0.01214183,  0.4717072 ,  0.35385975,  0.2668582 ]],\n",
       "      dtype=float32)>"
      ]
     },
     "execution_count": 15,
     "metadata": {},
     "output_type": "execute_result"
    }
   ],
   "source": [
    "# 입력에 대한 weights\n",
    "model.weights[0]"
   ]
  },
  {
   "cell_type": "code",
   "execution_count": 16,
   "metadata": {},
   "outputs": [
    {
     "data": {
      "text/plain": [
       "<tf.Variable 'simple_rnn/simple_rnn_cell/recurrent_kernel:0' shape=(10, 10) dtype=float32, numpy=\n",
       "array([[-0.36598417, -0.41237187,  0.07205033,  0.32727763,  0.23657292,\n",
       "        -0.25634316, -0.15571372, -0.03290741, -0.08710875, -0.4708088 ],\n",
       "       [-0.18544975,  0.6556593 ,  0.18857367,  0.02857488,  0.13855666,\n",
       "        -0.16789754,  0.40656447,  0.31033975, -0.11308137, -0.4572894 ],\n",
       "       [ 0.29866236,  0.11767911, -0.08589939,  0.28775576, -0.43322048,\n",
       "        -0.34153554, -0.4755406 ,  0.41718858, -0.33104244, -0.10313024],\n",
       "       [ 0.18058811,  0.18298282, -0.5297917 ,  0.4027508 ,  0.24580331,\n",
       "         0.39124748, -0.22591634, -0.09112235,  0.46246797, -0.3201197 ],\n",
       "       [ 0.02565909, -0.35718283,  0.12548572,  0.3949914 , -0.43169942,\n",
       "         0.41123807,  0.5265925 ,  0.20031902, -0.25119224, -0.10975732],\n",
       "       [-0.07254684, -0.22649227, -0.70872474, -0.09761057,  0.00103046,\n",
       "        -0.47800174,  0.48330972,  0.22211176, -0.18058655,  0.1341561 ],\n",
       "       [ 0.5167693 , -0.18078421,  0.03066811, -0.2188445 ,  0.6230094 ,\n",
       "         0.2398234 , -0.10798477, -0.05945595, -0.412551  , -0.3100846 ],\n",
       "       [-0.443631  ,  0.09896423, -0.25228447, -0.25727096,  0.15469366,\n",
       "         0.59314746, -0.35163584,  0.40850273, -0.24647526,  0.06169108],\n",
       "       [-0.02876039,  0.0832843 , -0.25752136, -0.40052128, -0.51418394,\n",
       "         0.06745305, -0.00178975, -0.5248262 , -0.18433118, -0.45909348],\n",
       "       [-0.02193809,  0.3565836 , -0.09489964,  0.43239748,  0.16298988,\n",
       "         0.03807556,  0.02234483, -0.39173394, -0.5649778 ,  0.35738364]],\n",
       "      dtype=float32)>"
      ]
     },
     "execution_count": 16,
     "metadata": {},
     "output_type": "execute_result"
    }
   ],
   "source": [
    "# 유닛에 대한 weights\n",
    "model.weights[1]"
   ]
  },
  {
   "cell_type": "markdown",
   "metadata": {},
   "source": [
    "### model 2"
   ]
  },
  {
   "cell_type": "code",
   "execution_count": 17,
   "metadata": {},
   "outputs": [
    {
     "name": "stdout",
     "output_type": "stream",
     "text": [
      "Model: \"sequential_1\"\n",
      "_________________________________________________________________\n",
      "Layer (type)                 Output Shape              Param #   \n",
      "=================================================================\n",
      "simple_rnn_1 (SimpleRNN)     (None, 5)                 35        \n",
      "_________________________________________________________________\n",
      "dense_1 (Dense)              (None, 1)                 6         \n",
      "=================================================================\n",
      "Total params: 41\n",
      "Trainable params: 41\n",
      "Non-trainable params: 0\n",
      "_________________________________________________________________\n"
     ]
    }
   ],
   "source": [
    "model2 = Sequential()\n",
    "model2.add(SimpleRNN(5, input_shape=(3, 1)))\n",
    "model2.add(Dense(1, activation=\"linear\"))\n",
    "model2.summary()\n",
    "# 파라미터 (1 + 5) * 5 + 5 = 35"
   ]
  },
  {
   "cell_type": "code",
   "execution_count": 18,
   "metadata": {},
   "outputs": [],
   "source": [
    "model2.compile(loss='mse', optimizer='sgd')"
   ]
  },
  {
   "cell_type": "code",
   "execution_count": 19,
   "metadata": {},
   "outputs": [
    {
     "data": {
      "image/png": "[encoded data removed]",
      "text/plain": [
       "<Figure size 432x288 with 1 Axes>"
      ]
     },
     "metadata": {
      "needs_background": "light"
     },
     "output_type": "display_data"
    }
   ],
   "source": [
    "plt.plot(Y_train, 'ro-', label=\"target\")\n",
    "plt.plot(model2.predict(X_train[:, :, :]), 'bs-', label=\"output\")\n",
    "plt.xlim(-0.5, 20.5)\n",
    "plt.ylim(-1.1, 1.1)\n",
    "plt.legend()\n",
    "plt.title(\"Before training\")\n",
    "plt.show()"
   ]
  },
  {
   "cell_type": "code",
   "execution_count": 20,
   "metadata": {},
   "outputs": [
    {
     "name": "stdout",
     "output_type": "stream",
     "text": [
      "Epoch 1/100\n",
      "1/1 [==============================] - 0s 1ms/step - loss: 0.6581\n",
      "Epoch 2/100\n",
      "1/1 [==============================] - 0s 829us/step - loss: 0.6360\n",
      "Epoch 3/100\n",
      "1/1 [==============================] - 0s 880us/step - loss: 0.6151\n",
      "Epoch 4/100\n",
      "1/1 [==============================] - 0s 855us/step - loss: 0.5951\n",
      "Epoch 5/100\n",
      "1/1 [==============================] - 0s 959us/step - loss: 0.5760\n",
      "Epoch 6/100\n",
      "1/1 [==============================] - 0s 856us/step - loss: 0.5578\n",
      "Epoch 7/100\n",
      "1/1 [==============================] - 0s 849us/step - loss: 0.5403\n",
      "Epoch 8/100\n",
      "1/1 [==============================] - 0s 1ms/step - loss: 0.5235\n",
      "Epoch 9/100\n",
      "1/1 [==============================] - 0s 943us/step - loss: 0.5073\n",
      "Epoch 10/100\n",
      "1/1 [==============================] - 0s 1ms/step - loss: 0.4917\n",
      "Epoch 11/100\n",
      "1/1 [==============================] - 0s 1ms/step - loss: 0.4766\n",
      "Epoch 12/100\n",
      "1/1 [==============================] - 0s 960us/step - loss: 0.4621\n",
      "Epoch 13/100\n",
      "1/1 [==============================] - 0s 993us/step - loss: 0.4480\n",
      "Epoch 14/100\n",
      "1/1 [==============================] - 0s 844us/step - loss: 0.4344\n",
      "Epoch 15/100\n",
      "1/1 [==============================] - 0s 987us/step - loss: 0.4213\n",
      "Epoch 16/100\n",
      "1/1 [==============================] - 0s 976us/step - loss: 0.4085\n",
      "Epoch 17/100\n",
      "1/1 [==============================] - 0s 952us/step - loss: 0.3962\n",
      "Epoch 18/100\n",
      "1/1 [==============================] - 0s 904us/step - loss: 0.3842\n",
      "Epoch 19/100\n",
      "1/1 [==============================] - 0s 1ms/step - loss: 0.3726\n",
      "Epoch 20/100\n",
      "1/1 [==============================] - 0s 839us/step - loss: 0.3613\n",
      "Epoch 21/100\n",
      "1/1 [==============================] - 0s 998us/step - loss: 0.3504\n",
      "Epoch 22/100\n",
      "1/1 [==============================] - 0s 900us/step - loss: 0.3398\n",
      "Epoch 23/100\n",
      "1/1 [==============================] - 0s 969us/step - loss: 0.3296\n",
      "Epoch 24/100\n",
      "1/1 [==============================] - 0s 810us/step - loss: 0.3196\n",
      "Epoch 25/100\n",
      "1/1 [==============================] - 0s 853us/step - loss: 0.3099\n",
      "Epoch 26/100\n",
      "1/1 [==============================] - 0s 1ms/step - loss: 0.3005\n",
      "Epoch 27/100\n",
      "1/1 [==============================] - 0s 1ms/step - loss: 0.2914\n",
      "Epoch 28/100\n",
      "1/1 [==============================] - 0s 923us/step - loss: 0.2825\n",
      "Epoch 29/100\n",
      "1/1 [==============================] - 0s 875us/step - loss: 0.2739\n",
      "Epoch 30/100\n",
      "1/1 [==============================] - 0s 865us/step - loss: 0.2656\n",
      "Epoch 31/100\n",
      "1/1 [==============================] - 0s 1ms/step - loss: 0.2575\n",
      "Epoch 32/100\n",
      "1/1 [==============================] - 0s 1ms/step - loss: 0.2496\n",
      "Epoch 33/100\n",
      "1/1 [==============================] - 0s 1ms/step - loss: 0.2420\n",
      "Epoch 34/100\n",
      "1/1 [==============================] - 0s 1ms/step - loss: 0.2346\n",
      "Epoch 35/100\n",
      "1/1 [==============================] - 0s 1ms/step - loss: 0.2274\n",
      "Epoch 36/100\n",
      "1/1 [==============================] - 0s 1ms/step - loss: 0.2205\n",
      "Epoch 37/100\n",
      "1/1 [==============================] - 0s 870us/step - loss: 0.2137\n",
      "Epoch 38/100\n",
      "1/1 [==============================] - 0s 1ms/step - loss: 0.2072\n",
      "Epoch 39/100\n",
      "1/1 [==============================] - 0s 1ms/step - loss: 0.2008\n",
      "Epoch 40/100\n",
      "1/1 [==============================] - 0s 2ms/step - loss: 0.1946\n",
      "Epoch 41/100\n",
      "1/1 [==============================] - 0s 935us/step - loss: 0.1887\n",
      "Epoch 42/100\n",
      "1/1 [==============================] - 0s 870us/step - loss: 0.1829\n",
      "Epoch 43/100\n",
      "1/1 [==============================] - 0s 973us/step - loss: 0.1772\n",
      "Epoch 44/100\n",
      "1/1 [==============================] - 0s 1ms/step - loss: 0.1718\n",
      "Epoch 45/100\n",
      "1/1 [==============================] - 0s 966us/step - loss: 0.1665\n",
      "Epoch 46/100\n",
      "1/1 [==============================] - 0s 907us/step - loss: 0.1614\n",
      "Epoch 47/100\n",
      "1/1 [==============================] - 0s 885us/step - loss: 0.1565\n",
      "Epoch 48/100\n",
      "1/1 [==============================] - 0s 974us/step - loss: 0.1517\n",
      "Epoch 49/100\n",
      "1/1 [==============================] - 0s 959us/step - loss: 0.1470\n",
      "Epoch 50/100\n",
      "1/1 [==============================] - 0s 877us/step - loss: 0.1425\n",
      "Epoch 51/100\n",
      "1/1 [==============================] - 0s 1ms/step - loss: 0.1381\n",
      "Epoch 52/100\n",
      "1/1 [==============================] - 0s 1ms/step - loss: 0.1339\n",
      "Epoch 53/100\n",
      "1/1 [==============================] - 0s 1ms/step - loss: 0.1298\n",
      "Epoch 54/100\n",
      "1/1 [==============================] - 0s 1ms/step - loss: 0.1259\n",
      "Epoch 55/100\n",
      "1/1 [==============================] - 0s 2ms/step - loss: 0.1220\n",
      "Epoch 56/100\n",
      "1/1 [==============================] - 0s 975us/step - loss: 0.1183\n",
      "Epoch 57/100\n",
      "1/1 [==============================] - 0s 1ms/step - loss: 0.1147\n",
      "Epoch 58/100\n",
      "1/1 [==============================] - 0s 972us/step - loss: 0.1112\n",
      "Epoch 59/100\n",
      "1/1 [==============================] - 0s 1ms/step - loss: 0.1079\n",
      "Epoch 60/100\n",
      "1/1 [==============================] - 0s 1ms/step - loss: 0.1046\n",
      "Epoch 61/100\n",
      "1/1 [==============================] - 0s 976us/step - loss: 0.1015\n",
      "Epoch 62/100\n",
      "1/1 [==============================] - 0s 1ms/step - loss: 0.0984\n",
      "Epoch 63/100\n",
      "1/1 [==============================] - 0s 1ms/step - loss: 0.0955\n",
      "Epoch 64/100\n",
      "1/1 [==============================] - 0s 1ms/step - loss: 0.0926\n",
      "Epoch 65/100\n",
      "1/1 [==============================] - 0s 868us/step - loss: 0.0899\n",
      "Epoch 66/100\n",
      "1/1 [==============================] - 0s 870us/step - loss: 0.0872\n",
      "Epoch 67/100\n",
      "1/1 [==============================] - 0s 833us/step - loss: 0.0847\n",
      "Epoch 68/100\n",
      "1/1 [==============================] - 0s 921us/step - loss: 0.0822\n",
      "Epoch 69/100\n",
      "1/1 [==============================] - 0s 906us/step - loss: 0.0798\n",
      "Epoch 70/100\n",
      "1/1 [==============================] - 0s 835us/step - loss: 0.0774\n",
      "Epoch 71/100\n",
      "1/1 [==============================] - 0s 1ms/step - loss: 0.0752\n",
      "Epoch 72/100\n",
      "1/1 [==============================] - 0s 1ms/step - loss: 0.0730\n",
      "Epoch 73/100\n",
      "1/1 [==============================] - 0s 871us/step - loss: 0.0709\n",
      "Epoch 74/100\n",
      "1/1 [==============================] - 0s 916us/step - loss: 0.0689\n",
      "Epoch 75/100\n",
      "1/1 [==============================] - 0s 1ms/step - loss: 0.0669\n",
      "Epoch 76/100\n",
      "1/1 [==============================] - 0s 2ms/step - loss: 0.0650\n",
      "Epoch 77/100\n",
      "1/1 [==============================] - 0s 809us/step - loss: 0.0632\n",
      "Epoch 78/100\n",
      "1/1 [==============================] - 0s 853us/step - loss: 0.0614\n",
      "Epoch 79/100\n",
      "1/1 [==============================] - 0s 1ms/step - loss: 0.0597\n",
      "Epoch 80/100\n",
      "1/1 [==============================] - 0s 913us/step - loss: 0.0581\n",
      "Epoch 81/100\n",
      "1/1 [==============================] - 0s 1ms/step - loss: 0.0565\n",
      "Epoch 82/100\n",
      "1/1 [==============================] - 0s 1ms/step - loss: 0.0549\n",
      "Epoch 83/100\n",
      "1/1 [==============================] - 0s 1ms/step - loss: 0.0535\n",
      "Epoch 84/100\n",
      "1/1 [==============================] - 0s 2ms/step - loss: 0.0520\n",
      "Epoch 85/100\n",
      "1/1 [==============================] - 0s 1ms/step - loss: 0.0506\n",
      "Epoch 86/100\n",
      "1/1 [==============================] - 0s 991us/step - loss: 0.0493\n",
      "Epoch 87/100\n",
      "1/1 [==============================] - 0s 835us/step - loss: 0.0480\n",
      "Epoch 88/100\n",
      "1/1 [==============================] - 0s 814us/step - loss: 0.0468\n",
      "Epoch 89/100\n",
      "1/1 [==============================] - 0s 1ms/step - loss: 0.0456\n",
      "Epoch 90/100\n",
      "1/1 [==============================] - 0s 1ms/step - loss: 0.0444\n",
      "Epoch 91/100\n",
      "1/1 [==============================] - 0s 1ms/step - loss: 0.0433\n",
      "Epoch 92/100\n",
      "1/1 [==============================] - 0s 1ms/step - loss: 0.0422\n",
      "Epoch 93/100\n",
      "1/1 [==============================] - 0s 1ms/step - loss: 0.0412\n",
      "Epoch 94/100\n",
      "1/1 [==============================] - 0s 1ms/step - loss: 0.0402\n",
      "Epoch 95/100\n",
      "1/1 [==============================] - 0s 943us/step - loss: 0.0392\n",
      "Epoch 96/100\n",
      "1/1 [==============================] - 0s 989us/step - loss: 0.0382\n",
      "Epoch 97/100\n",
      "1/1 [==============================] - 0s 1ms/step - loss: 0.0373\n",
      "Epoch 98/100\n",
      "1/1 [==============================] - 0s 1ms/step - loss: 0.0365\n",
      "Epoch 99/100\n",
      "1/1 [==============================] - 0s 889us/step - loss: 0.0356\n",
      "Epoch 100/100\n",
      "1/1 [==============================] - 0s 1ms/step - loss: 0.0348\n"
     ]
    }
   ],
   "source": [
    "history2 = model2.fit(X_train, Y_train, epochs=100) "
   ]
  },
  {
   "cell_type": "code",
   "execution_count": 21,
   "metadata": {},
   "outputs": [
    {
     "data": {
      "image/png": "[encoded data removed]",
      "text/plain": [
       "<Figure size 432x288 with 1 Axes>"
      ]
     },
     "metadata": {
      "needs_background": "light"
     },
     "output_type": "display_data"
    }
   ],
   "source": [
    "plt.plot(history2.history[\"loss\"])\n",
    "plt.title(\"Loss\")\n",
    "plt.show() "
   ]
  },
  {
   "cell_type": "code",
   "execution_count": 22,
   "metadata": {},
   "outputs": [
    {
     "data": {
      "image/png": "[encoded data removed]",
      "text/plain": [
       "<Figure size 432x288 with 1 Axes>"
      ]
     },
     "metadata": {
      "needs_background": "light"
     },
     "output_type": "display_data"
    }
   ],
   "source": [
    "plt.plot(Y_train, 'ro-', label=\"target\")\n",
    "plt.plot(model2.predict(X_train[:, :, :]), 'bs-', label=\"output\")\n",
    "plt.xlim(-0.5, 20.5)\n",
    "plt.ylim(-1.1, 1.1)\n",
    "plt.legend()\n",
    "plt.title(\"After training\")\n",
    "plt.show() "
   ]
  },
  {
   "cell_type": "code",
   "execution_count": 23,
   "metadata": {},
   "outputs": [
    {
     "data": {
      "text/plain": [
       "<tf.Variable 'simple_rnn_1/simple_rnn_cell_1/kernel:0' shape=(1, 5) dtype=float32, numpy=\n",
       "array([[ 0.87597793, -0.67744356, -0.2653365 , -0.18139847,  0.16022354]],\n",
       "      dtype=float32)>"
      ]
     },
     "execution_count": 23,
     "metadata": {},
     "output_type": "execute_result"
    }
   ],
   "source": [
    "# 입력에 대한 weights\n",
    "model2.weights[0]"
   ]
  },
  {
   "cell_type": "code",
   "execution_count": 24,
   "metadata": {},
   "outputs": [
    {
     "data": {
      "text/plain": [
       "<tf.Variable 'simple_rnn_1/simple_rnn_cell_1/recurrent_kernel:0' shape=(5, 5) dtype=float32, numpy=\n",
       "array([[ 0.05295658,  0.9481136 ,  0.6338815 ,  0.1953027 , -0.23036282],\n",
       "       [ 0.41235602, -0.8492975 ,  0.65538037, -0.5009102 ,  0.41319218],\n",
       "       [ 0.19005835,  0.11531202, -0.18547682, -0.79948586, -0.5169138 ],\n",
       "       [ 0.17224297, -0.6106807 ,  0.17678908,  0.3400881 , -0.6985929 ],\n",
       "       [-0.89204293, -0.10515369,  0.3116097 , -0.21603835, -0.15694813]],\n",
       "      dtype=float32)>"
      ]
     },
     "execution_count": 24,
     "metadata": {},
     "output_type": "execute_result"
    }
   ],
   "source": [
    "# 유닛에 대한 weights\n",
    "model2.weights[1]"
   ]
  },
  {
   "cell_type": "markdown",
   "metadata": {},
   "source": [
    "### model 3 (node x 20)"
   ]
  },
  {
   "cell_type": "code",
   "execution_count": 25,
   "metadata": {},
   "outputs": [
    {
     "name": "stdout",
     "output_type": "stream",
     "text": [
      "Model: \"sequential_2\"\n",
      "_________________________________________________________________\n",
      "Layer (type)                 Output Shape              Param #   \n",
      "=================================================================\n",
      "simple_rnn_2 (SimpleRNN)     (None, 20)                440       \n",
      "_________________________________________________________________\n",
      "dense_2 (Dense)              (None, 1)                 21        \n",
      "=================================================================\n",
      "Total params: 461\n",
      "Trainable params: 461\n",
      "Non-trainable params: 0\n",
      "_________________________________________________________________\n"
     ]
    }
   ],
   "source": [
    "model3 = Sequential()\n",
    "model3.add(SimpleRNN(20, input_shape=(3, 1)))\n",
    "model3.add(Dense(1, activation=\"linear\"))\n",
    "model3.summary()\n",
    "# 파라미터 (1 + 20) * 20 + 20 = 440"
   ]
  },
  {
   "cell_type": "code",
   "execution_count": 26,
   "metadata": {},
   "outputs": [],
   "source": [
    "model3.compile(loss='mse', optimizer='sgd')"
   ]
  },
  {
   "cell_type": "code",
   "execution_count": 27,
   "metadata": {},
   "outputs": [
    {
     "data": {
      "image/png": "[encoded data removed]",
      "text/plain": [
       "<Figure size 432x288 with 1 Axes>"
      ]
     },
     "metadata": {
      "needs_background": "light"
     },
     "output_type": "display_data"
    }
   ],
   "source": [
    "plt.plot(Y_train, 'ro-', label=\"target\")\n",
    "plt.plot(model3.predict(X_train[:, :, :]), 'bs-', label=\"output\")\n",
    "plt.xlim(-0.5, 20.5)\n",
    "plt.ylim(-1.1, 1.1)\n",
    "plt.legend()\n",
    "plt.title(\"Before training\")\n",
    "plt.show()"
   ]
  },
  {
   "cell_type": "code",
   "execution_count": 28,
   "metadata": {},
   "outputs": [
    {
     "name": "stdout",
     "output_type": "stream",
     "text": [
      "Epoch 1/100\n",
      "1/1 [==============================] - 0s 1ms/step - loss: 0.4576\n",
      "Epoch 2/100\n",
      "1/1 [==============================] - 0s 798us/step - loss: 0.4192\n",
      "Epoch 3/100\n",
      "1/1 [==============================] - 0s 832us/step - loss: 0.3847\n",
      "Epoch 4/100\n",
      "1/1 [==============================] - 0s 849us/step - loss: 0.3534\n",
      "Epoch 5/100\n",
      "1/1 [==============================] - 0s 811us/step - loss: 0.3249\n",
      "Epoch 6/100\n",
      "1/1 [==============================] - 0s 828us/step - loss: 0.2990\n",
      "Epoch 7/100\n",
      "1/1 [==============================] - 0s 850us/step - loss: 0.2753\n",
      "Epoch 8/100\n",
      "1/1 [==============================] - 0s 844us/step - loss: 0.2536\n",
      "Epoch 9/100\n",
      "1/1 [==============================] - 0s 1ms/step - loss: 0.2337\n",
      "Epoch 10/100\n",
      "1/1 [==============================] - 0s 861us/step - loss: 0.2154\n",
      "Epoch 11/100\n",
      "1/1 [==============================] - 0s 1ms/step - loss: 0.1985\n",
      "Epoch 12/100\n",
      "1/1 [==============================] - 0s 972us/step - loss: 0.1830\n",
      "Epoch 13/100\n",
      "1/1 [==============================] - 0s 962us/step - loss: 0.1687\n",
      "Epoch 14/100\n",
      "1/1 [==============================] - 0s 933us/step - loss: 0.1554\n",
      "Epoch 15/100\n",
      "1/1 [==============================] - 0s 835us/step - loss: 0.1432\n",
      "Epoch 16/100\n",
      "1/1 [==============================] - 0s 925us/step - loss: 0.1320\n",
      "Epoch 17/100\n",
      "1/1 [==============================] - 0s 937us/step - loss: 0.1216\n",
      "Epoch 18/100\n",
      "1/1 [==============================] - 0s 1ms/step - loss: 0.1119\n",
      "Epoch 19/100\n",
      "1/1 [==============================] - 0s 1ms/step - loss: 0.1031\n",
      "Epoch 20/100\n",
      "1/1 [==============================] - 0s 845us/step - loss: 0.0949\n",
      "Epoch 21/100\n",
      "1/1 [==============================] - 0s 847us/step - loss: 0.0873\n",
      "Epoch 22/100\n",
      "1/1 [==============================] - 0s 1ms/step - loss: 0.0803\n",
      "Epoch 23/100\n",
      "1/1 [==============================] - 0s 892us/step - loss: 0.0739\n",
      "Epoch 24/100\n",
      "1/1 [==============================] - 0s 867us/step - loss: 0.0679\n",
      "Epoch 25/100\n",
      "1/1 [==============================] - 0s 963us/step - loss: 0.0624\n",
      "Epoch 26/100\n",
      "1/1 [==============================] - 0s 2ms/step - loss: 0.0574\n",
      "Epoch 27/100\n",
      "1/1 [==============================] - 0s 924us/step - loss: 0.0527\n",
      "Epoch 28/100\n",
      "1/1 [==============================] - 0s 964us/step - loss: 0.0485\n",
      "Epoch 29/100\n",
      "1/1 [==============================] - 0s 981us/step - loss: 0.0445\n",
      "Epoch 30/100\n",
      "1/1 [==============================] - 0s 1ms/step - loss: 0.0409\n",
      "Epoch 31/100\n",
      "1/1 [==============================] - 0s 908us/step - loss: 0.0375\n",
      "Epoch 32/100\n",
      "1/1 [==============================] - 0s 945us/step - loss: 0.0345\n",
      "Epoch 33/100\n",
      "1/1 [==============================] - 0s 890us/step - loss: 0.0317\n",
      "Epoch 34/100\n",
      "1/1 [==============================] - 0s 1ms/step - loss: 0.0291\n",
      "Epoch 35/100\n",
      "1/1 [==============================] - 0s 956us/step - loss: 0.0267\n",
      "Epoch 36/100\n",
      "1/1 [==============================] - 0s 1ms/step - loss: 0.0245\n",
      "Epoch 37/100\n",
      "1/1 [==============================] - 0s 997us/step - loss: 0.0225\n",
      "Epoch 38/100\n",
      "1/1 [==============================] - 0s 1ms/step - loss: 0.0207\n",
      "Epoch 39/100\n",
      "1/1 [==============================] - 0s 1ms/step - loss: 0.0190\n",
      "Epoch 40/100\n",
      "1/1 [==============================] - 0s 989us/step - loss: 0.0175\n",
      "Epoch 41/100\n",
      "1/1 [==============================] - 0s 874us/step - loss: 0.0161\n",
      "Epoch 42/100\n",
      "1/1 [==============================] - 0s 1ms/step - loss: 0.0148\n",
      "Epoch 43/100\n",
      "1/1 [==============================] - 0s 995us/step - loss: 0.0136\n",
      "Epoch 44/100\n",
      "1/1 [==============================] - 0s 904us/step - loss: 0.0125\n",
      "Epoch 45/100\n",
      "1/1 [==============================] - 0s 1ms/step - loss: 0.0115\n",
      "Epoch 46/100\n",
      "1/1 [==============================] - 0s 887us/step - loss: 0.0106\n",
      "Epoch 47/100\n",
      "1/1 [==============================] - 0s 952us/step - loss: 0.0098\n",
      "Epoch 48/100\n",
      "1/1 [==============================] - 0s 1ms/step - loss: 0.0090\n",
      "Epoch 49/100\n",
      "1/1 [==============================] - 0s 1ms/step - loss: 0.0083\n",
      "Epoch 50/100\n",
      "1/1 [==============================] - 0s 1ms/step - loss: 0.0077\n",
      "Epoch 51/100\n",
      "1/1 [==============================] - 0s 1ms/step - loss: 0.0071\n",
      "Epoch 52/100\n",
      "1/1 [==============================] - 0s 1ms/step - loss: 0.0066\n",
      "Epoch 53/100\n",
      "1/1 [==============================] - 0s 964us/step - loss: 0.0061\n",
      "Epoch 54/100\n",
      "1/1 [==============================] - 0s 857us/step - loss: 0.0057\n",
      "Epoch 55/100\n",
      "1/1 [==============================] - 0s 1ms/step - loss: 0.0053\n",
      "Epoch 56/100\n",
      "1/1 [==============================] - 0s 996us/step - loss: 0.0049\n",
      "Epoch 57/100\n",
      "1/1 [==============================] - 0s 1ms/step - loss: 0.0046\n",
      "Epoch 58/100\n",
      "1/1 [==============================] - 0s 1ms/step - loss: 0.0043\n",
      "Epoch 59/100\n",
      "1/1 [==============================] - 0s 886us/step - loss: 0.0040\n",
      "Epoch 60/100\n",
      "1/1 [==============================] - 0s 1ms/step - loss: 0.0037\n",
      "Epoch 61/100\n",
      "1/1 [==============================] - 0s 1ms/step - loss: 0.0035\n",
      "Epoch 62/100\n",
      "1/1 [==============================] - 0s 945us/step - loss: 0.0033\n",
      "Epoch 63/100\n",
      "1/1 [==============================] - 0s 830us/step - loss: 0.0031\n",
      "Epoch 64/100\n",
      "1/1 [==============================] - 0s 950us/step - loss: 0.0029\n",
      "Epoch 65/100\n",
      "1/1 [==============================] - 0s 985us/step - loss: 0.0028\n",
      "Epoch 66/100\n",
      "1/1 [==============================] - 0s 937us/step - loss: 0.0026\n",
      "Epoch 67/100\n",
      "1/1 [==============================] - 0s 1ms/step - loss: 0.0025\n",
      "Epoch 68/100\n",
      "1/1 [==============================] - 0s 829us/step - loss: 0.0024\n",
      "Epoch 69/100\n",
      "1/1 [==============================] - 0s 1ms/step - loss: 0.0023\n",
      "Epoch 70/100\n",
      "1/1 [==============================] - 0s 1ms/step - loss: 0.0022\n",
      "Epoch 71/100\n",
      "1/1 [==============================] - 0s 890us/step - loss: 0.0021\n",
      "Epoch 72/100\n",
      "1/1 [==============================] - 0s 1ms/step - loss: 0.0020\n",
      "Epoch 73/100\n",
      "1/1 [==============================] - 0s 1ms/step - loss: 0.0019\n",
      "Epoch 74/100\n",
      "1/1 [==============================] - 0s 1ms/step - loss: 0.0019\n",
      "Epoch 75/100\n",
      "1/1 [==============================] - 0s 1ms/step - loss: 0.0018\n",
      "Epoch 76/100\n",
      "1/1 [==============================] - 0s 1ms/step - loss: 0.0017\n",
      "Epoch 77/100\n",
      "1/1 [==============================] - 0s 1ms/step - loss: 0.0017\n",
      "Epoch 78/100\n",
      "1/1 [==============================] - 0s 1ms/step - loss: 0.0016\n",
      "Epoch 79/100\n",
      "1/1 [==============================] - 0s 885us/step - loss: 0.0016\n",
      "Epoch 80/100\n",
      "1/1 [==============================] - 0s 843us/step - loss: 0.0016\n",
      "Epoch 81/100\n",
      "1/1 [==============================] - 0s 1ms/step - loss: 0.0015\n",
      "Epoch 82/100\n",
      "1/1 [==============================] - 0s 895us/step - loss: 0.0015\n",
      "Epoch 83/100\n",
      "1/1 [==============================] - 0s 827us/step - loss: 0.0015\n",
      "Epoch 84/100\n",
      "1/1 [==============================] - 0s 1ms/step - loss: 0.0014\n",
      "Epoch 85/100\n",
      "1/1 [==============================] - 0s 924us/step - loss: 0.0014\n",
      "Epoch 86/100\n",
      "1/1 [==============================] - 0s 1ms/step - loss: 0.0014\n",
      "Epoch 87/100\n",
      "1/1 [==============================] - 0s 1ms/step - loss: 0.0014\n",
      "Epoch 88/100\n",
      "1/1 [==============================] - 0s 968us/step - loss: 0.0013\n",
      "Epoch 89/100\n",
      "1/1 [==============================] - 0s 1ms/step - loss: 0.0013\n",
      "Epoch 90/100\n",
      "1/1 [==============================] - 0s 1ms/step - loss: 0.0013\n",
      "Epoch 91/100\n",
      "1/1 [==============================] - 0s 1ms/step - loss: 0.0013\n",
      "Epoch 92/100\n",
      "1/1 [==============================] - 0s 1ms/step - loss: 0.0013\n",
      "Epoch 93/100\n",
      "1/1 [==============================] - 0s 846us/step - loss: 0.0013\n",
      "Epoch 94/100\n",
      "1/1 [==============================] - 0s 903us/step - loss: 0.0013\n",
      "Epoch 95/100\n",
      "1/1 [==============================] - 0s 929us/step - loss: 0.0012\n",
      "Epoch 96/100\n",
      "1/1 [==============================] - 0s 2ms/step - loss: 0.0012\n",
      "Epoch 97/100\n",
      "1/1 [==============================] - 0s 1ms/step - loss: 0.0012\n",
      "Epoch 98/100\n",
      "1/1 [==============================] - 0s 1ms/step - loss: 0.0012\n",
      "Epoch 99/100\n",
      "1/1 [==============================] - 0s 2ms/step - loss: 0.0012\n",
      "Epoch 100/100\n",
      "1/1 [==============================] - 0s 946us/step - loss: 0.0012\n"
     ]
    }
   ],
   "source": [
    "history3 = model3.fit(X_train, Y_train, epochs=100) "
   ]
  },
  {
   "cell_type": "code",
   "execution_count": 29,
   "metadata": {},
   "outputs": [
    {
     "data": {
      "image/png": "[encoded data removed]",
      "text/plain": [
       "<Figure size 432x288 with 1 Axes>"
      ]
     },
     "metadata": {
      "needs_background": "light"
     },
     "output_type": "display_data"
    }
   ],
   "source": [
    "plt.plot(history3.history[\"loss\"])\n",
    "plt.title(\"Loss\")\n",
    "plt.show() "
   ]
  },
  {
   "cell_type": "code",
   "execution_count": 30,
   "metadata": {},
   "outputs": [
    {
     "data": {
      "image/png": "[encoded data removed]",
      "text/plain": [
       "<Figure size 432x288 with 1 Axes>"
      ]
     },
     "metadata": {
      "needs_background": "light"
     },
     "output_type": "display_data"
    }
   ],
   "source": [
    "plt.plot(Y_train, 'ro-', label=\"target\")\n",
    "plt.plot(model3.predict(X_train[:, :, :]), 'bs-', label=\"output\")\n",
    "plt.xlim(-0.5, 20.5)\n",
    "plt.ylim(-1.1, 1.1)\n",
    "plt.legend()\n",
    "plt.title(\"After training\")\n",
    "plt.show() "
   ]
  },
  {
   "cell_type": "code",
   "execution_count": 31,
   "metadata": {},
   "outputs": [
    {
     "data": {
      "text/plain": [
       "<tf.Variable 'simple_rnn_2/simple_rnn_cell_2/kernel:0' shape=(1, 20) dtype=float32, numpy=\n",
       "array([[ 0.14075397, -0.19138166, -0.04931762,  0.05750427,  0.3891532 ,\n",
       "         0.41768026, -0.11054812, -0.12995957,  0.13075696, -0.2569781 ,\n",
       "         0.2571414 , -0.40828872,  0.09795636,  0.30929476,  0.42359376,\n",
       "        -0.10854791, -0.50341666, -0.43094727, -0.00470184,  0.23369357]],\n",
       "      dtype=float32)>"
      ]
     },
     "execution_count": 31,
     "metadata": {},
     "output_type": "execute_result"
    }
   ],
   "source": [
    "# 입력에 대한 weights\n",
    "model3.weights[0]"
   ]
  },
  {
   "cell_type": "code",
   "execution_count": 32,
   "metadata": {},
   "outputs": [
    {
     "data": {
      "text/plain": [
       "<tf.Variable 'simple_rnn_2/simple_rnn_cell_2/recurrent_kernel:0' shape=(20, 20) dtype=float32, numpy=\n",
       "array([[ 2.32291982e-01,  5.04652448e-02,  3.22066665e-01,\n",
       "        -2.66291142e-01,  3.71326715e-01, -1.61482450e-02,\n",
       "        -4.64327373e-02,  7.43845999e-02, -2.91158706e-01,\n",
       "        -8.25992674e-02,  2.77675241e-01,  2.09937230e-01,\n",
       "         7.37191811e-02, -2.63569772e-01,  2.19433650e-01,\n",
       "        -2.08430111e-01, -3.19525123e-01, -1.72321238e-02,\n",
       "        -2.23345459e-01, -2.84902513e-01],\n",
       "       [-2.60772586e-01, -2.58374840e-01,  4.35356319e-01,\n",
       "         4.09686029e-01,  3.26652527e-01,  2.01749563e-01,\n",
       "         1.83937579e-01, -7.19481781e-02,  4.59220082e-01,\n",
       "        -7.35653266e-02, -9.62668508e-02,  1.03237946e-02,\n",
       "         1.95263341e-01,  1.43141663e-02,  7.48134106e-02,\n",
       "        -9.25019979e-02, -2.48157889e-01, -1.50013324e-02,\n",
       "         8.17555115e-02,  6.90967813e-02],\n",
       "       [-7.73016661e-02, -1.05952688e-01, -2.76242122e-02,\n",
       "        -2.19314292e-01, -2.22864062e-01, -1.30289033e-01,\n",
       "         1.14208713e-01, -4.42047298e-01, -1.87424079e-01,\n",
       "        -1.56114012e-01, -2.58746535e-01,  1.23131610e-01,\n",
       "         9.59995482e-03,  3.45170617e-01,  1.10609114e-01,\n",
       "         1.32720098e-01, -4.91028339e-01,  3.35767895e-01,\n",
       "         1.83858812e-01, -2.04067662e-01],\n",
       "       [-1.76557556e-01,  5.25719672e-02,  1.46865234e-01,\n",
       "         4.13160538e-03,  8.28487650e-02, -5.36410868e-01,\n",
       "        -1.47914335e-01, -3.47125262e-01,  2.43281677e-01,\n",
       "         1.21449918e-01, -8.57174583e-03,  4.54775132e-02,\n",
       "        -1.06687225e-01,  5.68510853e-02, -1.39583960e-01,\n",
       "        -1.91248566e-01,  2.38006175e-01,  2.43420959e-01,\n",
       "        -4.75909054e-01, -1.10293455e-01],\n",
       "       [ 1.72563568e-01, -2.19680607e-01, -2.76100904e-01,\n",
       "         1.19351350e-01, -3.47679347e-01, -1.01852007e-01,\n",
       "        -2.13082675e-02,  1.00990951e-01,  2.80625910e-01,\n",
       "        -1.99883282e-01,  4.58701134e-01,  1.78309396e-01,\n",
       "         2.78933406e-01, -1.83640674e-01, -1.76559508e-01,\n",
       "         1.93563387e-01, -2.54894465e-01,  2.49169156e-01,\n",
       "        -2.21961468e-01,  5.17635420e-02],\n",
       "       [ 2.26065204e-01,  1.83725908e-01,  8.30992535e-02,\n",
       "         1.20721478e-03, -1.54183328e-01, -5.91899492e-02,\n",
       "         1.38633758e-01, -2.17749327e-01,  6.17645830e-02,\n",
       "         6.00410104e-01,  2.50849202e-02,  4.00081366e-01,\n",
       "         3.28246832e-01, -2.09164754e-01, -6.59028739e-02,\n",
       "        -5.86236790e-02,  8.27718675e-02,  8.84031355e-02,\n",
       "         3.76986146e-01,  1.82262138e-02],\n",
       "       [ 3.55905145e-01, -1.88550279e-01, -7.90510029e-02,\n",
       "         2.05147162e-01,  3.78932878e-02,  2.33008772e-01,\n",
       "        -5.17179966e-02, -1.33241355e-01, -2.30727285e-01,\n",
       "         3.06590825e-01,  6.06833100e-02, -1.61721855e-01,\n",
       "         1.23486631e-01,  4.75540757e-01, -2.58946896e-01,\n",
       "        -3.23709130e-01, -1.72589019e-01, -5.35901003e-02,\n",
       "        -2.82647550e-01,  1.08871236e-01],\n",
       "       [ 2.38436595e-01, -3.95931602e-01, -1.99632123e-01,\n",
       "        -4.71885614e-02,  6.79250211e-02, -2.46164314e-02,\n",
       "        -1.38220653e-01,  1.27447978e-01,  2.25647435e-01,\n",
       "        -1.36043578e-02, -1.10980377e-01,  4.41032136e-03,\n",
       "         2.03434393e-01,  1.74139053e-01,  1.88179612e-01,\n",
       "        -7.03269616e-02,  2.97772944e-01,  3.77594400e-03,\n",
       "         1.59985095e-01, -6.47245109e-01],\n",
       "       [ 1.76045746e-01, -3.97954173e-02, -3.27921033e-01,\n",
       "         2.32242450e-01,  5.56941986e-01, -3.69674563e-01,\n",
       "         6.20444119e-02,  1.45717114e-01, -1.57429680e-01,\n",
       "        -1.41665027e-01, -2.21604332e-01,  2.73778051e-01,\n",
       "        -4.48669456e-02,  8.97693390e-04, -2.83986807e-01,\n",
       "         7.91511238e-02, -5.91924153e-02,  1.11648008e-01,\n",
       "         1.89358741e-01,  1.55051172e-01],\n",
       "       [ 4.75891978e-02, -4.83148023e-02, -4.69153933e-03,\n",
       "        -5.12780309e-01,  2.68951207e-01,  1.52462989e-01,\n",
       "        -8.37566238e-03,  2.83135355e-01,  3.53316784e-01,\n",
       "         2.29316294e-01,  6.77038208e-02, -1.23540714e-01,\n",
       "        -1.81700364e-01,  1.79727137e-01,  7.28298277e-02,\n",
       "        -3.80711816e-02, -5.25146052e-02,  4.63513374e-01,\n",
       "         7.17781335e-02,  3.10555547e-01],\n",
       "       [-1.31271064e-01,  2.12256104e-01, -1.67795643e-01,\n",
       "        -2.21982628e-01,  3.81685048e-02,  3.86000395e-01,\n",
       "         2.08070993e-01,  1.40662016e-02, -2.31793318e-02,\n",
       "        -2.02249512e-01, -3.87744129e-01,  1.44378245e-01,\n",
       "         4.43944901e-01, -1.30221233e-01, -2.50311643e-01,\n",
       "        -1.16415501e-01,  1.80942997e-01,  1.82819858e-01,\n",
       "        -3.28544021e-01, -5.41168824e-02],\n",
       "       [ 9.12581477e-03, -3.05321127e-01,  4.54419702e-01,\n",
       "        -1.16844431e-01, -2.31406182e-01, -9.22195241e-02,\n",
       "        -4.52682614e-01,  2.42492080e-01, -1.38189048e-01,\n",
       "        -2.04565778e-01, -2.20255882e-01,  1.87448427e-01,\n",
       "         1.03269070e-01,  1.37799950e-02, -1.59726545e-01,\n",
       "        -2.41128206e-01,  1.31050453e-01,  4.15389016e-02,\n",
       "         1.46871001e-01,  3.12936664e-01],\n",
       "       [-1.60147250e-02, -3.89626116e-01, -1.72331333e-01,\n",
       "        -3.09510857e-01, -1.22975586e-02, -2.17240825e-02,\n",
       "         3.86157960e-01, -2.14614198e-01,  1.09560654e-01,\n",
       "        -1.43306002e-01,  8.82081389e-02,  2.83726931e-01,\n",
       "        -1.84733391e-01, -2.03081630e-02,  1.09524071e-01,\n",
       "        -3.28482926e-01,  1.58247590e-01, -4.07608420e-01,\n",
       "        -3.40234265e-02,  3.07109237e-01],\n",
       "       [ 1.96109295e-01, -1.45431841e-02, -6.62184060e-02,\n",
       "         1.85380399e-01,  1.28881097e-01,  1.70332760e-01,\n",
       "        -2.25040287e-01, -3.61683935e-01, -1.62906155e-01,\n",
       "        -1.22073390e-01,  6.22742176e-02,  1.50386706e-01,\n",
       "         1.67895362e-01,  6.41614497e-02,  5.34394383e-01,\n",
       "         3.12934190e-01,  3.21873009e-01,  2.48187959e-01,\n",
       "        -1.21404678e-01,  2.81865478e-01],\n",
       "       [-6.69504553e-02, -4.75646138e-01, -7.70445615e-02,\n",
       "        -1.87057436e-01,  1.24247320e-01, -4.39285152e-02,\n",
       "        -9.54573229e-02, -2.70213425e-01, -1.99372888e-01,\n",
       "         2.29470417e-01, -1.15189485e-01, -4.16370690e-01,\n",
       "         1.81793690e-01, -4.73332554e-01, -1.54529333e-01,\n",
       "         2.83777982e-01, -4.30264920e-02,  6.14651619e-03,\n",
       "        -1.49677433e-02,  3.24324183e-02],\n",
       "       [-2.63418347e-01,  4.02789451e-02, -2.45794579e-01,\n",
       "         1.37770548e-01,  6.48892373e-02,  8.82834792e-02,\n",
       "        -9.54937190e-02, -1.62101030e-01, -1.27345413e-01,\n",
       "        -1.48145840e-01,  3.03505391e-01, -1.97054982e-01,\n",
       "        -9.62815434e-03, -2.06001684e-01,  1.16201555e-02,\n",
       "        -5.94181597e-01,  7.63225332e-02,  3.10371220e-01,\n",
       "         3.48442346e-01, -7.11961882e-03],\n",
       "       [ 4.10828367e-02, -5.68974465e-02,  3.29709449e-03,\n",
       "         1.46860197e-01, -1.75605893e-01, -3.58122647e-01,\n",
       "         3.85221213e-01,  3.60448569e-01, -1.26842022e-01,\n",
       "         1.01789877e-01, -2.41102457e-01, -2.60766208e-01,\n",
       "         1.68822899e-01, -8.69277418e-02,  4.63281631e-01,\n",
       "        -2.58567035e-01, -5.08420058e-02,  1.41230509e-01,\n",
       "        -1.61786005e-01,  1.80739328e-01],\n",
       "       [-1.27922118e-01, -3.41413230e-01,  1.52006656e-01,\n",
       "         2.21581981e-01, -9.44114998e-02,  2.66526550e-01,\n",
       "         2.57659256e-01,  1.77099690e-01, -2.54503280e-01,\n",
       "         1.76839754e-01,  8.16445332e-03,  2.76079118e-01,\n",
       "        -4.93791580e-01, -1.15064353e-01, -7.37845004e-02,\n",
       "         5.83772659e-02,  1.60785094e-01,  3.48185420e-01,\n",
       "        -1.30331621e-01, -1.80068433e-01],\n",
       "       [ 2.94238597e-01,  6.73326477e-02, -2.05589622e-01,\n",
       "         1.21425927e-01, -1.17861040e-01,  1.72482327e-01,\n",
       "        -3.19734812e-01, -1.22069366e-01,  2.73520201e-01,\n",
       "         3.11415903e-02, -4.36451286e-01,  6.95958883e-02,\n",
       "        -3.54777455e-01, -3.70569915e-01,  1.41439900e-01,\n",
       "        -1.99273601e-01, -2.90565550e-01, -1.75504051e-02,\n",
       "        -1.08025037e-01,  8.43509100e-03],\n",
       "       [-5.65234363e-01, -6.73434064e-02, -3.51480007e-01,\n",
       "         4.59846604e-04,  4.54260521e-02,  5.96090080e-03,\n",
       "        -3.48386467e-01,  1.70816436e-01, -9.67205614e-02,\n",
       "         3.57290417e-01,  7.51960184e-03,  3.39298457e-01,\n",
       "         1.70294836e-01,  8.82262215e-02,  2.08482370e-01,\n",
       "         1.81752685e-02, -2.05675781e-01, -1.62609696e-01,\n",
       "        -1.31433979e-01,  9.43679921e-03]], dtype=float32)>"
      ]
     },
     "execution_count": 32,
     "metadata": {},
     "output_type": "execute_result"
    }
   ],
   "source": [
    "# 유닛에 대한 weights\n",
    "model3.weights[1]"
   ]
  },
  {
   "cell_type": "code",
   "execution_count": null,
   "metadata": {},
   "outputs": [],
   "source": []
  }
 ],
 "metadata": {
  "kernelspec": {
   "display_name": "Python 3",
   "language": "python",
   "name": "python3"
  },
  "language_info": {
   "codemirror_mode": {
    "name": "ipython",
    "version": 3
   },
   "file_extension": ".py",
   "mimetype": "text/x-python",
   "name": "python",
   "nbconvert_exporter": "python",
   "pygments_lexer": "ipython3",
   "version": "3.8.1"
  }
 },
 "nbformat": 4,
 "nbformat_minor": 4
}
