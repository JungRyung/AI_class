{
 "cells": [
  {
   "cell_type": "code",
   "execution_count": 34,
   "metadata": {},
   "outputs": [
    {
     "data": {
      "text/plain": [
       "'2.1.0'"
      ]
     },
     "execution_count": 34,
     "metadata": {},
     "output_type": "execute_result"
    }
   ],
   "source": [
    "# 필요한 라이브러리\n",
    "import numpy as np\n",
    "import tensorflow as tf\n",
    "from sklearn.model_selection import train_test_split\n",
    "import keras\n",
    "tf.__version__"
   ]
  },
  {
   "cell_type": "code",
   "execution_count": 35,
   "metadata": {},
   "outputs": [],
   "source": [
    "from tensorflow.keras.models import Sequential\n",
    "from tensorflow.keras.layers import Dense"
   ]
  },
  {
   "cell_type": "code",
   "execution_count": 36,
   "metadata": {},
   "outputs": [],
   "source": [
    "# 실행할 때마다 같은 결과를 출력하기 위한 seed 값 설정\n",
    "seed = 0\n",
    "np.random.seed(seed)\n",
    "tf.random.set_seed(seed)"
   ]
  },
  {
   "cell_type": "code",
   "execution_count": 37,
   "metadata": {},
   "outputs": [
    {
     "data": {
      "text/plain": [
       "array([[293.  ,   1.  ,   3.8 ,   2.8 ,   0.  ,   0.  ,   0.  ,   0.  ,\n",
       "          0.  ,   0.  ,  12.  ,   0.  ,   0.  ,   0.  ,   1.  ,   0.  ,\n",
       "         62.  ,   0.  ],\n",
       "       [  1.  ,   2.  ,   2.88,   2.16,   1.  ,   0.  ,   0.  ,   0.  ,\n",
       "          1.  ,   1.  ,  14.  ,   0.  ,   0.  ,   0.  ,   1.  ,   0.  ,\n",
       "         60.  ,   0.  ],\n",
       "       [  8.  ,   2.  ,   3.19,   2.5 ,   1.  ,   0.  ,   0.  ,   0.  ,\n",
       "          1.  ,   0.  ,  11.  ,   0.  ,   0.  ,   1.  ,   1.  ,   0.  ,\n",
       "         66.  ,   1.  ]])"
      ]
     },
     "execution_count": 37,
     "metadata": {},
     "output_type": "execute_result"
    }
   ],
   "source": [
    "# 준비된 수술 환자 데이터를 불러들임\n",
    "Data_set = np.loadtxt(\"../dataset/ThoraricSurgery.csv\", delimiter=\",\")\n",
    "Data_set[:3,:]"
   ]
  },
  {
   "cell_type": "code",
   "execution_count": 38,
   "metadata": {},
   "outputs": [
    {
     "data": {
      "text/plain": [
       "((470, 17), (470,))"
      ]
     },
     "execution_count": 38,
     "metadata": {},
     "output_type": "execute_result"
    }
   ],
   "source": [
    "# 환자의 기록과 수술 결과를 X와 Y로 구분하여 저장\n",
    "X = Data_set[:, 0:17]\n",
    "Y = Data_set[:, 17]\n",
    "X.shape, Y.shape"
   ]
  },
  {
   "cell_type": "code",
   "execution_count": 39,
   "metadata": {},
   "outputs": [],
   "source": [
    "# 80% Train set, 20% Test set으로 분리 (+ 20% validation set)\n",
    "X_train, X_test, y_train, y_test = train_test_split(X, Y, test_size=0.2, random_state=156)\n",
    "# X_train, X_valid, y_train, y_valid = train_test_split(X_train, y_train, test_size=0.2, random_state=156)"
   ]
  },
  {
   "cell_type": "code",
   "execution_count": 40,
   "metadata": {},
   "outputs": [
    {
     "name": "stdout",
     "output_type": "stream",
     "text": [
      "Model: \"sequential_3\"\n",
      "_________________________________________________________________\n",
      "Layer (type)                 Output Shape              Param #   \n",
      "=================================================================\n",
      "dense_6 (Dense)              (None, 30)                540       \n",
      "_________________________________________________________________\n",
      "dense_7 (Dense)              (None, 1)                 31        \n",
      "=================================================================\n",
      "Total params: 571\n",
      "Trainable params: 571\n",
      "Non-trainable params: 0\n",
      "_________________________________________________________________\n"
     ]
    }
   ],
   "source": [
    "# 딥러닝 모델 설정\n",
    "model = Sequential([\n",
    "    Dense(30, input_shape=(17,), activation='relu'),\n",
    "    Dense(1, activation='sigmoid')\n",
    "])\n",
    "model.summary()"
   ]
  },
  {
   "cell_type": "code",
   "execution_count": 41,
   "metadata": {},
   "outputs": [],
   "source": [
    "# 딥러닝 환경 설정 (오차함수, 최적화함수)\n",
    "model.compile(loss='binary_crossentropy', optimizer='adam', metrics=['accuracy'])"
   ]
  },
  {
   "cell_type": "code",
   "execution_count": 42,
   "metadata": {},
   "outputs": [],
   "source": [
    "import os\n",
    "root_logdir = os.path.join(os.curdir, \"my_logs\")\n",
    "\n",
    "def get_run_logdir():\n",
    "  import time\n",
    "  run_id = time.strftime(\"run_%Y_%m_%d-%H_%M_%S\")\n",
    "  return os.path.join(root_logdir,run_id)\n",
    "\n",
    "run_logdir = get_run_logdir() #예를 들면, './my_logs/run_2019_06_07-15_15_22'"
   ]
  },
  {
   "cell_type": "code",
   "execution_count": 44,
   "metadata": {},
   "outputs": [
    {
     "name": "stdout",
     "output_type": "stream",
     "text": [
      "Train on 300 samples, validate on 76 samples\n",
      "Epoch 1/30\n",
      "300/300 [==============================] - 0s 2ms/sample - loss: 13.7110 - accuracy: 0.1500 - val_loss: 5.1594 - val_accuracy: 0.1579\n",
      "Epoch 2/30\n",
      "300/300 [==============================] - 0s 247us/sample - loss: 1.6765 - accuracy: 0.6100 - val_loss: 1.3197 - val_accuracy: 0.8421\n",
      "Epoch 3/30\n",
      "300/300 [==============================] - 0s 281us/sample - loss: 1.5008 - accuracy: 0.8467 - val_loss: 1.7548 - val_accuracy: 0.8421\n",
      "Epoch 4/30\n",
      "300/300 [==============================] - 0s 275us/sample - loss: 1.5776 - accuracy: 0.8467 - val_loss: 1.4122 - val_accuracy: 0.8421\n",
      "Epoch 5/30\n",
      "300/300 [==============================] - 0s 281us/sample - loss: 1.1289 - accuracy: 0.8467 - val_loss: 0.9110 - val_accuracy: 0.8421\n",
      "Epoch 6/30\n",
      "300/300 [==============================] - 0s 217us/sample - loss: 0.6861 - accuracy: 0.8367 - val_loss: 0.5384 - val_accuracy: 0.8289\n",
      "Epoch 7/30\n",
      "300/300 [==============================] - 0s 163us/sample - loss: 0.6386 - accuracy: 0.7667 - val_loss: 0.5142 - val_accuracy: 0.8289\n",
      "Epoch 8/30\n",
      "300/300 [==============================] - 0s 164us/sample - loss: 0.5272 - accuracy: 0.8400 - val_loss: 0.5284 - val_accuracy: 0.8421\n",
      "Epoch 9/30\n",
      "300/300 [==============================] - 0s 191us/sample - loss: 0.4981 - accuracy: 0.8467 - val_loss: 0.5061 - val_accuracy: 0.8421\n",
      "Epoch 10/30\n",
      "300/300 [==============================] - 0s 190us/sample - loss: 0.4817 - accuracy: 0.8433 - val_loss: 0.4937 - val_accuracy: 0.8421\n",
      "Epoch 11/30\n",
      "300/300 [==============================] - 0s 163us/sample - loss: 0.4738 - accuracy: 0.8500 - val_loss: 0.4874 - val_accuracy: 0.8421\n",
      "Epoch 12/30\n",
      "300/300 [==============================] - 0s 164us/sample - loss: 0.4681 - accuracy: 0.8500 - val_loss: 0.4879 - val_accuracy: 0.8421\n",
      "Epoch 13/30\n",
      "300/300 [==============================] - 0s 218us/sample - loss: 0.4709 - accuracy: 0.8500 - val_loss: 0.4815 - val_accuracy: 0.8421\n",
      "Epoch 14/30\n",
      "300/300 [==============================] - 0s 220us/sample - loss: 0.4642 - accuracy: 0.8500 - val_loss: 0.4816 - val_accuracy: 0.8421\n",
      "Epoch 15/30\n",
      "300/300 [==============================] - 0s 221us/sample - loss: 0.4573 - accuracy: 0.8467 - val_loss: 0.4854 - val_accuracy: 0.8421\n",
      "Epoch 16/30\n",
      "300/300 [==============================] - 0s 166us/sample - loss: 0.4578 - accuracy: 0.8467 - val_loss: 0.4796 - val_accuracy: 0.8421\n",
      "Epoch 17/30\n",
      "300/300 [==============================] - 0s 192us/sample - loss: 0.4637 - accuracy: 0.8500 - val_loss: 0.4832 - val_accuracy: 0.8421\n",
      "Epoch 18/30\n",
      "300/300 [==============================] - 0s 196us/sample - loss: 0.4489 - accuracy: 0.8500 - val_loss: 0.4810 - val_accuracy: 0.8421\n",
      "Epoch 19/30\n",
      "300/300 [==============================] - 0s 217us/sample - loss: 0.4461 - accuracy: 0.8500 - val_loss: 0.4820 - val_accuracy: 0.8421\n",
      "Epoch 20/30\n",
      "300/300 [==============================] - 0s 163us/sample - loss: 0.4460 - accuracy: 0.8467 - val_loss: 0.4796 - val_accuracy: 0.8421\n",
      "Epoch 21/30\n",
      "300/300 [==============================] - 0s 192us/sample - loss: 0.4460 - accuracy: 0.8500 - val_loss: 0.4785 - val_accuracy: 0.8421\n",
      "Epoch 22/30\n",
      "300/300 [==============================] - 0s 196us/sample - loss: 0.4407 - accuracy: 0.8500 - val_loss: 0.4770 - val_accuracy: 0.8421\n",
      "Epoch 23/30\n",
      "300/300 [==============================] - 0s 245us/sample - loss: 0.4414 - accuracy: 0.8500 - val_loss: 0.4793 - val_accuracy: 0.8421\n",
      "Epoch 24/30\n",
      "300/300 [==============================] - 0s 195us/sample - loss: 0.4419 - accuracy: 0.8500 - val_loss: 0.4790 - val_accuracy: 0.8421\n",
      "Epoch 25/30\n",
      "300/300 [==============================] - 0s 186us/sample - loss: 0.4428 - accuracy: 0.8500 - val_loss: 0.4778 - val_accuracy: 0.8421\n",
      "Epoch 26/30\n",
      "300/300 [==============================] - 0s 165us/sample - loss: 0.4423 - accuracy: 0.8500 - val_loss: 0.4790 - val_accuracy: 0.8421\n",
      "Epoch 27/30\n",
      "300/300 [==============================] - 0s 164us/sample - loss: 0.4422 - accuracy: 0.8500 - val_loss: 0.4871 - val_accuracy: 0.8421\n",
      "Epoch 28/30\n",
      "300/300 [==============================] - 0s 199us/sample - loss: 0.4405 - accuracy: 0.8500 - val_loss: 0.4908 - val_accuracy: 0.8421\n",
      "Epoch 29/30\n",
      "300/300 [==============================] - 0s 166us/sample - loss: 0.4429 - accuracy: 0.8500 - val_loss: 0.4765 - val_accuracy: 0.8421\n",
      "Epoch 30/30\n",
      "300/300 [==============================] - 0s 163us/sample - loss: 0.4351 - accuracy: 0.8500 - val_loss: 0.4758 - val_accuracy: 0.8421\n"
     ]
    }
   ],
   "source": [
    "# 딥러닝 실행\n",
    "# model.fit(X, Y, epochs=20, batch_size=10)\n",
    "tensorboard_cb = keras.callbacks.TensorBoard(run_logdir)\n",
    "history = model.fit(X_train, y_train, epochs=30,\n",
    "                    validation_split=0.2,\n",
    "                    callbacks=[tensorboard_cb])"
   ]
  },
  {
   "cell_type": "code",
   "execution_count": 45,
   "metadata": {},
   "outputs": [
    {
     "name": "stdout",
     "output_type": "stream",
     "text": [
      "470/470 - 0s - loss: 0.4493 - accuracy: 0.8511\n",
      "\n",
      " Accuracy: 0.8511\n"
     ]
    }
   ],
   "source": [
    "# 결과 출력\n",
    "# evaluate() returns the loss value & metrics values for the model\n",
    "print(\"\\n Accuracy: %.4f\"%(model.evaluate(X, Y, verbose=2))[1])"
   ]
  },
  {
   "cell_type": "code",
   "execution_count": 48,
   "metadata": {},
   "outputs": [
    {
     "data": {
      "image/png": "[encoded data removed]",
      "text/plain": [
       "<Figure size 576x360 with 1 Axes>"
      ]
     },
     "metadata": {
      "needs_background": "light"
     },
     "output_type": "display_data"
    }
   ],
   "source": [
    "import pandas as pd\n",
    "import matplotlib.pyplot as plt\n",
    "\n",
    "pd.DataFrame(history.history).plot(figsize=(8,5))\n",
    "plt.grid(True)\n",
    "plt.gca().set_ylim(0,1)\n",
    "plt.show()"
   ]
  },
  {
   "cell_type": "code",
   "execution_count": 49,
   "metadata": {},
   "outputs": [],
   "source": [
    "df = pd.DataFrame(history.history)"
   ]
  },
  {
   "cell_type": "code",
   "execution_count": 52,
   "metadata": {},
   "outputs": [
    {
     "data": {
      "text/html": [
       "<div>\n",
       "<style scoped>\n",
       "    .dataframe tbody tr th:only-of-type {\n",
       "        vertical-align: middle;\n",
       "    }\n",
       "\n",
       "    .dataframe tbody tr th {\n",
       "        vertical-align: top;\n",
       "    }\n",
       "\n",
       "    .dataframe thead th {\n",
       "        text-align: right;\n",
       "    }\n",
       "</style>\n",
       "<table border=\"1\" class=\"dataframe\">\n",
       "  <thead>\n",
       "    <tr style=\"text-align: right;\">\n",
       "      <th></th>\n",
       "      <th>loss</th>\n",
       "      <th>accuracy</th>\n",
       "      <th>val_loss</th>\n",
       "      <th>val_accuracy</th>\n",
       "    </tr>\n",
       "  </thead>\n",
       "  <tbody>\n",
       "    <tr>\n",
       "      <th>0</th>\n",
       "      <td>13.710967</td>\n",
       "      <td>0.150000</td>\n",
       "      <td>5.159378</td>\n",
       "      <td>0.157895</td>\n",
       "    </tr>\n",
       "    <tr>\n",
       "      <th>1</th>\n",
       "      <td>1.676528</td>\n",
       "      <td>0.610000</td>\n",
       "      <td>1.319716</td>\n",
       "      <td>0.842105</td>\n",
       "    </tr>\n",
       "    <tr>\n",
       "      <th>2</th>\n",
       "      <td>1.500841</td>\n",
       "      <td>0.846667</td>\n",
       "      <td>1.754783</td>\n",
       "      <td>0.842105</td>\n",
       "    </tr>\n",
       "    <tr>\n",
       "      <th>3</th>\n",
       "      <td>1.577574</td>\n",
       "      <td>0.846667</td>\n",
       "      <td>1.412163</td>\n",
       "      <td>0.842105</td>\n",
       "    </tr>\n",
       "    <tr>\n",
       "      <th>4</th>\n",
       "      <td>1.128859</td>\n",
       "      <td>0.846667</td>\n",
       "      <td>0.910956</td>\n",
       "      <td>0.842105</td>\n",
       "    </tr>\n",
       "  </tbody>\n",
       "</table>\n",
       "</div>"
      ],
      "text/plain": [
       "        loss  accuracy  val_loss  val_accuracy\n",
       "0  13.710967  0.150000  5.159378      0.157895\n",
       "1   1.676528  0.610000  1.319716      0.842105\n",
       "2   1.500841  0.846667  1.754783      0.842105\n",
       "3   1.577574  0.846667  1.412163      0.842105\n",
       "4   1.128859  0.846667  0.910956      0.842105"
      ]
     },
     "execution_count": 52,
     "metadata": {},
     "output_type": "execute_result"
    }
   ],
   "source": [
    "df.head()"
   ]
  },
  {
   "cell_type": "code",
   "execution_count": null,
   "metadata": {},
   "outputs": [],
   "source": []
  }
 ],
 "metadata": {
  "kernelspec": {
   "display_name": "Python 3",
   "language": "python",
   "name": "python3"
  },
  "language_info": {
   "codemirror_mode": {
    "name": "ipython",
    "version": 3
   },
   "file_extension": ".py",
   "mimetype": "text/x-python",
   "name": "python",
   "nbconvert_exporter": "python",
   "pygments_lexer": "ipython3",
   "version": "3.7.7"
  }
 },
 "nbformat": 4,
 "nbformat_minor": 4
}
