{
 "cells": [
  {
   "cell_type": "markdown",
   "metadata": {},
   "source": [
    "# Digit"
   ]
  },
  {
   "cell_type": "code",
   "execution_count": 1,
   "metadata": {},
   "outputs": [],
   "source": [
    "import numpy as np\n",
    "import pandas as pd\n",
    "import tensorflow as tf\n",
    "\n",
    "from tensorflow.keras.models import Sequential, load_model\n",
    "from tensorflow.keras.layers import Dense, InputLayer\n",
    "from tensorflow.keras.callbacks import ModelCheckpoint, EarlyStopping\n",
    "\n",
    "import matplotlib.pyplot as plt\n",
    "%matplotlib inline"
   ]
  },
  {
   "cell_type": "code",
   "execution_count": 2,
   "metadata": {},
   "outputs": [],
   "source": [
    "# seed 값 설정\n",
    "seed = 2020\n",
    "np.random.seed(seed)\n",
    "tf.random.set_seed(seed)"
   ]
  },
  {
   "cell_type": "code",
   "execution_count": 3,
   "metadata": {},
   "outputs": [],
   "source": [
    "# load digits dataset\n",
    "from sklearn.datasets import load_digits\n",
    "digits = load_digits()"
   ]
  },
  {
   "cell_type": "code",
   "execution_count": 4,
   "metadata": {},
   "outputs": [],
   "source": [
    "X = digits.data\n",
    "Y_obj = digits.target"
   ]
  },
  {
   "cell_type": "code",
   "execution_count": 5,
   "metadata": {},
   "outputs": [
    {
     "data": {
      "text/plain": [
       "(1797, 64)"
      ]
     },
     "execution_count": 5,
     "metadata": {},
     "output_type": "execute_result"
    }
   ],
   "source": [
    "X.shape"
   ]
  },
  {
   "cell_type": "code",
   "execution_count": 6,
   "metadata": {},
   "outputs": [
    {
     "data": {
      "text/plain": [
       "(0.3071437902148591, 0.3766279093674481)"
      ]
     },
     "execution_count": 6,
     "metadata": {},
     "output_type": "execute_result"
    }
   ],
   "source": [
    "from sklearn.preprocessing import MinMaxScaler\n",
    "\n",
    "scaler = MinMaxScaler()\n",
    "scaler.fit(X)\n",
    "X_scaled = scaler.transform(X)\n",
    "np.mean(X_scaled), np.std(X_scaled)"
   ]
  },
  {
   "cell_type": "code",
   "execution_count": 7,
   "metadata": {},
   "outputs": [
    {
     "data": {
      "text/plain": [
       "array([0, 1, 2, 3, 4, 5, 6, 7, 8, 9, 0, 1, 2, 3, 4, 5, 6, 7, 8, 9])"
      ]
     },
     "execution_count": 7,
     "metadata": {},
     "output_type": "execute_result"
    }
   ],
   "source": [
    "Y_obj[:20]"
   ]
  },
  {
   "cell_type": "code",
   "execution_count": 8,
   "metadata": {},
   "outputs": [
    {
     "name": "stderr",
     "output_type": "stream",
     "text": [
      "Using TensorFlow backend.\n"
     ]
    }
   ],
   "source": [
    "# One-Hot Encoding\n",
    "from sklearn.preprocessing import LabelEncoder\n",
    "from keras.utils import np_utils\n",
    "Y = np_utils.to_categorical(Y_obj)"
   ]
  },
  {
   "cell_type": "code",
   "execution_count": 9,
   "metadata": {},
   "outputs": [
    {
     "data": {
      "text/plain": [
       "(1797, 10)"
      ]
     },
     "execution_count": 9,
     "metadata": {},
     "output_type": "execute_result"
    }
   ],
   "source": [
    "Y.shape"
   ]
  },
  {
   "cell_type": "code",
   "execution_count": 10,
   "metadata": {},
   "outputs": [],
   "source": [
    "# 훈련데이터셋 테스트데이터셋 (8:2)\n",
    "from sklearn.model_selection import train_test_split\n",
    "X_train, X_test, y_train, y_test = train_test_split(X_scaled, Y, test_size=0.2, random_state=seed)"
   ]
  },
  {
   "cell_type": "code",
   "execution_count": 11,
   "metadata": {},
   "outputs": [
    {
     "name": "stdout",
     "output_type": "stream",
     "text": [
      "Model: \"sequential\"\n",
      "_________________________________________________________________\n",
      "Layer (type)                 Output Shape              Param #   \n",
      "=================================================================\n",
      "dense (Dense)                (None, 600)               39000     \n",
      "_________________________________________________________________\n",
      "dense_1 (Dense)              (None, 300)               180300    \n",
      "_________________________________________________________________\n",
      "dense_2 (Dense)              (None, 150)               45150     \n",
      "_________________________________________________________________\n",
      "dense_3 (Dense)              (None, 10)                1510      \n",
      "=================================================================\n",
      "Total params: 265,960\n",
      "Trainable params: 265,960\n",
      "Non-trainable params: 0\n",
      "_________________________________________________________________\n"
     ]
    }
   ],
   "source": [
    "# 모델 설정\n",
    "model = Sequential([\n",
    "    Dense(600, input_dim=64, activation='relu'),\n",
    "    Dense(300, activation='relu'),\n",
    "    Dense(150, activation='relu'),\n",
    "    Dense(10, activation='sigmoid')\n",
    "]) \n",
    "model.summary()"
   ]
  },
  {
   "cell_type": "code",
   "execution_count": 12,
   "metadata": {},
   "outputs": [],
   "source": [
    "# 모델 컴파일 \n",
    "model.compile(loss='categorical_crossentropy',\n",
    "              optimizer=\"adam\",\n",
    "              metrics=['accuracy'])"
   ]
  },
  {
   "cell_type": "code",
   "execution_count": 13,
   "metadata": {},
   "outputs": [],
   "source": [
    "# 모델 저장 폴더 설정\n",
    "import os\n",
    "MODEL_DIR = './model/digits/'\n",
    "if not os.path.exists(MODEL_DIR):\n",
    "    os.mkdir(MODEL_DIR)"
   ]
  },
  {
   "cell_type": "code",
   "execution_count": 14,
   "metadata": {},
   "outputs": [],
   "source": [
    "# 모델 저장 조건 설정\n",
    "modelpath = MODEL_DIR + \"final{epoch:03d}-{val_loss:.4f}.hdf5\"\n",
    "\n",
    "checkpointer_callback = ModelCheckpoint(filepath=modelpath, monitor='val_loss', \n",
    "                               verbose=1, save_best_only=True)"
   ]
  },
  {
   "cell_type": "code",
   "execution_count": 15,
   "metadata": {},
   "outputs": [],
   "source": [
    "# 자동 중단 설정\n",
    "early_stopping_callback = EarlyStopping(monitor='val_loss', patience=100)"
   ]
  },
  {
   "cell_type": "code",
   "execution_count": 16,
   "metadata": {},
   "outputs": [
    {
     "name": "stdout",
     "output_type": "stream",
     "text": [
      "\n",
      "Epoch 00001: val_loss improved from inf to 2.16567, saving model to ./model/digits/final001-2.1657.hdf5\n",
      "\n",
      "Epoch 00002: val_loss improved from 2.16567 to 1.97444, saving model to ./model/digits/final002-1.9744.hdf5\n",
      "\n",
      "Epoch 00003: val_loss improved from 1.97444 to 1.66643, saving model to ./model/digits/final003-1.6664.hdf5\n",
      "\n",
      "Epoch 00004: val_loss improved from 1.66643 to 1.19742, saving model to ./model/digits/final004-1.1974.hdf5\n",
      "\n",
      "Epoch 00005: val_loss improved from 1.19742 to 0.72571, saving model to ./model/digits/final005-0.7257.hdf5\n",
      "\n",
      "Epoch 00006: val_loss improved from 0.72571 to 0.46531, saving model to ./model/digits/final006-0.4653.hdf5\n",
      "\n",
      "Epoch 00007: val_loss improved from 0.46531 to 0.39274, saving model to ./model/digits/final007-0.3927.hdf5\n",
      "\n",
      "Epoch 00008: val_loss improved from 0.39274 to 0.27699, saving model to ./model/digits/final008-0.2770.hdf5\n",
      "\n",
      "Epoch 00009: val_loss improved from 0.27699 to 0.24822, saving model to ./model/digits/final009-0.2482.hdf5\n",
      "\n",
      "Epoch 00010: val_loss improved from 0.24822 to 0.23282, saving model to ./model/digits/final010-0.2328.hdf5\n",
      "\n",
      "Epoch 00011: val_loss improved from 0.23282 to 0.21379, saving model to ./model/digits/final011-0.2138.hdf5\n",
      "\n",
      "Epoch 00012: val_loss improved from 0.21379 to 0.20974, saving model to ./model/digits/final012-0.2097.hdf5\n",
      "\n",
      "Epoch 00013: val_loss improved from 0.20974 to 0.15053, saving model to ./model/digits/final013-0.1505.hdf5\n",
      "\n",
      "Epoch 00014: val_loss improved from 0.15053 to 0.14653, saving model to ./model/digits/final014-0.1465.hdf5\n",
      "\n",
      "Epoch 00015: val_loss did not improve from 0.14653\n",
      "\n",
      "Epoch 00016: val_loss improved from 0.14653 to 0.14506, saving model to ./model/digits/final016-0.1451.hdf5\n",
      "\n",
      "Epoch 00017: val_loss improved from 0.14506 to 0.13621, saving model to ./model/digits/final017-0.1362.hdf5\n",
      "\n",
      "Epoch 00018: val_loss improved from 0.13621 to 0.12314, saving model to ./model/digits/final018-0.1231.hdf5\n",
      "\n",
      "Epoch 00019: val_loss did not improve from 0.12314\n",
      "\n",
      "Epoch 00020: val_loss improved from 0.12314 to 0.11935, saving model to ./model/digits/final020-0.1194.hdf5\n",
      "\n",
      "Epoch 00021: val_loss did not improve from 0.11935\n",
      "\n",
      "Epoch 00022: val_loss improved from 0.11935 to 0.10565, saving model to ./model/digits/final022-0.1057.hdf5\n",
      "\n",
      "Epoch 00023: val_loss improved from 0.10565 to 0.10495, saving model to ./model/digits/final023-0.1050.hdf5\n",
      "\n",
      "Epoch 00024: val_loss did not improve from 0.10495\n",
      "\n",
      "Epoch 00025: val_loss improved from 0.10495 to 0.09702, saving model to ./model/digits/final025-0.0970.hdf5\n",
      "\n",
      "Epoch 00026: val_loss did not improve from 0.09702\n",
      "\n",
      "Epoch 00027: val_loss did not improve from 0.09702\n",
      "\n",
      "Epoch 00028: val_loss did not improve from 0.09702\n",
      "\n",
      "Epoch 00029: val_loss improved from 0.09702 to 0.09225, saving model to ./model/digits/final029-0.0923.hdf5\n",
      "\n",
      "Epoch 00030: val_loss improved from 0.09225 to 0.09177, saving model to ./model/digits/final030-0.0918.hdf5\n",
      "\n",
      "Epoch 00031: val_loss improved from 0.09177 to 0.09060, saving model to ./model/digits/final031-0.0906.hdf5\n",
      "\n",
      "Epoch 00032: val_loss did not improve from 0.09060\n",
      "\n",
      "Epoch 00033: val_loss improved from 0.09060 to 0.08517, saving model to ./model/digits/final033-0.0852.hdf5\n",
      "\n",
      "Epoch 00034: val_loss improved from 0.08517 to 0.08288, saving model to ./model/digits/final034-0.0829.hdf5\n",
      "\n",
      "Epoch 00035: val_loss did not improve from 0.08288\n",
      "\n",
      "Epoch 00036: val_loss did not improve from 0.08288\n",
      "\n",
      "Epoch 00037: val_loss did not improve from 0.08288\n",
      "\n",
      "Epoch 00038: val_loss did not improve from 0.08288\n",
      "\n",
      "Epoch 00039: val_loss improved from 0.08288 to 0.07949, saving model to ./model/digits/final039-0.0795.hdf5\n",
      "\n",
      "Epoch 00040: val_loss did not improve from 0.07949\n",
      "\n",
      "Epoch 00041: val_loss did not improve from 0.07949\n",
      "\n",
      "Epoch 00042: val_loss did not improve from 0.07949\n",
      "\n",
      "Epoch 00043: val_loss did not improve from 0.07949\n",
      "\n",
      "Epoch 00044: val_loss improved from 0.07949 to 0.07818, saving model to ./model/digits/final044-0.0782.hdf5\n",
      "\n",
      "Epoch 00045: val_loss improved from 0.07818 to 0.07720, saving model to ./model/digits/final045-0.0772.hdf5\n",
      "\n",
      "Epoch 00046: val_loss did not improve from 0.07720\n",
      "\n",
      "Epoch 00047: val_loss did not improve from 0.07720\n",
      "\n",
      "Epoch 00048: val_loss improved from 0.07720 to 0.07580, saving model to ./model/digits/final048-0.0758.hdf5\n",
      "\n",
      "Epoch 00049: val_loss did not improve from 0.07580\n",
      "\n",
      "Epoch 00050: val_loss did not improve from 0.07580\n",
      "\n",
      "Epoch 00051: val_loss did not improve from 0.07580\n",
      "\n",
      "Epoch 00052: val_loss did not improve from 0.07580\n",
      "\n",
      "Epoch 00053: val_loss did not improve from 0.07580\n",
      "\n",
      "Epoch 00054: val_loss did not improve from 0.07580\n",
      "\n",
      "Epoch 00055: val_loss did not improve from 0.07580\n",
      "\n",
      "Epoch 00056: val_loss did not improve from 0.07580\n",
      "\n",
      "Epoch 00057: val_loss improved from 0.07580 to 0.07531, saving model to ./model/digits/final057-0.0753.hdf5\n",
      "\n",
      "Epoch 00058: val_loss improved from 0.07531 to 0.07446, saving model to ./model/digits/final058-0.0745.hdf5\n",
      "\n",
      "Epoch 00059: val_loss did not improve from 0.07446\n",
      "\n",
      "Epoch 00060: val_loss did not improve from 0.07446\n",
      "\n",
      "Epoch 00061: val_loss did not improve from 0.07446\n",
      "\n",
      "Epoch 00062: val_loss improved from 0.07446 to 0.07360, saving model to ./model/digits/final062-0.0736.hdf5\n",
      "\n",
      "Epoch 00063: val_loss did not improve from 0.07360\n",
      "\n",
      "Epoch 00064: val_loss did not improve from 0.07360\n",
      "\n",
      "Epoch 00065: val_loss did not improve from 0.07360\n",
      "\n",
      "Epoch 00066: val_loss did not improve from 0.07360\n",
      "\n",
      "Epoch 00067: val_loss did not improve from 0.07360\n",
      "\n",
      "Epoch 00068: val_loss did not improve from 0.07360\n",
      "\n",
      "Epoch 00069: val_loss improved from 0.07360 to 0.07357, saving model to ./model/digits/final069-0.0736.hdf5\n",
      "\n",
      "Epoch 00070: val_loss did not improve from 0.07357\n",
      "\n",
      "Epoch 00071: val_loss did not improve from 0.07357\n",
      "\n",
      "Epoch 00072: val_loss did not improve from 0.07357\n",
      "\n",
      "Epoch 00073: val_loss did not improve from 0.07357\n",
      "\n",
      "Epoch 00074: val_loss did not improve from 0.07357\n",
      "\n",
      "Epoch 00075: val_loss did not improve from 0.07357\n",
      "\n",
      "Epoch 00076: val_loss did not improve from 0.07357\n",
      "\n",
      "Epoch 00077: val_loss did not improve from 0.07357\n",
      "\n",
      "Epoch 00078: val_loss improved from 0.07357 to 0.07273, saving model to ./model/digits/final078-0.0727.hdf5\n",
      "\n",
      "Epoch 00079: val_loss did not improve from 0.07273\n",
      "\n",
      "Epoch 00080: val_loss did not improve from 0.07273\n",
      "\n",
      "Epoch 00081: val_loss did not improve from 0.07273\n",
      "\n",
      "Epoch 00082: val_loss did not improve from 0.07273\n",
      "\n",
      "Epoch 00083: val_loss did not improve from 0.07273\n",
      "\n",
      "Epoch 00084: val_loss did not improve from 0.07273\n",
      "\n",
      "Epoch 00085: val_loss did not improve from 0.07273\n",
      "\n",
      "Epoch 00086: val_loss did not improve from 0.07273\n",
      "\n",
      "Epoch 00087: val_loss improved from 0.07273 to 0.07229, saving model to ./model/digits/final087-0.0723.hdf5\n",
      "\n",
      "Epoch 00088: val_loss improved from 0.07229 to 0.07215, saving model to ./model/digits/final088-0.0722.hdf5\n",
      "\n",
      "Epoch 00089: val_loss did not improve from 0.07215\n",
      "\n",
      "Epoch 00090: val_loss did not improve from 0.07215\n",
      "\n",
      "Epoch 00091: val_loss did not improve from 0.07215\n",
      "\n",
      "Epoch 00092: val_loss did not improve from 0.07215\n",
      "\n",
      "Epoch 00093: val_loss did not improve from 0.07215\n",
      "\n",
      "Epoch 00094: val_loss did not improve from 0.07215\n",
      "\n",
      "Epoch 00095: val_loss did not improve from 0.07215\n",
      "\n",
      "Epoch 00096: val_loss did not improve from 0.07215\n",
      "\n",
      "Epoch 00097: val_loss did not improve from 0.07215\n",
      "\n",
      "Epoch 00098: val_loss did not improve from 0.07215\n",
      "\n",
      "Epoch 00099: val_loss did not improve from 0.07215\n",
      "\n",
      "Epoch 00100: val_loss did not improve from 0.07215\n",
      "\n",
      "Epoch 00101: val_loss did not improve from 0.07215\n",
      "\n",
      "Epoch 00102: val_loss did not improve from 0.07215\n",
      "\n",
      "Epoch 00103: val_loss did not improve from 0.07215\n",
      "\n",
      "Epoch 00104: val_loss did not improve from 0.07215\n",
      "\n",
      "Epoch 00105: val_loss did not improve from 0.07215\n",
      "\n",
      "Epoch 00106: val_loss did not improve from 0.07215\n",
      "\n",
      "Epoch 00107: val_loss did not improve from 0.07215\n",
      "\n",
      "Epoch 00108: val_loss did not improve from 0.07215\n",
      "\n",
      "Epoch 00109: val_loss did not improve from 0.07215\n",
      "\n",
      "Epoch 00110: val_loss did not improve from 0.07215\n",
      "\n",
      "Epoch 00111: val_loss did not improve from 0.07215\n",
      "\n",
      "Epoch 00112: val_loss did not improve from 0.07215\n",
      "\n",
      "Epoch 00113: val_loss did not improve from 0.07215\n",
      "\n",
      "Epoch 00114: val_loss did not improve from 0.07215\n",
      "\n",
      "Epoch 00115: val_loss did not improve from 0.07215\n",
      "\n",
      "Epoch 00116: val_loss did not improve from 0.07215\n",
      "\n",
      "Epoch 00117: val_loss did not improve from 0.07215\n",
      "\n",
      "Epoch 00118: val_loss did not improve from 0.07215\n",
      "\n",
      "Epoch 00119: val_loss did not improve from 0.07215\n",
      "\n",
      "Epoch 00120: val_loss did not improve from 0.07215\n"
     ]
    },
    {
     "name": "stdout",
     "output_type": "stream",
     "text": [
      "\n",
      "Epoch 00121: val_loss did not improve from 0.07215\n",
      "\n",
      "Epoch 00122: val_loss did not improve from 0.07215\n",
      "\n",
      "Epoch 00123: val_loss did not improve from 0.07215\n",
      "\n",
      "Epoch 00124: val_loss did not improve from 0.07215\n",
      "\n",
      "Epoch 00125: val_loss did not improve from 0.07215\n",
      "\n",
      "Epoch 00126: val_loss did not improve from 0.07215\n",
      "\n",
      "Epoch 00127: val_loss did not improve from 0.07215\n",
      "\n",
      "Epoch 00128: val_loss did not improve from 0.07215\n",
      "\n",
      "Epoch 00129: val_loss did not improve from 0.07215\n",
      "\n",
      "Epoch 00130: val_loss did not improve from 0.07215\n",
      "\n",
      "Epoch 00131: val_loss did not improve from 0.07215\n",
      "\n",
      "Epoch 00132: val_loss did not improve from 0.07215\n",
      "\n",
      "Epoch 00133: val_loss did not improve from 0.07215\n",
      "\n",
      "Epoch 00134: val_loss did not improve from 0.07215\n",
      "\n",
      "Epoch 00135: val_loss did not improve from 0.07215\n",
      "\n",
      "Epoch 00136: val_loss did not improve from 0.07215\n",
      "\n",
      "Epoch 00137: val_loss did not improve from 0.07215\n",
      "\n",
      "Epoch 00138: val_loss did not improve from 0.07215\n",
      "\n",
      "Epoch 00139: val_loss did not improve from 0.07215\n",
      "\n",
      "Epoch 00140: val_loss did not improve from 0.07215\n",
      "\n",
      "Epoch 00141: val_loss did not improve from 0.07215\n",
      "\n",
      "Epoch 00142: val_loss did not improve from 0.07215\n",
      "\n",
      "Epoch 00143: val_loss did not improve from 0.07215\n",
      "\n",
      "Epoch 00144: val_loss did not improve from 0.07215\n",
      "\n",
      "Epoch 00145: val_loss did not improve from 0.07215\n",
      "\n",
      "Epoch 00146: val_loss did not improve from 0.07215\n",
      "\n",
      "Epoch 00147: val_loss did not improve from 0.07215\n",
      "\n",
      "Epoch 00148: val_loss did not improve from 0.07215\n",
      "\n",
      "Epoch 00149: val_loss did not improve from 0.07215\n",
      "\n",
      "Epoch 00150: val_loss did not improve from 0.07215\n",
      "\n",
      "Epoch 00151: val_loss did not improve from 0.07215\n",
      "\n",
      "Epoch 00152: val_loss did not improve from 0.07215\n",
      "\n",
      "Epoch 00153: val_loss did not improve from 0.07215\n",
      "\n",
      "Epoch 00154: val_loss did not improve from 0.07215\n",
      "\n",
      "Epoch 00155: val_loss did not improve from 0.07215\n",
      "\n",
      "Epoch 00156: val_loss did not improve from 0.07215\n",
      "\n",
      "Epoch 00157: val_loss did not improve from 0.07215\n",
      "\n",
      "Epoch 00158: val_loss did not improve from 0.07215\n",
      "\n",
      "Epoch 00159: val_loss did not improve from 0.07215\n",
      "\n",
      "Epoch 00160: val_loss did not improve from 0.07215\n",
      "\n",
      "Epoch 00161: val_loss did not improve from 0.07215\n",
      "\n",
      "Epoch 00162: val_loss did not improve from 0.07215\n",
      "\n",
      "Epoch 00163: val_loss did not improve from 0.07215\n",
      "\n",
      "Epoch 00164: val_loss did not improve from 0.07215\n",
      "\n",
      "Epoch 00165: val_loss did not improve from 0.07215\n",
      "\n",
      "Epoch 00166: val_loss did not improve from 0.07215\n",
      "\n",
      "Epoch 00167: val_loss did not improve from 0.07215\n",
      "\n",
      "Epoch 00168: val_loss did not improve from 0.07215\n",
      "\n",
      "Epoch 00169: val_loss did not improve from 0.07215\n",
      "\n",
      "Epoch 00170: val_loss did not improve from 0.07215\n",
      "\n",
      "Epoch 00171: val_loss did not improve from 0.07215\n",
      "\n",
      "Epoch 00172: val_loss did not improve from 0.07215\n",
      "\n",
      "Epoch 00173: val_loss did not improve from 0.07215\n",
      "\n",
      "Epoch 00174: val_loss did not improve from 0.07215\n",
      "\n",
      "Epoch 00175: val_loss did not improve from 0.07215\n",
      "\n",
      "Epoch 00176: val_loss did not improve from 0.07215\n",
      "\n",
      "Epoch 00177: val_loss did not improve from 0.07215\n",
      "\n",
      "Epoch 00178: val_loss did not improve from 0.07215\n",
      "\n",
      "Epoch 00179: val_loss did not improve from 0.07215\n",
      "\n",
      "Epoch 00180: val_loss did not improve from 0.07215\n",
      "\n",
      "Epoch 00181: val_loss did not improve from 0.07215\n",
      "\n",
      "Epoch 00182: val_loss did not improve from 0.07215\n",
      "\n",
      "Epoch 00183: val_loss did not improve from 0.07215\n",
      "\n",
      "Epoch 00184: val_loss did not improve from 0.07215\n",
      "\n",
      "Epoch 00185: val_loss did not improve from 0.07215\n",
      "\n",
      "Epoch 00186: val_loss did not improve from 0.07215\n",
      "\n",
      "Epoch 00187: val_loss did not improve from 0.07215\n",
      "\n",
      "Epoch 00188: val_loss did not improve from 0.07215\n"
     ]
    }
   ],
   "source": [
    "# 모델 실행 및 저장\n",
    "history = model.fit(X_train, y_train, validation_split=0.2, epochs=5000, batch_size=400,\n",
    "                    verbose=0, callbacks=[early_stopping_callback, checkpointer_callback])"
   ]
  },
  {
   "cell_type": "code",
   "execution_count": 20,
   "metadata": {},
   "outputs": [
    {
     "name": "stdout",
     "output_type": "stream",
     "text": [
      "360/360 - 0s - loss: 0.0659 - accuracy: 0.9833\n",
      "\n",
      " Accuracy: 0.9833\n"
     ]
    }
   ],
   "source": [
    "del model\n",
    "model = load_model('model/digits/final078-0.0727.hdf5')\n",
    "print(\"\\n Accuracy: %.4f\" % (model.evaluate(X_test, y_test, verbose=2)[1]))"
   ]
  },
  {
   "cell_type": "code",
   "execution_count": 21,
   "metadata": {},
   "outputs": [
    {
     "data": {
      "image/png": "[encoded data removed]",
      "text/plain": [
       "<Figure size 576x360 with 1 Axes>"
      ]
     },
     "metadata": {
      "needs_background": "light"
     },
     "output_type": "display_data"
    }
   ],
   "source": [
    "pd.DataFrame(history.history).plot(figsize=(8,5))\n",
    "plt.grid(True)\n",
    "plt.gca().set_ylim(0,1)\n",
    "plt.show()"
   ]
  },
  {
   "cell_type": "code",
   "execution_count": 19,
   "metadata": {},
   "outputs": [],
   "source": [
    "def build_model(n_hidden=1, n_neurons=30, learning_rate=3e-3,input_shape=[64]):\n",
    "    model = keras.models.Sequential()\n",
    "    model.add(keras.layers.InputLayer(input_shape=input_shape))\n",
    "    for layer in range(n_hidden):\n",
    "        model.add(keras.layers.Dense(n_neurons, activation='relu'))\n",
    "    model.add(keras.layers.Dense(1))\n",
    "    optimizer = keras.optimizer.Adam(lr=learning_rate)\n",
    "    model.compile(loss=\"mse\", optimizer=optimizer)\n",
    "    return model"
   ]
  },
  {
   "cell_type": "code",
   "execution_count": null,
   "metadata": {},
   "outputs": [],
   "source": []
  }
 ],
 "metadata": {
  "kernelspec": {
   "display_name": "Python 3",
   "language": "python",
   "name": "python3"
  },
  "language_info": {
   "codemirror_mode": {
    "name": "ipython",
    "version": 3
   },
   "file_extension": ".py",
   "mimetype": "text/x-python",
   "name": "python",
   "nbconvert_exporter": "python",
   "pygments_lexer": "ipython3",
   "version": "3.7.7"
  }
 },
 "nbformat": 4,
 "nbformat_minor": 4
}
