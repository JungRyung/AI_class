{
 "cells": [
  {
   "cell_type": "markdown",
   "metadata": {},
   "source": [
    "# Digit"
   ]
  },
  {
   "cell_type": "code",
   "execution_count": 37,
   "metadata": {},
   "outputs": [],
   "source": [
    "import numpy as np\n",
    "import pandas as pd\n",
    "import tensorflow as tf\n",
    "\n",
    "from tensorflow.keras.models import Sequential, load_model\n",
    "from tensorflow.keras.layers import Dense, InputLayer\n",
    "from tensorflow.keras.callbacks import ModelCheckpoint, EarlyStopping\n",
    "\n",
    "import matplotlib.pyplot as plt\n",
    "%matplotlib inline"
   ]
  },
  {
   "cell_type": "code",
   "execution_count": 38,
   "metadata": {},
   "outputs": [],
   "source": [
    "# seed 값 설정\n",
    "seed = 2020\n",
    "np.random.seed(seed)\n",
    "tf.random.set_seed(seed)"
   ]
  },
  {
   "cell_type": "code",
   "execution_count": 39,
   "metadata": {},
   "outputs": [],
   "source": [
    "# load digits dataset\n",
    "from sklearn.datasets import load_digits\n",
    "digits = load_digits()"
   ]
  },
  {
   "cell_type": "code",
   "execution_count": 40,
   "metadata": {},
   "outputs": [],
   "source": [
    "X = digits.data\n",
    "Y_obj = digits.target"
   ]
  },
  {
   "cell_type": "code",
   "execution_count": 41,
   "metadata": {},
   "outputs": [
    {
     "data": {
      "text/plain": [
       "(1797, 64)"
      ]
     },
     "execution_count": 41,
     "metadata": {},
     "output_type": "execute_result"
    }
   ],
   "source": [
    "X.shape"
   ]
  },
  {
   "cell_type": "code",
   "execution_count": 42,
   "metadata": {},
   "outputs": [
    {
     "data": {
      "text/plain": [
       "(0.3071437902148591, 0.3766279093674481)"
      ]
     },
     "execution_count": 42,
     "metadata": {},
     "output_type": "execute_result"
    }
   ],
   "source": [
    "from sklearn.preprocessing import MinMaxScaler\n",
    "\n",
    "scaler = MinMaxScaler()\n",
    "scaler.fit(X)\n",
    "X_scaled = scaler.transform(X)\n",
    "np.mean(X_scaled), np.std(X_scaled)"
   ]
  },
  {
   "cell_type": "code",
   "execution_count": 43,
   "metadata": {},
   "outputs": [
    {
     "data": {
      "text/plain": [
       "array([0, 1, 2, 3, 4, 5, 6, 7, 8, 9, 0, 1, 2, 3, 4, 5, 6, 7, 8, 9])"
      ]
     },
     "execution_count": 43,
     "metadata": {},
     "output_type": "execute_result"
    }
   ],
   "source": [
    "Y_obj[:20]"
   ]
  },
  {
   "cell_type": "code",
   "execution_count": 44,
   "metadata": {},
   "outputs": [],
   "source": [
    "# One-Hot Encoding\n",
    "from sklearn.preprocessing import LabelEncoder\n",
    "from keras.utils import np_utils\n",
    "Y = np_utils.to_categorical(Y_obj)"
   ]
  },
  {
   "cell_type": "code",
   "execution_count": 45,
   "metadata": {},
   "outputs": [
    {
     "data": {
      "text/plain": [
       "(1797, 10)"
      ]
     },
     "execution_count": 45,
     "metadata": {},
     "output_type": "execute_result"
    }
   ],
   "source": [
    "Y.shape"
   ]
  },
  {
   "cell_type": "code",
   "execution_count": 46,
   "metadata": {},
   "outputs": [],
   "source": [
    "# 훈련데이터셋 테스트데이터셋 (8:2)\n",
    "from sklearn.model_selection import train_test_split\n",
    "X_train, X_test, y_train, y_test = train_test_split(X_scaled, Y, test_size=0.2, random_state=seed)"
   ]
  },
  {
   "cell_type": "code",
   "execution_count": 47,
   "metadata": {},
   "outputs": [
    {
     "name": "stdout",
     "output_type": "stream",
     "text": [
      "Model: \"sequential_2\"\n",
      "_________________________________________________________________\n",
      "Layer (type)                 Output Shape              Param #   \n",
      "=================================================================\n",
      "dense_8 (Dense)              (None, 252)               16380     \n",
      "_________________________________________________________________\n",
      "dense_9 (Dense)              (None, 100)               25300     \n",
      "_________________________________________________________________\n",
      "dense_10 (Dense)             (None, 50)                5050      \n",
      "_________________________________________________________________\n",
      "dense_11 (Dense)             (None, 10)                510       \n",
      "=================================================================\n",
      "Total params: 47,240\n",
      "Trainable params: 47,240\n",
      "Non-trainable params: 0\n",
      "_________________________________________________________________\n"
     ]
    }
   ],
   "source": [
    "# 모델 설정\n",
    "model = Sequential([\n",
    "    InputLayer(input_shape=[64,]),\n",
    "    Dense(252, activation='relu'),\n",
    "    Dense(100, activation='relu'),\n",
    "    Dense(50, activation='relu'),\n",
    "    Dense(10)\n",
    "]) \n",
    "model.summary()"
   ]
  },
  {
   "cell_type": "code",
   "execution_count": 48,
   "metadata": {},
   "outputs": [],
   "source": [
    "from tensorflow.keras.optimizers import Adam\n",
    "# 모델 컴파일 \n",
    "model.compile(loss='categorical_crossentropy',\n",
    "              optimizer=Adam(lr=0.001140995627618109),\n",
    "              metrics=['accuracy'])"
   ]
  },
  {
   "cell_type": "code",
   "execution_count": 49,
   "metadata": {},
   "outputs": [],
   "source": [
    "# 모델 저장 폴더 설정\n",
    "import os\n",
    "MODEL_DIR = './model/digits/'\n",
    "if not os.path.exists(MODEL_DIR):\n",
    "    os.mkdir(MODEL_DIR)"
   ]
  },
  {
   "cell_type": "code",
   "execution_count": 50,
   "metadata": {},
   "outputs": [],
   "source": [
    "# 모델 저장 조건 설정\n",
    "modelpath = MODEL_DIR + \"final{epoch:03d}-{val_loss:.4f}.hdf5\"\n",
    "\n",
    "checkpointer_callback = ModelCheckpoint(filepath=modelpath, monitor='val_loss', \n",
    "                               verbose=1, save_best_only=True)"
   ]
  },
  {
   "cell_type": "code",
   "execution_count": 51,
   "metadata": {},
   "outputs": [],
   "source": [
    "# 자동 중단 설정\n",
    "early_stopping_callback = EarlyStopping(monitor='val_loss', patience=100)"
   ]
  },
  {
   "cell_type": "code",
   "execution_count": 52,
   "metadata": {},
   "outputs": [
    {
     "name": "stdout",
     "output_type": "stream",
     "text": [
      "\n",
      "Epoch 00001: val_loss improved from inf to 7.72957, saving model to ./model/digits/final001-7.7296.hdf5\n",
      "\n",
      "Epoch 00002: val_loss did not improve from 7.72957\n",
      "\n",
      "Epoch 00003: val_loss did not improve from 7.72957\n",
      "\n",
      "Epoch 00004: val_loss did not improve from 7.72957\n",
      "\n",
      "Epoch 00005: val_loss did not improve from 7.72957\n",
      "\n",
      "Epoch 00006: val_loss did not improve from 7.72957\n",
      "\n",
      "Epoch 00007: val_loss did not improve from 7.72957\n",
      "\n",
      "Epoch 00008: val_loss improved from 7.72957 to 7.46407, saving model to ./model/digits/final008-7.4641.hdf5\n",
      "\n",
      "Epoch 00009: val_loss improved from 7.46407 to 7.03575, saving model to ./model/digits/final009-7.0358.hdf5\n",
      "\n",
      "Epoch 00010: val_loss improved from 7.03575 to 6.88466, saving model to ./model/digits/final010-6.8847.hdf5\n",
      "\n",
      "Epoch 00011: val_loss improved from 6.88466 to 6.58428, saving model to ./model/digits/final011-6.5843.hdf5\n",
      "\n",
      "Epoch 00012: val_loss improved from 6.58428 to 6.11699, saving model to ./model/digits/final012-6.1170.hdf5\n",
      "\n",
      "Epoch 00013: val_loss improved from 6.11699 to 5.50061, saving model to ./model/digits/final013-5.5006.hdf5\n",
      "\n",
      "Epoch 00014: val_loss did not improve from 5.50061\n",
      "\n",
      "Epoch 00015: val_loss did not improve from 5.50061\n",
      "\n",
      "Epoch 00016: val_loss did not improve from 5.50061\n",
      "\n",
      "Epoch 00017: val_loss did not improve from 5.50061\n",
      "\n",
      "Epoch 00018: val_loss did not improve from 5.50061\n",
      "\n",
      "Epoch 00019: val_loss did not improve from 5.50061\n",
      "\n",
      "Epoch 00020: val_loss did not improve from 5.50061\n",
      "\n",
      "Epoch 00021: val_loss did not improve from 5.50061\n",
      "\n",
      "Epoch 00022: val_loss did not improve from 5.50061\n",
      "\n",
      "Epoch 00023: val_loss did not improve from 5.50061\n",
      "\n",
      "Epoch 00024: val_loss did not improve from 5.50061\n",
      "\n",
      "Epoch 00025: val_loss did not improve from 5.50061\n",
      "\n",
      "Epoch 00026: val_loss did not improve from 5.50061\n",
      "\n",
      "Epoch 00027: val_loss did not improve from 5.50061\n",
      "\n",
      "Epoch 00028: val_loss did not improve from 5.50061\n",
      "\n",
      "Epoch 00029: val_loss did not improve from 5.50061\n",
      "\n",
      "Epoch 00030: val_loss did not improve from 5.50061\n",
      "\n",
      "Epoch 00031: val_loss did not improve from 5.50061\n",
      "\n",
      "Epoch 00032: val_loss did not improve from 5.50061\n",
      "\n",
      "Epoch 00033: val_loss did not improve from 5.50061\n",
      "\n",
      "Epoch 00034: val_loss did not improve from 5.50061\n",
      "\n",
      "Epoch 00035: val_loss did not improve from 5.50061\n",
      "\n",
      "Epoch 00036: val_loss did not improve from 5.50061\n",
      "\n",
      "Epoch 00037: val_loss did not improve from 5.50061\n",
      "\n",
      "Epoch 00038: val_loss did not improve from 5.50061\n",
      "\n",
      "Epoch 00039: val_loss did not improve from 5.50061\n",
      "\n",
      "Epoch 00040: val_loss did not improve from 5.50061\n",
      "\n",
      "Epoch 00041: val_loss did not improve from 5.50061\n",
      "\n",
      "Epoch 00042: val_loss did not improve from 5.50061\n",
      "\n",
      "Epoch 00043: val_loss did not improve from 5.50061\n",
      "\n",
      "Epoch 00044: val_loss did not improve from 5.50061\n",
      "\n",
      "Epoch 00045: val_loss did not improve from 5.50061\n",
      "\n",
      "Epoch 00046: val_loss did not improve from 5.50061\n",
      "\n",
      "Epoch 00047: val_loss did not improve from 5.50061\n",
      "\n",
      "Epoch 00048: val_loss did not improve from 5.50061\n",
      "\n",
      "Epoch 00049: val_loss did not improve from 5.50061\n",
      "\n",
      "Epoch 00050: val_loss did not improve from 5.50061\n",
      "\n",
      "Epoch 00051: val_loss did not improve from 5.50061\n",
      "\n",
      "Epoch 00052: val_loss did not improve from 5.50061\n",
      "\n",
      "Epoch 00053: val_loss did not improve from 5.50061\n",
      "\n",
      "Epoch 00054: val_loss did not improve from 5.50061\n",
      "\n",
      "Epoch 00055: val_loss did not improve from 5.50061\n",
      "\n",
      "Epoch 00056: val_loss did not improve from 5.50061\n",
      "\n",
      "Epoch 00057: val_loss did not improve from 5.50061\n",
      "\n",
      "Epoch 00058: val_loss did not improve from 5.50061\n",
      "\n",
      "Epoch 00059: val_loss did not improve from 5.50061\n",
      "\n",
      "Epoch 00060: val_loss did not improve from 5.50061\n",
      "\n",
      "Epoch 00061: val_loss did not improve from 5.50061\n",
      "\n",
      "Epoch 00062: val_loss did not improve from 5.50061\n",
      "\n",
      "Epoch 00063: val_loss did not improve from 5.50061\n",
      "\n",
      "Epoch 00064: val_loss did not improve from 5.50061\n",
      "\n",
      "Epoch 00065: val_loss did not improve from 5.50061\n",
      "\n",
      "Epoch 00066: val_loss did not improve from 5.50061\n",
      "\n",
      "Epoch 00067: val_loss did not improve from 5.50061\n",
      "\n",
      "Epoch 00068: val_loss did not improve from 5.50061\n",
      "\n",
      "Epoch 00069: val_loss did not improve from 5.50061\n",
      "\n",
      "Epoch 00070: val_loss did not improve from 5.50061\n",
      "\n",
      "Epoch 00071: val_loss did not improve from 5.50061\n",
      "\n",
      "Epoch 00072: val_loss did not improve from 5.50061\n",
      "\n",
      "Epoch 00073: val_loss did not improve from 5.50061\n",
      "\n",
      "Epoch 00074: val_loss did not improve from 5.50061\n",
      "\n",
      "Epoch 00075: val_loss did not improve from 5.50061\n",
      "\n",
      "Epoch 00076: val_loss did not improve from 5.50061\n",
      "\n",
      "Epoch 00077: val_loss did not improve from 5.50061\n",
      "\n",
      "Epoch 00078: val_loss did not improve from 5.50061\n",
      "\n",
      "Epoch 00079: val_loss did not improve from 5.50061\n",
      "\n",
      "Epoch 00080: val_loss did not improve from 5.50061\n",
      "\n",
      "Epoch 00081: val_loss did not improve from 5.50061\n",
      "\n",
      "Epoch 00082: val_loss did not improve from 5.50061\n",
      "\n",
      "Epoch 00083: val_loss did not improve from 5.50061\n",
      "\n",
      "Epoch 00084: val_loss did not improve from 5.50061\n",
      "\n",
      "Epoch 00085: val_loss did not improve from 5.50061\n",
      "\n",
      "Epoch 00086: val_loss did not improve from 5.50061\n",
      "\n",
      "Epoch 00087: val_loss did not improve from 5.50061\n",
      "\n",
      "Epoch 00088: val_loss did not improve from 5.50061\n",
      "\n",
      "Epoch 00089: val_loss did not improve from 5.50061\n",
      "\n",
      "Epoch 00090: val_loss did not improve from 5.50061\n",
      "\n",
      "Epoch 00091: val_loss did not improve from 5.50061\n",
      "\n",
      "Epoch 00092: val_loss did not improve from 5.50061\n",
      "\n",
      "Epoch 00093: val_loss did not improve from 5.50061\n",
      "\n",
      "Epoch 00094: val_loss did not improve from 5.50061\n",
      "\n",
      "Epoch 00095: val_loss did not improve from 5.50061\n",
      "\n",
      "Epoch 00096: val_loss did not improve from 5.50061\n",
      "\n",
      "Epoch 00097: val_loss did not improve from 5.50061\n",
      "\n",
      "Epoch 00098: val_loss did not improve from 5.50061\n",
      "\n",
      "Epoch 00099: val_loss did not improve from 5.50061\n",
      "\n",
      "Epoch 00100: val_loss did not improve from 5.50061\n",
      "\n",
      "Epoch 00101: val_loss did not improve from 5.50061\n",
      "\n",
      "Epoch 00102: val_loss did not improve from 5.50061\n",
      "\n",
      "Epoch 00103: val_loss did not improve from 5.50061\n",
      "\n",
      "Epoch 00104: val_loss did not improve from 5.50061\n",
      "\n",
      "Epoch 00105: val_loss did not improve from 5.50061\n",
      "\n",
      "Epoch 00106: val_loss did not improve from 5.50061\n",
      "\n",
      "Epoch 00107: val_loss did not improve from 5.50061\n",
      "\n",
      "Epoch 00108: val_loss did not improve from 5.50061\n",
      "\n",
      "Epoch 00109: val_loss did not improve from 5.50061\n",
      "\n",
      "Epoch 00110: val_loss did not improve from 5.50061\n",
      "\n",
      "Epoch 00111: val_loss did not improve from 5.50061\n",
      "\n",
      "Epoch 00112: val_loss did not improve from 5.50061\n",
      "\n",
      "Epoch 00113: val_loss did not improve from 5.50061\n"
     ]
    }
   ],
   "source": [
    "# 모델 실행 및 저장\n",
    "history = model.fit(X_train, y_train, validation_split=0.2, epochs=5000, batch_size=400,\n",
    "                    verbose=0, callbacks=[early_stopping_callback, checkpointer_callback])"
   ]
  },
  {
   "cell_type": "code",
   "execution_count": 53,
   "metadata": {},
   "outputs": [
    {
     "name": "stdout",
     "output_type": "stream",
     "text": [
      "360/360 - 0s - loss: 5.3532 - accuracy: 0.1444\n",
      "\n",
      " Accuracy: 0.1444\n"
     ]
    }
   ],
   "source": [
    "del model\n",
    "model = load_model('model/digits/final013-5.5006.hdf5')\n",
    "print(\"\\n Accuracy: %.4f\" % (model.evaluate(X_test, y_test, verbose=2)[1]))"
   ]
  },
  {
   "cell_type": "code",
   "execution_count": 54,
   "metadata": {},
   "outputs": [
    {
     "data": {
      "image/png": "[encoded data removed]",
      "text/plain": [
       "<Figure size 576x360 with 1 Axes>"
      ]
     },
     "metadata": {
      "needs_background": "light"
     },
     "output_type": "display_data"
    }
   ],
   "source": [
    "pd.DataFrame(history.history).plot(figsize=(8,5))\n",
    "plt.grid(True)\n",
    "plt.gca().set_ylim(0,1)\n",
    "plt.show()"
   ]
  },
  {
   "cell_type": "code",
   "execution_count": 19,
   "metadata": {},
   "outputs": [],
   "source": [
    "def build_model(n_hidden=1, n_neurons=30, learning_rate=3e-3,input_shape=[64]):\n",
    "    model = keras.models.Sequential()\n",
    "    model.add(keras.layers.InputLayer(input_shape=input_shape))\n",
    "    for layer in range(n_hidden):\n",
    "        model.add(keras.layers.Dense(n_neurons, activation='relu'))\n",
    "    model.add(keras.layers.Dense(1))\n",
    "    optimizer = keras.optimizer.Adam(lr=learning_rate)\n",
    "    model.compile(loss=\"mse\", optimizer=optimizer)\n",
    "    return model"
   ]
  },
  {
   "cell_type": "code",
   "execution_count": null,
   "metadata": {},
   "outputs": [],
   "source": []
  }
 ],
 "metadata": {
  "kernelspec": {
   "display_name": "Python 3",
   "language": "python",
   "name": "python3"
  },
  "language_info": {
   "codemirror_mode": {
    "name": "ipython",
    "version": 3
   },
   "file_extension": ".py",
   "mimetype": "text/x-python",
   "name": "python",
   "nbconvert_exporter": "python",
   "pygments_lexer": "ipython3",
   "version": "3.7.7"
  }
 },
 "nbformat": 4,
 "nbformat_minor": 4
}
