{
 "cells": [
  {
   "cell_type": "markdown",
   "metadata": {},
   "source": [
    "# 이미지 인식 - CNN\n",
    "### MNIST"
   ]
  },
  {
   "cell_type": "code",
   "execution_count": 2,
   "metadata": {},
   "outputs": [],
   "source": [
    "import numpy as np\n",
    "import tensorflow as tf\n",
    "# from tensorflow import keras\n",
    "from tensorflow.keras.datasets import mnist\n",
    "from tensorflow.keras.models import Sequential\n",
    "from tensorflow.keras.layers import Dense, Dropout, Flatten, Conv2D, MaxPooling2D\n",
    "from tensorflow.keras.callbacks import ModelCheckpoint, EarlyStopping\n",
    "\n",
    "import os\n",
    "import matplotlib.pyplot as plt\n",
    "%matplotlib inline"
   ]
  },
  {
   "cell_type": "code",
   "execution_count": 3,
   "metadata": {},
   "outputs": [],
   "source": [
    "# seed 값 설정\n",
    "seed = 0\n",
    "np.random.seed(seed)\n",
    "tf.random.set_seed(seed)"
   ]
  },
  {
   "cell_type": "code",
   "execution_count": 4,
   "metadata": {},
   "outputs": [],
   "source": [
    "# 데이터 불러오기\n",
    "# 학습데이터 reshape -> 정규화\n",
    "# Y 정규화\n",
    "(X_train, Y_train), (X_test, Y_test) = mnist.load_data()\n",
    "X_train = X_train.reshape(X_train.shape[0],28,28,1).astype('float32')/255\n",
    "X_test = X_test.reshape(X_test.shape[0],28,28,1).astype('float')/255\n",
    "Y_train = tf.keras.utils.to_categorical(Y_train)\n",
    "Y_test = tf.keras.utils.to_categorical(Y_test)"
   ]
  },
  {
   "cell_type": "code",
   "execution_count": 8,
   "metadata": {},
   "outputs": [
    {
     "name": "stdout",
     "output_type": "stream",
     "text": [
      "Model: \"sequential\"\n",
      "_________________________________________________________________\n",
      "Layer (type)                 Output Shape              Param #   \n",
      "=================================================================\n",
      "conv2d_2 (Conv2D)            (None, 28, 28, 32)        832       \n",
      "_________________________________________________________________\n",
      "max_pooling2d_2 (MaxPooling2 (None, 14, 14, 32)        0         \n",
      "_________________________________________________________________\n",
      "conv2d_3 (Conv2D)            (None, 14, 14, 64)        8256      \n",
      "_________________________________________________________________\n",
      "max_pooling2d_3 (MaxPooling2 (None, 7, 7, 64)          0         \n",
      "_________________________________________________________________\n",
      "dropout (Dropout)            (None, 7, 7, 64)          0         \n",
      "_________________________________________________________________\n",
      "flatten (Flatten)            (None, 3136)              0         \n",
      "_________________________________________________________________\n",
      "dense (Dense)                (None, 1000)              3137000   \n",
      "_________________________________________________________________\n",
      "dropout_1 (Dropout)          (None, 1000)              0         \n",
      "_________________________________________________________________\n",
      "dense_1 (Dense)              (None, 10)                10010     \n",
      "=================================================================\n",
      "Total params: 3,156,098\n",
      "Trainable params: 3,156,098\n",
      "Non-trainable params: 0\n",
      "_________________________________________________________________\n"
     ]
    }
   ],
   "source": [
    "# 컨볼루션 신경망 설정\n",
    "model = Sequential([\n",
    "    Conv2D(32, kernel_size=(5, 5), strides=(1, 1), padding='same',\n",
    "                 activation='relu',\n",
    "                 input_shape=(28,28,1)),\n",
    "    MaxPooling2D(pool_size=(2, 2), strides=(2, 2)),\n",
    "    Conv2D(64, (2, 2), activation='relu', padding='same'),\n",
    "    MaxPooling2D(pool_size=(2, 2)),\n",
    "    Dropout(0.25),\n",
    "    Flatten(),\n",
    "    Dense(1000, activation='relu'),\n",
    "    Dropout(0.5),\n",
    "    Dense(10, activation='softmax')\n",
    "])\n",
    "model.summary()"
   ]
  },
  {
   "cell_type": "code",
   "execution_count": 9,
   "metadata": {},
   "outputs": [],
   "source": [
    "model.compile(loss='categorical_crossentropy',\n",
    "             optimizer='adam',\n",
    "             metrics=['accuracy'])"
   ]
  },
  {
   "cell_type": "code",
   "execution_count": 10,
   "metadata": {},
   "outputs": [],
   "source": [
    "# 모델 최적화 설정\n",
    "MODEL_DIR = './model/'\n",
    "if not os.path.exists(MODEL_DIR):\n",
    "    os.mkdir(MODEL_DIR)"
   ]
  },
  {
   "cell_type": "code",
   "execution_count": 11,
   "metadata": {},
   "outputs": [],
   "source": [
    "modelpath = MODEL_DIR + \"mnist-cnn-{epoch:02d}-{val_loss:.4f}.hdf5\"\n",
    "checkpointer = ModelCheckpoint(filepath=modelpath, monitor='val_loss', \n",
    "                               verbose=1, save_best_only=True)\n",
    "early_stopping_callback = EarlyStopping(monitor='val_loss', patience=10)"
   ]
  },
  {
   "cell_type": "code",
   "execution_count": 12,
   "metadata": {},
   "outputs": [
    {
     "name": "stdout",
     "output_type": "stream",
     "text": [
      "Train on 48000 samples, validate on 12000 samples\n",
      "Epoch 1/30\n",
      "47800/48000 [============================>.] - ETA: 0s - loss: 0.2418 - accuracy: 0.9262\n",
      "Epoch 00001: val_loss improved from inf to 0.07164, saving model to ./model/mnist-cnn-01-0.0716.hdf5\n",
      "48000/48000 [==============================] - 21s 441us/sample - loss: 0.2412 - accuracy: 0.9263 - val_loss: 0.0716 - val_accuracy: 0.9798\n",
      "Epoch 2/30\n",
      "47800/48000 [============================>.] - ETA: 0s - loss: 0.0682 - accuracy: 0.9785\n",
      "Epoch 00002: val_loss improved from 0.07164 to 0.04776, saving model to ./model/mnist-cnn-02-0.0478.hdf5\n",
      "48000/48000 [==============================] - 21s 433us/sample - loss: 0.0681 - accuracy: 0.9785 - val_loss: 0.0478 - val_accuracy: 0.9864\n",
      "Epoch 3/30\n",
      "47800/48000 [============================>.] - ETA: 0s - loss: 0.0519 - accuracy: 0.9832\n",
      "Epoch 00003: val_loss improved from 0.04776 to 0.04267, saving model to ./model/mnist-cnn-03-0.0427.hdf5\n",
      "48000/48000 [==============================] - 21s 432us/sample - loss: 0.0519 - accuracy: 0.9833 - val_loss: 0.0427 - val_accuracy: 0.9885\n",
      "Epoch 4/30\n",
      "47800/48000 [============================>.] - ETA: 0s - loss: 0.0377 - accuracy: 0.9879\n",
      "Epoch 00004: val_loss improved from 0.04267 to 0.03760, saving model to ./model/mnist-cnn-04-0.0376.hdf5\n",
      "48000/48000 [==============================] - 20s 422us/sample - loss: 0.0376 - accuracy: 0.9879 - val_loss: 0.0376 - val_accuracy: 0.9882\n",
      "Epoch 5/30\n",
      "47800/48000 [============================>.] - ETA: 0s - loss: 0.0339 - accuracy: 0.9891\n",
      "Epoch 00005: val_loss improved from 0.03760 to 0.03276, saving model to ./model/mnist-cnn-05-0.0328.hdf5\n",
      "48000/48000 [==============================] - 21s 432us/sample - loss: 0.0338 - accuracy: 0.9892 - val_loss: 0.0328 - val_accuracy: 0.9902\n",
      "Epoch 6/30\n",
      "47800/48000 [============================>.] - ETA: 0s - loss: 0.0297 - accuracy: 0.9904\n",
      "Epoch 00006: val_loss improved from 0.03276 to 0.03200, saving model to ./model/mnist-cnn-06-0.0320.hdf5\n",
      "48000/48000 [==============================] - 21s 441us/sample - loss: 0.0298 - accuracy: 0.9904 - val_loss: 0.0320 - val_accuracy: 0.9914\n",
      "Epoch 7/30\n",
      "47800/48000 [============================>.] - ETA: 0s - loss: 0.0261 - accuracy: 0.9914\n",
      "Epoch 00007: val_loss did not improve from 0.03200\n",
      "48000/48000 [==============================] - 21s 428us/sample - loss: 0.0261 - accuracy: 0.9913 - val_loss: 0.0329 - val_accuracy: 0.9905\n",
      "Epoch 8/30\n",
      "47800/48000 [============================>.] - ETA: 0s - loss: 0.0237 - accuracy: 0.9925\n",
      "Epoch 00008: val_loss improved from 0.03200 to 0.03063, saving model to ./model/mnist-cnn-08-0.0306.hdf5\n",
      "48000/48000 [==============================] - 21s 437us/sample - loss: 0.0236 - accuracy: 0.9925 - val_loss: 0.0306 - val_accuracy: 0.9912\n",
      "Epoch 9/30\n",
      "47800/48000 [============================>.] - ETA: 0s - loss: 0.0189 - accuracy: 0.9941\n",
      "Epoch 00009: val_loss improved from 0.03063 to 0.02840, saving model to ./model/mnist-cnn-09-0.0284.hdf5\n",
      "48000/48000 [==============================] - 22s 453us/sample - loss: 0.0190 - accuracy: 0.9940 - val_loss: 0.0284 - val_accuracy: 0.9921\n",
      "Epoch 10/30\n",
      "47800/48000 [============================>.] - ETA: 0s - loss: 0.0183 - accuracy: 0.9937\n",
      "Epoch 00010: val_loss did not improve from 0.02840\n",
      "48000/48000 [==============================] - 22s 452us/sample - loss: 0.0184 - accuracy: 0.9937 - val_loss: 0.0307 - val_accuracy: 0.9926\n",
      "Epoch 11/30\n",
      "47800/48000 [============================>.] - ETA: 0s - loss: 0.0176 - accuracy: 0.9941\n",
      "Epoch 00011: val_loss improved from 0.02840 to 0.02527, saving model to ./model/mnist-cnn-11-0.0253.hdf5\n",
      "48000/48000 [==============================] - 21s 445us/sample - loss: 0.0176 - accuracy: 0.9941 - val_loss: 0.0253 - val_accuracy: 0.9933\n",
      "Epoch 12/30\n",
      "47800/48000 [============================>.] - ETA: 0s - loss: 0.0150 - accuracy: 0.9951\n",
      "Epoch 00012: val_loss did not improve from 0.02527\n",
      "48000/48000 [==============================] - 21s 435us/sample - loss: 0.0150 - accuracy: 0.9951 - val_loss: 0.0276 - val_accuracy: 0.9922\n",
      "Epoch 13/30\n",
      "47800/48000 [============================>.] - ETA: 0s - loss: 0.0137 - accuracy: 0.9951\n",
      "Epoch 00013: val_loss did not improve from 0.02527\n",
      "48000/48000 [==============================] - 21s 445us/sample - loss: 0.0138 - accuracy: 0.9951 - val_loss: 0.0300 - val_accuracy: 0.9919\n",
      "Epoch 14/30\n",
      "47800/48000 [============================>.] - ETA: 0s - loss: 0.0128 - accuracy: 0.9957\n",
      "Epoch 00014: val_loss did not improve from 0.02527\n",
      "48000/48000 [==============================] - 21s 446us/sample - loss: 0.0128 - accuracy: 0.9957 - val_loss: 0.0341 - val_accuracy: 0.9913\n",
      "Epoch 15/30\n",
      "47800/48000 [============================>.] - ETA: 0s - loss: 0.0136 - accuracy: 0.9956\n",
      "Epoch 00015: val_loss did not improve from 0.02527\n",
      "48000/48000 [==============================] - 21s 439us/sample - loss: 0.0136 - accuracy: 0.9957 - val_loss: 0.0283 - val_accuracy: 0.9933\n",
      "Epoch 16/30\n",
      "47800/48000 [============================>.] - ETA: 0s - loss: 0.0113 - accuracy: 0.9963\n",
      "Epoch 00016: val_loss did not improve from 0.02527\n",
      "48000/48000 [==============================] - 21s 437us/sample - loss: 0.0114 - accuracy: 0.9963 - val_loss: 0.0315 - val_accuracy: 0.9925\n",
      "Epoch 17/30\n",
      "47800/48000 [============================>.] - ETA: 0s - loss: 0.0102 - accuracy: 0.9967\n",
      "Epoch 00017: val_loss did not improve from 0.02527\n",
      "48000/48000 [==============================] - 21s 443us/sample - loss: 0.0102 - accuracy: 0.9967 - val_loss: 0.0382 - val_accuracy: 0.9919\n",
      "Epoch 18/30\n",
      "47800/48000 [============================>.] - ETA: 0s - loss: 0.0110 - accuracy: 0.9962\n",
      "Epoch 00018: val_loss did not improve from 0.02527\n",
      "48000/48000 [==============================] - 21s 446us/sample - loss: 0.0110 - accuracy: 0.9962 - val_loss: 0.0296 - val_accuracy: 0.9924\n",
      "Epoch 19/30\n",
      "47800/48000 [============================>.] - ETA: 0s - loss: 0.0104 - accuracy: 0.9966\n",
      "Epoch 00019: val_loss did not improve from 0.02527\n",
      "48000/48000 [==============================] - 21s 434us/sample - loss: 0.0104 - accuracy: 0.9966 - val_loss: 0.0305 - val_accuracy: 0.9924\n",
      "Epoch 20/30\n",
      "47800/48000 [============================>.] - ETA: 0s - loss: 0.0088 - accuracy: 0.9970\n",
      "Epoch 00020: val_loss did not improve from 0.02527\n",
      "48000/48000 [==============================] - 20s 426us/sample - loss: 0.0088 - accuracy: 0.9970 - val_loss: 0.0332 - val_accuracy: 0.9933\n",
      "Epoch 21/30\n",
      "47800/48000 [============================>.] - ETA: 0s - loss: 0.0079 - accuracy: 0.9973\n",
      "Epoch 00021: val_loss did not improve from 0.02527\n",
      "48000/48000 [==============================] - 20s 425us/sample - loss: 0.0079 - accuracy: 0.9972 - val_loss: 0.0342 - val_accuracy: 0.9932\n"
     ]
    }
   ],
   "source": [
    "# 모델의 실행\n",
    "history = model.fit(X_train, Y_train, validation_split=0.2, epochs=30,\n",
    "                   batch_size=200, \n",
    "                   callbacks=[early_stopping_callback, checkpointer])"
   ]
  },
  {
   "cell_type": "code",
   "execution_count": 14,
   "metadata": {},
   "outputs": [],
   "source": [
    "from tensorflow.keras.models import load_model\n",
    "del model\n",
    "model =load_model('./model/mnist-cnn-11-0.0253.hdf5')"
   ]
  },
  {
   "cell_type": "code",
   "execution_count": 15,
   "metadata": {},
   "outputs": [
    {
     "name": "stdout",
     "output_type": "stream",
     "text": [
      "\n",
      " Test Accuracy: 0.9924\n"
     ]
    }
   ],
   "source": [
    "# 테스트 정확도 출력 \n",
    "print(\"\\n Test Accuracy: %.4f\" % (model.evaluate(X_test, Y_test, verbose=0)[1]))"
   ]
  },
  {
   "cell_type": "code",
   "execution_count": 16,
   "metadata": {},
   "outputs": [],
   "source": [
    "# 테스트셋의 오차\n",
    "y_vloss = history.history['val_loss']\n",
    "\n",
    "# 학습셋의 오차\n",
    "y_loss = history.history['loss']"
   ]
  },
  {
   "cell_type": "code",
   "execution_count": 17,
   "metadata": {},
   "outputs": [
    {
     "data": {
      "image/png": "[encoded data removed]",
      "text/plain": [
       "<Figure size 576x432 with 1 Axes>"
      ]
     },
     "metadata": {
      "needs_background": "light"
     },
     "output_type": "display_data"
    }
   ],
   "source": [
    "# 그래프로 표현\n",
    "x_len = np.arange(1, len(y_loss)+1)\n",
    "plt.figure(figsize=(8,6))\n",
    "plt.plot(x_len, y_vloss, marker='.', c=\"red\", label='Testset_loss')\n",
    "plt.plot(x_len, y_loss, marker='.', c=\"blue\", label='Trainset_loss')\n",
    "\n",
    "# 그래프에 그리드를 주고 레이블을 표시\n",
    "plt.legend(loc='upper right')\n",
    "# plt.axis([0, 20, 0, 0.35])\n",
    "plt.grid()\n",
    "plt.xlabel('epoch')\n",
    "plt.ylabel('loss')\n",
    "plt.show()"
   ]
  },
  {
   "cell_type": "code",
   "execution_count": null,
   "metadata": {},
   "outputs": [],
   "source": []
  }
 ],
 "metadata": {
  "kernelspec": {
   "display_name": "Python 3",
   "language": "python",
   "name": "python3"
  },
  "language_info": {
   "codemirror_mode": {
    "name": "ipython",
    "version": 3
   },
   "file_extension": ".py",
   "mimetype": "text/x-python",
   "name": "python",
   "nbconvert_exporter": "python",
   "pygments_lexer": "ipython3",
   "version": "3.7.7"
  }
 },
 "nbformat": 4,
 "nbformat_minor": 4
}
