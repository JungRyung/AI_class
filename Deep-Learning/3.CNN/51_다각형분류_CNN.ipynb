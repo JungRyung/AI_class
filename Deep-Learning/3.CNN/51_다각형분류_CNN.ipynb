{
 "cells": [
  {
   "cell_type": "markdown",
   "metadata": {},
   "source": [
    "# 원, 삼각형, 사각형 구분하기\n",
    "## 1. CNN 모델"
   ]
  },
  {
   "cell_type": "code",
   "execution_count": 1,
   "metadata": {},
   "outputs": [],
   "source": [
    "import numpy as np\n",
    "import tensorflow as tf\n",
    "from tensorflow import keras\n",
    "from keras.models import Sequential\n",
    "from keras.layers import Dense, Flatten, Conv2D, MaxPooling2D\n",
    "from keras.preprocessing.image import ImageDataGenerator"
   ]
  },
  {
   "cell_type": "code",
   "execution_count": 2,
   "metadata": {},
   "outputs": [],
   "source": [
    "# seed 값 설정\n",
    "seed = 2020\n",
    "np.random.seed(seed)\n",
    "tf.random.set_seed(seed)"
   ]
  },
  {
   "cell_type": "markdown",
   "metadata": {},
   "source": [
    "### 데이터셋 생성하기"
   ]
  },
  {
   "cell_type": "code",
   "execution_count": 3,
   "metadata": {},
   "outputs": [
    {
     "name": "stdout",
     "output_type": "stream",
     "text": [
      "Found 45 images belonging to 3 classes.\n",
      "Found 15 images belonging to 3 classes.\n"
     ]
    }
   ],
   "source": [
    "train_datagen = ImageDataGenerator(rescale=1./255)\n",
    "\n",
    "train_generator = train_datagen.flow_from_directory(\n",
    "        'handwriting_shape/train',\n",
    "        target_size=(24, 24),\n",
    "        batch_size=3,\n",
    "        class_mode='categorical')\n",
    "\n",
    "test_datagen = ImageDataGenerator(rescale=1./255)\n",
    "\n",
    "test_generator = test_datagen.flow_from_directory(\n",
    "        'handwriting_shape/test',\n",
    "        target_size=(24, 24),    \n",
    "        batch_size=3,\n",
    "        class_mode='categorical')"
   ]
  },
  {
   "cell_type": "code",
   "execution_count": 4,
   "metadata": {},
   "outputs": [
    {
     "data": {
      "text/plain": [
       "array([0, 0, 0, 0, 0, 0, 0, 0, 0, 0, 0, 0, 0, 0, 0, 1, 1, 1, 1, 1, 1, 1,\n",
       "       1, 1, 1, 1, 1, 1, 1, 1, 2, 2, 2, 2, 2, 2, 2, 2, 2, 2, 2, 2, 2, 2,\n",
       "       2], dtype=int32)"
      ]
     },
     "execution_count": 4,
     "metadata": {},
     "output_type": "execute_result"
    }
   ],
   "source": [
    "train_generator.labels\n"
   ]
  },
  {
   "cell_type": "markdown",
   "metadata": {},
   "source": [
    "### 모델 구성하기"
   ]
  },
  {
   "cell_type": "code",
   "execution_count": 5,
   "metadata": {},
   "outputs": [
    {
     "name": "stdout",
     "output_type": "stream",
     "text": [
      "Model: \"sequential\"\n",
      "_________________________________________________________________\n",
      "Layer (type)                 Output Shape              Param #   \n",
      "=================================================================\n",
      "conv2d (Conv2D)              (None, 22, 22, 32)        896       \n",
      "_________________________________________________________________\n",
      "conv2d_1 (Conv2D)            (None, 20, 20, 64)        18496     \n",
      "_________________________________________________________________\n",
      "max_pooling2d (MaxPooling2D) (None, 10, 10, 64)        0         \n",
      "_________________________________________________________________\n",
      "flatten (Flatten)            (None, 6400)              0         \n",
      "_________________________________________________________________\n",
      "dense (Dense)                (None, 128)               819328    \n",
      "_________________________________________________________________\n",
      "dense_1 (Dense)              (None, 3)                 387       \n",
      "=================================================================\n",
      "Total params: 839,107\n",
      "Trainable params: 839,107\n",
      "Non-trainable params: 0\n",
      "_________________________________________________________________\n"
     ]
    }
   ],
   "source": [
    "model = Sequential()\n",
    "model.add(Conv2D(32, kernel_size=(3, 3),\n",
    "                 activation='relu', input_shape=(24,24,3)))\n",
    "model.add(Conv2D(64, (3, 3), activation='relu'))\n",
    "model.add(MaxPooling2D(pool_size=(2, 2)))\n",
    "model.add(Flatten())\n",
    "model.add(Dense(128, activation='relu'))\n",
    "model.add(Dense(3, activation='softmax'))\n",
    "model.summary()"
   ]
  },
  {
   "cell_type": "markdown",
   "metadata": {},
   "source": [
    "### 모델 그래프로 보기\n",
    "- conda install pydot\n",
    "- conda install graphviz"
   ]
  },
  {
   "cell_type": "code",
   "execution_count": 6,
   "metadata": {},
   "outputs": [
    {
     "data": {
      "image/svg+xml": [
       "<svg xmlns=\"http://www.w3.org/2000/svg\" xmlns:xlink=\"http://www.w3.org/1999/xlink\" width=\"572pt\" height=\"737pt\" viewBox=\"0.00 0.00 429.00 553.00\">\n",
       "<g id=\"graph0\" class=\"graph\" transform=\"scale(1.3333 1.3333) rotate(0) translate(4 549)\">\n",
       "<title>G</title>\n",
       "<polygon fill=\"#ffffff\" stroke=\"transparent\" points=\"-4,4 -4,-549 425,-549 425,4 -4,4\"/>\n",
       "<!-- 140282737404224 -->\n",
       "<g id=\"node1\" class=\"node\">\n",
       "<title>140282737404224</title>\n",
       "<polygon fill=\"none\" stroke=\"#000000\" points=\"16.5,-498.5 16.5,-544.5 404.5,-544.5 404.5,-498.5 16.5,-498.5\"/>\n",
       "<text text-anchor=\"middle\" x=\"118\" y=\"-517.8\" font-family=\"Times,serif\" font-size=\"14.00\" fill=\"#000000\">conv2d_input: InputLayer</text>\n",
       "<polyline fill=\"none\" stroke=\"#000000\" points=\"219.5,-498.5 219.5,-544.5 \"/>\n",
       "<text text-anchor=\"middle\" x=\"253.5\" y=\"-529.3\" font-family=\"Times,serif\" font-size=\"14.00\" fill=\"#000000\">input:</text>\n",
       "<polyline fill=\"none\" stroke=\"#000000\" points=\"219.5,-521.5 287.5,-521.5 \"/>\n",
       "<text text-anchor=\"middle\" x=\"253.5\" y=\"-506.3\" font-family=\"Times,serif\" font-size=\"14.00\" fill=\"#000000\">output:</text>\n",
       "<polyline fill=\"none\" stroke=\"#000000\" points=\"287.5,-498.5 287.5,-544.5 \"/>\n",
       "<text text-anchor=\"middle\" x=\"346\" y=\"-529.3\" font-family=\"Times,serif\" font-size=\"14.00\" fill=\"#000000\">[(?, 24, 24, 3)]</text>\n",
       "<polyline fill=\"none\" stroke=\"#000000\" points=\"287.5,-521.5 404.5,-521.5 \"/>\n",
       "<text text-anchor=\"middle\" x=\"346\" y=\"-506.3\" font-family=\"Times,serif\" font-size=\"14.00\" fill=\"#000000\">[(?, 24, 24, 3)]</text>\n",
       "</g>\n",
       "<!-- 140282762692640 -->\n",
       "<g id=\"node2\" class=\"node\">\n",
       "<title>140282762692640</title>\n",
       "<polygon fill=\"none\" stroke=\"#000000\" points=\"51.5,-415.5 51.5,-461.5 369.5,-461.5 369.5,-415.5 51.5,-415.5\"/>\n",
       "<text text-anchor=\"middle\" x=\"118.5\" y=\"-434.8\" font-family=\"Times,serif\" font-size=\"14.00\" fill=\"#000000\">conv2d: Conv2D</text>\n",
       "<polyline fill=\"none\" stroke=\"#000000\" points=\"185.5,-415.5 185.5,-461.5 \"/>\n",
       "<text text-anchor=\"middle\" x=\"219.5\" y=\"-446.3\" font-family=\"Times,serif\" font-size=\"14.00\" fill=\"#000000\">input:</text>\n",
       "<polyline fill=\"none\" stroke=\"#000000\" points=\"185.5,-438.5 253.5,-438.5 \"/>\n",
       "<text text-anchor=\"middle\" x=\"219.5\" y=\"-423.3\" font-family=\"Times,serif\" font-size=\"14.00\" fill=\"#000000\">output:</text>\n",
       "<polyline fill=\"none\" stroke=\"#000000\" points=\"253.5,-415.5 253.5,-461.5 \"/>\n",
       "<text text-anchor=\"middle\" x=\"311.5\" y=\"-446.3\" font-family=\"Times,serif\" font-size=\"14.00\" fill=\"#000000\">(?, 24, 24, 3)</text>\n",
       "<polyline fill=\"none\" stroke=\"#000000\" points=\"253.5,-438.5 369.5,-438.5 \"/>\n",
       "<text text-anchor=\"middle\" x=\"311.5\" y=\"-423.3\" font-family=\"Times,serif\" font-size=\"14.00\" fill=\"#000000\">(?, 22, 22, 32)</text>\n",
       "</g>\n",
       "<!-- 140282737404224&#45;&gt;140282762692640 -->\n",
       "<g id=\"edge1\" class=\"edge\">\n",
       "<title>140282737404224-&gt;140282762692640</title>\n",
       "<path fill=\"none\" stroke=\"#000000\" d=\"M210.5,-498.3799C210.5,-490.1745 210.5,-480.7679 210.5,-471.8786\"/>\n",
       "<polygon fill=\"#000000\" stroke=\"#000000\" points=\"214.0001,-471.784 210.5,-461.784 207.0001,-471.784 214.0001,-471.784\"/>\n",
       "</g>\n",
       "<!-- 140282737403024 -->\n",
       "<g id=\"node3\" class=\"node\">\n",
       "<title>140282737403024</title>\n",
       "<polygon fill=\"none\" stroke=\"#000000\" points=\"43,-332.5 43,-378.5 378,-378.5 378,-332.5 43,-332.5\"/>\n",
       "<text text-anchor=\"middle\" x=\"118.5\" y=\"-351.8\" font-family=\"Times,serif\" font-size=\"14.00\" fill=\"#000000\">conv2d_1: Conv2D</text>\n",
       "<polyline fill=\"none\" stroke=\"#000000\" points=\"194,-332.5 194,-378.5 \"/>\n",
       "<text text-anchor=\"middle\" x=\"228\" y=\"-363.3\" font-family=\"Times,serif\" font-size=\"14.00\" fill=\"#000000\">input:</text>\n",
       "<polyline fill=\"none\" stroke=\"#000000\" points=\"194,-355.5 262,-355.5 \"/>\n",
       "<text text-anchor=\"middle\" x=\"228\" y=\"-340.3\" font-family=\"Times,serif\" font-size=\"14.00\" fill=\"#000000\">output:</text>\n",
       "<polyline fill=\"none\" stroke=\"#000000\" points=\"262,-332.5 262,-378.5 \"/>\n",
       "<text text-anchor=\"middle\" x=\"320\" y=\"-363.3\" font-family=\"Times,serif\" font-size=\"14.00\" fill=\"#000000\">(?, 22, 22, 32)</text>\n",
       "<polyline fill=\"none\" stroke=\"#000000\" points=\"262,-355.5 378,-355.5 \"/>\n",
       "<text text-anchor=\"middle\" x=\"320\" y=\"-340.3\" font-family=\"Times,serif\" font-size=\"14.00\" fill=\"#000000\">(?, 20, 20, 64)</text>\n",
       "</g>\n",
       "<!-- 140282762692640&#45;&gt;140282737403024 -->\n",
       "<g id=\"edge2\" class=\"edge\">\n",
       "<title>140282762692640-&gt;140282737403024</title>\n",
       "<path fill=\"none\" stroke=\"#000000\" d=\"M210.5,-415.3799C210.5,-407.1745 210.5,-397.7679 210.5,-388.8786\"/>\n",
       "<polygon fill=\"#000000\" stroke=\"#000000\" points=\"214.0001,-388.784 210.5,-378.784 207.0001,-388.784 214.0001,-388.784\"/>\n",
       "</g>\n",
       "<!-- 140282737037520 -->\n",
       "<g id=\"node4\" class=\"node\">\n",
       "<title>140282737037520</title>\n",
       "<polygon fill=\"none\" stroke=\"#000000\" points=\"0,-249.5 0,-295.5 421,-295.5 421,-249.5 0,-249.5\"/>\n",
       "<text text-anchor=\"middle\" x=\"118.5\" y=\"-268.8\" font-family=\"Times,serif\" font-size=\"14.00\" fill=\"#000000\">max_pooling2d: MaxPooling2D</text>\n",
       "<polyline fill=\"none\" stroke=\"#000000\" points=\"237,-249.5 237,-295.5 \"/>\n",
       "<text text-anchor=\"middle\" x=\"271\" y=\"-280.3\" font-family=\"Times,serif\" font-size=\"14.00\" fill=\"#000000\">input:</text>\n",
       "<polyline fill=\"none\" stroke=\"#000000\" points=\"237,-272.5 305,-272.5 \"/>\n",
       "<text text-anchor=\"middle\" x=\"271\" y=\"-257.3\" font-family=\"Times,serif\" font-size=\"14.00\" fill=\"#000000\">output:</text>\n",
       "<polyline fill=\"none\" stroke=\"#000000\" points=\"305,-249.5 305,-295.5 \"/>\n",
       "<text text-anchor=\"middle\" x=\"363\" y=\"-280.3\" font-family=\"Times,serif\" font-size=\"14.00\" fill=\"#000000\">(?, 20, 20, 64)</text>\n",
       "<polyline fill=\"none\" stroke=\"#000000\" points=\"305,-272.5 421,-272.5 \"/>\n",
       "<text text-anchor=\"middle\" x=\"363\" y=\"-257.3\" font-family=\"Times,serif\" font-size=\"14.00\" fill=\"#000000\">(?, 10, 10, 64)</text>\n",
       "</g>\n",
       "<!-- 140282737403024&#45;&gt;140282737037520 -->\n",
       "<g id=\"edge3\" class=\"edge\">\n",
       "<title>140282737403024-&gt;140282737037520</title>\n",
       "<path fill=\"none\" stroke=\"#000000\" d=\"M210.5,-332.3799C210.5,-324.1745 210.5,-314.7679 210.5,-305.8786\"/>\n",
       "<polygon fill=\"#000000\" stroke=\"#000000\" points=\"214.0001,-305.784 210.5,-295.784 207.0001,-305.784 214.0001,-305.784\"/>\n",
       "</g>\n",
       "<!-- 140282736752192 -->\n",
       "<g id=\"node5\" class=\"node\">\n",
       "<title>140282736752192</title>\n",
       "<polygon fill=\"none\" stroke=\"#000000\" points=\"56,-166.5 56,-212.5 365,-212.5 365,-166.5 56,-166.5\"/>\n",
       "<text text-anchor=\"middle\" x=\"118.5\" y=\"-185.8\" font-family=\"Times,serif\" font-size=\"14.00\" fill=\"#000000\">flatten: Flatten</text>\n",
       "<polyline fill=\"none\" stroke=\"#000000\" points=\"181,-166.5 181,-212.5 \"/>\n",
       "<text text-anchor=\"middle\" x=\"215\" y=\"-197.3\" font-family=\"Times,serif\" font-size=\"14.00\" fill=\"#000000\">input:</text>\n",
       "<polyline fill=\"none\" stroke=\"#000000\" points=\"181,-189.5 249,-189.5 \"/>\n",
       "<text text-anchor=\"middle\" x=\"215\" y=\"-174.3\" font-family=\"Times,serif\" font-size=\"14.00\" fill=\"#000000\">output:</text>\n",
       "<polyline fill=\"none\" stroke=\"#000000\" points=\"249,-166.5 249,-212.5 \"/>\n",
       "<text text-anchor=\"middle\" x=\"307\" y=\"-197.3\" font-family=\"Times,serif\" font-size=\"14.00\" fill=\"#000000\">(?, 10, 10, 64)</text>\n",
       "<polyline fill=\"none\" stroke=\"#000000\" points=\"249,-189.5 365,-189.5 \"/>\n",
       "<text text-anchor=\"middle\" x=\"307\" y=\"-174.3\" font-family=\"Times,serif\" font-size=\"14.00\" fill=\"#000000\">(?, 6400)</text>\n",
       "</g>\n",
       "<!-- 140282737037520&#45;&gt;140282736752192 -->\n",
       "<g id=\"edge4\" class=\"edge\">\n",
       "<title>140282737037520-&gt;140282736752192</title>\n",
       "<path fill=\"none\" stroke=\"#000000\" d=\"M210.5,-249.3799C210.5,-241.1745 210.5,-231.7679 210.5,-222.8786\"/>\n",
       "<polygon fill=\"#000000\" stroke=\"#000000\" points=\"214.0001,-222.784 210.5,-212.784 207.0001,-222.784 214.0001,-222.784\"/>\n",
       "</g>\n",
       "<!-- 140282736842064 -->\n",
       "<g id=\"node6\" class=\"node\">\n",
       "<title>140282736842064</title>\n",
       "<polygon fill=\"none\" stroke=\"#000000\" points=\"80.5,-83.5 80.5,-129.5 340.5,-129.5 340.5,-83.5 80.5,-83.5\"/>\n",
       "<text text-anchor=\"middle\" x=\"136.5\" y=\"-102.8\" font-family=\"Times,serif\" font-size=\"14.00\" fill=\"#000000\">dense: Dense</text>\n",
       "<polyline fill=\"none\" stroke=\"#000000\" points=\"192.5,-83.5 192.5,-129.5 \"/>\n",
       "<text text-anchor=\"middle\" x=\"226.5\" y=\"-114.3\" font-family=\"Times,serif\" font-size=\"14.00\" fill=\"#000000\">input:</text>\n",
       "<polyline fill=\"none\" stroke=\"#000000\" points=\"192.5,-106.5 260.5,-106.5 \"/>\n",
       "<text text-anchor=\"middle\" x=\"226.5\" y=\"-91.3\" font-family=\"Times,serif\" font-size=\"14.00\" fill=\"#000000\">output:</text>\n",
       "<polyline fill=\"none\" stroke=\"#000000\" points=\"260.5,-83.5 260.5,-129.5 \"/>\n",
       "<text text-anchor=\"middle\" x=\"300.5\" y=\"-114.3\" font-family=\"Times,serif\" font-size=\"14.00\" fill=\"#000000\">(?, 6400)</text>\n",
       "<polyline fill=\"none\" stroke=\"#000000\" points=\"260.5,-106.5 340.5,-106.5 \"/>\n",
       "<text text-anchor=\"middle\" x=\"300.5\" y=\"-91.3\" font-family=\"Times,serif\" font-size=\"14.00\" fill=\"#000000\">(?, 128)</text>\n",
       "</g>\n",
       "<!-- 140282736752192&#45;&gt;140282736842064 -->\n",
       "<g id=\"edge5\" class=\"edge\">\n",
       "<title>140282736752192-&gt;140282736842064</title>\n",
       "<path fill=\"none\" stroke=\"#000000\" d=\"M210.5,-166.3799C210.5,-158.1745 210.5,-148.7679 210.5,-139.8786\"/>\n",
       "<polygon fill=\"#000000\" stroke=\"#000000\" points=\"214.0001,-139.784 210.5,-129.784 207.0001,-139.784 214.0001,-139.784\"/>\n",
       "</g>\n",
       "<!-- 140282736844656 -->\n",
       "<g id=\"node7\" class=\"node\">\n",
       "<title>140282736844656</title>\n",
       "<polygon fill=\"none\" stroke=\"#000000\" points=\"77,-.5 77,-46.5 344,-46.5 344,-.5 77,-.5\"/>\n",
       "<text text-anchor=\"middle\" x=\"141\" y=\"-19.8\" font-family=\"Times,serif\" font-size=\"14.00\" fill=\"#000000\">dense_1: Dense</text>\n",
       "<polyline fill=\"none\" stroke=\"#000000\" points=\"205,-.5 205,-46.5 \"/>\n",
       "<text text-anchor=\"middle\" x=\"239\" y=\"-31.3\" font-family=\"Times,serif\" font-size=\"14.00\" fill=\"#000000\">input:</text>\n",
       "<polyline fill=\"none\" stroke=\"#000000\" points=\"205,-23.5 273,-23.5 \"/>\n",
       "<text text-anchor=\"middle\" x=\"239\" y=\"-8.3\" font-family=\"Times,serif\" font-size=\"14.00\" fill=\"#000000\">output:</text>\n",
       "<polyline fill=\"none\" stroke=\"#000000\" points=\"273,-.5 273,-46.5 \"/>\n",
       "<text text-anchor=\"middle\" x=\"308.5\" y=\"-31.3\" font-family=\"Times,serif\" font-size=\"14.00\" fill=\"#000000\">(?, 128)</text>\n",
       "<polyline fill=\"none\" stroke=\"#000000\" points=\"273,-23.5 344,-23.5 \"/>\n",
       "<text text-anchor=\"middle\" x=\"308.5\" y=\"-8.3\" font-family=\"Times,serif\" font-size=\"14.00\" fill=\"#000000\">(?, 3)</text>\n",
       "</g>\n",
       "<!-- 140282736842064&#45;&gt;140282736844656 -->\n",
       "<g id=\"edge6\" class=\"edge\">\n",
       "<title>140282736842064-&gt;140282736844656</title>\n",
       "<path fill=\"none\" stroke=\"#000000\" d=\"M210.5,-83.3799C210.5,-75.1745 210.5,-65.7679 210.5,-56.8786\"/>\n",
       "<polygon fill=\"#000000\" stroke=\"#000000\" points=\"214.0001,-56.784 210.5,-46.784 207.0001,-56.784 214.0001,-56.784\"/>\n",
       "</g>\n",
       "</g>\n",
       "</svg>"
      ],
      "text/plain": [
       "<IPython.core.display.SVG object>"
      ]
     },
     "execution_count": 6,
     "metadata": {},
     "output_type": "execute_result"
    }
   ],
   "source": [
    "import pydot\n",
    "from IPython.display import SVG\n",
    "from keras.utils.vis_utils import model_to_dot\n",
    "\n",
    "%matplotlib inline\n",
    "\n",
    "SVG(model_to_dot(model, show_shapes=True).create(prog='dot', format='svg'))"
   ]
  },
  {
   "cell_type": "code",
   "execution_count": 7,
   "metadata": {},
   "outputs": [
    {
     "data": {
      "image/png": "[encoded data removed]",
      "text/plain": [
       "<IPython.core.display.Image object>"
      ]
     },
     "execution_count": 7,
     "metadata": {},
     "output_type": "execute_result"
    }
   ],
   "source": [
    "from keras.utils import plot_model\n",
    "plot_model(model, show_shapes=True)    # to_file='filename.png'\n"
   ]
  },
  {
   "cell_type": "markdown",
   "metadata": {},
   "source": [
    "### 모델 학습과정 설정하기"
   ]
  },
  {
   "cell_type": "code",
   "execution_count": 8,
   "metadata": {},
   "outputs": [],
   "source": [
    "model.compile(loss='categorical_crossentropy', \n",
    "              optimizer='adam', metrics=['accuracy'])"
   ]
  },
  {
   "cell_type": "code",
   "execution_count": 9,
   "metadata": {},
   "outputs": [
    {
     "name": "stdout",
     "output_type": "stream",
     "text": [
      "WARNING:tensorflow:From <ipython-input-9-590619ba9126>:1: Model.fit_generator (from tensorflow.python.keras.engine.training) is deprecated and will be removed in a future version.\n",
      "Instructions for updating:\n",
      "Please use Model.fit, which supports generators.\n",
      "Epoch 1/50\n",
      "15/15 [==============================] - 0s 20ms/step - loss: 0.7912 - accuracy: 0.6222 - val_loss: 0.4611 - val_accuracy: 0.8000\n",
      "Epoch 2/50\n",
      "15/15 [==============================] - 0s 7ms/step - loss: 0.1834 - accuracy: 0.9333 - val_loss: 0.2207 - val_accuracy: 0.8667\n",
      "Epoch 3/50\n",
      "15/15 [==============================] - 0s 7ms/step - loss: 0.0306 - accuracy: 1.0000 - val_loss: 0.0917 - val_accuracy: 1.0000\n",
      "Epoch 4/50\n",
      "15/15 [==============================] - 0s 8ms/step - loss: 0.0257 - accuracy: 1.0000 - val_loss: 0.2367 - val_accuracy: 0.9333\n",
      "Epoch 5/50\n",
      "15/15 [==============================] - 0s 7ms/step - loss: 0.0361 - accuracy: 0.9778 - val_loss: 0.0280 - val_accuracy: 1.0000\n",
      "Epoch 6/50\n",
      "15/15 [==============================] - 0s 8ms/step - loss: 0.0095 - accuracy: 1.0000 - val_loss: 0.0271 - val_accuracy: 1.0000\n",
      "Epoch 7/50\n",
      "15/15 [==============================] - 0s 7ms/step - loss: 5.4462e-04 - accuracy: 1.0000 - val_loss: 0.0552 - val_accuracy: 1.0000\n",
      "Epoch 8/50\n",
      "15/15 [==============================] - 0s 13ms/step - loss: 2.3908e-04 - accuracy: 1.0000 - val_loss: 0.0690 - val_accuracy: 0.9333\n",
      "Epoch 9/50\n",
      "15/15 [==============================] - 0s 7ms/step - loss: 1.8527e-04 - accuracy: 1.0000 - val_loss: 0.0691 - val_accuracy: 0.9333\n",
      "Epoch 10/50\n",
      "15/15 [==============================] - 0s 7ms/step - loss: 1.4832e-04 - accuracy: 1.0000 - val_loss: 0.0649 - val_accuracy: 0.9333\n",
      "Epoch 11/50\n",
      "15/15 [==============================] - 0s 7ms/step - loss: 1.1898e-04 - accuracy: 1.0000 - val_loss: 0.0625 - val_accuracy: 1.0000\n",
      "Epoch 12/50\n",
      "15/15 [==============================] - 0s 7ms/step - loss: 9.9885e-05 - accuracy: 1.0000 - val_loss: 0.0584 - val_accuracy: 1.0000\n",
      "Epoch 13/50\n",
      "15/15 [==============================] - 0s 7ms/step - loss: 8.0531e-05 - accuracy: 1.0000 - val_loss: 0.0577 - val_accuracy: 1.0000\n",
      "Epoch 14/50\n",
      "15/15 [==============================] - 0s 7ms/step - loss: 6.9356e-05 - accuracy: 1.0000 - val_loss: 1.6552e-04 - val_accuracy: 1.0000\n",
      "Epoch 15/50\n",
      "15/15 [==============================] - 0s 7ms/step - loss: 5.9893e-05 - accuracy: 1.0000 - val_loss: 0.1057 - val_accuracy: 1.0000\n",
      "Epoch 16/50\n",
      "15/15 [==============================] - 0s 7ms/step - loss: 5.3391e-05 - accuracy: 1.0000 - val_loss: 0.0509 - val_accuracy: 1.0000\n",
      "Epoch 17/50\n",
      "15/15 [==============================] - 0s 7ms/step - loss: 4.7773e-05 - accuracy: 1.0000 - val_loss: 0.0506 - val_accuracy: 1.0000\n",
      "Epoch 18/50\n",
      "15/15 [==============================] - 0s 7ms/step - loss: 4.2979e-05 - accuracy: 1.0000 - val_loss: 0.0018 - val_accuracy: 1.0000\n",
      "Epoch 19/50\n",
      "15/15 [==============================] - 0s 7ms/step - loss: 3.9162e-05 - accuracy: 1.0000 - val_loss: 9.5354e-04 - val_accuracy: 1.0000\n",
      "Epoch 20/50\n",
      "15/15 [==============================] - 0s 7ms/step - loss: 3.6073e-05 - accuracy: 1.0000 - val_loss: 0.1036 - val_accuracy: 1.0000\n",
      "Epoch 21/50\n",
      "15/15 [==============================] - 0s 7ms/step - loss: 3.3154e-05 - accuracy: 1.0000 - val_loss: 0.0526 - val_accuracy: 1.0000\n",
      "Epoch 22/50\n",
      "15/15 [==============================] - 0s 7ms/step - loss: 3.0805e-05 - accuracy: 1.0000 - val_loss: 0.0514 - val_accuracy: 1.0000\n",
      "Epoch 23/50\n",
      "15/15 [==============================] - 0s 7ms/step - loss: 2.8720e-05 - accuracy: 1.0000 - val_loss: 0.0532 - val_accuracy: 1.0000\n",
      "Epoch 24/50\n",
      "15/15 [==============================] - 0s 7ms/step - loss: 2.6789e-05 - accuracy: 1.0000 - val_loss: 0.1028 - val_accuracy: 1.0000\n",
      "Epoch 25/50\n",
      "15/15 [==============================] - 0s 7ms/step - loss: 2.4980e-05 - accuracy: 1.0000 - val_loss: 0.0520 - val_accuracy: 1.0000\n",
      "Epoch 26/50\n",
      "15/15 [==============================] - 0s 7ms/step - loss: 2.3444e-05 - accuracy: 1.0000 - val_loss: 0.0516 - val_accuracy: 1.0000\n",
      "Epoch 27/50\n",
      "15/15 [==============================] - 0s 7ms/step - loss: 2.2114e-05 - accuracy: 1.0000 - val_loss: 0.0506 - val_accuracy: 1.0000\n",
      "Epoch 28/50\n",
      "15/15 [==============================] - 0s 7ms/step - loss: 2.0906e-05 - accuracy: 1.0000 - val_loss: 0.1025 - val_accuracy: 1.0000\n",
      "Epoch 29/50\n",
      "15/15 [==============================] - 0s 7ms/step - loss: 1.9664e-05 - accuracy: 1.0000 - val_loss: 0.0528 - val_accuracy: 1.0000\n",
      "Epoch 30/50\n",
      "15/15 [==============================] - 0s 7ms/step - loss: 1.8596e-05 - accuracy: 1.0000 - val_loss: 0.0518 - val_accuracy: 1.0000\n",
      "Epoch 31/50\n",
      "15/15 [==============================] - 0s 7ms/step - loss: 1.7695e-05 - accuracy: 1.0000 - val_loss: 0.0514 - val_accuracy: 1.0000\n",
      "Epoch 32/50\n",
      "15/15 [==============================] - 0s 7ms/step - loss: 1.6954e-05 - accuracy: 1.0000 - val_loss: 0.0527 - val_accuracy: 1.0000\n",
      "Epoch 33/50\n",
      "15/15 [==============================] - 0s 7ms/step - loss: 1.6037e-05 - accuracy: 1.0000 - val_loss: 0.1020 - val_accuracy: 1.0000\n",
      "Epoch 34/50\n",
      "15/15 [==============================] - 0s 7ms/step - loss: 1.5335e-05 - accuracy: 1.0000 - val_loss: 0.0521 - val_accuracy: 1.0000\n",
      "Epoch 35/50\n",
      "15/15 [==============================] - 0s 7ms/step - loss: 1.4676e-05 - accuracy: 1.0000 - val_loss: 0.0503 - val_accuracy: 1.0000\n",
      "Epoch 36/50\n",
      "15/15 [==============================] - 0s 7ms/step - loss: 1.3997e-05 - accuracy: 1.0000 - val_loss: 0.0520 - val_accuracy: 1.0000\n",
      "Epoch 37/50\n",
      "15/15 [==============================] - 0s 7ms/step - loss: 1.3351e-05 - accuracy: 1.0000 - val_loss: 0.0514 - val_accuracy: 1.0000\n",
      "Epoch 38/50\n",
      "15/15 [==============================] - 0s 7ms/step - loss: 1.2763e-05 - accuracy: 1.0000 - val_loss: 0.0516 - val_accuracy: 1.0000\n",
      "Epoch 39/50\n",
      "15/15 [==============================] - 0s 7ms/step - loss: 1.2233e-05 - accuracy: 1.0000 - val_loss: 0.1029 - val_accuracy: 1.0000\n",
      "Epoch 40/50\n",
      "15/15 [==============================] - 0s 7ms/step - loss: 1.1831e-05 - accuracy: 1.0000 - val_loss: 7.9410e-04 - val_accuracy: 1.0000\n",
      "Epoch 41/50\n",
      "15/15 [==============================] - 0s 7ms/step - loss: 1.1282e-05 - accuracy: 1.0000 - val_loss: 0.0523 - val_accuracy: 1.0000\n",
      "Epoch 42/50\n",
      "15/15 [==============================] - 0s 7ms/step - loss: 1.0874e-05 - accuracy: 1.0000 - val_loss: 0.0504 - val_accuracy: 1.0000\n",
      "Epoch 43/50\n",
      "15/15 [==============================] - 0s 7ms/step - loss: 1.0321e-05 - accuracy: 1.0000 - val_loss: 0.0518 - val_accuracy: 1.0000\n",
      "Epoch 44/50\n",
      "15/15 [==============================] - 0s 7ms/step - loss: 1.0003e-05 - accuracy: 1.0000 - val_loss: 9.7620e-04 - val_accuracy: 1.0000\n",
      "Epoch 45/50\n",
      "15/15 [==============================] - 0s 7ms/step - loss: 9.5286e-06 - accuracy: 1.0000 - val_loss: 0.0522 - val_accuracy: 1.0000\n",
      "Epoch 46/50\n",
      "15/15 [==============================] - 0s 7ms/step - loss: 9.1313e-06 - accuracy: 1.0000 - val_loss: 0.0517 - val_accuracy: 1.0000\n",
      "Epoch 47/50\n",
      "15/15 [==============================] - 0s 7ms/step - loss: 8.9273e-06 - accuracy: 1.0000 - val_loss: 0.0521 - val_accuracy: 1.0000\n",
      "Epoch 48/50\n",
      "15/15 [==============================] - 0s 7ms/step - loss: 8.3737e-06 - accuracy: 1.0000 - val_loss: 0.1017 - val_accuracy: 1.0000\n",
      "Epoch 49/50\n",
      "15/15 [==============================] - 0s 7ms/step - loss: 8.0558e-06 - accuracy: 1.0000 - val_loss: 0.0494 - val_accuracy: 1.0000\n",
      "Epoch 50/50\n",
      "15/15 [==============================] - 0s 7ms/step - loss: 7.8094e-06 - accuracy: 1.0000 - val_loss: 8.2846e-04 - val_accuracy: 1.0000\n"
     ]
    },
    {
     "data": {
      "text/plain": [
       "<tensorflow.python.keras.callbacks.History at 0x7f95a84a2370>"
      ]
     },
     "execution_count": 9,
     "metadata": {},
     "output_type": "execute_result"
    }
   ],
   "source": [
    "model.fit_generator(\n",
    "        train_generator,\n",
    "        steps_per_epoch=15,\n",
    "        epochs=50,\n",
    "        validation_data=test_generator,\n",
    "        validation_steps=5)"
   ]
  },
  {
   "cell_type": "markdown",
   "metadata": {},
   "source": [
    "### 모델 평가하기"
   ]
  },
  {
   "cell_type": "code",
   "execution_count": 10,
   "metadata": {},
   "outputs": [
    {
     "name": "stdout",
     "output_type": "stream",
     "text": [
      "-- Evaluate --\n",
      "WARNING:tensorflow:From <ipython-input-10-b703dad36ef7>:2: Model.evaluate_generator (from tensorflow.python.keras.engine.training) is deprecated and will be removed in a future version.\n",
      "Instructions for updating:\n",
      "Please use Model.evaluate, which supports generators.\n",
      "accuracy: 100.00%\n"
     ]
    }
   ],
   "source": [
    "print(\"-- Evaluate --\")\n",
    "scores = model.evaluate_generator(test_generator, steps=5)\n",
    "print(\"%s: %.2f%%\" %(model.metrics_names[1], scores[1]*100))"
   ]
  },
  {
   "cell_type": "code",
   "execution_count": 11,
   "metadata": {},
   "outputs": [
    {
     "data": {
      "text/plain": [
       "(0.05134621635079384, 1.0)"
      ]
     },
     "execution_count": 11,
     "metadata": {},
     "output_type": "execute_result"
    }
   ],
   "source": [
    "scores[0], scores[1]"
   ]
  },
  {
   "cell_type": "markdown",
   "metadata": {},
   "source": [
    "### 모델 사용하기"
   ]
  },
  {
   "cell_type": "code",
   "execution_count": 12,
   "metadata": {},
   "outputs": [
    {
     "name": "stdout",
     "output_type": "stream",
     "text": [
      "-- Predict --\n",
      "WARNING:tensorflow:From <ipython-input-12-ff8f58f7659a>:2: Model.predict_generator (from tensorflow.python.keras.engine.training) is deprecated and will be removed in a future version.\n",
      "Instructions for updating:\n",
      "Please use Model.predict, which supports generators.\n",
      "{'circle': 0, 'rectangle': 1, 'triangle': 2}\n",
      "[[0.422 0.469 0.109]\n",
      " [0.000 1.000 0.000]\n",
      " [0.000 1.000 0.000]\n",
      " [0.000 1.000 0.000]\n",
      " [1.000 0.000 0.000]\n",
      " [0.000 0.000 1.000]\n",
      " [0.000 0.000 1.000]\n",
      " [1.000 0.000 0.000]\n",
      " [0.000 0.010 0.990]\n",
      " [0.000 0.000 1.000]\n",
      " [1.000 0.000 0.000]\n",
      " [1.000 0.000 0.000]\n",
      " [0.000 0.000 1.000]\n",
      " [0.000 1.000 0.000]\n",
      " [1.000 0.000 0.000]]\n"
     ]
    }
   ],
   "source": [
    "print(\"-- Predict --\")\n",
    "output = model.predict_generator(test_generator, steps=5)\n",
    "np.set_printoptions(formatter={'float': lambda x: \"{0:0.3f}\".format(x)})\n",
    "print(test_generator.class_indices)\n",
    "print(output)"
   ]
  },
  {
   "cell_type": "code",
   "execution_count": null,
   "metadata": {},
   "outputs": [],
   "source": []
  }
 ],
 "metadata": {
  "kernelspec": {
   "display_name": "Python 3",
   "language": "python",
   "name": "python3"
  },
  "language_info": {
   "codemirror_mode": {
    "name": "ipython",
    "version": 3
   },
   "file_extension": ".py",
   "mimetype": "text/x-python",
   "name": "python",
   "nbconvert_exporter": "python",
   "pygments_lexer": "ipython3",
   "version": "3.8.1"
  }
 },
 "nbformat": 4,
 "nbformat_minor": 4
}
