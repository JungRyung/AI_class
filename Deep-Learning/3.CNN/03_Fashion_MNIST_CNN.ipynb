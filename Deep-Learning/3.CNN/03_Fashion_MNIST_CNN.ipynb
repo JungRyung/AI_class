{
 "cells": [
  {
   "cell_type": "code",
   "execution_count": 1,
   "metadata": {},
   "outputs": [
    {
     "name": "stdout",
     "output_type": "stream",
     "text": [
      "2.1.0\n"
     ]
    }
   ],
   "source": [
    "from __future__ import absolute_import, division, print_function, unicode_literals, unicode_literals\n",
    "\n",
    "# tensorflow와 tf.keras를 임포트합니다\n",
    "import tensorflow as tf\n",
    "from tensorflow import keras\n",
    "\n",
    "# 헬퍼(helper) 라이브러리를 임포트합니다\n",
    "import numpy as np\n",
    "import matplotlib.pyplot as plt\n",
    "\n",
    "print(tf.__version__)"
   ]
  },
  {
   "cell_type": "code",
   "execution_count": 2,
   "metadata": {},
   "outputs": [],
   "source": [
    "# seed 값 설정\n",
    "seed = 0\n",
    "np.random.seed(seed)\n",
    "tf.random.set_seed(seed)"
   ]
  },
  {
   "cell_type": "code",
   "execution_count": 3,
   "metadata": {},
   "outputs": [],
   "source": [
    "fashion_mnist = keras.datasets.fashion_mnist\n",
    "\n",
    "(train_images, train_labels), (test_images, test_labels) = fashion_mnist.load_data()"
   ]
  },
  {
   "cell_type": "code",
   "execution_count": 4,
   "metadata": {},
   "outputs": [],
   "source": [
    "class_names = ['T-shirt/top', 'Trouser', 'Pullover', 'Dress', 'Coat',\n",
    "               'Sandal', 'Shirt', 'Sneaker', 'Bag', 'Ankle boot']"
   ]
  },
  {
   "cell_type": "markdown",
   "metadata": {},
   "source": [
    "### 데이터 전처리"
   ]
  },
  {
   "cell_type": "code",
   "execution_count": 5,
   "metadata": {},
   "outputs": [],
   "source": [
    "# X값 정규화\n",
    "X_train = train_images.reshape(train_images.shape[0],28,28,1).astype('float32')/255\n",
    "X_test = test_images.reshape(test_images.shape[0],28,28,1).astype('float')/255"
   ]
  },
  {
   "cell_type": "code",
   "execution_count": 6,
   "metadata": {},
   "outputs": [],
   "source": [
    "# Y데이터 One-Hot Encoding\n",
    "y_train = keras.utils.to_categorical(train_labels)\n",
    "y_test = keras.utils.to_categorical(test_labels)"
   ]
  },
  {
   "cell_type": "code",
   "execution_count": 7,
   "metadata": {},
   "outputs": [
    {
     "data": {
      "text/plain": [
       "array([[0., 0., 0., 0., 0., 0., 0., 0., 0., 1.],\n",
       "       [1., 0., 0., 0., 0., 0., 0., 0., 0., 0.],\n",
       "       [1., 0., 0., 0., 0., 0., 0., 0., 0., 0.],\n",
       "       [0., 0., 0., 1., 0., 0., 0., 0., 0., 0.],\n",
       "       [1., 0., 0., 0., 0., 0., 0., 0., 0., 0.],\n",
       "       [0., 0., 1., 0., 0., 0., 0., 0., 0., 0.],\n",
       "       [0., 0., 0., 0., 0., 0., 0., 1., 0., 0.],\n",
       "       [0., 0., 1., 0., 0., 0., 0., 0., 0., 0.],\n",
       "       [0., 0., 0., 0., 0., 1., 0., 0., 0., 0.],\n",
       "       [0., 0., 0., 0., 0., 1., 0., 0., 0., 0.]], dtype=float32)"
      ]
     },
     "execution_count": 7,
     "metadata": {},
     "output_type": "execute_result"
    }
   ],
   "source": [
    "y_train[:10]"
   ]
  },
  {
   "cell_type": "markdown",
   "metadata": {},
   "source": [
    "### 모델 구성"
   ]
  },
  {
   "cell_type": "code",
   "execution_count": 8,
   "metadata": {},
   "outputs": [
    {
     "name": "stdout",
     "output_type": "stream",
     "text": [
      "Model: \"sequential\"\n",
      "_________________________________________________________________\n",
      "Layer (type)                 Output Shape              Param #   \n",
      "=================================================================\n",
      "conv2d (Conv2D)              (None, 28, 28, 32)        832       \n",
      "_________________________________________________________________\n",
      "max_pooling2d (MaxPooling2D) (None, 14, 14, 32)        0         \n",
      "_________________________________________________________________\n",
      "conv2d_1 (Conv2D)            (None, 14, 14, 64)        8256      \n",
      "_________________________________________________________________\n",
      "max_pooling2d_1 (MaxPooling2 (None, 7, 7, 64)          0         \n",
      "_________________________________________________________________\n",
      "dropout (Dropout)            (None, 7, 7, 64)          0         \n",
      "_________________________________________________________________\n",
      "flatten (Flatten)            (None, 3136)              0         \n",
      "_________________________________________________________________\n",
      "dense (Dense)                (None, 1000)              3137000   \n",
      "_________________________________________________________________\n",
      "dropout_1 (Dropout)          (None, 1000)              0         \n",
      "_________________________________________________________________\n",
      "dense_1 (Dense)              (None, 10)                10010     \n",
      "=================================================================\n",
      "Total params: 3,156,098\n",
      "Trainable params: 3,156,098\n",
      "Non-trainable params: 0\n",
      "_________________________________________________________________\n"
     ]
    }
   ],
   "source": [
    "from tensorflow.keras.models import Sequential\n",
    "from tensorflow.keras.layers import Dense, Dropout, Flatten, Conv2D, MaxPooling2D\n",
    "from tensorflow.keras.callbacks import ModelCheckpoint, EarlyStopping\n",
    "\n",
    "# 컨볼루션 신경망 설정\n",
    "model = Sequential([\n",
    "    Conv2D(32, kernel_size=(5, 5), strides=(1, 1), padding='same',\n",
    "                 activation='relu',\n",
    "                 input_shape=(28,28,1)),\n",
    "    MaxPooling2D(pool_size=(2, 2), strides=(2, 2)),\n",
    "    Conv2D(64, (2, 2), activation='relu', padding='same'),\n",
    "    MaxPooling2D(pool_size=(2, 2)),\n",
    "    Dropout(0.25),\n",
    "    Flatten(),\n",
    "    Dense(1000, activation='relu'),\n",
    "    Dropout(0.5),\n",
    "    Dense(10, activation='softmax')\n",
    "])\n",
    "model.summary()"
   ]
  },
  {
   "cell_type": "code",
   "execution_count": 9,
   "metadata": {},
   "outputs": [],
   "source": [
    "model.compile(loss='categorical_crossentropy',\n",
    "             optimizer='adam',\n",
    "             metrics=['accuracy'])"
   ]
  },
  {
   "cell_type": "code",
   "execution_count": 10,
   "metadata": {},
   "outputs": [],
   "source": [
    "import os\n",
    "# 모델 최적화 설정\n",
    "MODEL_DIR = './model/fashion'\n",
    "if not os.path.exists(MODEL_DIR):\n",
    "    os.mkdir(MODEL_DIR)"
   ]
  },
  {
   "cell_type": "code",
   "execution_count": 11,
   "metadata": {},
   "outputs": [],
   "source": [
    "modelpath = MODEL_DIR + \"mnist-cnn-{epoch:02d}-{val_loss:.4f}.hdf5\"\n",
    "checkpointer = ModelCheckpoint(filepath=modelpath, monitor='val_loss', \n",
    "                               verbose=1, save_best_only=True)\n",
    "early_stopping_callback = EarlyStopping(monitor='val_loss', patience=10)"
   ]
  },
  {
   "cell_type": "code",
   "execution_count": 12,
   "metadata": {},
   "outputs": [
    {
     "name": "stdout",
     "output_type": "stream",
     "text": [
      "Train on 48000 samples, validate on 12000 samples\n",
      "Epoch 1/30\n",
      "47800/48000 [============================>.] - ETA: 0s - loss: 0.5482 - accuracy: 0.8012\n",
      "Epoch 00001: val_loss improved from inf to 0.35499, saving model to ./model/fashionmnist-cnn-01-0.3550.hdf5\n",
      "48000/48000 [==============================] - 21s 434us/sample - loss: 0.5471 - accuracy: 0.8016 - val_loss: 0.3550 - val_accuracy: 0.8743\n",
      "Epoch 2/30\n",
      "47800/48000 [============================>.] - ETA: 0s - loss: 0.3548 - accuracy: 0.8718\n",
      "Epoch 00002: val_loss improved from 0.35499 to 0.30746, saving model to ./model/fashionmnist-cnn-02-0.3075.hdf5\n",
      "48000/48000 [==============================] - 20s 424us/sample - loss: 0.3546 - accuracy: 0.8718 - val_loss: 0.3075 - val_accuracy: 0.8903\n",
      "Epoch 3/30\n",
      "47800/48000 [============================>.] - ETA: 0s - loss: 0.2997 - accuracy: 0.8909\n",
      "Epoch 00003: val_loss improved from 0.30746 to 0.27373, saving model to ./model/fashionmnist-cnn-03-0.2737.hdf5\n",
      "48000/48000 [==============================] - 20s 422us/sample - loss: 0.2994 - accuracy: 0.8910 - val_loss: 0.2737 - val_accuracy: 0.9002\n",
      "Epoch 4/30\n",
      "47800/48000 [============================>.] - ETA: 0s - loss: 0.2715 - accuracy: 0.9003\n",
      "Epoch 00004: val_loss did not improve from 0.27373\n",
      "48000/48000 [==============================] - 20s 423us/sample - loss: 0.2719 - accuracy: 0.9003 - val_loss: 0.2827 - val_accuracy: 0.8932\n",
      "Epoch 5/30\n",
      "47800/48000 [============================>.] - ETA: 0s - loss: 0.2495 - accuracy: 0.9090\n",
      "Epoch 00005: val_loss improved from 0.27373 to 0.25022, saving model to ./model/fashionmnist-cnn-05-0.2502.hdf5\n",
      "48000/48000 [==============================] - 20s 423us/sample - loss: 0.2497 - accuracy: 0.9089 - val_loss: 0.2502 - val_accuracy: 0.9065\n",
      "Epoch 6/30\n",
      "47800/48000 [============================>.] - ETA: 0s - loss: 0.2333 - accuracy: 0.9130\n",
      "Epoch 00006: val_loss improved from 0.25022 to 0.23663, saving model to ./model/fashionmnist-cnn-06-0.2366.hdf5\n",
      "48000/48000 [==============================] - 20s 424us/sample - loss: 0.2335 - accuracy: 0.9129 - val_loss: 0.2366 - val_accuracy: 0.9123\n",
      "Epoch 7/30\n",
      "47800/48000 [============================>.] - ETA: 0s - loss: 0.2164 - accuracy: 0.9197\n",
      "Epoch 00007: val_loss improved from 0.23663 to 0.23508, saving model to ./model/fashionmnist-cnn-07-0.2351.hdf5\n",
      "48000/48000 [==============================] - 21s 430us/sample - loss: 0.2164 - accuracy: 0.9196 - val_loss: 0.2351 - val_accuracy: 0.9135\n",
      "Epoch 8/30\n",
      "47800/48000 [============================>.] - ETA: 0s - loss: 0.2027 - accuracy: 0.9257\n",
      "Epoch 00008: val_loss did not improve from 0.23508\n",
      "48000/48000 [==============================] - 21s 435us/sample - loss: 0.2027 - accuracy: 0.9258 - val_loss: 0.2368 - val_accuracy: 0.9143\n",
      "Epoch 9/30\n",
      "47800/48000 [============================>.] - ETA: 0s - loss: 0.1921 - accuracy: 0.9282\n",
      "Epoch 00009: val_loss improved from 0.23508 to 0.22705, saving model to ./model/fashionmnist-cnn-09-0.2270.hdf5\n",
      "48000/48000 [==============================] - 21s 434us/sample - loss: 0.1919 - accuracy: 0.9283 - val_loss: 0.2270 - val_accuracy: 0.9152\n",
      "Epoch 10/30\n",
      "47800/48000 [============================>.] - ETA: 0s - loss: 0.1824 - accuracy: 0.9312\n",
      "Epoch 00010: val_loss improved from 0.22705 to 0.21711, saving model to ./model/fashionmnist-cnn-10-0.2171.hdf5\n",
      "48000/48000 [==============================] - 21s 438us/sample - loss: 0.1826 - accuracy: 0.9312 - val_loss: 0.2171 - val_accuracy: 0.9206\n",
      "Epoch 11/30\n",
      "47800/48000 [============================>.] - ETA: 0s - loss: 0.1715 - accuracy: 0.9363\n",
      "Epoch 00011: val_loss improved from 0.21711 to 0.21315, saving model to ./model/fashionmnist-cnn-11-0.2132.hdf5\n",
      "48000/48000 [==============================] - 21s 432us/sample - loss: 0.1715 - accuracy: 0.9363 - val_loss: 0.2132 - val_accuracy: 0.9214\n",
      "Epoch 12/30\n",
      "47800/48000 [============================>.] - ETA: 0s - loss: 0.1573 - accuracy: 0.9413\n",
      "Epoch 00012: val_loss did not improve from 0.21315\n",
      "48000/48000 [==============================] - 20s 423us/sample - loss: 0.1573 - accuracy: 0.9413 - val_loss: 0.2149 - val_accuracy: 0.9236\n",
      "Epoch 13/30\n",
      "47800/48000 [============================>.] - ETA: 0s - loss: 0.1502 - accuracy: 0.9443\n",
      "Epoch 00013: val_loss improved from 0.21315 to 0.20910, saving model to ./model/fashionmnist-cnn-13-0.2091.hdf5\n",
      "48000/48000 [==============================] - 20s 424us/sample - loss: 0.1502 - accuracy: 0.9443 - val_loss: 0.2091 - val_accuracy: 0.9237\n",
      "Epoch 14/30\n",
      "47800/48000 [============================>.] - ETA: 0s - loss: 0.1398 - accuracy: 0.9479\n",
      "Epoch 00014: val_loss did not improve from 0.20910\n",
      "48000/48000 [==============================] - 21s 432us/sample - loss: 0.1398 - accuracy: 0.9478 - val_loss: 0.2123 - val_accuracy: 0.9252\n",
      "Epoch 15/30\n",
      "47800/48000 [============================>.] - ETA: 0s - loss: 0.1296 - accuracy: 0.9518\n",
      "Epoch 00015: val_loss did not improve from 0.20910\n",
      "48000/48000 [==============================] - 20s 424us/sample - loss: 0.1297 - accuracy: 0.9518 - val_loss: 0.2154 - val_accuracy: 0.9262\n",
      "Epoch 16/30\n",
      "47800/48000 [============================>.] - ETA: 0s - loss: 0.1230 - accuracy: 0.9536\n",
      "Epoch 00016: val_loss did not improve from 0.20910\n",
      "48000/48000 [==============================] - 21s 428us/sample - loss: 0.1229 - accuracy: 0.9535 - val_loss: 0.2220 - val_accuracy: 0.9245\n",
      "Epoch 17/30\n",
      "47800/48000 [============================>.] - ETA: 0s - loss: 0.1168 - accuracy: 0.9566\n",
      "Epoch 00017: val_loss did not improve from 0.20910\n",
      "48000/48000 [==============================] - 21s 432us/sample - loss: 0.1171 - accuracy: 0.9565 - val_loss: 0.2177 - val_accuracy: 0.9243\n",
      "Epoch 18/30\n",
      "47800/48000 [============================>.] - ETA: 0s - loss: 0.1075 - accuracy: 0.9594\n",
      "Epoch 00018: val_loss did not improve from 0.20910\n",
      "48000/48000 [==============================] - 21s 435us/sample - loss: 0.1075 - accuracy: 0.9594 - val_loss: 0.2230 - val_accuracy: 0.9262\n",
      "Epoch 19/30\n",
      "47800/48000 [============================>.] - ETA: 0s - loss: 0.1006 - accuracy: 0.9621\n",
      "Epoch 00019: val_loss did not improve from 0.20910\n",
      "48000/48000 [==============================] - 21s 437us/sample - loss: 0.1005 - accuracy: 0.9622 - val_loss: 0.2310 - val_accuracy: 0.9228\n",
      "Epoch 20/30\n",
      "47800/48000 [============================>.] - ETA: 0s - loss: 0.0942 - accuracy: 0.9642\n",
      "Epoch 00020: val_loss did not improve from 0.20910\n",
      "48000/48000 [==============================] - 20s 427us/sample - loss: 0.0942 - accuracy: 0.9643 - val_loss: 0.2301 - val_accuracy: 0.9270\n",
      "Epoch 21/30\n",
      "47800/48000 [============================>.] - ETA: 0s - loss: 0.0885 - accuracy: 0.9671\n",
      "Epoch 00021: val_loss did not improve from 0.20910\n",
      "48000/48000 [==============================] - 20s 425us/sample - loss: 0.0887 - accuracy: 0.9670 - val_loss: 0.2267 - val_accuracy: 0.9273\n",
      "Epoch 22/30\n",
      "47800/48000 [============================>.] - ETA: 0s - loss: 0.0836 - accuracy: 0.9691\n",
      "Epoch 00022: val_loss did not improve from 0.20910\n",
      "48000/48000 [==============================] - 20s 427us/sample - loss: 0.0835 - accuracy: 0.9691 - val_loss: 0.2311 - val_accuracy: 0.9281\n",
      "Epoch 23/30\n",
      "47800/48000 [============================>.] - ETA: 0s - loss: 0.0788 - accuracy: 0.9704\n",
      "Epoch 00023: val_loss did not improve from 0.20910\n",
      "48000/48000 [==============================] - 20s 423us/sample - loss: 0.0790 - accuracy: 0.9704 - val_loss: 0.2475 - val_accuracy: 0.9273\n"
     ]
    }
   ],
   "source": [
    "# 모델의 실행\n",
    "history = model.fit(X_train, y_train, validation_split=0.2, epochs=30,\n",
    "                   batch_size=200, \n",
    "                   callbacks=[early_stopping_callback, checkpointer])"
   ]
  },
  {
   "cell_type": "code",
   "execution_count": 16,
   "metadata": {},
   "outputs": [],
   "source": [
    "from tensorflow.keras.models import load_model\n",
    "del model\n",
    "model =load_model('./model/fashionmnist-cnn-13-0.2091.hdf5')"
   ]
  },
  {
   "cell_type": "code",
   "execution_count": 17,
   "metadata": {},
   "outputs": [
    {
     "name": "stdout",
     "output_type": "stream",
     "text": [
      "\n",
      " Test Accuracy: 0.9228\n"
     ]
    }
   ],
   "source": [
    "# 테스트 정확도 출력 \n",
    "print(\"\\n Test Accuracy: %.4f\" % (model.evaluate(X_test, y_test, verbose=0)[1]))"
   ]
  },
  {
   "cell_type": "code",
   "execution_count": 18,
   "metadata": {},
   "outputs": [],
   "source": [
    "# 테스트셋의 오차\n",
    "y_vloss = history.history['val_loss']\n",
    "\n",
    "# 학습셋의 오차\n",
    "y_loss = history.history['loss']"
   ]
  },
  {
   "cell_type": "code",
   "execution_count": 19,
   "metadata": {},
   "outputs": [
    {
     "data": {
      "image/png": "[encoded data removed]",
      "text/plain": [
       "<Figure size 576x432 with 1 Axes>"
      ]
     },
     "metadata": {
      "needs_background": "light"
     },
     "output_type": "display_data"
    }
   ],
   "source": [
    "# 그래프로 표현\n",
    "x_len = np.arange(1, len(y_loss)+1)\n",
    "plt.figure(figsize=(8,6))\n",
    "plt.plot(x_len, y_vloss, marker='.', c=\"red\", label='Testset_loss')\n",
    "plt.plot(x_len, y_loss, marker='.', c=\"blue\", label='Trainset_loss')\n",
    "\n",
    "# 그래프에 그리드를 주고 레이블을 표시\n",
    "plt.legend(loc='upper right')\n",
    "# plt.axis([0, 20, 0, 0.35])\n",
    "plt.grid()\n",
    "plt.xlabel('epoch')\n",
    "plt.ylabel('loss')\n",
    "plt.show()"
   ]
  },
  {
   "cell_type": "code",
   "execution_count": null,
   "metadata": {},
   "outputs": [],
   "source": []
  }
 ],
 "metadata": {
  "kernelspec": {
   "display_name": "Python 3",
   "language": "python",
   "name": "python3"
  },
  "language_info": {
   "codemirror_mode": {
    "name": "ipython",
    "version": 3
   },
   "file_extension": ".py",
   "mimetype": "text/x-python",
   "name": "python",
   "nbconvert_exporter": "python",
   "pygments_lexer": "ipython3",
   "version": "3.7.7"
  }
 },
 "nbformat": 4,
 "nbformat_minor": 4
}
