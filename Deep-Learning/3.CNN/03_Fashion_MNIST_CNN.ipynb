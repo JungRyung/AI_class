{
 "cells": [
  {
   "cell_type": "code",
   "execution_count": 1,
   "metadata": {},
   "outputs": [
    {
     "name": "stdout",
     "output_type": "stream",
     "text": [
      "2.2.0\n"
     ]
    }
   ],
   "source": [
    "from __future__ import absolute_import, division, print_function, unicode_literals, unicode_literals\n",
    "\n",
    "# tensorflow와 tf.keras를 임포트합니다\n",
    "import tensorflow as tf\n",
    "from tensorflow import keras\n",
    "\n",
    "# 헬퍼(helper) 라이브러리를 임포트합니다\n",
    "import numpy as np\n",
    "import matplotlib.pyplot as plt\n",
    "\n",
    "print(tf.__version__)"
   ]
  },
  {
   "cell_type": "code",
   "execution_count": 2,
   "metadata": {},
   "outputs": [],
   "source": [
    "# seed 값 설정\n",
    "seed = 0\n",
    "np.random.seed(seed)\n",
    "tf.random.set_seed(seed)"
   ]
  },
  {
   "cell_type": "code",
   "execution_count": 3,
   "metadata": {},
   "outputs": [],
   "source": [
    "fashion_mnist = keras.datasets.fashion_mnist\n",
    "\n",
    "(train_images, train_labels), (test_images, test_labels) = fashion_mnist.load_data()"
   ]
  },
  {
   "cell_type": "code",
   "execution_count": 4,
   "metadata": {},
   "outputs": [],
   "source": [
    "class_names = ['T-shirt/top', 'Trouser', 'Pullover', 'Dress', 'Coat',\n",
    "               'Sandal', 'Shirt', 'Sneaker', 'Bag', 'Ankle boot']"
   ]
  },
  {
   "cell_type": "markdown",
   "metadata": {},
   "source": [
    "### 데이터 전처리"
   ]
  },
  {
   "cell_type": "code",
   "execution_count": 5,
   "metadata": {},
   "outputs": [],
   "source": [
    "# X값 정규화\n",
    "X_train = train_images.reshape(train_images.shape[0],28,28,1).astype('float32')/255\n",
    "X_test = test_images.reshape(test_images.shape[0],28,28,1).astype('float')/255"
   ]
  },
  {
   "cell_type": "code",
   "execution_count": 6,
   "metadata": {},
   "outputs": [],
   "source": [
    "# Y데이터 One-Hot Encoding\n",
    "y_train = keras.utils.to_categorical(train_labels)\n",
    "y_test = keras.utils.to_categorical(test_labels)"
   ]
  },
  {
   "cell_type": "code",
   "execution_count": 7,
   "metadata": {},
   "outputs": [
    {
     "data": {
      "text/plain": [
       "array([[0., 0., 0., 0., 0., 0., 0., 0., 0., 1.],\n",
       "       [1., 0., 0., 0., 0., 0., 0., 0., 0., 0.],\n",
       "       [1., 0., 0., 0., 0., 0., 0., 0., 0., 0.],\n",
       "       [0., 0., 0., 1., 0., 0., 0., 0., 0., 0.],\n",
       "       [1., 0., 0., 0., 0., 0., 0., 0., 0., 0.],\n",
       "       [0., 0., 1., 0., 0., 0., 0., 0., 0., 0.],\n",
       "       [0., 0., 0., 0., 0., 0., 0., 1., 0., 0.],\n",
       "       [0., 0., 1., 0., 0., 0., 0., 0., 0., 0.],\n",
       "       [0., 0., 0., 0., 0., 1., 0., 0., 0., 0.],\n",
       "       [0., 0., 0., 0., 0., 1., 0., 0., 0., 0.]], dtype=float32)"
      ]
     },
     "execution_count": 7,
     "metadata": {},
     "output_type": "execute_result"
    }
   ],
   "source": [
    "y_train[:10]"
   ]
  },
  {
   "cell_type": "markdown",
   "metadata": {},
   "source": [
    "### 모델 구성"
   ]
  },
  {
   "cell_type": "code",
   "execution_count": 8,
   "metadata": {},
   "outputs": [
    {
     "name": "stdout",
     "output_type": "stream",
     "text": [
      "Model: \"sequential\"\n",
      "_________________________________________________________________\n",
      "Layer (type)                 Output Shape              Param #   \n",
      "=================================================================\n",
      "conv2d (Conv2D)              (None, 28, 28, 32)        832       \n",
      "_________________________________________________________________\n",
      "max_pooling2d (MaxPooling2D) (None, 14, 14, 32)        0         \n",
      "_________________________________________________________________\n",
      "conv2d_1 (Conv2D)            (None, 14, 14, 64)        8256      \n",
      "_________________________________________________________________\n",
      "max_pooling2d_1 (MaxPooling2 (None, 7, 7, 64)          0         \n",
      "_________________________________________________________________\n",
      "dropout (Dropout)            (None, 7, 7, 64)          0         \n",
      "_________________________________________________________________\n",
      "flatten (Flatten)            (None, 3136)              0         \n",
      "_________________________________________________________________\n",
      "dense (Dense)                (None, 1000)              3137000   \n",
      "_________________________________________________________________\n",
      "dropout_1 (Dropout)          (None, 1000)              0         \n",
      "_________________________________________________________________\n",
      "dense_1 (Dense)              (None, 10)                10010     \n",
      "=================================================================\n",
      "Total params: 3,156,098\n",
      "Trainable params: 3,156,098\n",
      "Non-trainable params: 0\n",
      "_________________________________________________________________\n"
     ]
    }
   ],
   "source": [
    "from tensorflow.keras.models import Sequential\n",
    "from tensorflow.keras.layers import Dense, Dropout, Flatten, Conv2D, MaxPooling2D\n",
    "from tensorflow.keras.callbacks import ModelCheckpoint, EarlyStopping\n",
    "\n",
    "# 컨볼루션 신경망 설정\n",
    "model = Sequential([\n",
    "    Conv2D(32, kernel_size=(5, 5), strides=(1, 1), padding='same',\n",
    "                 activation='relu',\n",
    "                 input_shape=(28,28,1)),\n",
    "    MaxPooling2D(pool_size=(2, 2), strides=(2, 2)),\n",
    "    Conv2D(64, (2, 2), activation='relu', padding='same'),\n",
    "    MaxPooling2D(pool_size=(2, 2)),\n",
    "    Dropout(0.25),\n",
    "    Flatten(),\n",
    "    Dense(1000, activation='relu'),\n",
    "    Dropout(0.5),\n",
    "    Dense(10, activation='softmax')\n",
    "])\n",
    "model.summary()"
   ]
  },
  {
   "cell_type": "code",
   "execution_count": 9,
   "metadata": {},
   "outputs": [],
   "source": [
    "model.compile(loss='categorical_crossentropy',\n",
    "             optimizer='adam',\n",
    "             metrics=['accuracy'])"
   ]
  },
  {
   "cell_type": "code",
   "execution_count": 10,
   "metadata": {},
   "outputs": [],
   "source": [
    "import os\n",
    "# 모델 최적화 설정\n",
    "MODEL_DIR = './model/fashion'\n",
    "if not os.path.exists(MODEL_DIR):\n",
    "    os.mkdir(MODEL_DIR)"
   ]
  },
  {
   "cell_type": "code",
   "execution_count": 11,
   "metadata": {},
   "outputs": [],
   "source": [
    "modelpath = MODEL_DIR + \"mnist-cnn-{epoch:02d}-{val_loss:.4f}.hdf5\"\n",
    "checkpointer = ModelCheckpoint(filepath=modelpath, monitor='val_loss', \n",
    "                               verbose=1, save_best_only=True)\n",
    "early_stopping_callback = EarlyStopping(monitor='val_loss', patience=10)"
   ]
  },
  {
   "cell_type": "code",
   "execution_count": 12,
   "metadata": {},
   "outputs": [
    {
     "name": "stdout",
     "output_type": "stream",
     "text": [
      "Epoch 1/30\n",
      "239/240 [============================>.] - ETA: 0s - loss: 0.5445 - accuracy: 0.8035\n",
      "Epoch 00001: val_loss improved from inf to 0.36747, saving model to ./model/fashionmnist-cnn-01-0.3675.hdf5\n",
      "240/240 [==============================] - 4s 17ms/step - loss: 0.5440 - accuracy: 0.8036 - val_loss: 0.3675 - val_accuracy: 0.8708\n",
      "Epoch 2/30\n",
      "237/240 [============================>.] - ETA: 0s - loss: 0.3476 - accuracy: 0.8748\n",
      "Epoch 00002: val_loss improved from 0.36747 to 0.31025, saving model to ./model/fashionmnist-cnn-02-0.3102.hdf5\n",
      "240/240 [==============================] - 4s 16ms/step - loss: 0.3468 - accuracy: 0.8751 - val_loss: 0.3102 - val_accuracy: 0.8852\n",
      "Epoch 3/30\n",
      "237/240 [============================>.] - ETA: 0s - loss: 0.2942 - accuracy: 0.8931\n",
      "Epoch 00003: val_loss improved from 0.31025 to 0.26992, saving model to ./model/fashionmnist-cnn-03-0.2699.hdf5\n",
      "240/240 [==============================] - 4s 15ms/step - loss: 0.2943 - accuracy: 0.8932 - val_loss: 0.2699 - val_accuracy: 0.9018\n",
      "Epoch 4/30\n",
      "237/240 [============================>.] - ETA: 0s - loss: 0.2697 - accuracy: 0.9015\n",
      "Epoch 00004: val_loss improved from 0.26992 to 0.25585, saving model to ./model/fashionmnist-cnn-04-0.2559.hdf5\n",
      "240/240 [==============================] - 4s 16ms/step - loss: 0.2694 - accuracy: 0.9014 - val_loss: 0.2559 - val_accuracy: 0.9062\n",
      "Epoch 5/30\n",
      "237/240 [============================>.] - ETA: 0s - loss: 0.2478 - accuracy: 0.9092\n",
      "Epoch 00005: val_loss improved from 0.25585 to 0.25476, saving model to ./model/fashionmnist-cnn-05-0.2548.hdf5\n",
      "240/240 [==============================] - 4s 16ms/step - loss: 0.2481 - accuracy: 0.9092 - val_loss: 0.2548 - val_accuracy: 0.9046\n",
      "Epoch 6/30\n",
      "237/240 [============================>.] - ETA: 0s - loss: 0.2302 - accuracy: 0.9152\n",
      "Epoch 00006: val_loss improved from 0.25476 to 0.24103, saving model to ./model/fashionmnist-cnn-06-0.2410.hdf5\n",
      "240/240 [==============================] - 4s 16ms/step - loss: 0.2299 - accuracy: 0.9152 - val_loss: 0.2410 - val_accuracy: 0.9103\n",
      "Epoch 7/30\n",
      "237/240 [============================>.] - ETA: 0s - loss: 0.2161 - accuracy: 0.9207\n",
      "Epoch 00007: val_loss improved from 0.24103 to 0.22861, saving model to ./model/fashionmnist-cnn-07-0.2286.hdf5\n",
      "240/240 [==============================] - 4s 16ms/step - loss: 0.2166 - accuracy: 0.9205 - val_loss: 0.2286 - val_accuracy: 0.9149\n",
      "Epoch 8/30\n",
      "237/240 [============================>.] - ETA: 0s - loss: 0.2013 - accuracy: 0.9247\n",
      "Epoch 00008: val_loss improved from 0.22861 to 0.22028, saving model to ./model/fashionmnist-cnn-08-0.2203.hdf5\n",
      "240/240 [==============================] - 4s 16ms/step - loss: 0.2014 - accuracy: 0.9246 - val_loss: 0.2203 - val_accuracy: 0.9183\n",
      "Epoch 9/30\n",
      "237/240 [============================>.] - ETA: 0s - loss: 0.1904 - accuracy: 0.9299\n",
      "Epoch 00009: val_loss improved from 0.22028 to 0.21821, saving model to ./model/fashionmnist-cnn-09-0.2182.hdf5\n",
      "240/240 [==============================] - 4s 16ms/step - loss: 0.1903 - accuracy: 0.9299 - val_loss: 0.2182 - val_accuracy: 0.9209\n",
      "Epoch 10/30\n",
      "237/240 [============================>.] - ETA: 0s - loss: 0.1778 - accuracy: 0.9331\n",
      "Epoch 00010: val_loss improved from 0.21821 to 0.21720, saving model to ./model/fashionmnist-cnn-10-0.2172.hdf5\n",
      "240/240 [==============================] - 4s 16ms/step - loss: 0.1779 - accuracy: 0.9330 - val_loss: 0.2172 - val_accuracy: 0.9218\n",
      "Epoch 11/30\n",
      "237/240 [============================>.] - ETA: 0s - loss: 0.1688 - accuracy: 0.9360\n",
      "Epoch 00011: val_loss improved from 0.21720 to 0.21132, saving model to ./model/fashionmnist-cnn-11-0.2113.hdf5\n",
      "240/240 [==============================] - 4s 16ms/step - loss: 0.1687 - accuracy: 0.9360 - val_loss: 0.2113 - val_accuracy: 0.9233\n",
      "Epoch 12/30\n",
      "237/240 [============================>.] - ETA: 0s - loss: 0.1583 - accuracy: 0.9398\n",
      "Epoch 00012: val_loss did not improve from 0.21132\n",
      "240/240 [==============================] - 4s 15ms/step - loss: 0.1580 - accuracy: 0.9399 - val_loss: 0.2174 - val_accuracy: 0.9214\n",
      "Epoch 13/30\n",
      "237/240 [============================>.] - ETA: 0s - loss: 0.1473 - accuracy: 0.9450\n",
      "Epoch 00013: val_loss did not improve from 0.21132\n",
      "240/240 [==============================] - 4s 15ms/step - loss: 0.1470 - accuracy: 0.9451 - val_loss: 0.2185 - val_accuracy: 0.9224\n",
      "Epoch 14/30\n",
      "237/240 [============================>.] - ETA: 0s - loss: 0.1382 - accuracy: 0.9472\n",
      "Epoch 00014: val_loss did not improve from 0.21132\n",
      "240/240 [==============================] - 4s 15ms/step - loss: 0.1380 - accuracy: 0.9474 - val_loss: 0.2213 - val_accuracy: 0.9232\n",
      "Epoch 15/30\n",
      "237/240 [============================>.] - ETA: 0s - loss: 0.1294 - accuracy: 0.9514\n",
      "Epoch 00015: val_loss did not improve from 0.21132\n",
      "240/240 [==============================] - 4s 15ms/step - loss: 0.1296 - accuracy: 0.9514 - val_loss: 0.2145 - val_accuracy: 0.9239\n",
      "Epoch 16/30\n",
      "237/240 [============================>.] - ETA: 0s - loss: 0.1188 - accuracy: 0.9555\n",
      "Epoch 00016: val_loss did not improve from 0.21132\n",
      "240/240 [==============================] - 4s 15ms/step - loss: 0.1189 - accuracy: 0.9555 - val_loss: 0.2188 - val_accuracy: 0.9247\n",
      "Epoch 17/30\n",
      "237/240 [============================>.] - ETA: 0s - loss: 0.1176 - accuracy: 0.9562\n",
      "Epoch 00017: val_loss did not improve from 0.21132\n",
      "240/240 [==============================] - 4s 15ms/step - loss: 0.1175 - accuracy: 0.9563 - val_loss: 0.2211 - val_accuracy: 0.9234\n",
      "Epoch 18/30\n",
      "237/240 [============================>.] - ETA: 0s - loss: 0.1056 - accuracy: 0.9602\n",
      "Epoch 00018: val_loss did not improve from 0.21132\n",
      "240/240 [==============================] - 4s 15ms/step - loss: 0.1056 - accuracy: 0.9602 - val_loss: 0.2131 - val_accuracy: 0.9285\n",
      "Epoch 19/30\n",
      "240/240 [==============================] - ETA: 0s - loss: 0.1028 - accuracy: 0.9623\n",
      "Epoch 00019: val_loss did not improve from 0.21132\n",
      "240/240 [==============================] - 4s 15ms/step - loss: 0.1028 - accuracy: 0.9623 - val_loss: 0.2201 - val_accuracy: 0.9249\n",
      "Epoch 20/30\n",
      "237/240 [============================>.] - ETA: 0s - loss: 0.0934 - accuracy: 0.9654\n",
      "Epoch 00020: val_loss did not improve from 0.21132\n",
      "240/240 [==============================] - 4s 15ms/step - loss: 0.0933 - accuracy: 0.9654 - val_loss: 0.2227 - val_accuracy: 0.9253\n",
      "Epoch 21/30\n",
      "237/240 [============================>.] - ETA: 0s - loss: 0.0864 - accuracy: 0.9673\n",
      "Epoch 00021: val_loss did not improve from 0.21132\n",
      "240/240 [==============================] - 4s 15ms/step - loss: 0.0864 - accuracy: 0.9674 - val_loss: 0.2314 - val_accuracy: 0.9246\n"
     ]
    }
   ],
   "source": [
    "# 모델의 실행\n",
    "history = model.fit(X_train, y_train, validation_split=0.2, epochs=30,\n",
    "                   batch_size=200, \n",
    "                   callbacks=[early_stopping_callback, checkpointer])"
   ]
  },
  {
   "cell_type": "code",
   "execution_count": 13,
   "metadata": {},
   "outputs": [],
   "source": [
    "from tensorflow.keras.models import load_model\n",
    "del model\n",
    "model =load_model('./model/fashionmnist-cnn-11-0.2113.hdf5')"
   ]
  },
  {
   "cell_type": "code",
   "execution_count": 14,
   "metadata": {},
   "outputs": [
    {
     "name": "stdout",
     "output_type": "stream",
     "text": [
      "\n",
      " Test Accuracy: 0.9210\n"
     ]
    }
   ],
   "source": [
    "# 테스트 정확도 출력 \n",
    "print(\"\\n Test Accuracy: %.4f\" % (model.evaluate(X_test, y_test, verbose=0)[1]))"
   ]
  },
  {
   "cell_type": "code",
   "execution_count": 15,
   "metadata": {},
   "outputs": [],
   "source": [
    "# 테스트셋의 오차\n",
    "y_vloss = history.history['val_loss']\n",
    "\n",
    "# 학습셋의 오차\n",
    "y_loss = history.history['loss']"
   ]
  },
  {
   "cell_type": "code",
   "execution_count": 16,
   "metadata": {},
   "outputs": [
    {
     "data": {
      "image/png": "[encoded data removed]",
      "text/plain": [
       "<Figure size 576x432 with 1 Axes>"
      ]
     },
     "metadata": {
      "needs_background": "light"
     },
     "output_type": "display_data"
    }
   ],
   "source": [
    "# 그래프로 표현\n",
    "x_len = np.arange(1, len(y_loss)+1)\n",
    "plt.figure(figsize=(8,6))\n",
    "plt.plot(x_len, y_vloss, marker='.', c=\"red\", label='Testset_loss')\n",
    "plt.plot(x_len, y_loss, marker='.', c=\"blue\", label='Trainset_loss')\n",
    "\n",
    "# 그래프에 그리드를 주고 레이블을 표시\n",
    "plt.legend(loc='upper right')\n",
    "# plt.axis([0, 20, 0, 0.35])\n",
    "plt.grid()\n",
    "plt.xlabel('epoch')\n",
    "plt.ylabel('loss')\n",
    "plt.show()"
   ]
  },
  {
   "cell_type": "code",
   "execution_count": null,
   "metadata": {},
   "outputs": [],
   "source": []
  }
 ],
 "metadata": {
  "kernelspec": {
   "display_name": "Python 3",
   "language": "python",
   "name": "python3"
  },
  "language_info": {
   "codemirror_mode": {
    "name": "ipython",
    "version": 3
   },
   "file_extension": ".py",
   "mimetype": "text/x-python",
   "name": "python",
   "nbconvert_exporter": "python",
   "pygments_lexer": "ipython3",
   "version": "3.8.3"
  }
 },
 "nbformat": 4,
 "nbformat_minor": 4
}
